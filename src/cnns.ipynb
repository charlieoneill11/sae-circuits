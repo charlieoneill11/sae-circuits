{
 "cells": [
  {
   "cell_type": "markdown",
   "metadata": {},
   "source": [
    "## ResNet9"
   ]
  },
  {
   "cell_type": "code",
   "execution_count": 425,
   "metadata": {},
   "outputs": [
    {
     "name": "stdout",
     "output_type": "stream",
     "text": [
      "Files already downloaded and verified\n",
      "Files already downloaded and verified\n"
     ]
    },
    {
     "data": {
      "text/plain": [
       "<All keys matched successfully>"
      ]
     },
     "execution_count": 425,
     "metadata": {},
     "output_type": "execute_result"
    }
   ],
   "source": [
    "import torch\n",
    "import torchvision\n",
    "import torchvision.transforms as transforms\n",
    "import torch.nn as nn\n",
    "import torch.nn.functional as F\n",
    "import torch.optim as optim\n",
    "\n",
    "# Model definition\n",
    "class ResNet9(nn.Module):\n",
    "    def __init__(self, in_channels, num_classes):\n",
    "        super(ResNet9, self).__init__()\n",
    "        self.conv1 = self.conv_block(in_channels, 64)\n",
    "        self.conv2 = self.conv_block(64, 128, pool=True)\n",
    "        self.res1 = nn.Sequential(self.conv_block(128, 128), self.conv_block(128, 128))\n",
    "        \n",
    "        self.conv3 = self.conv_block(128, 256, pool=True)\n",
    "        self.conv4 = self.conv_block(256, 512, pool=True)\n",
    "        self.res2 = nn.Sequential(self.conv_block(512, 512), self.conv_block(512, 512))\n",
    "        \n",
    "        self.classifier = nn.Sequential(nn.MaxPool2d(4), \n",
    "                                        nn.Flatten(), \n",
    "                                        nn.Linear(512, num_classes))\n",
    "        \n",
    "    def forward(self, xb):\n",
    "        activations = {}  # Dictionary to store feature maps\n",
    "        \n",
    "        out = self.conv1(xb)\n",
    "        activations['conv1'] = out\n",
    "        out = self.conv2(out)\n",
    "        activations['conv2'] = out\n",
    "        out_res1 = self.res1(out) + out\n",
    "        out = self.conv3(out_res1)\n",
    "        activations['conv3'] = out\n",
    "        out = self.conv4(out)\n",
    "        activations['conv4'] = out\n",
    "        out_res2 = self.res2(out) + out\n",
    "        out = self.classifier(out_res2)\n",
    "        # The classifier output is usually not stored as an activation map\n",
    "        \n",
    "        return out, activations\n",
    "    \n",
    "    def conv_block(self, in_channels, out_channels, pool=False):\n",
    "        layers = [nn.Conv2d(in_channels, out_channels, kernel_size=3, padding=1), \n",
    "                  nn.BatchNorm2d(out_channels), \n",
    "                  nn.ReLU(inplace=True)]\n",
    "        if pool: layers.append(nn.MaxPool2d(2))\n",
    "        return nn.Sequential(*layers)\n",
    "\n",
    "# Data preprocessing\n",
    "transform = transforms.Compose(\n",
    "    [transforms.ToTensor(),\n",
    "     transforms.Normalize((0.5, 0.5, 0.5), (0.5, 0.5, 0.5))])\n",
    "\n",
    "batch_size = 4\n",
    "\n",
    "trainset = torchvision.datasets.CIFAR10(root='./data', train=True,\n",
    "                                        download=True, transform=transform)\n",
    "trainloader = torch.utils.data.DataLoader(trainset, batch_size=batch_size,\n",
    "                                          shuffle=True, num_workers=2)\n",
    "\n",
    "testset = torchvision.datasets.CIFAR10(root='./data', train=False,\n",
    "                                       download=True, transform=transform)\n",
    "testloader = torch.utils.data.DataLoader(testset, batch_size=batch_size,\n",
    "                                         shuffle=False, num_workers=2)\n",
    "\n",
    "# Model, loss function, and optimizer\n",
    "model = ResNet9(3, 10)\n",
    "pretrained_path = '../models/cifar10/cifar_net.pth'\n",
    "model.load_state_dict(torch.load(pretrained_path, map_location=torch.device('cpu')))"
   ]
  },
  {
   "cell_type": "code",
   "execution_count": null,
   "metadata": {},
   "outputs": [],
   "source": [
    "correct = 0\n",
    "total = 0\n",
    "device = 'cpu'\n",
    "with torch.no_grad():\n",
    "    for images, labels in testloader:\n",
    "        images, labels = images.to(device), labels.to(device)\n",
    "        outputs, _ = model(images)\n",
    "        _, predicted = torch.max(outputs.data, 1)\n",
    "        total += labels.size(0)\n",
    "        correct += (predicted == labels).sum().item()\n",
    "print('Accuracy of the network on the 10000 test images: %d %%' % (100 * correct / total))  "
   ]
  },
  {
   "cell_type": "code",
   "execution_count": 426,
   "metadata": {},
   "outputs": [
    {
     "name": "stdout",
     "output_type": "stream",
     "text": [
      "Files already downloaded and verified\n",
      "Airplane images tensor shape: torch.Size([1000, 3, 32, 32])\n",
      "Dog images tensor shape: torch.Size([1000, 3, 32, 32])\n"
     ]
    }
   ],
   "source": [
    "import torch\n",
    "import torchvision\n",
    "import torchvision.transforms as transforms\n",
    "\n",
    "# Ensure you have the testset loaded as before\n",
    "transform = transforms.Compose([transforms.ToTensor(), transforms.Normalize((0.5, 0.5, 0.5), (0.5, 0.5, 0.5))])\n",
    "testset = torchvision.datasets.CIFAR10(root='./data', train=False, download=True, transform=transform)\n",
    "\n",
    "# Identify indices of cat and dog images\n",
    "airplane_indices = [i for i, (_, label) in enumerate(testset) if label == 0]\n",
    "dog_indices = [i for i, (_, label) in enumerate(testset) if label == 5]\n",
    "\n",
    "# Using these indices, extract the images and store them in tensor arrays\n",
    "# Note: This approach loads all the selected images into memory, which may not be feasible with very large datasets\n",
    "\n",
    "# Function to extract images by indices and stack them into a single tensor\n",
    "def extract_images(dataset, indices):\n",
    "    images = [dataset[i][0] for i in indices]  # dataset[i][0] gets the image tensor\n",
    "    images_tensor = torch.stack(images)  # Stacks a list of tensors into a new tensor\n",
    "    return images_tensor\n",
    "\n",
    "# Extract and store cat and dog images\n",
    "airplane_images = extract_images(testset, airplane_indices)\n",
    "dog_images = extract_images(testset, dog_indices)\n",
    "\n",
    "print(f'Airplane images tensor shape: {airplane_images.shape}')\n",
    "print(f'Dog images tensor shape: {dog_images.shape}')\n"
   ]
  },
  {
   "cell_type": "code",
   "execution_count": 427,
   "metadata": {},
   "outputs": [
    {
     "name": "stderr",
     "output_type": "stream",
     "text": [
      "Clipping input data to the valid range for imshow with RGB data ([0..1] for floats or [0..255] for integers).\n"
     ]
    },
    {
     "data": {
      "image/png": "[encoded data removed]",
      "text/plain": [
       "<Figure size 640x480 with 1 Axes>"
      ]
     },
     "metadata": {},
     "output_type": "display_data"
    }
   ],
   "source": [
    "# Show an example cat image\n",
    "import matplotlib.pyplot as plt\n",
    "\n",
    "plt.imshow(airplane_images[0].permute(1, 2, 0));"
   ]
  },
  {
   "cell_type": "code",
   "execution_count": 428,
   "metadata": {},
   "outputs": [
    {
     "name": "stderr",
     "output_type": "stream",
     "text": [
      "Clipping input data to the valid range for imshow with RGB data ([0..1] for floats or [0..255] for integers).\n"
     ]
    },
    {
     "data": {
      "image/png": "[encoded data removed]",
      "text/plain": [
       "<Figure size 640x480 with 1 Axes>"
      ]
     },
     "metadata": {},
     "output_type": "display_data"
    }
   ],
   "source": [
    "# Show an example dog image\n",
    "plt.imshow(dog_images[0].permute(1, 2, 0));"
   ]
  },
  {
   "cell_type": "code",
   "execution_count": 429,
   "metadata": {},
   "outputs": [],
   "source": [
    "# Test the model forward pass on a dog image\n",
    "model.eval()\n",
    "dog_output, dog_activations = model(dog_images[:250])"
   ]
  },
  {
   "cell_type": "code",
   "execution_count": 430,
   "metadata": {},
   "outputs": [
    {
     "name": "stdout",
     "output_type": "stream",
     "text": [
      "conv1: torch.Size([250, 64, 32, 32])\n",
      "conv2: torch.Size([250, 128, 16, 16])\n",
      "conv3: torch.Size([250, 256, 8, 8])\n",
      "conv4: torch.Size([250, 512, 4, 4])\n"
     ]
    }
   ],
   "source": [
    "for k, v in dog_activations.items():\n",
    "    print(f'{k:5s}: {v.shape}')"
   ]
  },
  {
   "cell_type": "code",
   "execution_count": 431,
   "metadata": {},
   "outputs": [
    {
     "name": "stdout",
     "output_type": "stream",
     "text": [
      "conv1: torch.Size([250, 64, 1024])\n",
      "conv2: torch.Size([250, 128, 256])\n",
      "conv3: torch.Size([250, 256, 64])\n",
      "conv4: torch.Size([250, 512, 16])\n"
     ]
    }
   ],
   "source": [
    "import einops\n",
    "\n",
    "# For activation in activations dictionary, collapse last two dimensions\n",
    "def collapse_activations(activations):\n",
    "    for k, v in activations.items():\n",
    "        activations[k] = einops.rearrange(v, 'b c h w -> b c (h w)')\n",
    "    return activations\n",
    "\n",
    "# Apply the function to the activations\n",
    "dog_activations_collapsed = collapse_activations(dog_activations)\n",
    "\n",
    "for k, v in dog_activations_collapsed.items():\n",
    "    print(f'{k:5s}: {v.shape}')"
   ]
  },
  {
   "cell_type": "code",
   "execution_count": 432,
   "metadata": {},
   "outputs": [],
   "source": [
    "airplane_output, airplane_activations = model(airplane_images[:250])\n",
    "airplane_activations_collapsed = collapse_activations(airplane_activations)"
   ]
  },
  {
   "cell_type": "code",
   "execution_count": 433,
   "metadata": {},
   "outputs": [],
   "source": [
    "from sparse_autoencoder import SparseAutoencoder\n",
    "import numpy as np\n",
    "\n",
    "# Loss function is MSE (reconstruction loss) + L1 norm of the learned activations + similarity loss\n",
    "def loss_fn(decoded_activations, learned_activations, resid_streams, lambda_=0.01):\n",
    "\n",
    "    # RECONSTRUCTION LOSS\n",
    "    recon_loss = F.mse_loss(decoded_activations, resid_streams)\n",
    "\n",
    "    # SPARSITY LOSS\n",
    "    learned_activations_flat = einops.rearrange(learned_activations, 'b s n -> (b s) n')\n",
    "    sparsity_loss = torch.mean(torch.norm(learned_activations_flat, p=1, dim=1))\n",
    "\n",
    "    # combine\n",
    "    return recon_loss + (lambda_ * sparsity_loss) + recon_loss\n",
    "\n",
    "\n",
    "def train(model, n_epochs, optimizer, train_streams, eval_streams, lambda_=0.01):\n",
    "    for epoch in range(n_epochs):\n",
    "        model.train()\n",
    "        optimizer.zero_grad()\n",
    "        learned_activations, decoded_activations = model(train_streams)\n",
    "        loss = loss_fn(decoded_activations, learned_activations, train_streams, lambda_=lambda_)\n",
    "        loss.backward()\n",
    "        optimizer.step()\n",
    "        if epoch % (n_epochs // 10) == 0:\n",
    "            model.eval()\n",
    "            with torch.no_grad():\n",
    "                eval_learned_activations, eval_decoded_activations = model(eval_streams)\n",
    "                eval_loss = loss_fn(eval_decoded_activations, eval_learned_activations, eval_streams, lambda_=lambda_)\n",
    "                print(f\"Train loss = {loss.item():.4f}, Eval loss = {eval_loss.item():.4f}\")\n",
    "    return model\n",
    "\n",
    "def get_resid_streams(pos_activations, neg_activations, layer_name: str):\n",
    "    # Stack along first dimension\n",
    "    pos_conv = pos_activations[layer_name]\n",
    "    neg_conv = neg_activations[layer_name]\n",
    "    resid_streams = torch.cat([pos_conv, neg_conv], dim=0)\n",
    "    # Remove grad from resid_streams\n",
    "    resid_streams = resid_streams.detach()\n",
    "    return resid_streams\n",
    "\n",
    "def get_indices(resid_streams):\n",
    "    # Shuffle and create the labels\n",
    "    device = 'cpu'\n",
    "    labels = torch.ones(resid_streams.shape[0]//2) # BIG ASSUMPTION: assumes first half is positive and second half is negative\n",
    "    labels = torch.cat((labels, torch.zeros_like(labels)))\n",
    "    permutation = torch.randperm(resid_streams.shape[0])\n",
    "    resid_shuffled = resid_streams[permutation, :, :]\n",
    "    labels_shuffled = labels[permutation]\n",
    "    cutoff = int(resid_shuffled.shape[0] * 0.8)\n",
    "    train_streams = resid_shuffled[:cutoff, :, :].to(device)\n",
    "    train_labels = labels_shuffled[:cutoff].to(device)\n",
    "    eval_streams = resid_shuffled[cutoff:, :, :].to(device)\n",
    "    eval_labels = labels_shuffled[cutoff:].to(device)\n",
    "\n",
    "    n_epochs = 500\n",
    "    num_unique = 100\n",
    "\n",
    "\n",
    "    sae = SparseAutoencoder(n_input_features=resid_streams.shape[-1], n_learned_features=num_unique, geometric_median_dataset=None).to(device)\n",
    "\n",
    "    optimizer = optim.Adam(sae.parameters(), lr=0.001)\n",
    "    sae = train(sae, n_epochs, optimizer, train_streams, eval_streams, lambda_=0.02)\n",
    "    sae = sae.to('cpu')\n",
    "    resid_streams = resid_streams.to('cpu')\n",
    "\n",
    "    learned_activations = sae(resid_streams)[0].detach().cpu().numpy()\n",
    "    all_indices = np.argmax(learned_activations, axis=2)\n",
    "\n",
    "    return sae, all_indices\n",
    "\n",
    "def circuit_prediction_layer(all_indices, theta: float = 0.05):\n",
    "    normalise = False\n",
    "\n",
    "    # Negative and positive indices\n",
    "    positive_indices = all_indices[:250, :]\n",
    "    negative_indices = all_indices[250:, :]\n",
    "\n",
    "    unique_to_positive_array = np.zeros(all_indices.shape[1])\n",
    "    unique_to_negative_array = np.zeros(all_indices.shape[1])\n",
    "\n",
    "    for i in range(all_indices.shape[1]):\n",
    "\n",
    "        positive = set(positive_indices[:, i].tolist())\n",
    "        negative = set(negative_indices[:, i].tolist())\n",
    "        total_unique = positive.union(negative)\n",
    "\n",
    "        # In positive but not negative\n",
    "        unique_to_positive = list(positive - negative)\n",
    "        # In negative but not positive\n",
    "        unique_to_negative = list(negative - positive)\n",
    "\n",
    "        if normalise:\n",
    "            # Normalise by total number of unique indices\n",
    "            unique_to_positive_array[i] = len(unique_to_positive) / len(total_unique)\n",
    "            unique_to_negative_array[i] = len(unique_to_negative) / len(total_unique)\n",
    "        \n",
    "        else:\n",
    "            # Set the values\n",
    "            unique_to_positive_array[i] = len(unique_to_positive)\n",
    "            unique_to_negative_array[i] = len(unique_to_negative)\n",
    "\n",
    "    y_pred = unique_to_positive_array.flatten()\n",
    "\n",
    "    # Normalise y_pred with softmax\n",
    "    def softmax(x): return np.exp(x) / np.sum(np.exp(x), axis=0)\n",
    "\n",
    "    y_pred = softmax(y_pred)\n",
    "\n",
    "    # Get all channels exceeding the threshold theta\n",
    "    selected_channels = np.where(y_pred > theta)[0]\n",
    "    return selected_channels, y_pred\n",
    "    "
   ]
  },
  {
   "cell_type": "code",
   "execution_count": 435,
   "metadata": {},
   "outputs": [
    {
     "name": "stderr",
     "output_type": "stream",
     "text": [
      "  0%|          | 0/4 [00:00<?, ?it/s]"
     ]
    },
    {
     "name": "stdout",
     "output_type": "stream",
     "text": [
      "Train loss = 2.2943, Eval loss = 1.5466\n",
      "Train loss = 1.1985, Eval loss = 1.1812\n",
      "Train loss = 1.1700, Eval loss = 1.1530\n",
      "Train loss = 1.1251, Eval loss = 1.1078\n",
      "Train loss = 1.0653, Eval loss = 1.0485\n",
      "Train loss = 1.0159, Eval loss = 1.0002\n",
      "Train loss = 0.9788, Eval loss = 0.9642\n",
      "Train loss = 0.7361, Eval loss = 0.7274\n",
      "Train loss = 0.7054, Eval loss = 0.6993\n",
      "Train loss = 0.6960, Eval loss = 0.6903\n"
     ]
    },
    {
     "name": "stderr",
     "output_type": "stream",
     "text": [
      " 25%|██▌       | 1/4 [00:42<02:07, 42.53s/it]"
     ]
    },
    {
     "name": "stdout",
     "output_type": "stream",
     "text": [
      "Train loss = 2.4216, Eval loss = 2.0730\n",
      "Train loss = 0.8856, Eval loss = 0.8703\n",
      "Train loss = 0.7497, Eval loss = 0.7441\n",
      "Train loss = 0.7120, Eval loss = 0.7079\n",
      "Train loss = 0.6904, Eval loss = 0.6870\n",
      "Train loss = 0.6751, Eval loss = 0.6723\n",
      "Train loss = 0.6636, Eval loss = 0.6612\n",
      "Train loss = 0.6547, Eval loss = 0.6526\n",
      "Train loss = 0.6477, Eval loss = 0.6459\n",
      "Train loss = 0.6422, Eval loss = 0.6406\n"
     ]
    },
    {
     "name": "stderr",
     "output_type": "stream",
     "text": [
      " 50%|█████     | 2/4 [01:09<01:06, 33.22s/it]"
     ]
    },
    {
     "name": "stdout",
     "output_type": "stream",
     "text": [
      "Train loss = 1.6406, Eval loss = 1.5380\n",
      "Train loss = 0.6290, Eval loss = 0.6187\n",
      "Train loss = 0.5142, Eval loss = 0.5077\n",
      "Train loss = 0.4659, Eval loss = 0.4610\n",
      "Train loss = 0.4424, Eval loss = 0.4382\n",
      "Train loss = 0.4273, Eval loss = 0.4234\n",
      "Train loss = 0.4146, Eval loss = 0.4108\n",
      "Train loss = 0.4040, Eval loss = 0.4005\n",
      "Train loss = 0.3953, Eval loss = 0.3920\n",
      "Train loss = 0.3876, Eval loss = 0.3844\n"
     ]
    },
    {
     "name": "stderr",
     "output_type": "stream",
     "text": [
      " 75%|███████▌  | 3/4 [01:36<00:30, 30.28s/it]"
     ]
    },
    {
     "name": "stdout",
     "output_type": "stream",
     "text": [
      "Train loss = 4.1783, Eval loss = 4.0332\n",
      "Train loss = 1.4174, Eval loss = 1.4332\n",
      "Train loss = 0.9648, Eval loss = 0.9775\n",
      "Train loss = 0.7359, Eval loss = 0.7469\n",
      "Train loss = 0.6093, Eval loss = 0.6192\n",
      "Train loss = 0.5314, Eval loss = 0.5405\n",
      "Train loss = 0.4792, Eval loss = 0.4875\n",
      "Train loss = 0.4418, Eval loss = 0.4497\n",
      "Train loss = 0.4139, Eval loss = 0.4213\n",
      "Train loss = 0.3922, Eval loss = 0.3994\n"
     ]
    },
    {
     "name": "stderr",
     "output_type": "stream",
     "text": [
      "100%|██████████| 4/4 [02:19<00:00, 34.81s/it]\n"
     ]
    }
   ],
   "source": [
    "from tqdm import tqdm\n",
    "\n",
    "# Now, we need to repeat for all layers\n",
    "def circuit_prediction_model(pos_activations, neg_activations, theta: float = 0.05):\n",
    "    circuit = {}\n",
    "    for layer_name in tqdm(pos_activations.keys()):\n",
    "        # Get the resid streams\n",
    "        resid_streams = get_resid_streams(pos_activations, neg_activations, layer_name)\n",
    "        # Get the indices\n",
    "        sae, all_indices = get_indices(resid_streams)\n",
    "        # Get the selected channels\n",
    "        selected_channels, y_pred = circuit_prediction_layer(all_indices, theta=theta)\n",
    "        circuit[layer_name] = {'sae': sae, 'selected_channels': selected_channels, 'y_pred': y_pred, 'all_indices': all_indices}\n",
    "\n",
    "    return circuit\n",
    "\n",
    "seed = 0\n",
    "np.random.seed(seed)  # Set the seed for NumPy operations\n",
    "torch.manual_seed(seed)  # Set the seed for CPU operations in PyTorch\n",
    "circuit = circuit_prediction_model(dog_activations_collapsed, airplane_activations_collapsed, theta=0.05)"
   ]
  },
  {
   "cell_type": "code",
   "execution_count": 630,
   "metadata": {},
   "outputs": [
    {
     "name": "stdout",
     "output_type": "stream",
     "text": [
      "conv1: [23 63]\n",
      "conv2: [ 8 51]\n",
      "conv3: [ 53  71 163 227 240]\n",
      "conv4: [61]\n"
     ]
    }
   ],
   "source": [
    "for k, v in circuit.items():\n",
    "    print(f'{k:5s}: {v[\"selected_channels\"]}')"
   ]
  },
  {
   "cell_type": "code",
   "execution_count": 633,
   "metadata": {},
   "outputs": [],
   "source": [
    "new_theta = 1e-4\n",
    "for k, v in circuit.items():\n",
    "    selected_channels, y_pred = circuit_prediction_layer(v['all_indices'], theta=new_theta)\n",
    "    circuit[k]['selected_channels'] = selected_channels\n",
    "    circuit[k]['y_pred'] = y_pred"
   ]
  },
  {
   "cell_type": "code",
   "execution_count": 634,
   "metadata": {},
   "outputs": [
    {
     "name": "stdout",
     "output_type": "stream",
     "text": [
      "conv1: [14 18 22 23 24 30 43 44 46 48 56 63]\n",
      "conv2: [  8  45  48  51  86 100 110 111]\n",
      "conv3: [  4   6  10  23  29  35  39  40  43  46  49  52  53  62  69  70  71  74\n",
      "  99 100 102 111 118 136 148 150 158 162 163 166 168 169 173 176 181 188\n",
      " 209 227 240 245]\n",
      "conv4: [ 25  61  91 116 126 156 168 178 199 225 291 298 401 428]\n"
     ]
    }
   ],
   "source": [
    "for k, v in circuit.items():\n",
    "    print(f'{k:5s}: {v[\"selected_channels\"]}')"
   ]
  },
  {
   "cell_type": "code",
   "execution_count": 635,
   "metadata": {},
   "outputs": [],
   "source": [
    "keep_channels = {\n",
    "    k: list(v['selected_channels']) for k, v in circuit.items()\n",
    "}"
   ]
  },
  {
   "cell_type": "markdown",
   "metadata": {},
   "source": [
    "### Linear probe"
   ]
  },
  {
   "cell_type": "code",
   "execution_count": 459,
   "metadata": {},
   "outputs": [],
   "source": [
    "# keep_channels_corrupted is a dictionary with the same structure as keep_channels, but with different channel indices\n",
    "# The indices are corrupted by adding 1 to each index\n",
    "keep_channels_corrupted = {k: [i-1 for i in v] for k, v in keep_channels.items()}"
   ]
  },
  {
   "cell_type": "code",
   "execution_count": 460,
   "metadata": {},
   "outputs": [],
   "source": [
    "# Get all the dog actvations from the circuit\n",
    "def get_selected_activations(activations, keep_channels):\n",
    "    selected_activations = {}\n",
    "    for k, v in keep_channels.items():\n",
    "        selected_activations[k] = activations[k][:, v, :].detach().cpu()\n",
    "    return selected_activations\n",
    "\n",
    "dog_selected_activations = get_selected_activations(dog_activations_collapsed, keep_channels)\n",
    "airplane_selected_activations = get_selected_activations(airplane_activations_collapsed, keep_channels)\n",
    "\n",
    "dog_selected_activations_corrupted = get_selected_activations(dog_activations_collapsed, keep_channels_corrupted)\n",
    "airplane_selected_activations_corrupted = get_selected_activations(airplane_activations_collapsed, keep_channels_corrupted)"
   ]
  },
  {
   "cell_type": "code",
   "execution_count": 483,
   "metadata": {},
   "outputs": [
    {
     "name": "stdout",
     "output_type": "stream",
     "text": [
      "Layer: conv1\n",
      "--------------------\n",
      "Normal activations\n",
      "Epoch 0, Loss 0.6929, Eval Accuracy 0.6400\n",
      "Epoch 5, Loss 0.4546, Eval Accuracy 0.8200\n",
      "Epoch 10, Loss 0.3565, Eval Accuracy 0.8800\n",
      "Epoch 15, Loss 0.3000, Eval Accuracy 0.8400\n",
      "Epoch 20, Loss 0.2582, Eval Accuracy 0.8400\n",
      "Epoch 25, Loss 0.2241, Eval Accuracy 0.8400\n",
      "Epoch 30, Loss 0.1959, Eval Accuracy 0.8600\n",
      "Epoch 35, Loss 0.1731, Eval Accuracy 0.8400\n",
      "Epoch 40, Loss 0.1546, Eval Accuracy 0.8400\n",
      "Epoch 45, Loss 0.1394, Eval Accuracy 0.8400\n",
      "Final Eval Loss: 0.3925, Eval Accuracy: 0.8600\n",
      "Epoch 0, Loss 0.7607, Eval Accuracy 0.5400\n",
      "Epoch 5, Loss 0.4843, Eval Accuracy 0.8800\n",
      "Epoch 10, Loss 0.3794, Eval Accuracy 0.8600\n",
      "Epoch 15, Loss 0.3243, Eval Accuracy 0.8600\n",
      "Epoch 20, Loss 0.2804, Eval Accuracy 0.8800\n",
      "Epoch 25, Loss 0.2451, Eval Accuracy 0.8600\n",
      "Epoch 30, Loss 0.2175, Eval Accuracy 0.8600\n",
      "Epoch 35, Loss 0.1940, Eval Accuracy 0.8600\n",
      "Epoch 40, Loss 0.1742, Eval Accuracy 0.8600\n",
      "Epoch 45, Loss 0.1578, Eval Accuracy 0.8600\n",
      "Final Eval Loss: 0.2936, Eval Accuracy: 0.8600\n",
      "Epoch 0, Loss 0.7254, Eval Accuracy 0.7000\n",
      "Epoch 5, Loss 0.4758, Eval Accuracy 0.8600\n",
      "Epoch 10, Loss 0.3860, Eval Accuracy 0.8600\n",
      "Epoch 15, Loss 0.3355, Eval Accuracy 0.8800\n",
      "Epoch 20, Loss 0.2913, Eval Accuracy 0.9000\n",
      "Epoch 25, Loss 0.2556, Eval Accuracy 0.8800\n",
      "Epoch 30, Loss 0.2273, Eval Accuracy 0.8800\n",
      "Epoch 35, Loss 0.2033, Eval Accuracy 0.8800\n",
      "Epoch 40, Loss 0.1835, Eval Accuracy 0.8800\n",
      "Epoch 45, Loss 0.1671, Eval Accuracy 0.8800\n",
      "Final Eval Loss: 0.2255, Eval Accuracy: 0.8800\n",
      "Epoch 0, Loss 0.7874, Eval Accuracy 0.4800\n",
      "Epoch 5, Loss 0.4948, Eval Accuracy 0.8200\n",
      "Epoch 10, Loss 0.4005, Eval Accuracy 0.8200\n",
      "Epoch 15, Loss 0.3458, Eval Accuracy 0.8600\n",
      "Epoch 20, Loss 0.3051, Eval Accuracy 0.8600\n",
      "Epoch 25, Loss 0.2721, Eval Accuracy 0.8800\n",
      "Epoch 30, Loss 0.2416, Eval Accuracy 0.9200\n",
      "Epoch 35, Loss 0.2181, Eval Accuracy 0.9200\n",
      "Epoch 40, Loss 0.1983, Eval Accuracy 0.9200\n",
      "Epoch 45, Loss 0.1813, Eval Accuracy 0.9200\n",
      "Final Eval Loss: 0.2627, Eval Accuracy: 0.9200\n",
      "Epoch 0, Loss 0.6928, Eval Accuracy 0.6800\n",
      "Epoch 5, Loss 0.4439, Eval Accuracy 0.8000\n",
      "Epoch 10, Loss 0.3472, Eval Accuracy 0.8600\n",
      "Epoch 15, Loss 0.2906, Eval Accuracy 0.8200\n",
      "Epoch 20, Loss 0.2473, Eval Accuracy 0.8400\n",
      "Epoch 25, Loss 0.2127, Eval Accuracy 0.8400\n",
      "Epoch 30, Loss 0.1849, Eval Accuracy 0.8400\n",
      "Epoch 35, Loss 0.1629, Eval Accuracy 0.8400\n",
      "Epoch 40, Loss 0.1452, Eval Accuracy 0.8600\n",
      "Epoch 45, Loss 0.1304, Eval Accuracy 0.8600\n",
      "Final Eval Loss: 0.3529, Eval Accuracy: 0.8400\n",
      "Corrupted activations\n",
      "Epoch 0, Loss 0.7395, Eval Accuracy 0.7000\n",
      "Epoch 5, Loss 0.5115, Eval Accuracy 0.7600\n",
      "Epoch 10, Loss 0.4192, Eval Accuracy 0.8200\n",
      "Epoch 15, Loss 0.3644, Eval Accuracy 0.8000\n",
      "Epoch 20, Loss 0.3196, Eval Accuracy 0.8200\n",
      "Epoch 25, Loss 0.2816, Eval Accuracy 0.8000\n",
      "Epoch 30, Loss 0.2545, Eval Accuracy 0.7800\n",
      "Epoch 35, Loss 0.2295, Eval Accuracy 0.7800\n",
      "Epoch 40, Loss 0.2096, Eval Accuracy 0.8000\n",
      "Epoch 45, Loss 0.1915, Eval Accuracy 0.8000\n",
      "Final Eval Loss: 0.5611, Eval Accuracy: 0.8000\n",
      "Epoch 0, Loss 0.7335, Eval Accuracy 0.8200\n",
      "Epoch 5, Loss 0.5262, Eval Accuracy 0.8200\n",
      "Epoch 10, Loss 0.4414, Eval Accuracy 0.8200\n",
      "Epoch 15, Loss 0.3909, Eval Accuracy 0.8000\n",
      "Epoch 20, Loss 0.3412, Eval Accuracy 0.8400\n",
      "Epoch 25, Loss 0.3098, Eval Accuracy 0.8600\n",
      "Epoch 30, Loss 0.2816, Eval Accuracy 0.8600\n",
      "Epoch 35, Loss 0.2574, Eval Accuracy 0.8200\n",
      "Epoch 40, Loss 0.2369, Eval Accuracy 0.8000\n",
      "Epoch 45, Loss 0.2191, Eval Accuracy 0.8000\n",
      "Final Eval Loss: 0.4378, Eval Accuracy: 0.8000\n",
      "Epoch 0, Loss 0.6883, Eval Accuracy 0.7200\n",
      "Epoch 5, Loss 0.4955, Eval Accuracy 0.7200\n",
      "Epoch 10, Loss 0.4147, Eval Accuracy 0.7200\n",
      "Epoch 15, Loss 0.3658, Eval Accuracy 0.7400\n",
      "Epoch 20, Loss 0.3187, Eval Accuracy 0.7400\n",
      "Epoch 25, Loss 0.2877, Eval Accuracy 0.7400\n",
      "Epoch 30, Loss 0.2596, Eval Accuracy 0.7800\n",
      "Epoch 35, Loss 0.2363, Eval Accuracy 0.8000\n",
      "Epoch 40, Loss 0.2158, Eval Accuracy 0.7400\n",
      "Epoch 45, Loss 0.1986, Eval Accuracy 0.7400\n",
      "Final Eval Loss: 0.4243, Eval Accuracy: 0.7600\n",
      "Epoch 0, Loss 0.7126, Eval Accuracy 0.7000\n",
      "Epoch 5, Loss 0.5402, Eval Accuracy 0.7600\n",
      "Epoch 10, Loss 0.4579, Eval Accuracy 0.8000\n",
      "Epoch 15, Loss 0.4000, Eval Accuracy 0.7600\n",
      "Epoch 20, Loss 0.3549, Eval Accuracy 0.7600\n",
      "Epoch 25, Loss 0.3194, Eval Accuracy 0.7600\n",
      "Epoch 30, Loss 0.2912, Eval Accuracy 0.7400\n",
      "Epoch 35, Loss 0.2656, Eval Accuracy 0.7000\n",
      "Epoch 40, Loss 0.2449, Eval Accuracy 0.7400\n",
      "Epoch 45, Loss 0.2262, Eval Accuracy 0.7200\n",
      "Final Eval Loss: 0.4295, Eval Accuracy: 0.7200\n",
      "Epoch 0, Loss 0.7351, Eval Accuracy 0.6600\n",
      "Epoch 5, Loss 0.5136, Eval Accuracy 0.7200\n",
      "Epoch 10, Loss 0.4184, Eval Accuracy 0.7200\n",
      "Epoch 15, Loss 0.3683, Eval Accuracy 0.6800\n",
      "Epoch 20, Loss 0.3241, Eval Accuracy 0.7000\n",
      "Epoch 25, Loss 0.2894, Eval Accuracy 0.7200\n",
      "Epoch 30, Loss 0.2617, Eval Accuracy 0.7000\n",
      "Epoch 35, Loss 0.2373, Eval Accuracy 0.7000\n",
      "Epoch 40, Loss 0.2177, Eval Accuracy 0.7200\n",
      "Epoch 45, Loss 0.1998, Eval Accuracy 0.7200\n",
      "Final Eval Loss: 0.4818, Eval Accuracy: 0.7400\n",
      "\n",
      "Layer: conv2\n",
      "--------------------\n",
      "Normal activations\n",
      "Epoch 0, Loss 0.6973, Eval Accuracy 0.6000\n",
      "Epoch 5, Loss 0.5881, Eval Accuracy 0.6400\n",
      "Epoch 10, Loss 0.5257, Eval Accuracy 0.7000\n",
      "Epoch 15, Loss 0.4789, Eval Accuracy 0.8200\n",
      "Epoch 20, Loss 0.4464, Eval Accuracy 0.8400\n",
      "Epoch 25, Loss 0.4196, Eval Accuracy 0.8200\n",
      "Epoch 30, Loss 0.3977, Eval Accuracy 0.8200\n",
      "Epoch 35, Loss 0.3793, Eval Accuracy 0.8200\n",
      "Epoch 40, Loss 0.3631, Eval Accuracy 0.8000\n",
      "Epoch 45, Loss 0.3490, Eval Accuracy 0.8000\n",
      "Final Eval Loss: 0.4544, Eval Accuracy: 0.8000\n",
      "Epoch 0, Loss 0.7061, Eval Accuracy 0.6600\n",
      "Epoch 5, Loss 0.6156, Eval Accuracy 0.6800\n",
      "Epoch 10, Loss 0.5527, Eval Accuracy 0.7600\n",
      "Epoch 15, Loss 0.5029, Eval Accuracy 0.7800\n",
      "Epoch 20, Loss 0.4673, Eval Accuracy 0.7800\n",
      "Epoch 25, Loss 0.4406, Eval Accuracy 0.7800\n",
      "Epoch 30, Loss 0.4185, Eval Accuracy 0.7600\n",
      "Epoch 35, Loss 0.4003, Eval Accuracy 0.8000\n",
      "Epoch 40, Loss 0.3848, Eval Accuracy 0.8200\n",
      "Epoch 45, Loss 0.3710, Eval Accuracy 0.8400\n",
      "Final Eval Loss: 0.4751, Eval Accuracy: 0.8400\n",
      "Epoch 0, Loss 0.7277, Eval Accuracy 0.5800\n",
      "Epoch 5, Loss 0.6267, Eval Accuracy 0.6200\n",
      "Epoch 10, Loss 0.5631, Eval Accuracy 0.7000\n",
      "Epoch 15, Loss 0.5148, Eval Accuracy 0.7400\n",
      "Epoch 20, Loss 0.4803, Eval Accuracy 0.7800\n",
      "Epoch 25, Loss 0.4528, Eval Accuracy 0.8400\n",
      "Epoch 30, Loss 0.4304, Eval Accuracy 0.8400\n",
      "Epoch 35, Loss 0.4117, Eval Accuracy 0.9000\n",
      "Epoch 40, Loss 0.3954, Eval Accuracy 0.9200\n",
      "Epoch 45, Loss 0.3812, Eval Accuracy 0.9200\n",
      "Final Eval Loss: 0.3556, Eval Accuracy: 0.9000\n",
      "Epoch 0, Loss 0.7023, Eval Accuracy 0.5600\n",
      "Epoch 5, Loss 0.6141, Eval Accuracy 0.6800\n",
      "Epoch 10, Loss 0.5555, Eval Accuracy 0.7200\n",
      "Epoch 15, Loss 0.5067, Eval Accuracy 0.7000\n",
      "Epoch 20, Loss 0.4719, Eval Accuracy 0.7200\n",
      "Epoch 25, Loss 0.4452, Eval Accuracy 0.7000\n",
      "Epoch 30, Loss 0.4230, Eval Accuracy 0.7200\n",
      "Epoch 35, Loss 0.4050, Eval Accuracy 0.7400\n",
      "Epoch 40, Loss 0.3896, Eval Accuracy 0.7600\n",
      "Epoch 45, Loss 0.3762, Eval Accuracy 0.7800\n",
      "Final Eval Loss: 0.4333, Eval Accuracy: 0.7800\n",
      "Epoch 0, Loss 0.7449, Eval Accuracy 0.4800\n",
      "Epoch 5, Loss 0.6170, Eval Accuracy 0.7000\n",
      "Epoch 10, Loss 0.5565, Eval Accuracy 0.7200\n",
      "Epoch 15, Loss 0.5064, Eval Accuracy 0.7800\n",
      "Epoch 20, Loss 0.4693, Eval Accuracy 0.8000\n",
      "Epoch 25, Loss 0.4438, Eval Accuracy 0.8200\n",
      "Epoch 30, Loss 0.4224, Eval Accuracy 0.8600\n",
      "Epoch 35, Loss 0.4043, Eval Accuracy 0.8600\n",
      "Epoch 40, Loss 0.3894, Eval Accuracy 0.8800\n",
      "Epoch 45, Loss 0.3762, Eval Accuracy 0.8800\n",
      "Final Eval Loss: 0.4001, Eval Accuracy: 0.8600\n",
      "Corrupted activations\n",
      "Epoch 0, Loss 0.7042, Eval Accuracy 0.6400\n",
      "Epoch 5, Loss 0.6350, Eval Accuracy 0.7000\n",
      "Epoch 10, Loss 0.5784, Eval Accuracy 0.7400\n",
      "Epoch 15, Loss 0.5329, Eval Accuracy 0.7200\n",
      "Epoch 20, Loss 0.4956, Eval Accuracy 0.7000\n",
      "Epoch 25, Loss 0.4646, Eval Accuracy 0.7000\n",
      "Epoch 30, Loss 0.4383, Eval Accuracy 0.7000\n",
      "Epoch 35, Loss 0.4158, Eval Accuracy 0.7200\n",
      "Epoch 40, Loss 0.3960, Eval Accuracy 0.7200\n",
      "Epoch 45, Loss 0.3785, Eval Accuracy 0.6800\n",
      "Final Eval Loss: 0.5468, Eval Accuracy: 0.6800\n",
      "Epoch 0, Loss 0.7206, Eval Accuracy 0.5400\n",
      "Epoch 5, Loss 0.6599, Eval Accuracy 0.5200\n",
      "Epoch 10, Loss 0.6041, Eval Accuracy 0.6000\n",
      "Epoch 15, Loss 0.5586, Eval Accuracy 0.6800\n",
      "Epoch 20, Loss 0.5220, Eval Accuracy 0.7000\n",
      "Epoch 25, Loss 0.4918, Eval Accuracy 0.7400\n",
      "Epoch 30, Loss 0.4663, Eval Accuracy 0.7200\n",
      "Epoch 35, Loss 0.4442, Eval Accuracy 0.6800\n",
      "Epoch 40, Loss 0.4248, Eval Accuracy 0.6800\n",
      "Epoch 45, Loss 0.4076, Eval Accuracy 0.6800\n",
      "Final Eval Loss: 0.5483, Eval Accuracy: 0.7000\n",
      "Epoch 0, Loss 0.7171, Eval Accuracy 0.6000\n",
      "Epoch 5, Loss 0.6365, Eval Accuracy 0.6000\n",
      "Epoch 10, Loss 0.5750, Eval Accuracy 0.6600\n",
      "Epoch 15, Loss 0.5278, Eval Accuracy 0.6600\n",
      "Epoch 20, Loss 0.4904, Eval Accuracy 0.6800\n",
      "Epoch 25, Loss 0.4599, Eval Accuracy 0.6800\n",
      "Epoch 30, Loss 0.4342, Eval Accuracy 0.6600\n",
      "Epoch 35, Loss 0.4122, Eval Accuracy 0.6600\n",
      "Epoch 40, Loss 0.3930, Eval Accuracy 0.6800\n",
      "Epoch 45, Loss 0.3758, Eval Accuracy 0.7200\n",
      "Final Eval Loss: 0.4937, Eval Accuracy: 0.7400\n",
      "Epoch 0, Loss 0.7306, Eval Accuracy 0.4600\n",
      "Epoch 5, Loss 0.6733, Eval Accuracy 0.5200\n",
      "Epoch 10, Loss 0.6194, Eval Accuracy 0.7000\n",
      "Epoch 15, Loss 0.5740, Eval Accuracy 0.7200\n",
      "Epoch 20, Loss 0.5364, Eval Accuracy 0.7400\n",
      "Epoch 25, Loss 0.5047, Eval Accuracy 0.7400\n",
      "Epoch 30, Loss 0.4777, Eval Accuracy 0.7400\n",
      "Epoch 35, Loss 0.4543, Eval Accuracy 0.7200\n",
      "Epoch 40, Loss 0.4339, Eval Accuracy 0.7200\n",
      "Epoch 45, Loss 0.4159, Eval Accuracy 0.7200\n",
      "Final Eval Loss: 0.5388, Eval Accuracy: 0.7200\n",
      "Epoch 0, Loss 0.7609, Eval Accuracy 0.4600\n",
      "Epoch 5, Loss 0.6878, Eval Accuracy 0.4600\n",
      "Epoch 10, Loss 0.6461, Eval Accuracy 0.5200\n",
      "Epoch 15, Loss 0.6042, Eval Accuracy 0.6200\n",
      "Epoch 20, Loss 0.5684, Eval Accuracy 0.6200\n",
      "Epoch 25, Loss 0.5398, Eval Accuracy 0.7000\n",
      "Epoch 30, Loss 0.5146, Eval Accuracy 0.6800\n",
      "Epoch 35, Loss 0.4920, Eval Accuracy 0.7000\n",
      "Epoch 40, Loss 0.4721, Eval Accuracy 0.7400\n",
      "Epoch 45, Loss 0.4547, Eval Accuracy 0.7400\n",
      "Final Eval Loss: 0.5656, Eval Accuracy: 0.7600\n",
      "\n",
      "Layer: conv3\n",
      "--------------------\n",
      "Normal activations\n",
      "Epoch 0, Loss 0.6861, Eval Accuracy 0.6200\n",
      "Epoch 5, Loss 0.6099, Eval Accuracy 0.6800\n",
      "Epoch 10, Loss 0.5524, Eval Accuracy 0.6600\n",
      "Epoch 15, Loss 0.5061, Eval Accuracy 0.7400\n",
      "Epoch 20, Loss 0.4694, Eval Accuracy 0.8000\n",
      "Epoch 25, Loss 0.4394, Eval Accuracy 0.8200\n",
      "Epoch 30, Loss 0.4147, Eval Accuracy 0.8400\n",
      "Epoch 35, Loss 0.3940, Eval Accuracy 0.8400\n",
      "Epoch 40, Loss 0.3763, Eval Accuracy 0.8400\n",
      "Epoch 45, Loss 0.3610, Eval Accuracy 0.8400\n",
      "Final Eval Loss: 0.4063, Eval Accuracy: 0.8400\n",
      "Epoch 0, Loss 0.7910, Eval Accuracy 0.3200\n",
      "Epoch 5, Loss 0.6762, Eval Accuracy 0.6000\n",
      "Epoch 10, Loss 0.6112, Eval Accuracy 0.6400\n",
      "Epoch 15, Loss 0.5594, Eval Accuracy 0.6800\n",
      "Epoch 20, Loss 0.5167, Eval Accuracy 0.7200\n",
      "Epoch 25, Loss 0.4840, Eval Accuracy 0.7800\n",
      "Epoch 30, Loss 0.4570, Eval Accuracy 0.8000\n",
      "Epoch 35, Loss 0.4337, Eval Accuracy 0.8200\n",
      "Epoch 40, Loss 0.4139, Eval Accuracy 0.8200\n",
      "Epoch 45, Loss 0.3967, Eval Accuracy 0.8400\n",
      "Final Eval Loss: 0.3944, Eval Accuracy: 0.8600\n",
      "Epoch 0, Loss 0.7055, Eval Accuracy 0.6800\n",
      "Epoch 5, Loss 0.6281, Eval Accuracy 0.7800\n",
      "Epoch 10, Loss 0.5688, Eval Accuracy 0.8600\n",
      "Epoch 15, Loss 0.5211, Eval Accuracy 0.9000\n",
      "Epoch 20, Loss 0.4833, Eval Accuracy 0.9000\n",
      "Epoch 25, Loss 0.4527, Eval Accuracy 0.9000\n",
      "Epoch 30, Loss 0.4276, Eval Accuracy 0.9200\n",
      "Epoch 35, Loss 0.4066, Eval Accuracy 0.9200\n",
      "Epoch 40, Loss 0.3888, Eval Accuracy 0.9000\n",
      "Epoch 45, Loss 0.3733, Eval Accuracy 0.9000\n",
      "Final Eval Loss: 0.3086, Eval Accuracy: 0.9000\n",
      "Epoch 0, Loss 0.6776, Eval Accuracy 0.7200\n",
      "Epoch 5, Loss 0.5973, Eval Accuracy 0.7400\n",
      "Epoch 10, Loss 0.5436, Eval Accuracy 0.7600\n",
      "Epoch 15, Loss 0.4998, Eval Accuracy 0.8200\n",
      "Epoch 20, Loss 0.4653, Eval Accuracy 0.8200\n",
      "Epoch 25, Loss 0.4371, Eval Accuracy 0.8400\n",
      "Epoch 30, Loss 0.4135, Eval Accuracy 0.8600\n",
      "Epoch 35, Loss 0.3936, Eval Accuracy 0.8600\n",
      "Epoch 40, Loss 0.3765, Eval Accuracy 0.8800\n",
      "Epoch 45, Loss 0.3616, Eval Accuracy 0.8800\n",
      "Final Eval Loss: 0.4092, Eval Accuracy: 0.8800\n",
      "Epoch 0, Loss 0.6433, Eval Accuracy 0.5800\n",
      "Epoch 5, Loss 0.5728, Eval Accuracy 0.6800\n",
      "Epoch 10, Loss 0.5181, Eval Accuracy 0.7600\n",
      "Epoch 15, Loss 0.4756, Eval Accuracy 0.7800\n",
      "Epoch 20, Loss 0.4425, Eval Accuracy 0.8000\n",
      "Epoch 25, Loss 0.4160, Eval Accuracy 0.8800\n",
      "Epoch 30, Loss 0.3942, Eval Accuracy 0.8800\n",
      "Epoch 35, Loss 0.3757, Eval Accuracy 0.9000\n",
      "Epoch 40, Loss 0.3598, Eval Accuracy 0.9000\n",
      "Epoch 45, Loss 0.3458, Eval Accuracy 0.9200\n",
      "Final Eval Loss: 0.3863, Eval Accuracy: 0.9000\n",
      "Corrupted activations\n",
      "Epoch 0, Loss 0.6972, Eval Accuracy 0.5600\n",
      "Epoch 5, Loss 0.6010, Eval Accuracy 0.8200\n",
      "Epoch 10, Loss 0.5269, Eval Accuracy 0.8400\n",
      "Epoch 15, Loss 0.4685, Eval Accuracy 0.8600\n",
      "Epoch 20, Loss 0.4230, Eval Accuracy 0.8400\n",
      "Epoch 25, Loss 0.3870, Eval Accuracy 0.8600\n",
      "Epoch 30, Loss 0.3581, Eval Accuracy 0.8600\n",
      "Epoch 35, Loss 0.3344, Eval Accuracy 0.8800\n",
      "Epoch 40, Loss 0.3145, Eval Accuracy 0.9000\n",
      "Epoch 45, Loss 0.2975, Eval Accuracy 0.9000\n",
      "Final Eval Loss: 0.2748, Eval Accuracy: 0.9000\n",
      "Epoch 0, Loss 0.7474, Eval Accuracy 0.3800\n",
      "Epoch 5, Loss 0.6414, Eval Accuracy 0.7200\n",
      "Epoch 10, Loss 0.5578, Eval Accuracy 0.7800\n",
      "Epoch 15, Loss 0.4924, Eval Accuracy 0.8200\n",
      "Epoch 20, Loss 0.4419, Eval Accuracy 0.8800\n",
      "Epoch 25, Loss 0.4026, Eval Accuracy 0.9200\n",
      "Epoch 30, Loss 0.3715, Eval Accuracy 0.9200\n",
      "Epoch 35, Loss 0.3462, Eval Accuracy 0.9400\n",
      "Epoch 40, Loss 0.3253, Eval Accuracy 0.9400\n",
      "Epoch 45, Loss 0.3075, Eval Accuracy 0.9400\n",
      "Final Eval Loss: 0.2434, Eval Accuracy: 0.9400\n",
      "Epoch 0, Loss 0.7185, Eval Accuracy 0.4200\n",
      "Epoch 5, Loss 0.6162, Eval Accuracy 0.7200\n",
      "Epoch 10, Loss 0.5356, Eval Accuracy 0.7800\n",
      "Epoch 15, Loss 0.4728, Eval Accuracy 0.8200\n",
      "Epoch 20, Loss 0.4242, Eval Accuracy 0.8200\n",
      "Epoch 25, Loss 0.3862, Eval Accuracy 0.8200\n",
      "Epoch 30, Loss 0.3560, Eval Accuracy 0.8400\n",
      "Epoch 35, Loss 0.3314, Eval Accuracy 0.8400\n",
      "Epoch 40, Loss 0.3110, Eval Accuracy 0.8400\n",
      "Epoch 45, Loss 0.2937, Eval Accuracy 0.8400\n",
      "Final Eval Loss: 0.3503, Eval Accuracy: 0.8400\n",
      "Epoch 0, Loss 0.6994, Eval Accuracy 0.5400\n",
      "Epoch 5, Loss 0.6009, Eval Accuracy 0.7200\n",
      "Epoch 10, Loss 0.5230, Eval Accuracy 0.8400\n",
      "Epoch 15, Loss 0.4630, Eval Accuracy 0.8800\n",
      "Epoch 20, Loss 0.4168, Eval Accuracy 0.8800\n",
      "Epoch 25, Loss 0.3808, Eval Accuracy 0.8800\n",
      "Epoch 30, Loss 0.3521, Eval Accuracy 0.8800\n",
      "Epoch 35, Loss 0.3287, Eval Accuracy 0.8800\n",
      "Epoch 40, Loss 0.3092, Eval Accuracy 0.9000\n",
      "Epoch 45, Loss 0.2927, Eval Accuracy 0.9000\n",
      "Final Eval Loss: 0.2632, Eval Accuracy: 0.9200\n",
      "Epoch 0, Loss 0.7295, Eval Accuracy 0.5400\n",
      "Epoch 5, Loss 0.6189, Eval Accuracy 0.7000\n",
      "Epoch 10, Loss 0.5458, Eval Accuracy 0.7400\n",
      "Epoch 15, Loss 0.4835, Eval Accuracy 0.7800\n",
      "Epoch 20, Loss 0.4359, Eval Accuracy 0.8200\n",
      "Epoch 25, Loss 0.3977, Eval Accuracy 0.8600\n",
      "Epoch 30, Loss 0.3670, Eval Accuracy 0.8600\n",
      "Epoch 35, Loss 0.3422, Eval Accuracy 0.8600\n",
      "Epoch 40, Loss 0.3213, Eval Accuracy 0.8600\n",
      "Epoch 45, Loss 0.3038, Eval Accuracy 0.9000\n",
      "Final Eval Loss: 0.3251, Eval Accuracy: 0.9200\n",
      "\n",
      "Layer: conv4\n",
      "--------------------\n",
      "Normal activations\n",
      "Epoch 0, Loss 0.6896, Eval Accuracy 0.4600\n",
      "Epoch 5, Loss 0.6831, Eval Accuracy 0.4600\n",
      "Epoch 10, Loss 0.6771, Eval Accuracy 0.4600\n",
      "Epoch 15, Loss 0.6714, Eval Accuracy 0.4600\n",
      "Epoch 20, Loss 0.6659, Eval Accuracy 0.4600\n",
      "Epoch 25, Loss 0.6605, Eval Accuracy 0.4600\n",
      "Epoch 30, Loss 0.6554, Eval Accuracy 0.4600\n",
      "Epoch 35, Loss 0.6504, Eval Accuracy 0.4600\n",
      "Epoch 40, Loss 0.6455, Eval Accuracy 0.4600\n",
      "Epoch 45, Loss 0.6408, Eval Accuracy 0.4600\n",
      "Final Eval Loss: 0.7169, Eval Accuracy: 0.4600\n",
      "Epoch 0, Loss 0.6202, Eval Accuracy 0.7600\n",
      "Epoch 5, Loss 0.6104, Eval Accuracy 0.7200\n",
      "Epoch 10, Loss 0.6027, Eval Accuracy 0.7200\n",
      "Epoch 15, Loss 0.5968, Eval Accuracy 0.7200\n",
      "Epoch 20, Loss 0.5918, Eval Accuracy 0.7200\n",
      "Epoch 25, Loss 0.5874, Eval Accuracy 0.7200\n",
      "Epoch 30, Loss 0.5832, Eval Accuracy 0.7200\n",
      "Epoch 35, Loss 0.5793, Eval Accuracy 0.7200\n",
      "Epoch 40, Loss 0.5754, Eval Accuracy 0.7400\n",
      "Epoch 45, Loss 0.5717, Eval Accuracy 0.7400\n",
      "Final Eval Loss: 0.5149, Eval Accuracy: 0.7400\n",
      "Epoch 0, Loss 0.6578, Eval Accuracy 0.5200\n",
      "Epoch 5, Loss 0.6480, Eval Accuracy 0.5400\n",
      "Epoch 10, Loss 0.6399, Eval Accuracy 0.5600\n",
      "Epoch 15, Loss 0.6333, Eval Accuracy 0.5200\n",
      "Epoch 20, Loss 0.6277, Eval Accuracy 0.5200\n",
      "Epoch 25, Loss 0.6227, Eval Accuracy 0.5200\n",
      "Epoch 30, Loss 0.6181, Eval Accuracy 0.5200\n",
      "Epoch 35, Loss 0.6139, Eval Accuracy 0.5200\n",
      "Epoch 40, Loss 0.6097, Eval Accuracy 0.5400\n",
      "Epoch 45, Loss 0.6058, Eval Accuracy 0.5600\n",
      "Final Eval Loss: 0.5766, Eval Accuracy: 0.5600\n",
      "Epoch 0, Loss 0.7608, Eval Accuracy 0.4400\n",
      "Epoch 5, Loss 0.7493, Eval Accuracy 0.4800\n",
      "Epoch 10, Loss 0.7396, Eval Accuracy 0.4800\n",
      "Epoch 15, Loss 0.7313, Eval Accuracy 0.5000\n",
      "Epoch 20, Loss 0.7239, Eval Accuracy 0.5000\n",
      "Epoch 25, Loss 0.7171, Eval Accuracy 0.5000\n",
      "Epoch 30, Loss 0.7107, Eval Accuracy 0.5000\n",
      "Epoch 35, Loss 0.7046, Eval Accuracy 0.5200\n",
      "Epoch 40, Loss 0.6987, Eval Accuracy 0.5400\n",
      "Epoch 45, Loss 0.6930, Eval Accuracy 0.5400\n",
      "Final Eval Loss: 0.6646, Eval Accuracy: 0.5400\n",
      "Epoch 0, Loss 0.7123, Eval Accuracy 0.4800\n",
      "Epoch 5, Loss 0.6948, Eval Accuracy 0.4800\n",
      "Epoch 10, Loss 0.6798, Eval Accuracy 0.5800\n",
      "Epoch 15, Loss 0.6671, Eval Accuracy 0.5600\n",
      "Epoch 20, Loss 0.6565, Eval Accuracy 0.5400\n",
      "Epoch 25, Loss 0.6474, Eval Accuracy 0.5600\n",
      "Epoch 30, Loss 0.6396, Eval Accuracy 0.5600\n",
      "Epoch 35, Loss 0.6328, Eval Accuracy 0.5400\n",
      "Epoch 40, Loss 0.6266, Eval Accuracy 0.5400\n",
      "Epoch 45, Loss 0.6208, Eval Accuracy 0.5400\n",
      "Final Eval Loss: 0.6433, Eval Accuracy: 0.5400\n",
      "Corrupted activations\n",
      "Epoch 0, Loss 0.8582, Eval Accuracy 0.5000\n",
      "Epoch 5, Loss 0.8240, Eval Accuracy 0.5200\n",
      "Epoch 10, Loss 0.7934, Eval Accuracy 0.5000\n",
      "Epoch 15, Loss 0.7668, Eval Accuracy 0.5000\n",
      "Epoch 20, Loss 0.7444, Eval Accuracy 0.5000\n",
      "Epoch 25, Loss 0.7262, Eval Accuracy 0.5200\n",
      "Epoch 30, Loss 0.7118, Eval Accuracy 0.5400\n",
      "Epoch 35, Loss 0.7006, Eval Accuracy 0.5400\n",
      "Epoch 40, Loss 0.6920, Eval Accuracy 0.5400\n",
      "Epoch 45, Loss 0.6852, Eval Accuracy 0.5800\n",
      "Final Eval Loss: 0.6615, Eval Accuracy: 0.5600\n",
      "Epoch 0, Loss 0.7977, Eval Accuracy 0.4400\n",
      "Epoch 5, Loss 0.7790, Eval Accuracy 0.4200\n",
      "Epoch 10, Loss 0.7644, Eval Accuracy 0.3800\n",
      "Epoch 15, Loss 0.7533, Eval Accuracy 0.3800\n",
      "Epoch 20, Loss 0.7443, Eval Accuracy 0.4200\n",
      "Epoch 25, Loss 0.7364, Eval Accuracy 0.4400\n",
      "Epoch 30, Loss 0.7291, Eval Accuracy 0.4600\n",
      "Epoch 35, Loss 0.7219, Eval Accuracy 0.4600\n",
      "Epoch 40, Loss 0.7149, Eval Accuracy 0.4800\n",
      "Epoch 45, Loss 0.7080, Eval Accuracy 0.5000\n",
      "Final Eval Loss: 0.7377, Eval Accuracy: 0.5000\n",
      "Epoch 0, Loss 0.7071, Eval Accuracy 0.5600\n",
      "Epoch 5, Loss 0.6943, Eval Accuracy 0.5600\n",
      "Epoch 10, Loss 0.6848, Eval Accuracy 0.5800\n",
      "Epoch 15, Loss 0.6773, Eval Accuracy 0.5600\n",
      "Epoch 20, Loss 0.6707, Eval Accuracy 0.6000\n",
      "Epoch 25, Loss 0.6644, Eval Accuracy 0.6200\n",
      "Epoch 30, Loss 0.6583, Eval Accuracy 0.6200\n",
      "Epoch 35, Loss 0.6522, Eval Accuracy 0.6200\n",
      "Epoch 40, Loss 0.6464, Eval Accuracy 0.6200\n",
      "Epoch 45, Loss 0.6408, Eval Accuracy 0.6600\n",
      "Final Eval Loss: 0.6328, Eval Accuracy: 0.6800\n",
      "Epoch 0, Loss 0.8013, Eval Accuracy 0.5200\n",
      "Epoch 5, Loss 0.7841, Eval Accuracy 0.5000\n",
      "Epoch 10, Loss 0.7695, Eval Accuracy 0.4400\n",
      "Epoch 15, Loss 0.7572, Eval Accuracy 0.4200\n",
      "Epoch 20, Loss 0.7465, Eval Accuracy 0.3600\n",
      "Epoch 25, Loss 0.7367, Eval Accuracy 0.4000\n",
      "Epoch 30, Loss 0.7275, Eval Accuracy 0.4200\n",
      "Epoch 35, Loss 0.7186, Eval Accuracy 0.4200\n",
      "Epoch 40, Loss 0.7100, Eval Accuracy 0.4200\n",
      "Epoch 45, Loss 0.7017, Eval Accuracy 0.4600\n",
      "Final Eval Loss: 0.7404, Eval Accuracy: 0.4400\n",
      "Epoch 0, Loss 0.7216, Eval Accuracy 0.5000\n",
      "Epoch 5, Loss 0.7103, Eval Accuracy 0.5200\n",
      "Epoch 10, Loss 0.7004, Eval Accuracy 0.5600\n",
      "Epoch 15, Loss 0.6913, Eval Accuracy 0.5400\n",
      "Epoch 20, Loss 0.6825, Eval Accuracy 0.6000\n",
      "Epoch 25, Loss 0.6741, Eval Accuracy 0.6000\n",
      "Epoch 30, Loss 0.6661, Eval Accuracy 0.6000\n",
      "Epoch 35, Loss 0.6584, Eval Accuracy 0.6000\n",
      "Epoch 40, Loss 0.6511, Eval Accuracy 0.6000\n",
      "Epoch 45, Loss 0.6441, Eval Accuracy 0.6400\n",
      "Final Eval Loss: 0.6496, Eval Accuracy: 0.6600\n",
      "\n",
      "Final Evaluation Accuracies:\n",
      "{'conv1': {'normal': 0.872000002861023, 'normal_std': 0.02712932921287053, 'corrupted': 0.7640000104904174, 'corrupted_std': 0.031999996304514104}, 'conv2': {'normal': 0.8359999895095825, 'normal_std': 0.04270831247221092, 'corrupted': 0.7200000047683716, 'corrupted_std': 0.02828426956159173}, 'conv3': {'normal': 0.8759999871253967, 'normal_std': 0.023323803735871923, 'corrupted': 0.9039999961853027, 'corrupted_std': 0.03440931398364129}, 'conv4': {'normal': 0.5680000126361847, 'normal_std': 0.09260669418221258, 'corrupted': 0.5680000066757203, 'corrupted_std': 0.09173876715976732}}\n"
     ]
    }
   ],
   "source": [
    "import torch\n",
    "from sklearn.model_selection import train_test_split\n",
    "from einops import rearrange\n",
    "\n",
    "def train_linear_probe(activations, labels, n_epochs=25, eval_size=0.1, sparsity_penalty=0.0):\n",
    "    # Split the data into training and evaluation sets\n",
    "    X_train, X_eval, y_train, y_eval = train_test_split(activations, labels, test_size=eval_size, random_state=42)\n",
    "    \n",
    "    # Get the number of classes\n",
    "    n_classes = len(torch.unique(labels))\n",
    "    \n",
    "    # Get the shape of the activations\n",
    "    batch_size, height, width = X_train.shape\n",
    "    \n",
    "    # Define the linear probe with an extra dimension\n",
    "    linear_probe = nn.Linear(height * width, n_classes)\n",
    "    \n",
    "    # Define the optimizer\n",
    "    optimizer = optim.Adam(linear_probe.parameters(), lr=0.001)\n",
    "    \n",
    "    # Define the loss function\n",
    "    loss_fn = nn.CrossEntropyLoss()\n",
    "    \n",
    "    # Train the probe\n",
    "    for epoch in range(n_epochs):\n",
    "        optimizer.zero_grad()\n",
    "        \n",
    "        # Rearrange the activations to (batch_size, height * width)\n",
    "        X_train_rearranged = rearrange(X_train, 'b h w -> b (h w)')\n",
    "        output = linear_probe(X_train_rearranged)\n",
    "\n",
    "        # Calculate the sparsity penalty\n",
    "        sparsity_loss = sparsity_penalty * torch.norm(linear_probe.weight, p=1)\n",
    "        \n",
    "        # Add the sparsity penalty to the loss\n",
    "        loss = loss_fn(output, y_train.long()) + sparsity_loss\n",
    "        \n",
    "        #loss = loss_fn(output, y_train.long())\n",
    "        loss.backward()\n",
    "        optimizer.step()\n",
    "        \n",
    "        if epoch % (n_epochs // 10) == 0 or epoch == n_epochs - 1:\n",
    "            with torch.no_grad():\n",
    "                # Rearrange the evaluation activations to (batch_size, height * width)\n",
    "                X_eval_rearranged = rearrange(X_eval, 'b h w -> b (h w)')\n",
    "                eval_output = linear_probe(X_eval_rearranged)\n",
    "                \n",
    "                _, predicted = torch.max(eval_output, 1)\n",
    "                eval_accuracy = (predicted == y_eval).float().mean()\n",
    "                \n",
    "                eval_loss = loss_fn(eval_output, y_eval.long())\n",
    "                \n",
    "                if epoch == n_epochs - 1:\n",
    "                    print(f'Final Eval Loss: {eval_loss.item():.4f}, Eval Accuracy: {eval_accuracy.item():.4f}')\n",
    "                else:\n",
    "                    print(f'Epoch {epoch}, Loss {loss.item():.4f}, Eval Accuracy {eval_accuracy.item():.4f}')\n",
    "    \n",
    "    return linear_probe, eval_accuracy.item()\n",
    "\n",
    "def linear_probe_pipeline(dog_activations, airplane_activations, layer, random_seed):\n",
    "    torch.manual_seed(random_seed)\n",
    "    # Get the labels for the dog and airplane images\n",
    "    labels = torch.ones(dog_activations[layer].shape[0])\n",
    "    labels = torch.cat((labels, torch.zeros_like(labels)))\n",
    "    \n",
    "    # Concatenate the activations along dimension 0\n",
    "    activations = torch.cat((dog_activations[layer], airplane_activations[layer]), dim=0)\n",
    "    \n",
    "    # Shuffle the activations and labels\n",
    "    permutation = torch.randperm(activations.shape[0])\n",
    "    activations_shuffled = activations[permutation]\n",
    "    labels_shuffled = labels[permutation]\n",
    "    \n",
    "    # Train the linear probe\n",
    "    linear_probe, eval_accuracy = train_linear_probe(activations_shuffled, labels_shuffled, n_epochs=50)\n",
    "    return linear_probe, eval_accuracy\n",
    "\n",
    "results = {}\n",
    "num_runs = 5\n",
    "\n",
    "for layer in ['conv1', 'conv2', 'conv3', 'conv4']:\n",
    "    print(f'Layer: {layer}')\n",
    "    print('-' * 20)\n",
    "    results[layer] = {}\n",
    "    \n",
    "    # Do it for the normal activations\n",
    "    print('Normal activations')\n",
    "    eval_accuracies = []\n",
    "    for i in range(num_runs):\n",
    "        _, eval_accuracy = linear_probe_pipeline(dog_selected_activations, airplane_selected_activations, layer, random_seed=i)\n",
    "        eval_accuracies.append(eval_accuracy)\n",
    "    results[layer]['normal'] = np.mean(eval_accuracies)\n",
    "    results[layer]['normal_std'] = np.std(eval_accuracies)\n",
    "    \n",
    "    # Do it for the corrupted activations\n",
    "    print('Corrupted activations')\n",
    "    eval_accuracies_corrupted = []\n",
    "    for i in range(num_runs):\n",
    "        _, eval_accuracy_corrupted = linear_probe_pipeline(dog_selected_activations_corrupted, airplane_selected_activations_corrupted, layer, random_seed=i)\n",
    "        eval_accuracies_corrupted.append(eval_accuracy_corrupted)\n",
    "    results[layer]['corrupted'] = np.mean(eval_accuracies_corrupted)\n",
    "    results[layer]['corrupted_std'] = np.std(eval_accuracies_corrupted)\n",
    "    \n",
    "    print()\n",
    "\n",
    "print('Final Evaluation Accuracies:')\n",
    "print(results)"
   ]
  },
  {
   "cell_type": "code",
   "execution_count": 484,
   "metadata": {},
   "outputs": [
    {
     "data": {
      "application/vnd.plotly.v1+json": {
       "config": {
        "plotlyServerURL": "https://plot.ly"
       },
       "data": [
        {
         "error_y": {
          "array": [
           0.02712932921287053,
           0.04270831247221092,
           0.023323803735871923,
           0.09260669418221258
          ],
          "type": "data",
          "visible": true
         },
         "line": {
          "color": "blue",
          "width": 4
         },
         "marker": {
          "color": "blue",
          "size": 8,
          "symbol": "circle"
         },
         "mode": "lines+markers",
         "name": "Our channels",
         "type": "scatter",
         "x": [
          "conv1",
          "conv2",
          "conv3",
          "conv4"
         ],
         "y": [
          0.872000002861023,
          0.8359999895095825,
          0.8759999871253967,
          0.5680000126361847
         ]
        },
        {
         "error_y": {
          "array": [
           0.031999996304514104,
           0.02828426956159173,
           0.03440931398364129,
           0.09173876715976732
          ],
          "type": "data",
          "visible": true
         },
         "line": {
          "color": "red",
          "width": 4
         },
         "marker": {
          "color": "red",
          "size": 8,
          "symbol": "square"
         },
         "mode": "lines+markers",
         "name": "Random channels",
         "type": "scatter",
         "x": [
          "conv1",
          "conv2",
          "conv3",
          "conv4"
         ],
         "y": [
          0.7640000104904174,
          0.7200000047683716,
          0.9039999961853027,
          0.5680000066757203
         ]
        }
       ],
       "layout": {
        "font": {
         "family": "Palatino",
         "size": 24
        },
        "height": 500,
        "legend": {
         "x": 0.8,
         "y": 0.99
        },
        "plot_bgcolor": "white",
        "template": {
         "data": {
          "bar": [
           {
            "error_x": {
             "color": "#2a3f5f"
            },
            "error_y": {
             "color": "#2a3f5f"
            },
            "marker": {
             "line": {
              "color": "#E5ECF6",
              "width": 0.5
             },
             "pattern": {
              "fillmode": "overlay",
              "size": 10,
              "solidity": 0.2
             }
            },
            "type": "bar"
           }
          ],
          "barpolar": [
           {
            "marker": {
             "line": {
              "color": "#E5ECF6",
              "width": 0.5
             },
             "pattern": {
              "fillmode": "overlay",
              "size": 10,
              "solidity": 0.2
             }
            },
            "type": "barpolar"
           }
          ],
          "carpet": [
           {
            "aaxis": {
             "endlinecolor": "#2a3f5f",
             "gridcolor": "white",
             "linecolor": "white",
             "minorgridcolor": "white",
             "startlinecolor": "#2a3f5f"
            },
            "baxis": {
             "endlinecolor": "#2a3f5f",
             "gridcolor": "white",
             "linecolor": "white",
             "minorgridcolor": "white",
             "startlinecolor": "#2a3f5f"
            },
            "type": "carpet"
           }
          ],
          "choropleth": [
           {
            "colorbar": {
             "outlinewidth": 0,
             "ticks": ""
            },
            "type": "choropleth"
           }
          ],
          "contour": [
           {
            "colorbar": {
             "outlinewidth": 0,
             "ticks": ""
            },
            "colorscale": [
             [
              0,
              "#0d0887"
             ],
             [
              0.1111111111111111,
              "#46039f"
             ],
             [
              0.2222222222222222,
              "#7201a8"
             ],
             [
              0.3333333333333333,
              "#9c179e"
             ],
             [
              0.4444444444444444,
              "#bd3786"
             ],
             [
              0.5555555555555556,
              "#d8576b"
             ],
             [
              0.6666666666666666,
              "#ed7953"
             ],
             [
              0.7777777777777778,
              "#fb9f3a"
             ],
             [
              0.8888888888888888,
              "#fdca26"
             ],
             [
              1,
              "#f0f921"
             ]
            ],
            "type": "contour"
           }
          ],
          "contourcarpet": [
           {
            "colorbar": {
             "outlinewidth": 0,
             "ticks": ""
            },
            "type": "contourcarpet"
           }
          ],
          "heatmap": [
           {
            "colorbar": {
             "outlinewidth": 0,
             "ticks": ""
            },
            "colorscale": [
             [
              0,
              "#0d0887"
             ],
             [
              0.1111111111111111,
              "#46039f"
             ],
             [
              0.2222222222222222,
              "#7201a8"
             ],
             [
              0.3333333333333333,
              "#9c179e"
             ],
             [
              0.4444444444444444,
              "#bd3786"
             ],
             [
              0.5555555555555556,
              "#d8576b"
             ],
             [
              0.6666666666666666,
              "#ed7953"
             ],
             [
              0.7777777777777778,
              "#fb9f3a"
             ],
             [
              0.8888888888888888,
              "#fdca26"
             ],
             [
              1,
              "#f0f921"
             ]
            ],
            "type": "heatmap"
           }
          ],
          "heatmapgl": [
           {
            "colorbar": {
             "outlinewidth": 0,
             "ticks": ""
            },
            "colorscale": [
             [
              0,
              "#0d0887"
             ],
             [
              0.1111111111111111,
              "#46039f"
             ],
             [
              0.2222222222222222,
              "#7201a8"
             ],
             [
              0.3333333333333333,
              "#9c179e"
             ],
             [
              0.4444444444444444,
              "#bd3786"
             ],
             [
              0.5555555555555556,
              "#d8576b"
             ],
             [
              0.6666666666666666,
              "#ed7953"
             ],
             [
              0.7777777777777778,
              "#fb9f3a"
             ],
             [
              0.8888888888888888,
              "#fdca26"
             ],
             [
              1,
              "#f0f921"
             ]
            ],
            "type": "heatmapgl"
           }
          ],
          "histogram": [
           {
            "marker": {
             "pattern": {
              "fillmode": "overlay",
              "size": 10,
              "solidity": 0.2
             }
            },
            "type": "histogram"
           }
          ],
          "histogram2d": [
           {
            "colorbar": {
             "outlinewidth": 0,
             "ticks": ""
            },
            "colorscale": [
             [
              0,
              "#0d0887"
             ],
             [
              0.1111111111111111,
              "#46039f"
             ],
             [
              0.2222222222222222,
              "#7201a8"
             ],
             [
              0.3333333333333333,
              "#9c179e"
             ],
             [
              0.4444444444444444,
              "#bd3786"
             ],
             [
              0.5555555555555556,
              "#d8576b"
             ],
             [
              0.6666666666666666,
              "#ed7953"
             ],
             [
              0.7777777777777778,
              "#fb9f3a"
             ],
             [
              0.8888888888888888,
              "#fdca26"
             ],
             [
              1,
              "#f0f921"
             ]
            ],
            "type": "histogram2d"
           }
          ],
          "histogram2dcontour": [
           {
            "colorbar": {
             "outlinewidth": 0,
             "ticks": ""
            },
            "colorscale": [
             [
              0,
              "#0d0887"
             ],
             [
              0.1111111111111111,
              "#46039f"
             ],
             [
              0.2222222222222222,
              "#7201a8"
             ],
             [
              0.3333333333333333,
              "#9c179e"
             ],
             [
              0.4444444444444444,
              "#bd3786"
             ],
             [
              0.5555555555555556,
              "#d8576b"
             ],
             [
              0.6666666666666666,
              "#ed7953"
             ],
             [
              0.7777777777777778,
              "#fb9f3a"
             ],
             [
              0.8888888888888888,
              "#fdca26"
             ],
             [
              1,
              "#f0f921"
             ]
            ],
            "type": "histogram2dcontour"
           }
          ],
          "mesh3d": [
           {
            "colorbar": {
             "outlinewidth": 0,
             "ticks": ""
            },
            "type": "mesh3d"
           }
          ],
          "parcoords": [
           {
            "line": {
             "colorbar": {
              "outlinewidth": 0,
              "ticks": ""
             }
            },
            "type": "parcoords"
           }
          ],
          "pie": [
           {
            "automargin": true,
            "type": "pie"
           }
          ],
          "scatter": [
           {
            "fillpattern": {
             "fillmode": "overlay",
             "size": 10,
             "solidity": 0.2
            },
            "type": "scatter"
           }
          ],
          "scatter3d": [
           {
            "line": {
             "colorbar": {
              "outlinewidth": 0,
              "ticks": ""
             }
            },
            "marker": {
             "colorbar": {
              "outlinewidth": 0,
              "ticks": ""
             }
            },
            "type": "scatter3d"
           }
          ],
          "scattercarpet": [
           {
            "marker": {
             "colorbar": {
              "outlinewidth": 0,
              "ticks": ""
             }
            },
            "type": "scattercarpet"
           }
          ],
          "scattergeo": [
           {
            "marker": {
             "colorbar": {
              "outlinewidth": 0,
              "ticks": ""
             }
            },
            "type": "scattergeo"
           }
          ],
          "scattergl": [
           {
            "marker": {
             "colorbar": {
              "outlinewidth": 0,
              "ticks": ""
             }
            },
            "type": "scattergl"
           }
          ],
          "scattermapbox": [
           {
            "marker": {
             "colorbar": {
              "outlinewidth": 0,
              "ticks": ""
             }
            },
            "type": "scattermapbox"
           }
          ],
          "scatterpolar": [
           {
            "marker": {
             "colorbar": {
              "outlinewidth": 0,
              "ticks": ""
             }
            },
            "type": "scatterpolar"
           }
          ],
          "scatterpolargl": [
           {
            "marker": {
             "colorbar": {
              "outlinewidth": 0,
              "ticks": ""
             }
            },
            "type": "scatterpolargl"
           }
          ],
          "scatterternary": [
           {
            "marker": {
             "colorbar": {
              "outlinewidth": 0,
              "ticks": ""
             }
            },
            "type": "scatterternary"
           }
          ],
          "surface": [
           {
            "colorbar": {
             "outlinewidth": 0,
             "ticks": ""
            },
            "colorscale": [
             [
              0,
              "#0d0887"
             ],
             [
              0.1111111111111111,
              "#46039f"
             ],
             [
              0.2222222222222222,
              "#7201a8"
             ],
             [
              0.3333333333333333,
              "#9c179e"
             ],
             [
              0.4444444444444444,
              "#bd3786"
             ],
             [
              0.5555555555555556,
              "#d8576b"
             ],
             [
              0.6666666666666666,
              "#ed7953"
             ],
             [
              0.7777777777777778,
              "#fb9f3a"
             ],
             [
              0.8888888888888888,
              "#fdca26"
             ],
             [
              1,
              "#f0f921"
             ]
            ],
            "type": "surface"
           }
          ],
          "table": [
           {
            "cells": {
             "fill": {
              "color": "#EBF0F8"
             },
             "line": {
              "color": "white"
             }
            },
            "header": {
             "fill": {
              "color": "#C8D4E3"
             },
             "line": {
              "color": "white"
             }
            },
            "type": "table"
           }
          ]
         },
         "layout": {
          "annotationdefaults": {
           "arrowcolor": "#2a3f5f",
           "arrowhead": 0,
           "arrowwidth": 1
          },
          "autotypenumbers": "strict",
          "coloraxis": {
           "colorbar": {
            "outlinewidth": 0,
            "ticks": ""
           }
          },
          "colorscale": {
           "diverging": [
            [
             0,
             "#8e0152"
            ],
            [
             0.1,
             "#c51b7d"
            ],
            [
             0.2,
             "#de77ae"
            ],
            [
             0.3,
             "#f1b6da"
            ],
            [
             0.4,
             "#fde0ef"
            ],
            [
             0.5,
             "#f7f7f7"
            ],
            [
             0.6,
             "#e6f5d0"
            ],
            [
             0.7,
             "#b8e186"
            ],
            [
             0.8,
             "#7fbc41"
            ],
            [
             0.9,
             "#4d9221"
            ],
            [
             1,
             "#276419"
            ]
           ],
           "sequential": [
            [
             0,
             "#0d0887"
            ],
            [
             0.1111111111111111,
             "#46039f"
            ],
            [
             0.2222222222222222,
             "#7201a8"
            ],
            [
             0.3333333333333333,
             "#9c179e"
            ],
            [
             0.4444444444444444,
             "#bd3786"
            ],
            [
             0.5555555555555556,
             "#d8576b"
            ],
            [
             0.6666666666666666,
             "#ed7953"
            ],
            [
             0.7777777777777778,
             "#fb9f3a"
            ],
            [
             0.8888888888888888,
             "#fdca26"
            ],
            [
             1,
             "#f0f921"
            ]
           ],
           "sequentialminus": [
            [
             0,
             "#0d0887"
            ],
            [
             0.1111111111111111,
             "#46039f"
            ],
            [
             0.2222222222222222,
             "#7201a8"
            ],
            [
             0.3333333333333333,
             "#9c179e"
            ],
            [
             0.4444444444444444,
             "#bd3786"
            ],
            [
             0.5555555555555556,
             "#d8576b"
            ],
            [
             0.6666666666666666,
             "#ed7953"
            ],
            [
             0.7777777777777778,
             "#fb9f3a"
            ],
            [
             0.8888888888888888,
             "#fdca26"
            ],
            [
             1,
             "#f0f921"
            ]
           ]
          },
          "colorway": [
           "#636efa",
           "#EF553B",
           "#00cc96",
           "#ab63fa",
           "#FFA15A",
           "#19d3f3",
           "#FF6692",
           "#B6E880",
           "#FF97FF",
           "#FECB52"
          ],
          "font": {
           "color": "#2a3f5f"
          },
          "geo": {
           "bgcolor": "white",
           "lakecolor": "white",
           "landcolor": "#E5ECF6",
           "showlakes": true,
           "showland": true,
           "subunitcolor": "white"
          },
          "hoverlabel": {
           "align": "left"
          },
          "hovermode": "closest",
          "mapbox": {
           "style": "light"
          },
          "paper_bgcolor": "white",
          "plot_bgcolor": "#E5ECF6",
          "polar": {
           "angularaxis": {
            "gridcolor": "white",
            "linecolor": "white",
            "ticks": ""
           },
           "bgcolor": "#E5ECF6",
           "radialaxis": {
            "gridcolor": "white",
            "linecolor": "white",
            "ticks": ""
           }
          },
          "scene": {
           "xaxis": {
            "backgroundcolor": "#E5ECF6",
            "gridcolor": "white",
            "gridwidth": 2,
            "linecolor": "white",
            "showbackground": true,
            "ticks": "",
            "zerolinecolor": "white"
           },
           "yaxis": {
            "backgroundcolor": "#E5ECF6",
            "gridcolor": "white",
            "gridwidth": 2,
            "linecolor": "white",
            "showbackground": true,
            "ticks": "",
            "zerolinecolor": "white"
           },
           "zaxis": {
            "backgroundcolor": "#E5ECF6",
            "gridcolor": "white",
            "gridwidth": 2,
            "linecolor": "white",
            "showbackground": true,
            "ticks": "",
            "zerolinecolor": "white"
           }
          },
          "shapedefaults": {
           "line": {
            "color": "#2a3f5f"
           }
          },
          "ternary": {
           "aaxis": {
            "gridcolor": "white",
            "linecolor": "white",
            "ticks": ""
           },
           "baxis": {
            "gridcolor": "white",
            "linecolor": "white",
            "ticks": ""
           },
           "bgcolor": "#E5ECF6",
           "caxis": {
            "gridcolor": "white",
            "linecolor": "white",
            "ticks": ""
           }
          },
          "title": {
           "x": 0.05
          },
          "xaxis": {
           "automargin": true,
           "gridcolor": "white",
           "linecolor": "white",
           "ticks": "",
           "title": {
            "standoff": 15
           },
           "zerolinecolor": "white",
           "zerolinewidth": 2
          },
          "yaxis": {
           "automargin": true,
           "gridcolor": "white",
           "linecolor": "white",
           "ticks": "",
           "title": {
            "standoff": 15
           },
           "zerolinecolor": "white",
           "zerolinewidth": 2
          }
         }
        },
        "width": 800,
        "xaxis": {
         "title": {
          "text": "Layer"
         }
        },
        "yaxis": {
         "title": {
          "text": "Evaluation Accuracy"
         }
        }
       }
      }
     },
     "metadata": {},
     "output_type": "display_data"
    }
   ],
   "source": [
    "import plotly.graph_objects as go\n",
    "\n",
    "# Extract the layers and evaluation accuracies from the results dictionary\n",
    "layers = list(results.keys())\n",
    "normal_accuracies = [results[layer]['normal'] for layer in layers]\n",
    "normal_stds = [results[layer]['normal_std'] for layer in layers]\n",
    "corrupted_accuracies = [results[layer]['corrupted'] for layer in layers]\n",
    "corrupted_stds = [results[layer]['corrupted_std'] for layer in layers]\n",
    "\n",
    "# Create the trace for normal activations\n",
    "trace_normal = go.Scatter(\n",
    "    x=layers,\n",
    "    y=normal_accuracies,\n",
    "    mode='lines+markers',\n",
    "    name='Our channels',\n",
    "    line=dict(color='blue', width=4),\n",
    "    marker=dict(size=8, symbol='circle', color='blue'),\n",
    "    error_y=dict(\n",
    "        type='data',\n",
    "        array=normal_stds,\n",
    "        visible=True\n",
    "    )\n",
    ")\n",
    "\n",
    "# Create the trace for corrupted activations\n",
    "trace_corrupted = go.Scatter(\n",
    "    x=layers,\n",
    "    y=corrupted_accuracies,\n",
    "    mode='lines+markers',\n",
    "    name='Random channels',\n",
    "    line=dict(color='red', width=4),\n",
    "    marker=dict(size=8, symbol='square', color='red'),\n",
    "    error_y=dict(\n",
    "        type='data',\n",
    "        array=corrupted_stds,\n",
    "        visible=True\n",
    "    )\n",
    ")\n",
    "\n",
    "# Create the layout for the plot\n",
    "layout = go.Layout(\n",
    "    xaxis=dict(title='Layer'),\n",
    "    yaxis=dict(title='Evaluation Accuracy'),\n",
    "    font=dict(family='Palatino', size=24),\n",
    "    legend=dict(x=0.8, y=0.99),\n",
    "    plot_bgcolor='white',\n",
    "    width=800,\n",
    "    height=500,\n",
    ")\n",
    "\n",
    "# Create the figure and add the traces and layout\n",
    "fig = go.Figure(data=[trace_normal, trace_corrupted], layout=layout)\n",
    "\n",
    "# Save the figure as a pdf\n",
    "fig.write_image('../output/figures/linear_probe_cnn_accuracy.pdf')\n",
    "\n",
    "# Display the plot\n",
    "fig.show()"
   ]
  },
  {
   "cell_type": "markdown",
   "metadata": {},
   "source": [
    "### Max activating images in dataset"
   ]
  },
  {
   "cell_type": "code",
   "execution_count": 528,
   "metadata": {},
   "outputs": [],
   "source": [
    "def compute_activations(model, dataloader, layer_name):\n",
    "    model.eval()\n",
    "    activations = []\n",
    "    images = []\n",
    "    \n",
    "    with torch.no_grad():\n",
    "        for data, _ in dataloader:\n",
    "            _, act = model(data)\n",
    "            activations.append(act[layer_name])\n",
    "            images.append(data)\n",
    "    \n",
    "    activations = torch.cat(activations)\n",
    "    images = torch.cat(images)\n",
    "    \n",
    "    return activations, images\n",
    "\n",
    "def get_top_k_activations(activations, images, channel_idx, k=5):\n",
    "    # Compute the mean activation across the spatial dimensions (8x8)\n",
    "    activations = activations.mean(dim=(2, 3))\n",
    "    \n",
    "    # Select the activations of the specified channel\n",
    "    activations = activations[:, channel_idx]\n",
    "    \n",
    "    _, top_k_max_indices = torch.topk(activations, k, dim=0)\n",
    "    _, top_k_min_indices = torch.topk(activations, k, dim=0, largest=False)\n",
    "    \n",
    "    top_k_max_images = images[top_k_max_indices]\n",
    "    top_k_min_images = images[top_k_min_indices]\n",
    "    return top_k_max_images, top_k_min_images\n",
    "\n",
    "\n",
    "# Example usage\n",
    "layer_name = 'conv4'\n",
    "channel_idx = 61\n",
    "k = 5\n",
    "\n",
    "activations, images = compute_activations(model, testloader, layer_name)"
   ]
  },
  {
   "cell_type": "code",
   "execution_count": 529,
   "metadata": {},
   "outputs": [
    {
     "name": "stderr",
     "output_type": "stream",
     "text": [
      "Clipping input data to the valid range for imshow with RGB data ([0..1] for floats or [0..255] for integers).\n",
      "Clipping input data to the valid range for imshow with RGB data ([0..1] for floats or [0..255] for integers).\n",
      "Clipping input data to the valid range for imshow with RGB data ([0..1] for floats or [0..255] for integers).\n",
      "Clipping input data to the valid range for imshow with RGB data ([0..1] for floats or [0..255] for integers).\n",
      "Clipping input data to the valid range for imshow with RGB data ([0..1] for floats or [0..255] for integers).\n",
      "Clipping input data to the valid range for imshow with RGB data ([0..1] for floats or [0..255] for integers).\n",
      "Clipping input data to the valid range for imshow with RGB data ([0..1] for floats or [0..255] for integers).\n",
      "Clipping input data to the valid range for imshow with RGB data ([0..1] for floats or [0..255] for integers).\n",
      "Clipping input data to the valid range for imshow with RGB data ([0..1] for floats or [0..255] for integers).\n",
      "Clipping input data to the valid range for imshow with RGB data ([0..1] for floats or [0..255] for integers).\n"
     ]
    },
    {
     "data": {
      "image/png": "[encoded data removed]",
      "text/plain": [
       "<Figure size 1200x400 with 10 Axes>"
      ]
     },
     "metadata": {},
     "output_type": "display_data"
    }
   ],
   "source": [
    "top_k_max_images, top_k_min_images = get_top_k_activations(activations, images, channel_idx, k)\n",
    "\n",
    "# Visualize the top k max and min activating images\n",
    "import matplotlib.pyplot as plt\n",
    "from matplotlib import rcParams\n",
    "\n",
    "# Set Matplotlib to use Palatino font\n",
    "rcParams['font.family'] = 'serif'\n",
    "rcParams['font.serif'] = 'Palatino'\n",
    "rcParams['font.size'] = 16  # You can adjust the size to better fit your publication standards\n",
    "\n",
    "fig, axes = plt.subplots(2, k, figsize=(12, 4))\n",
    "for i in range(k):\n",
    "    # Adjust the image if needed, here assuming the images are in a PyTorch tensor format\n",
    "    axes[0, i].imshow(top_k_max_images[i].permute(1, 2, 0))\n",
    "    axes[0, i].axis('off')\n",
    "    axes[1, i].imshow(top_k_min_images[i].permute(1, 2, 0))\n",
    "    axes[1, i].axis('off')\n",
    "\n",
    "# Set titles for the rows\n",
    "axes[0, 0].set_title(f'Max Activating Images')\n",
    "axes[1, 0].set_title(f'Min Activating Images')\n",
    "\n",
    "# Set title\n",
    "plt.suptitle(f'Top Max and Min Activating Images for {layer_name.upper()}, Channel {channel_idx}', fontsize=20)\n",
    "\n",
    "# Layout adjustments for publication quality\n",
    "plt.tight_layout(pad=1.0)  # Increase padding to ensure titles and images don't overlap\n",
    "# Save figure as PDF\n",
    "plt.savefig(f'../output/figures/top_max_min_activating_images_{layer}_{channel_idx}.pdf', format='pdf')\n",
    "plt.show()"
   ]
  },
  {
   "cell_type": "markdown",
   "metadata": {},
   "source": [
    "### Can we use our circuit to increase the probability of dog?"
   ]
  },
  {
   "cell_type": "code",
   "execution_count": 533,
   "metadata": {},
   "outputs": [
    {
     "data": {
      "text/plain": [
       "<All keys matched successfully>"
      ]
     },
     "execution_count": 533,
     "metadata": {},
     "output_type": "execute_result"
    }
   ],
   "source": [
    "# Model definition\n",
    "class ResNet9(nn.Module):\n",
    "    def __init__(self, in_channels, num_classes):\n",
    "        super(ResNet9, self).__init__()\n",
    "        self.conv1 = self.conv_block(in_channels, 64)\n",
    "        self.conv2 = self.conv_block(64, 128, pool=True)\n",
    "        self.res1 = nn.Sequential(self.conv_block(128, 128), self.conv_block(128, 128))\n",
    "        \n",
    "        self.conv3 = self.conv_block(128, 256, pool=True)\n",
    "        self.conv4 = self.conv_block(256, 512, pool=True)\n",
    "        self.res2 = nn.Sequential(self.conv_block(512, 512), self.conv_block(512, 512))\n",
    "        \n",
    "        self.classifier = nn.Sequential(nn.MaxPool2d(4), \n",
    "                                        nn.Flatten(), \n",
    "                                        nn.Linear(512, num_classes))\n",
    "        \n",
    "    def forward(self, xb):\n",
    "        activations = {}  # Dictionary to store feature maps\n",
    "        \n",
    "        out = self.conv1(xb)\n",
    "        activations['conv1'] = out\n",
    "        out = self.conv2(out)\n",
    "        activations['conv2'] = out\n",
    "        out_res1 = self.res1(out) + out\n",
    "        out = self.conv3(out_res1)\n",
    "        activations['conv3'] = out\n",
    "        out = self.conv4(out)\n",
    "        activations['conv4'] = out\n",
    "        out_res2 = self.res2(out) + out\n",
    "        out = self.classifier(out_res2)\n",
    "        # The classifier output is usually not stored as an activation map\n",
    "        \n",
    "        return out, activations\n",
    "    \n",
    "    def conv_block(self, in_channels, out_channels, pool=False):\n",
    "        layers = [nn.Conv2d(in_channels, out_channels, kernel_size=3, padding=1), \n",
    "                  nn.BatchNorm2d(out_channels), \n",
    "                  nn.ReLU(inplace=True)]\n",
    "        if pool: layers.append(nn.MaxPool2d(2))\n",
    "        return nn.Sequential(*layers)\n",
    "\n",
    "# Model, loss function, and optimizer\n",
    "model = ResNet9(3, 10)\n",
    "pretrained_path = '../models/cifar10/cifar_net.pth'\n",
    "model.load_state_dict(torch.load(pretrained_path, map_location=torch.device('cpu')))"
   ]
  },
  {
   "cell_type": "code",
   "execution_count": 578,
   "metadata": {},
   "outputs": [
    {
     "name": "stdout",
     "output_type": "stream",
     "text": [
      "Files already downloaded and verified\n"
     ]
    }
   ],
   "source": [
    "import torch\n",
    "import torchvision\n",
    "import torchvision.transforms as transforms\n",
    "import random\n",
    "\n",
    "def causal_intervention(model, dog_image, non_dog_image, layers_channels):\n",
    "    model.eval()\n",
    "    with torch.no_grad():\n",
    "        # Get activations for both images\n",
    "        _, dog_activations = model(dog_image.unsqueeze(0))\n",
    "        _, non_dog_activations = model(non_dog_image.unsqueeze(0))\n",
    "\n",
    "        # # Modify the non-dog activations based on the specified channels in each layer\n",
    "        # for layer, channels in layers_channels.items():\n",
    "        #     non_dog_activations[layer][:, channels, :, :] = dog_activations[layer][:, channels, :, :]\n",
    "\n",
    "        # Run the forward pass with modified activations using a custom forward method\n",
    "        modified_output = forward_with_custom_activations(model, dog_activations, non_dog_image.unsqueeze(0), layers_channels)\n",
    "        modified_prob = torch.softmax(modified_output, dim=-1)[0, 5]  # Assuming class 5 is \"dog\"\n",
    "\n",
    "    # Original classification for non-dog image\n",
    "    original_output, _ = model(non_dog_image.unsqueeze(0))\n",
    "    original_prob = torch.softmax(original_output, dim=-1)[0, 5]\n",
    "\n",
    "    return original_prob.item(), modified_prob.item(), original_output.squeeze(), modified_output.squeeze()\n",
    "\n",
    "def forward_with_custom_activations(model, dog_activations, img, layers_channels):\n",
    "    # This function runs a forward pass using the modified activation maps\n",
    "    x = model.conv1(img)\n",
    "    # Modify the activations for the specified channels in the first layer\n",
    "    for channel in layers_channels['conv1']:\n",
    "        x[:, channel, :, :] = dog_activations['conv1'][:, channel, :, :]\n",
    "    x = model.conv2(x)\n",
    "    # Modify the activations for the specified channels in the second layer\n",
    "    for channel in layers_channels['conv2']:\n",
    "        x[:, channel, :, :] = dog_activations['conv2'][:, channel, :, :]\n",
    "    x_res1 = model.res1(x) + x\n",
    "    x = model.conv3(x_res1)\n",
    "    # Modify the activations for the specified channels in the third layer\n",
    "    for channel in layers_channels['conv3']:\n",
    "        x[:, channel, :, :] = dog_activations['conv3'][:, channel, :, :]\n",
    "    x = model.conv4(x)\n",
    "    # Modify the activations for the specified channels in the fourth layer\n",
    "    for channel in layers_channels['conv4']:\n",
    "        x[:, channel, :, :] = dog_activations['conv4'][:, channel, :, :]\n",
    "    x_res2 = model.res2(x) + x\n",
    "    x = model.classifier(x_res2)\n",
    "    return x\n",
    "    \n",
    "\n",
    "# Ensure you have the testset loaded as before\n",
    "transform = transforms.Compose([transforms.ToTensor(), transforms.Normalize((0.5, 0.5, 0.5), (0.5, 0.5, 0.5))])\n",
    "testset = torchvision.datasets.CIFAR10(root='./data', train=False, download=True, transform=transform)\n",
    "\n",
    "# Identify indices of airplane and dog images\n",
    "airplane_indices = [i for i, (_, label) in enumerate(testset) if label == 0]\n",
    "dog_indices = [i for i, (_, label) in enumerate(testset) if label == 5]\n",
    "\n",
    "# Function to extract images by indices and stack them into a single tensor\n",
    "def extract_images(dataset, indices):\n",
    "    images = [dataset[i][0] for i in indices]  # dataset[i][0] gets the image tensor\n",
    "    images_tensor = torch.stack(images)  # Stacks a list of tensors into a new tensor\n",
    "    return images_tensor\n",
    "\n",
    "# Extract and store airplane and dog images\n",
    "airplane_images = extract_images(testset, airplane_indices)\n",
    "dog_images = extract_images(testset, dog_indices)"
   ]
  },
  {
   "cell_type": "code",
   "execution_count": 579,
   "metadata": {},
   "outputs": [
    {
     "name": "stdout",
     "output_type": "stream",
     "text": [
      "Original probability of dog: 0.0000\n",
      "Modified probability of dog: 0.0000\n",
      "Original output logit for dog: -9.668745040893555\n",
      "Modified output logit for dog: -8.825575828552246\n"
     ]
    }
   ],
   "source": [
    "# Randomly select a dog image and a non-dog (airplane) image\n",
    "dog_image = dog_images[random.randint(0, len(dog_images) - 1)]\n",
    "non_dog_image = airplane_images[random.randint(0, len(airplane_images) - 1)]\n",
    "\n",
    "# Define the layers and channels for intervention\n",
    "layers_channels = {\n",
    "    'conv1': [23, 63],\n",
    "    'conv2': [8, 51],\n",
    "    'conv3': [53, 71, 163, 227, 240],\n",
    "    'conv4': [61]\n",
    "}\n",
    "\n",
    "# Assuming you have a trained ResNet model (model)\n",
    "original_prob, modified_prob, original_output, modified_output = causal_intervention(model, dog_image, non_dog_image, layers_channels)\n",
    "\n",
    "print(f\"Original probability of dog: {original_prob:.4f}\")\n",
    "print(f\"Modified probability of dog: {modified_prob:.4f}\")\n",
    "print(f\"Original output logit for dog: {original_output[5]}\")\n",
    "print(f\"Modified output logit for dog: {modified_output[5]}\")"
   ]
  },
  {
   "cell_type": "code",
   "execution_count": 585,
   "metadata": {},
   "outputs": [
    {
     "name": "stdout",
     "output_type": "stream",
     "text": [
      "Original probability of dog: 0.0000\n",
      "Modified probability of dog: 0.0000\n",
      "Original output logit for dog: -15.896688461303711\n",
      "Modified output logit for dog: -14.704957008361816\n"
     ]
    }
   ],
   "source": [
    "# Extract and store airplane and dog images\n",
    "airplane_images = extract_images(testset, airplane_indices)\n",
    "dog_images = extract_images(testset, dog_indices)\n",
    "\n",
    "# Randomly select a dog image and a non-dog (airplane) image\n",
    "dog_image = dog_images[random.randint(0, len(dog_images) - 1)]\n",
    "non_dog_image = airplane_images[random.randint(0, len(airplane_images) - 1)]\n",
    "\n",
    "# Define the layers and channels for intervention\n",
    "layers_channels_corrupted = {\n",
    "    'conv1': [0, 1],\n",
    "    'conv2': [0, 1],\n",
    "    'conv3': [0, 1, 2, 3, 4],\n",
    "    'conv4': [0]\n",
    "}\n",
    "\n",
    "# Assuming you have a trained ResNet model (model)\n",
    "original_prob, modified_prob, original_output, modified_output = causal_intervention(model, dog_image, non_dog_image, layers_channels_corrupted)\n",
    "\n",
    "print(f\"Original probability of dog: {original_prob:.4f}\")\n",
    "print(f\"Modified probability of dog: {modified_prob:.4f}\")\n",
    "print(f\"Original output logit for dog: {original_output[5]}\")\n",
    "print(f\"Modified output logit for dog: {modified_output[5]}\")"
   ]
  },
  {
   "cell_type": "code",
   "execution_count": null,
   "metadata": {},
   "outputs": [],
   "source": [
    "# Turn grad off for torch\n",
    "torch.set_grad_enabled(False)"
   ]
  },
  {
   "cell_type": "code",
   "execution_count": 616,
   "metadata": {},
   "outputs": [
    {
     "name": "stdout",
     "output_type": "stream",
     "text": [
      "Files already downloaded and verified\n"
     ]
    }
   ],
   "source": [
    "import torch\n",
    "import torchvision\n",
    "import torchvision.transforms as transforms\n",
    "import random\n",
    "from tqdm import tqdm\n",
    "\n",
    "# Assuming the functions and model setup you provided are defined elsewhere in the script\n",
    "\n",
    "def compute_logit_changes(model, testset, layers_channels, num_pairs=100):\n",
    "    dog_indices = [i for i, (_, label) in enumerate(testset) if label == 5]  # Class label for dog\n",
    "    non_dog_indices = [i for i, (_, label) in enumerate(testset) if label != 5]  # Non-dog classes\n",
    "\n",
    "    # Storage for logit changes\n",
    "    changes = []\n",
    "\n",
    "    for _ in tqdm(range(num_pairs)):\n",
    "        # Randomly select a dog image and a non-dog image\n",
    "        dog_image = testset[random.choice(dog_indices)][0]\n",
    "        non_dog_image = testset[random.choice(non_dog_indices)][0]\n",
    "\n",
    "        # Perform the causal intervention\n",
    "        original_prob, modified_prob, original_output, modified_output = causal_intervention(model, dog_image, non_dog_image, layers_channels)\n",
    "\n",
    "        # Calculate the change in logit for the dog class\n",
    "        logit_change = modified_output[5].item() - original_output[5].item()\n",
    "        changes.append(logit_change)\n",
    "\n",
    "    # Compute the mean change in logits\n",
    "    mean_change = sum(changes) / len(changes)\n",
    "    return mean_change\n",
    "\n",
    "# Define the layers and channels for both scenarios\n",
    "layers_channels_specified = {\n",
    "    'conv1': [23],\n",
    "    'conv2': [8], #[8],\n",
    "    'conv3': [], #[53],\n",
    "    'conv4': [], #[61]\n",
    "}\n",
    "\n",
    "# Corrupted is randomly selected channels in each layer\n",
    "layers_channels_corrupted = {\n",
    "    # Conv1 has 64 channels\n",
    "    'conv1': [random.randint(0, 63)],\n",
    "    'conv2': [random.randint(0, 63)], #[random.randint(0, 127)],\n",
    "    'conv3': [], #[random.randint(0, 255)],\n",
    "    'conv4': [], #[random.randint(0, 511)]\n",
    "}\n",
    "\n",
    "# Load the CIFAR10 test dataset\n",
    "transform = transforms.Compose([transforms.ToTensor(), transforms.Normalize((0.5, 0.5, 0.5), (0.5, 0.5, 0.5))])\n",
    "testset = torchvision.datasets.CIFAR10(root='./data', train=False, download=True, transform=transform)"
   ]
  },
  {
   "cell_type": "code",
   "execution_count": 617,
   "metadata": {},
   "outputs": [
    {
     "name": "stderr",
     "output_type": "stream",
     "text": [
      "100%|██████████| 100/100 [00:01<00:00, 64.21it/s]\n",
      "100%|██████████| 100/100 [00:02<00:00, 34.20it/s]"
     ]
    },
    {
     "name": "stdout",
     "output_type": "stream",
     "text": [
      "Mean logit increase using specified channels: 0.0034\n",
      "Mean logit increase using random channels: 0.6306\n"
     ]
    },
    {
     "name": "stderr",
     "output_type": "stream",
     "text": [
      "\n"
     ]
    }
   ],
   "source": [
    "# Calculate mean changes for specified and corrupted channels\n",
    "mean_change_specified = compute_logit_changes(model, testset, layers_channels_specified)\n",
    "mean_change_corrupted = compute_logit_changes(model, testset, layers_channels_corrupted)\n",
    "\n",
    "print(f\"Mean logit increase using specified channels: {mean_change_specified:.4f}\")\n",
    "print(f\"Mean logit increase using random channels: {mean_change_corrupted:.4f}\")"
   ]
  },
  {
   "cell_type": "code",
   "execution_count": 639,
   "metadata": {},
   "outputs": [
    {
     "name": "stdout",
     "output_type": "stream",
     "text": [
      "Files already downloaded and verified\n"
     ]
    },
    {
     "name": "stderr",
     "output_type": "stream",
     "text": [
      "100%|██████████| 100/100 [01:45<00:00,  1.05s/it]"
     ]
    },
    {
     "name": "stdout",
     "output_type": "stream",
     "text": [
      "Average logit increases per channel in conv1:\n",
      "Channel 0: -0.0424\n",
      "Channel 1: 0.1007\n",
      "Channel 2: 0.0966\n",
      "Channel 3: 0.0147\n",
      "Channel 4: 0.0525\n",
      "Channel 5: -0.0030\n",
      "Channel 6: 0.1058\n",
      "Channel 7: 0.0171\n",
      "Channel 8: 0.0179\n",
      "Channel 9: -0.0409\n",
      "Channel 10: -0.0314\n",
      "Channel 11: -0.1448\n",
      "Channel 12: -0.0500\n",
      "Channel 13: 0.0720\n",
      "Channel 14: 0.0101\n",
      "Channel 15: 0.0461\n",
      "Channel 16: 0.0948\n",
      "Channel 17: 0.0459\n",
      "Channel 18: -0.0114\n",
      "Channel 19: 0.1638\n",
      "Channel 20: 0.1075\n",
      "Channel 21: 0.0266\n",
      "Channel 22: 0.0768\n",
      "Channel 23: 0.0405\n",
      "Channel 24: 0.0350\n",
      "Channel 25: 0.0906\n",
      "Channel 26: 0.0528\n",
      "Channel 27: 0.1151\n",
      "Channel 28: -0.0127\n",
      "Channel 29: -0.0208\n",
      "Channel 30: 0.0757\n",
      "Channel 31: 0.0098\n",
      "Channel 32: -0.0733\n",
      "Channel 33: -0.0144\n",
      "Channel 34: 0.3073\n",
      "Channel 35: 0.0329\n",
      "Channel 36: 0.0456\n",
      "Channel 37: -0.0393\n",
      "Channel 38: 0.0211\n",
      "Channel 39: 0.0875\n",
      "Channel 40: 0.3718\n",
      "Channel 41: 0.0698\n",
      "Channel 42: 0.0202\n",
      "Channel 43: 0.0252\n",
      "Channel 44: -0.0631\n",
      "Channel 45: 0.0245\n",
      "Channel 46: 0.1396\n",
      "Channel 47: 0.0212\n",
      "Channel 48: 0.0135\n",
      "Channel 49: -0.0069\n",
      "Channel 50: 0.1171\n",
      "Channel 51: 0.0083\n",
      "Channel 52: -0.0744\n",
      "Channel 53: 0.0066\n",
      "Channel 54: -0.0411\n",
      "Channel 55: 0.0588\n",
      "Channel 56: -0.0194\n",
      "Channel 57: 0.0405\n",
      "Channel 58: 0.0604\n",
      "Channel 59: -0.0318\n",
      "Channel 60: 0.0342\n",
      "Channel 61: -0.0088\n",
      "Channel 62: 0.0316\n",
      "Channel 63: -0.0635\n"
     ]
    },
    {
     "name": "stderr",
     "output_type": "stream",
     "text": [
      "\n"
     ]
    }
   ],
   "source": [
    "def logit_change_per_channel(model, testset, layer, num_pairs=100):\n",
    "    dog_indices = [i for i, (_, label) in enumerate(testset) if label == 5]  # Class label for dog\n",
    "    non_dog_indices = [i for i, (_, label) in enumerate(testset) if label != 5]  # Non-dog classes\n",
    "\n",
    "    # Number of channels in the first convolution layer of ResNet9\n",
    "    num_channels = model.conv1[0].out_channels\n",
    "    logit_changes = {channel: [] for channel in range(num_channels)}\n",
    "\n",
    "    for _ in tqdm(range(num_pairs)):\n",
    "        # Randomly select a dog image and a non-dog image\n",
    "        dog_image = testset[random.choice(dog_indices)][0]\n",
    "        non_dog_image = testset[random.choice(non_dog_indices)][0]\n",
    "\n",
    "        # Get original logits without intervention\n",
    "        original_output, _ = model(non_dog_image.unsqueeze(0))\n",
    "        original_output = original_output.squeeze()\n",
    "\n",
    "        for channel in range(num_channels):\n",
    "            # Modify one channel at a time\n",
    "            layers_channels = {'conv1': [], layer: [channel], 'conv3': [], 'conv4': []}\n",
    "            _, _, _, modified_output = causal_intervention(model, dog_image, non_dog_image, layers_channels)\n",
    "            modified_output = modified_output.squeeze()\n",
    "            \n",
    "            # Calculate the change in logit for the dog class\n",
    "            logit_change = modified_output[5].item() - original_output[5].item()\n",
    "            logit_changes[channel].append(logit_change)\n",
    "\n",
    "    # Compute the mean change in logits for each channel\n",
    "    mean_logit_changes = {channel: sum(changes) / len(changes) for channel, changes in logit_changes.items()}\n",
    "    return mean_logit_changes\n",
    "\n",
    "# Load the CIFAR10 test dataset\n",
    "transform = transforms.Compose([transforms.ToTensor(), transforms.Normalize((0.5, 0.5, 0.5), (0.5, 0.5, 0.5))])\n",
    "testset = torchvision.datasets.CIFAR10(root='./data', train=False, download=True, transform=transform)\n",
    "\n",
    "# Assuming you have a trained ResNet model (model)\n",
    "average_logit_changes_conv1 = logit_change_per_channel(model, testset, 'conv2')\n",
    "\n",
    "# Print the results\n",
    "print(\"Average logit increases per channel in conv1:\")\n",
    "for channel, avg_change in average_logit_changes_conv1.items():\n",
    "    print(f\"Channel {channel}: {avg_change:.4f}\")"
   ]
  },
  {
   "cell_type": "code",
   "execution_count": 640,
   "metadata": {},
   "outputs": [
    {
     "data": {
      "application/vnd.plotly.v1+json": {
       "config": {
        "plotlyServerURL": "https://plot.ly"
       },
       "data": [
        {
         "marker": {
          "color": [
           "blue",
           "blue",
           "blue",
           "blue",
           "blue",
           "blue",
           "blue",
           "blue",
           "red",
           "blue",
           "blue",
           "blue",
           "blue",
           "blue",
           "blue",
           "blue",
           "blue",
           "blue",
           "blue",
           "blue",
           "blue",
           "blue",
           "blue",
           "blue",
           "blue",
           "blue",
           "blue",
           "blue",
           "blue",
           "blue",
           "blue",
           "blue",
           "blue",
           "blue",
           "blue",
           "blue",
           "blue",
           "blue",
           "blue",
           "blue",
           "blue",
           "blue",
           "blue",
           "blue",
           "blue",
           "red",
           "blue",
           "blue",
           "red",
           "blue",
           "blue",
           "red",
           "blue",
           "blue",
           "blue",
           "blue",
           "blue",
           "blue",
           "blue",
           "blue",
           "blue",
           "blue",
           "blue",
           "blue"
          ]
         },
         "type": "bar",
         "x": [
          0,
          1,
          2,
          3,
          4,
          5,
          6,
          7,
          8,
          9,
          10,
          11,
          12,
          13,
          14,
          15,
          16,
          17,
          18,
          19,
          20,
          21,
          22,
          23,
          24,
          25,
          26,
          27,
          28,
          29,
          30,
          31,
          32,
          33,
          34,
          35,
          36,
          37,
          38,
          39,
          40,
          41,
          42,
          43,
          44,
          45,
          46,
          47,
          48,
          49,
          50,
          51,
          52,
          53,
          54,
          55,
          56,
          57,
          58,
          59,
          60,
          61,
          62,
          63
         ],
         "y": [
          -0.04237670302391052,
          0.10066601157188415,
          0.09658375978469849,
          0.014678581953048705,
          0.052453490495681765,
          -0.002966996431350708,
          0.10581519603729247,
          0.01708624482154846,
          0.017855117321014403,
          -0.04090125799179077,
          -0.03136366724967957,
          -0.14484936833381654,
          -0.04998678207397461,
          0.07197245836257934,
          0.010140373706817626,
          0.04613815903663635,
          0.09479533672332764,
          0.04587800264358521,
          -0.01135960578918457,
          0.16377463459968566,
          0.1075487780570984,
          0.026641914844512938,
          0.07681244015693664,
          0.04053327560424805,
          0.0349922788143158,
          0.09061769843101501,
          0.05283087372779846,
          0.1150633943080902,
          -0.012728073596954347,
          -0.02076882839202881,
          0.07565197587013245,
          0.00978010892868042,
          -0.0733491313457489,
          -0.014350199699401855,
          0.3073162293434143,
          0.03292739868164062,
          0.045612657070159913,
          -0.039304252862930295,
          0.021069427728652956,
          0.08749088764190674,
          0.37177467346191406,
          0.06976252555847168,
          0.02024231672286987,
          0.025186480283737184,
          -0.06309248208999634,
          0.024530993700027467,
          0.13955292463302613,
          0.021217634677886964,
          0.01351077675819397,
          -0.006932672262191773,
          0.11707054257392883,
          0.008295320272445679,
          -0.07438073515892028,
          0.006615829467773437,
          -0.041061997413635254,
          0.0587769877910614,
          -0.019350981712341307,
          0.04052488565444946,
          0.06035045146942139,
          -0.03181453466415405,
          0.034159728288650514,
          -0.008752597570419312,
          0.031638507843017576,
          -0.06350554704666138
         ]
        }
       ],
       "layout": {
        "font": {
         "family": "Palatino",
         "size": 18
        },
        "height": 500,
        "template": {
         "data": {
          "bar": [
           {
            "error_x": {
             "color": "#2a3f5f"
            },
            "error_y": {
             "color": "#2a3f5f"
            },
            "marker": {
             "line": {
              "color": "#E5ECF6",
              "width": 0.5
             },
             "pattern": {
              "fillmode": "overlay",
              "size": 10,
              "solidity": 0.2
             }
            },
            "type": "bar"
           }
          ],
          "barpolar": [
           {
            "marker": {
             "line": {
              "color": "#E5ECF6",
              "width": 0.5
             },
             "pattern": {
              "fillmode": "overlay",
              "size": 10,
              "solidity": 0.2
             }
            },
            "type": "barpolar"
           }
          ],
          "carpet": [
           {
            "aaxis": {
             "endlinecolor": "#2a3f5f",
             "gridcolor": "white",
             "linecolor": "white",
             "minorgridcolor": "white",
             "startlinecolor": "#2a3f5f"
            },
            "baxis": {
             "endlinecolor": "#2a3f5f",
             "gridcolor": "white",
             "linecolor": "white",
             "minorgridcolor": "white",
             "startlinecolor": "#2a3f5f"
            },
            "type": "carpet"
           }
          ],
          "choropleth": [
           {
            "colorbar": {
             "outlinewidth": 0,
             "ticks": ""
            },
            "type": "choropleth"
           }
          ],
          "contour": [
           {
            "colorbar": {
             "outlinewidth": 0,
             "ticks": ""
            },
            "colorscale": [
             [
              0,
              "#0d0887"
             ],
             [
              0.1111111111111111,
              "#46039f"
             ],
             [
              0.2222222222222222,
              "#7201a8"
             ],
             [
              0.3333333333333333,
              "#9c179e"
             ],
             [
              0.4444444444444444,
              "#bd3786"
             ],
             [
              0.5555555555555556,
              "#d8576b"
             ],
             [
              0.6666666666666666,
              "#ed7953"
             ],
             [
              0.7777777777777778,
              "#fb9f3a"
             ],
             [
              0.8888888888888888,
              "#fdca26"
             ],
             [
              1,
              "#f0f921"
             ]
            ],
            "type": "contour"
           }
          ],
          "contourcarpet": [
           {
            "colorbar": {
             "outlinewidth": 0,
             "ticks": ""
            },
            "type": "contourcarpet"
           }
          ],
          "heatmap": [
           {
            "colorbar": {
             "outlinewidth": 0,
             "ticks": ""
            },
            "colorscale": [
             [
              0,
              "#0d0887"
             ],
             [
              0.1111111111111111,
              "#46039f"
             ],
             [
              0.2222222222222222,
              "#7201a8"
             ],
             [
              0.3333333333333333,
              "#9c179e"
             ],
             [
              0.4444444444444444,
              "#bd3786"
             ],
             [
              0.5555555555555556,
              "#d8576b"
             ],
             [
              0.6666666666666666,
              "#ed7953"
             ],
             [
              0.7777777777777778,
              "#fb9f3a"
             ],
             [
              0.8888888888888888,
              "#fdca26"
             ],
             [
              1,
              "#f0f921"
             ]
            ],
            "type": "heatmap"
           }
          ],
          "heatmapgl": [
           {
            "colorbar": {
             "outlinewidth": 0,
             "ticks": ""
            },
            "colorscale": [
             [
              0,
              "#0d0887"
             ],
             [
              0.1111111111111111,
              "#46039f"
             ],
             [
              0.2222222222222222,
              "#7201a8"
             ],
             [
              0.3333333333333333,
              "#9c179e"
             ],
             [
              0.4444444444444444,
              "#bd3786"
             ],
             [
              0.5555555555555556,
              "#d8576b"
             ],
             [
              0.6666666666666666,
              "#ed7953"
             ],
             [
              0.7777777777777778,
              "#fb9f3a"
             ],
             [
              0.8888888888888888,
              "#fdca26"
             ],
             [
              1,
              "#f0f921"
             ]
            ],
            "type": "heatmapgl"
           }
          ],
          "histogram": [
           {
            "marker": {
             "pattern": {
              "fillmode": "overlay",
              "size": 10,
              "solidity": 0.2
             }
            },
            "type": "histogram"
           }
          ],
          "histogram2d": [
           {
            "colorbar": {
             "outlinewidth": 0,
             "ticks": ""
            },
            "colorscale": [
             [
              0,
              "#0d0887"
             ],
             [
              0.1111111111111111,
              "#46039f"
             ],
             [
              0.2222222222222222,
              "#7201a8"
             ],
             [
              0.3333333333333333,
              "#9c179e"
             ],
             [
              0.4444444444444444,
              "#bd3786"
             ],
             [
              0.5555555555555556,
              "#d8576b"
             ],
             [
              0.6666666666666666,
              "#ed7953"
             ],
             [
              0.7777777777777778,
              "#fb9f3a"
             ],
             [
              0.8888888888888888,
              "#fdca26"
             ],
             [
              1,
              "#f0f921"
             ]
            ],
            "type": "histogram2d"
           }
          ],
          "histogram2dcontour": [
           {
            "colorbar": {
             "outlinewidth": 0,
             "ticks": ""
            },
            "colorscale": [
             [
              0,
              "#0d0887"
             ],
             [
              0.1111111111111111,
              "#46039f"
             ],
             [
              0.2222222222222222,
              "#7201a8"
             ],
             [
              0.3333333333333333,
              "#9c179e"
             ],
             [
              0.4444444444444444,
              "#bd3786"
             ],
             [
              0.5555555555555556,
              "#d8576b"
             ],
             [
              0.6666666666666666,
              "#ed7953"
             ],
             [
              0.7777777777777778,
              "#fb9f3a"
             ],
             [
              0.8888888888888888,
              "#fdca26"
             ],
             [
              1,
              "#f0f921"
             ]
            ],
            "type": "histogram2dcontour"
           }
          ],
          "mesh3d": [
           {
            "colorbar": {
             "outlinewidth": 0,
             "ticks": ""
            },
            "type": "mesh3d"
           }
          ],
          "parcoords": [
           {
            "line": {
             "colorbar": {
              "outlinewidth": 0,
              "ticks": ""
             }
            },
            "type": "parcoords"
           }
          ],
          "pie": [
           {
            "automargin": true,
            "type": "pie"
           }
          ],
          "scatter": [
           {
            "fillpattern": {
             "fillmode": "overlay",
             "size": 10,
             "solidity": 0.2
            },
            "type": "scatter"
           }
          ],
          "scatter3d": [
           {
            "line": {
             "colorbar": {
              "outlinewidth": 0,
              "ticks": ""
             }
            },
            "marker": {
             "colorbar": {
              "outlinewidth": 0,
              "ticks": ""
             }
            },
            "type": "scatter3d"
           }
          ],
          "scattercarpet": [
           {
            "marker": {
             "colorbar": {
              "outlinewidth": 0,
              "ticks": ""
             }
            },
            "type": "scattercarpet"
           }
          ],
          "scattergeo": [
           {
            "marker": {
             "colorbar": {
              "outlinewidth": 0,
              "ticks": ""
             }
            },
            "type": "scattergeo"
           }
          ],
          "scattergl": [
           {
            "marker": {
             "colorbar": {
              "outlinewidth": 0,
              "ticks": ""
             }
            },
            "type": "scattergl"
           }
          ],
          "scattermapbox": [
           {
            "marker": {
             "colorbar": {
              "outlinewidth": 0,
              "ticks": ""
             }
            },
            "type": "scattermapbox"
           }
          ],
          "scatterpolar": [
           {
            "marker": {
             "colorbar": {
              "outlinewidth": 0,
              "ticks": ""
             }
            },
            "type": "scatterpolar"
           }
          ],
          "scatterpolargl": [
           {
            "marker": {
             "colorbar": {
              "outlinewidth": 0,
              "ticks": ""
             }
            },
            "type": "scatterpolargl"
           }
          ],
          "scatterternary": [
           {
            "marker": {
             "colorbar": {
              "outlinewidth": 0,
              "ticks": ""
             }
            },
            "type": "scatterternary"
           }
          ],
          "surface": [
           {
            "colorbar": {
             "outlinewidth": 0,
             "ticks": ""
            },
            "colorscale": [
             [
              0,
              "#0d0887"
             ],
             [
              0.1111111111111111,
              "#46039f"
             ],
             [
              0.2222222222222222,
              "#7201a8"
             ],
             [
              0.3333333333333333,
              "#9c179e"
             ],
             [
              0.4444444444444444,
              "#bd3786"
             ],
             [
              0.5555555555555556,
              "#d8576b"
             ],
             [
              0.6666666666666666,
              "#ed7953"
             ],
             [
              0.7777777777777778,
              "#fb9f3a"
             ],
             [
              0.8888888888888888,
              "#fdca26"
             ],
             [
              1,
              "#f0f921"
             ]
            ],
            "type": "surface"
           }
          ],
          "table": [
           {
            "cells": {
             "fill": {
              "color": "#EBF0F8"
             },
             "line": {
              "color": "white"
             }
            },
            "header": {
             "fill": {
              "color": "#C8D4E3"
             },
             "line": {
              "color": "white"
             }
            },
            "type": "table"
           }
          ]
         },
         "layout": {
          "annotationdefaults": {
           "arrowcolor": "#2a3f5f",
           "arrowhead": 0,
           "arrowwidth": 1
          },
          "autotypenumbers": "strict",
          "coloraxis": {
           "colorbar": {
            "outlinewidth": 0,
            "ticks": ""
           }
          },
          "colorscale": {
           "diverging": [
            [
             0,
             "#8e0152"
            ],
            [
             0.1,
             "#c51b7d"
            ],
            [
             0.2,
             "#de77ae"
            ],
            [
             0.3,
             "#f1b6da"
            ],
            [
             0.4,
             "#fde0ef"
            ],
            [
             0.5,
             "#f7f7f7"
            ],
            [
             0.6,
             "#e6f5d0"
            ],
            [
             0.7,
             "#b8e186"
            ],
            [
             0.8,
             "#7fbc41"
            ],
            [
             0.9,
             "#4d9221"
            ],
            [
             1,
             "#276419"
            ]
           ],
           "sequential": [
            [
             0,
             "#0d0887"
            ],
            [
             0.1111111111111111,
             "#46039f"
            ],
            [
             0.2222222222222222,
             "#7201a8"
            ],
            [
             0.3333333333333333,
             "#9c179e"
            ],
            [
             0.4444444444444444,
             "#bd3786"
            ],
            [
             0.5555555555555556,
             "#d8576b"
            ],
            [
             0.6666666666666666,
             "#ed7953"
            ],
            [
             0.7777777777777778,
             "#fb9f3a"
            ],
            [
             0.8888888888888888,
             "#fdca26"
            ],
            [
             1,
             "#f0f921"
            ]
           ],
           "sequentialminus": [
            [
             0,
             "#0d0887"
            ],
            [
             0.1111111111111111,
             "#46039f"
            ],
            [
             0.2222222222222222,
             "#7201a8"
            ],
            [
             0.3333333333333333,
             "#9c179e"
            ],
            [
             0.4444444444444444,
             "#bd3786"
            ],
            [
             0.5555555555555556,
             "#d8576b"
            ],
            [
             0.6666666666666666,
             "#ed7953"
            ],
            [
             0.7777777777777778,
             "#fb9f3a"
            ],
            [
             0.8888888888888888,
             "#fdca26"
            ],
            [
             1,
             "#f0f921"
            ]
           ]
          },
          "colorway": [
           "#636efa",
           "#EF553B",
           "#00cc96",
           "#ab63fa",
           "#FFA15A",
           "#19d3f3",
           "#FF6692",
           "#B6E880",
           "#FF97FF",
           "#FECB52"
          ],
          "font": {
           "color": "#2a3f5f"
          },
          "geo": {
           "bgcolor": "white",
           "lakecolor": "white",
           "landcolor": "#E5ECF6",
           "showlakes": true,
           "showland": true,
           "subunitcolor": "white"
          },
          "hoverlabel": {
           "align": "left"
          },
          "hovermode": "closest",
          "mapbox": {
           "style": "light"
          },
          "paper_bgcolor": "white",
          "plot_bgcolor": "#E5ECF6",
          "polar": {
           "angularaxis": {
            "gridcolor": "white",
            "linecolor": "white",
            "ticks": ""
           },
           "bgcolor": "#E5ECF6",
           "radialaxis": {
            "gridcolor": "white",
            "linecolor": "white",
            "ticks": ""
           }
          },
          "scene": {
           "xaxis": {
            "backgroundcolor": "#E5ECF6",
            "gridcolor": "white",
            "gridwidth": 2,
            "linecolor": "white",
            "showbackground": true,
            "ticks": "",
            "zerolinecolor": "white"
           },
           "yaxis": {
            "backgroundcolor": "#E5ECF6",
            "gridcolor": "white",
            "gridwidth": 2,
            "linecolor": "white",
            "showbackground": true,
            "ticks": "",
            "zerolinecolor": "white"
           },
           "zaxis": {
            "backgroundcolor": "#E5ECF6",
            "gridcolor": "white",
            "gridwidth": 2,
            "linecolor": "white",
            "showbackground": true,
            "ticks": "",
            "zerolinecolor": "white"
           }
          },
          "shapedefaults": {
           "line": {
            "color": "#2a3f5f"
           }
          },
          "ternary": {
           "aaxis": {
            "gridcolor": "white",
            "linecolor": "white",
            "ticks": ""
           },
           "baxis": {
            "gridcolor": "white",
            "linecolor": "white",
            "ticks": ""
           },
           "bgcolor": "#E5ECF6",
           "caxis": {
            "gridcolor": "white",
            "linecolor": "white",
            "ticks": ""
           }
          },
          "title": {
           "x": 0.05
          },
          "xaxis": {
           "automargin": true,
           "gridcolor": "white",
           "linecolor": "white",
           "ticks": "",
           "title": {
            "standoff": 15
           },
           "zerolinecolor": "white",
           "zerolinewidth": 2
          },
          "yaxis": {
           "automargin": true,
           "gridcolor": "white",
           "linecolor": "white",
           "ticks": "",
           "title": {
            "standoff": 15
           },
           "zerolinecolor": "white",
           "zerolinewidth": 2
          }
         }
        },
        "title": {
         "text": "Average Logit Increases per Channel in conv2"
        },
        "width": 800,
        "xaxis": {
         "title": {
          "text": "Channel"
         }
        },
        "yaxis": {
         "title": {
          "text": "Average Logit Increase"
         }
        }
       }
      }
     },
     "metadata": {},
     "output_type": "display_data"
    }
   ],
   "source": [
    "import plotly.graph_objects as go\n",
    "\n",
    "# layers_channels = {\n",
    "#     # 'conv1': [23, 53],\n",
    "#     # 'conv2': [8, 51],\n",
    "#     # 'conv3': [53, 71, 163, 227, 240],\n",
    "#     # 'conv4': [61]\n",
    "# }\n",
    "\n",
    "layers_channels = {'conv1': [14, 18, 22, 23, 24, 30, 43, 44, 46, 48, 56, 63], 'conv2': [8, 45, 48, 51, 86, 100, 110, 111], 'conv3': [4, 6, 10, 23, 29, 35, 39, 40, 43, 46, 49, 52, 53, 62, 69, 70, 71, 74, 99, 100, 102, 111, 118, 136, 148, 150, 158, 162, 163, 166, 168, 169, 173, 176, 181, 188, 209, 227, 240, 245], 'conv4': [25, 61, 91, 116, 126, 156, 168, 178, 199, 225, 291, 298, 401, 428]}\n",
    "\n",
    "layer = 'conv2'\n",
    "\n",
    "# Extract the channels and average logit changes\n",
    "channels = list(average_logit_changes_conv1.keys())\n",
    "logit_changes = list(average_logit_changes_conv1.values())\n",
    "\n",
    "# Determine colors for the bars based on whether the channel is in the specified list\n",
    "colors = ['red' if channel in layers_channels[layer] else 'blue' for channel in channels]\n",
    "\n",
    "# Create the bar plot\n",
    "fig = go.Figure(data=[go.Bar(x=channels, y=logit_changes, marker_color=colors)])\n",
    "\n",
    "# Update the layout\n",
    "fig.update_layout(\n",
    "    title=f'Average Logit Increases per Channel in {layer}',\n",
    "    xaxis_title='Channel',\n",
    "    yaxis_title='Average Logit Increase',\n",
    "    font=dict(family='Palatino', size=18),\n",
    "    width=800,\n",
    "    height=500\n",
    ")\n",
    "\n",
    "# Display the plot\n",
    "fig.show()"
   ]
  },
  {
   "cell_type": "markdown",
   "metadata": {},
   "source": [
    "### Training the head of the classifier"
   ]
  },
  {
   "cell_type": "code",
   "execution_count": null,
   "metadata": {},
   "outputs": [],
   "source": [
    "# Override the forward method to modify the activations\n",
    "def modified_forward(self, xb):\n",
    "    activations = {}\n",
    "    out = self.conv1(xb)\n",
    "    out = self.zero_out_channels(out, 'conv1')\n",
    "    activations['conv1'] = out\n",
    "\n",
    "    out = self.conv2(out)\n",
    "    out = self.zero_out_channels(out, 'conv2')\n",
    "    activations['conv2'] = out\n",
    "\n",
    "    out_res1 = self.res1(out) + out\n",
    "    out = self.conv3(out_res1)\n",
    "    out = self.zero_out_channels(out, 'conv3')\n",
    "    activations['conv3'] = out\n",
    "\n",
    "    out = self.conv4(out)\n",
    "    out = self.zero_out_channels(out, 'conv4')\n",
    "    activations['conv4'] = out\n",
    "\n",
    "    out_res2 = self.res2(out) + out\n",
    "    out = self.classifier(out_res2)\n",
    "    return out, activations\n",
    "\n",
    "def zero_out_channels(self, x, layer_name):\n",
    "    if layer_name in keep_channels:\n",
    "        indices = keep_channels[layer_name]\n",
    "        mask = torch.zeros_like(x)\n",
    "        mask[:, indices, :, :] = 1\n",
    "        x = x * mask\n",
    "    else:\n",
    "        x.zero_()\n",
    "    return x\n",
    "\n",
    "# Assign the modified forward method to the model\n",
    "model.modified_forward = modified_forward.__get__(model)\n",
    "model.zero_out_channels = zero_out_channels.__get__(model)"
   ]
  },
  {
   "cell_type": "code",
   "execution_count": null,
   "metadata": {},
   "outputs": [],
   "source": [
    "# Set what accuracy we get with normal model\n",
    "model.eval()\n",
    "device = 'cpu'\n",
    "with torch.no_grad():\n",
    "    correct = 0\n",
    "    total = 0\n",
    "    for images, labels in testloader:\n",
    "        images = images.to(device)\n",
    "        labels = labels.to(device)\n",
    "        \n",
    "        labels = (labels == 5).long()\n",
    "        \n",
    "        outputs, _ = model.modified_forward(images)\n",
    "        print(outputs)\n",
    "        _, predicted = torch.max(outputs, 1)\n",
    "        total += labels.size(0)\n",
    "        correct += (predicted == labels).sum().item()\n",
    "    \n",
    "    accuracy = correct / total\n",
    "    print(f\"Accuracy: {accuracy:.4f}\")"
   ]
  },
  {
   "cell_type": "code",
   "execution_count": null,
   "metadata": {},
   "outputs": [],
   "source": [
    "# What happens if we keep random channels?\n",
    "keep_channels = {'conv1': [1],\n",
    " 'conv2': [1, 2],\n",
    " 'conv3': [1, 2],\n",
    " 'conv4': [1, 2, 3, 4]}"
   ]
  },
  {
   "cell_type": "code",
   "execution_count": null,
   "metadata": {},
   "outputs": [],
   "source": [
    "import torch\n",
    "import torch.nn as nn\n",
    "import torch.optim as optim\n",
    "from torch.utils.data import DataLoader, Subset\n",
    "from tqdm import tqdm\n",
    "\n",
    "# Make a copy of the pretrained ResNet model\n",
    "model_copy = ResNet9(3, 10)\n",
    "model_copy.load_state_dict(model.state_dict())\n",
    "model_copy.modified_forward = modified_forward.__get__(model_copy)\n",
    "model_copy.zero_out_channels = zero_out_channels.__get__(model_copy)\n",
    "\n",
    "# Remove the existing classifier head\n",
    "num_features = model_copy.classifier[-1].in_features\n",
    "model_copy.classifier = nn.Identity()\n",
    "\n",
    "# Create a new classifier head with 2 output features\n",
    "new_classifier = nn.Sequential(\n",
    "    nn.MaxPool2d(4),\n",
    "    nn.Flatten(),\n",
    "    nn.Linear(num_features, 2)\n",
    ")\n",
    "model_copy.classifier = new_classifier\n",
    "\n",
    "# Freeze all the weights except for the new classifier head\n",
    "for param in model_copy.parameters():\n",
    "    param.requires_grad = False\n",
    "for param in model_copy.classifier.parameters():\n",
    "    param.requires_grad = True\n",
    "\n",
    "# Define the loss function and optimizer\n",
    "criterion = nn.CrossEntropyLoss()\n",
    "optimizer = optim.Adam(model_copy.classifier.parameters(), lr=0.05)\n",
    "\n",
    "# Create subsets of the train and test datasets containing only dog and airplane images\n",
    "train_indices = airplane_indices + dog_indices\n",
    "test_indices = [i for i, (_, label) in enumerate(testset) if label in [0, 5]]\n",
    "\n",
    "train_subset = Subset(trainset, train_indices)\n",
    "test_subset = Subset(testset, test_indices)\n",
    "\n",
    "# Create data loaders for the subsets\n",
    "train_loader = DataLoader(train_subset, batch_size=batch_size, shuffle=True, num_workers=2)\n",
    "test_loader = DataLoader(test_subset, batch_size=batch_size, shuffle=False, num_workers=2)\n",
    "\n",
    "# Training loop\n",
    "num_epochs = 10\n",
    "device = torch.device(\"cuda\" if torch.cuda.is_available() else \"cpu\")\n",
    "model_copy.to(device)\n",
    "\n",
    "for epoch in range(num_epochs):\n",
    "    model_copy.train()\n",
    "    for batch_idx, (images, labels) in enumerate(tqdm(train_loader, desc=f\"Epoch {epoch+1}/{num_epochs}\")):\n",
    "        images = images.to(device)\n",
    "        labels = labels.to(device)\n",
    "        \n",
    "        # Convert labels to binary (0 for \"airplane\", 1 for \"dog\")\n",
    "        labels = (labels == 5).long()\n",
    "        \n",
    "        optimizer.zero_grad()\n",
    "        outputs, _ = model_copy.modified_forward(images)\n",
    "        loss = criterion(outputs, labels)\n",
    "        loss.backward()\n",
    "        optimizer.step()\n",
    "        \n",
    "        # Print the loss after every mini-batch\n",
    "        #print(f\"Epoch [{epoch+1}/{num_epochs}], Batch [{batch_idx+1}/{len(train_loader)}], Loss: {loss.item():.4f}\")\n",
    "    \n",
    "    model_copy.eval()\n",
    "    with torch.no_grad():\n",
    "        correct = 0\n",
    "        total = 0\n",
    "        for images, labels in test_loader:\n",
    "            images = images.to(device)\n",
    "            labels = labels.to(device)\n",
    "            \n",
    "            labels = (labels == 5).long()\n",
    "            \n",
    "            outputs, _ = model_copy.modified_forward(images)\n",
    "            _, predicted = torch.max(outputs, 1)\n",
    "            total += labels.size(0)\n",
    "            correct += (predicted == labels).sum().item()\n",
    "        \n",
    "        accuracy = correct / total\n",
    "        print(f\"Epoch [{epoch+1}/{num_epochs}], Accuracy: {accuracy:.4f}\")"
   ]
  },
  {
   "cell_type": "code",
   "execution_count": null,
   "metadata": {},
   "outputs": [],
   "source": [
    "# Model definition\n",
    "class ResNet9(nn.Module):\n",
    "    def __init__(self, in_channels, num_classes):\n",
    "        super(ResNet9, self).__init__()\n",
    "        self.conv1 = self.conv_block(in_channels, 64)\n",
    "        self.conv2 = self.conv_block(64, 128, pool=True)\n",
    "        self.res1 = nn.Sequential(self.conv_block(128, 128), self.conv_block(128, 128))\n",
    "        \n",
    "        self.conv3 = self.conv_block(128, 256, pool=True)\n",
    "        self.conv4 = self.conv_block(256, 512, pool=True)\n",
    "        self.res2 = nn.Sequential(self.conv_block(512, 512), self.conv_block(512, 512))\n",
    "        \n",
    "        self.classifier = nn.Sequential(nn.MaxPool2d(4), \n",
    "                                        nn.Flatten(), \n",
    "                                        nn.Linear(512, num_classes))\n",
    "        \n",
    "    def forward(self, xb):\n",
    "        \n",
    "        out = self.conv1(xb)\n",
    "        out = self.conv2(out)\n",
    "        out_res1 = self.res1(out) + out\n",
    "        out = self.conv3(out_res1)\n",
    "        out = self.conv4(out)\n",
    "        out_res2 = self.res2(out) + out\n",
    "        out = self.classifier(out_res2)\n",
    "        # The classifier output is usually not stored as an activation map\n",
    "        \n",
    "        return out\n",
    "    \n",
    "    def conv_block(self, in_channels, out_channels, pool=False):\n",
    "        layers = [nn.Conv2d(in_channels, out_channels, kernel_size=3, padding=1), \n",
    "                  nn.BatchNorm2d(out_channels), \n",
    "                  nn.ReLU(inplace=True)]\n",
    "        if pool: layers.append(nn.MaxPool2d(2))\n",
    "        return nn.Sequential(*layers)\n",
    "\n",
    "# Model, loss function, and optimizer\n",
    "model = ResNet9(3, 10)\n",
    "pretrained_path = '../models/cifar10/cifar_net.pth'\n",
    "model.load_state_dict(torch.load(pretrained_path, map_location=torch.device('cpu')))"
   ]
  },
  {
   "cell_type": "code",
   "execution_count": null,
   "metadata": {},
   "outputs": [],
   "source": [
    "# Test model by passing a dog image through\n",
    "model.eval()\n",
    "dog_output = model(dog_images[:250])"
   ]
  },
  {
   "cell_type": "code",
   "execution_count": null,
   "metadata": {},
   "outputs": [],
   "source": [
    "from lucent.optvis import render, param, transform, objectives\n",
    "\n",
    "\n",
    "device = 'cpu'\n",
    "model.to(device).eval()\n",
    "\n",
    "_ = render.render_vis(model, \"conv4:61\")"
   ]
  },
  {
   "cell_type": "code",
   "execution_count": null,
   "metadata": {},
   "outputs": [],
   "source": [
    "# The default is optimizing for a channel/filter\n",
    "obj = objectives.channel(\"conv1\", 39)\n",
    "_ = render.render_vis(model, obj, show_inline=True)"
   ]
  },
  {
   "cell_type": "code",
   "execution_count": null,
   "metadata": {},
   "outputs": [],
   "source": [
    "# The default is optimizing for a channel/filter\n",
    "obj = objectives.channel(\"conv1\", 37)\n",
    "_ = render.render_vis(model, obj, show_inline=True)"
   ]
  },
  {
   "cell_type": "code",
   "execution_count": null,
   "metadata": {},
   "outputs": [],
   "source": [
    "# The default is optimizing for a channel/filter\n",
    "obj = objectives.channel(\"conv1\", 23)\n",
    "images = render.render_vis(model, obj, show_inline=True)\n",
    "\n",
    "# Show the image\n",
    "plt.imshow(images[0].squeeze())"
   ]
  },
  {
   "cell_type": "code",
   "execution_count": null,
   "metadata": {},
   "outputs": [],
   "source": [
    "# Just like in Lucid, we can sum objectives\n",
    "# Here we sum the previous two objectives and get a mix of the two images\n",
    "channel = lambda n: objectives.channel(\"conv2\", n)\n",
    "obj = channel(8) + channel(86)# + channel(39) #+channel(346) + channel(489)\n",
    "images = render.render_vis(model, obj, show_inline=True, transforms=[])"
   ]
  },
  {
   "cell_type": "code",
   "execution_count": null,
   "metadata": {},
   "outputs": [],
   "source": [
    "# A visualization with CPPN parameterization\n",
    "\n",
    "cppn_param_f = lambda: param.cppn(128)\n",
    "# We initialize an optimizer with lower learning rate for CPPN\n",
    "cppn_opt = lambda params: torch.optim.Adam(params, 3e-3)\n",
    "images = render.render_vis(model, obj, cppn_param_f, cppn_opt, transforms=[], show_inline=True)\n",
    "\n",
    "# Show the image\n",
    "plt.imshow(images[0].squeeze());"
   ]
  },
  {
   "cell_type": "code",
   "execution_count": null,
   "metadata": {},
   "outputs": [],
   "source": [
    "# Just like in Lucid, we can sum objectives\n",
    "# Here we sum the previous two objectives and get a mix of the two images\n",
    "channel = lambda n: objectives.channel(\"conv4\", n)\n",
    "obj = channel(61)# + channel(116) #+channel(346) + channel(489)\n",
    "images = render.render_vis(model, obj, show_inline=True)"
   ]
  },
  {
   "cell_type": "code",
   "execution_count": null,
   "metadata": {},
   "outputs": [],
   "source": [
    "# A visualization with CPPN parameterization\n",
    "\n",
    "cppn_param_f = lambda: param.cppn(128)\n",
    "# We initialize an optimizer with lower learning rate for CPPN\n",
    "cppn_opt = lambda params: torch.optim.Adam(params, 2e-3)\n",
    "images = render.render_vis(model, obj, cppn_param_f, cppn_opt, transforms=[], show_inline=True)\n",
    "\n",
    "# Show the image\n",
    "plt.imshow(images[0].squeeze())"
   ]
  },
  {
   "cell_type": "code",
   "execution_count": null,
   "metadata": {},
   "outputs": [],
   "source": [
    "all_transforms = [\n",
    "    transform.pad(16),\n",
    "    transform.jitter(8),\n",
    "    transform.random_scale([n/100. for n in range(80, 120)]),\n",
    "    transform.random_rotate(list(range(-10,10)) + list(range(-5,5)) + 10*list(range(-2,2))),\n",
    "    transform.jitter(2),\n",
    "]\n",
    "\n",
    "images = render.render_vis(model, obj, transforms=all_transforms, show_inline=True)\n",
    "\n",
    "# Show the image\n",
    "plt.imshow(images[0].squeeze())"
   ]
  },
  {
   "cell_type": "code",
   "execution_count": null,
   "metadata": {},
   "outputs": [],
   "source": [
    "# Adding a suite of transforms with CPPN\n",
    "\n",
    "images = render.render_vis(model, obj, cppn_param_f, cppn_opt, transforms=all_transforms, show_inline=True)\n",
    "\n",
    "# Show the image\n",
    "plt.imshow(images[0].squeeze())"
   ]
  },
  {
   "cell_type": "code",
   "execution_count": null,
   "metadata": {},
   "outputs": [],
   "source": [
    "# images[0] is shape 1x128x128x3\n",
    "import matplotlib.pyplot as plt\n",
    "\n",
    "# Reshape and show image\n",
    "plt.imshow(images[0].squeeze());"
   ]
  },
  {
   "cell_type": "code",
   "execution_count": null,
   "metadata": {},
   "outputs": [],
   "source": [
    "# A visualization with gradient descent in Fourier basis\n",
    "from lucent.optvis import render, param, transform, objectives\n",
    "\n",
    "obj = channel(61) + channel(116) #+channel(346) + channel(489)\n",
    "param_f = lambda: param.image(128, fft=True, decorrelate=False)\n",
    "images = render.render_vis(model, obj, param_f, transforms=[])\n",
    "\n",
    "plt.imshow(images[0].squeeze());"
   ]
  },
  {
   "cell_type": "code",
   "execution_count": null,
   "metadata": {},
   "outputs": [],
   "source": [
    "# A visualization with gradient descent in Fourier basis + channel decorrelation\n",
    "# This is the default parameterization without transforms (see below)\n",
    "\n",
    "param_f = lambda: param.image(128, fft=True, decorrelate=True)\n",
    "_ = render.render_vis(model, obj, param_f, transforms=[], show_inline=True)"
   ]
  },
  {
   "cell_type": "code",
   "execution_count": null,
   "metadata": {},
   "outputs": [],
   "source": [
    "# Plotly imshow y_pred\n",
    "import plotly.graph_objects as go\n",
    "\n",
    "fig = go.Figure(data=go.Heatmap(z=y_pred.reshape(1, -1), colorscale='RdBu', zmin=0, zmax=1))\n",
    "fig.show()"
   ]
  },
  {
   "cell_type": "code",
   "execution_count": null,
   "metadata": {},
   "outputs": [],
   "source": [
    "# Index 37 looks important\n",
    "index = 23\n",
    "\n",
    "average_doc_activation = dog_conv1.mean(dim=0)[index, :].reshape(32, 32).detach()\n",
    "average_airplane_activation = airplane_conv1.mean(dim=0)[index, :].reshape(32, 32).detach()\n",
    "\n",
    "# Show the two side-by-side\n",
    "fig, ax = plt.subplots(1, 2)\n",
    "ax[0].imshow(average_doc_activation, cmap='viridis')\n",
    "ax[0].set_title('Average dog activation')\n",
    "ax[1].imshow(average_airplane_activation, cmap='viridis')\n",
    "ax[1].set_title('Average airplane activation')\n",
    "plt.show()"
   ]
  },
  {
   "cell_type": "code",
   "execution_count": null,
   "metadata": {},
   "outputs": [],
   "source": [
    "# Look at it on one specific example\n",
    "example_index = np.random.randint(0, 250)\n",
    "dog_example = dog_conv1[example_index, index, :].reshape(32, 32).detach()\n",
    "airplane_example = airplane_conv1[example_index, index, :].reshape(32, 32).detach()\n",
    "\n",
    "# Show the two side-by-side\n",
    "fig, ax = plt.subplots(1, 2)\n",
    "ax[0].imshow(dog_example, cmap='viridis')\n",
    "ax[0].set_title('Dog activation')\n",
    "ax[1].imshow(airplane_example, cmap='viridis')\n",
    "ax[1].set_title('Airplane activation')\n",
    "plt.show()"
   ]
  }
 ],
 "metadata": {
  "kernelspec": {
   "display_name": "anu",
   "language": "python",
   "name": "python3"
  },
  "language_info": {
   "codemirror_mode": {
    "name": "ipython",
    "version": 3
   },
   "file_extension": ".py",
   "mimetype": "text/x-python",
   "name": "python",
   "nbconvert_exporter": "python",
   "pygments_lexer": "ipython3",
   "version": "3.12.1"
  }
 },
 "nbformat": 4,
 "nbformat_minor": 2
}
