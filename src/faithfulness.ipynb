{
 "cells": [
  {
   "cell_type": "code",
   "execution_count": 1,
   "metadata": {},
   "outputs": [
    {
     "name": "stderr",
     "output_type": "stream",
     "text": [
      "/Users/charlesoneill/miniconda3/envs/anu/lib/python3.12/site-packages/tqdm/auto.py:21: TqdmWarning: IProgress not found. Please update jupyter and ipywidgets. See https://ipywidgets.readthedocs.io/en/stable/user_install.html\n",
      "  from .autonotebook import tqdm as notebook_tqdm\n"
     ]
    },
    {
     "data": {
      "text/plain": [
       "<torch.autograd.grad_mode.set_grad_enabled at 0x2e3245a30>"
      ]
     },
     "execution_count": 1,
     "metadata": {},
     "output_type": "execute_result"
    }
   ],
   "source": [
    "import torch\n",
    "import torch.nn as nn\n",
    "import torch.nn.functional as F\n",
    "import torch.optim as optim\n",
    "import numpy as np\n",
    "import einops\n",
    "import fancy_einsum\n",
    "from tqdm import tqdm\n",
    "import re\n",
    "import random\n",
    "from sklearn.metrics import roc_curve, auc\n",
    "import transformer_lens.utils as utils\n",
    "import plotly.express as px\n",
    "import plotly.io as pio\n",
    "import plotly.graph_objects as go\n",
    "\n",
    "from sparse_autoencoder import SparseAutoencoder\n",
    "\n",
    "from transformer_lens import HookedTransformer, HookedTransformerConfig\n",
    "from jaxtyping import Float, Int\n",
    "from torch import Tensor\n",
    "from functools import partial\n",
    "import transformer_lens.utils as utils\n",
    "from transformer_lens.hook_points import (\n",
    "    HookPoint,\n",
    ")  # Hooking utilities\n",
    "from transformer_lens import HookedTransformer, FactoredMatrix, HookedTransformerConfig\n",
    "\n",
    "import transformer_lens.utils as utils\n",
    "import plotly.express as px\n",
    "import plotly.io as pio\n",
    "import plotly.graph_objects as go\n",
    "from plotly.subplots import make_subplots\n",
    "\n",
    "from common_utils import *\n",
    "\n",
    "# Turn grad on\n",
    "torch.set_grad_enabled(True)"
   ]
  },
  {
   "cell_type": "code",
   "execution_count": 286,
   "metadata": {},
   "outputs": [
    {
     "name": "stdout",
     "output_type": "stream",
     "text": [
      "Type: node\n",
      "Task: Indirect Object Identification\n",
      "Using device: cpu\n",
      "[(2, 2), (4, 11), (0, 1), (3, 0), (0, 10), (5, 5), (6, 9), (5, 8), (5, 9), (7, 3), (7, 9), (8, 6), (8, 10), (10, 7), (11, 10), (9, 9), (9, 6), (10, 0), (10, 10), (10, 6), (10, 2), (10, 1), (11, 2), (11, 9), (11, 3), (9, 7)]\n",
      "Residual streams shape: torch.Size([500, 144, 768])\n",
      "ROC AUC: 0.8750\n",
      "\n",
      "\n"
     ]
    }
   ],
   "source": [
    "task = 'ioi'\n",
    "task_type = 'node'\n",
    "assert task_type in ['node', 'edge'], \"Type must be either 'node' or 'edge'\"\n",
    "print(f\"Type: {task_type}\")\n",
    "task_mappings = {\n",
    "    'gt': 'Greater-than',\n",
    "    'ioi': 'Indirect Object Identification',\n",
    "    'ds': 'Docstring',\n",
    "    'induction': 'Induction',\n",
    "}\n",
    "\n",
    "print(f\"Task: {task_mappings[task]}\")\n",
    "device = 'cuda' if torch.cuda.is_available() else 'cpu'\n",
    "print(f\"Using device: {device}\")\n",
    "\n",
    "num_unique = 300\n",
    "n_epochs = 500\n",
    "\n",
    "# Load residual streams\n",
    "resid_streams = torch.load(f\"../data/{task}/resid_heads_mean.pt\").to(device)\n",
    "head_labels = torch.load(f'../data/{task}/labels_heads_mean.pt')\n",
    "ground_truth = torch.load(f'../data/{task}/ground_truth.pt')\n",
    "print(ground_truth)\n",
    "print(f\"Residual streams shape: {resid_streams.shape}\")\n",
    "\n",
    "model = SparseAutoencoder(n_input_features=resid_streams.shape[-1], n_learned_features=num_unique, geometric_median_dataset=None).to(device)\n",
    "model = torch.load(f'../models/{task}/sparse_autoencoder.pt')\n",
    "model = model.to(device)\n",
    "\n",
    "heads = []\n",
    "layers = []\n",
    "for i, l in enumerate(head_labels):\n",
    "    layer, head = feature_string_to_head_and_layer(i, head_labels)\n",
    "    heads.append(head)\n",
    "    layers.append(layer)\n",
    "\n",
    "heads = list(set(heads))\n",
    "layers = list(set(layers))\n",
    "\n",
    "ground_truth_array = np.zeros((len(layers), len(heads)))\n",
    "for layer, head in ground_truth:\n",
    "    ground_truth_array[layer, head] = 1\n",
    "\n",
    "normalise = False\n",
    "\n",
    "# Plot the ground truth (head, layer) pairs (1 if in ground truth, 0 otherwise)\n",
    "\n",
    "model.eval()\n",
    "learned_activations = model(resid_streams)[0].detach().cpu().numpy()\n",
    "all_indices = np.argmax(learned_activations, axis=2)\n",
    "y_true, y_pred, fpr, tpr, node_roc_auc, f1, thresholds = gen_softmaxed_unique_to_pos(all_indices, ground_truth_array, head_labels, normalise=normalise)\n",
    "print(f\"ROC AUC: {node_roc_auc:.4f}\\n\\n\")"
   ]
  },
  {
   "cell_type": "markdown",
   "metadata": {},
   "source": [
    "# Faithfulness"
   ]
  },
  {
   "cell_type": "markdown",
   "metadata": {},
   "source": [
    "Given a circuit $C$ and metric $m$, let $m(C)$ denote the average value of $m$ over $\\mathcal{D}$ (a dataset consisting of contrastive pairs) when running our model with all nodes outside of $C$ mean-ablated i.e. set to their average value over data from $\\mathcal{D}$. We then measure faithfulness as:\n",
    "\n",
    "$$ \\frac{m(C) - m(\\emptyset)}{m(M) - m(\\emptyset)}$$\n",
    "\n",
    "where $\\emptyset$ denotes the empty circuit and $M$ denotes the full model. Intuitively, tihs metric captures the proportion of the model's performance our circuit explains, relative to mean ablating the full model (which represents the \"prior\" performance of the model when it is given information about the task, but not about specific inputs). "
   ]
  },
  {
   "cell_type": "code",
   "execution_count": 287,
   "metadata": {},
   "outputs": [
    {
     "name": "stdout",
     "output_type": "stream",
     "text": [
      "Loaded pretrained model gpt2-small into HookedTransformer\n",
      "['Then, Richard and Nicole went to the garden. Nicole gave a bone to Richard', 'Friends Melissa and James found a bone at the house. James gave it to Melissa', 'Then, Stephanie and Heather had a long argument. Afterwards Heather said to Stephanie', 'The hospital Ashley and Daniel went to had a basketball. Daniel gave it to Ashley', 'Then, Bradley and Daniel were thinking about going to the house. Daniel wanted to give a snack to Bradley', 'When Bryan and Katherine got a bone at the store, Bryan decided to give it to Katherine', 'Then, Lauren and Shannon were working at the school. Shannon decided to give a necklace to Lauren', 'When Stephen and Brittany got a drink at the house, Brittany decided to give it to Stephen', 'After Ashley and James went to the hospital, James gave a necklace to Ashley', 'Then, Amy and Alexander were working at the hospital. Amy decided to give a kiss to Alexander']\n"
     ]
    }
   ],
   "source": [
    "# Turn grad off\n",
    "torch.set_grad_enabled(False)\n",
    "\n",
    "def get_names(ioi_example: str):\n",
    "    # Return the names of the entities in the example\n",
    "    # Do this by returning all words with capital letters\n",
    "    return re.findall(r'[A-Z][a-z]*', ioi_example)[1:]\n",
    "\n",
    "def get_years(gt_example: str):\n",
    "    return re.findall(r'\\d{4}', gt_example)\n",
    "\n",
    "def get_next_token(example: str):\n",
    "    if task == 'ioi':\n",
    "        # Return the next token in the example\n",
    "        # Do this by returning the first word after the last name\n",
    "        names = get_names(example)\n",
    "        # Answer is name that HASN'T occurred twice\n",
    "        for name in names:\n",
    "            if example.count(name) == 1:\n",
    "                return ' ' + name\n",
    "    elif task == 'gt':\n",
    "        year = get_years(example)[0]\n",
    "        year = str(year)\n",
    "        century = year[:-2]\n",
    "        year = year[-2:]\n",
    "        new_year = random.randint(int(year), 99)\n",
    "        return str(new_year)\n",
    "    else: \n",
    "        raise NotImplementedError\n",
    "\n",
    "if task == 'induction':\n",
    "\n",
    "    cfg = HookedTransformerConfig(\n",
    "        d_model=768,\n",
    "        d_head=64,\n",
    "        n_heads=12,\n",
    "        n_layers=2,\n",
    "        n_ctx=2048,\n",
    "        d_vocab=50278,\n",
    "        attention_dir=\"causal\",\n",
    "        attn_only=True, # defaults to False\n",
    "        tokenizer_name=\"EleutherAI/gpt-neox-20b\",\n",
    "        seed=398,\n",
    "        use_attn_result=True,\n",
    "        normalization_type=None, # defaults to \"LN\", i.e. layernorm with weights & biases\n",
    "        positional_embedding_type=\"shortformer\"\n",
    "    )\n",
    "\n",
    "    weights_dir = '../models/induction/attn_only_2L_half.pth'\n",
    "\n",
    "    device = 'cpu'\n",
    "    tl_model = HookedTransformer(cfg)\n",
    "    pretrained_weights = torch.load(weights_dir, map_location=device)\n",
    "    tl_model.load_state_dict(pretrained_weights)\n",
    "    tl_model = tl_model.to('cpu')\n",
    "    all_tokens = torch.load(f'../data/{task}/all_tokens.pt')[:10, :]\n",
    "\n",
    "else:\n",
    "    tl_model = HookedTransformer.from_pretrained(model_name = \"gpt2-small\", device='cpu')\n",
    "\n",
    "    all_tokens = torch.load(f'../data/{task}/all_tokens.pt')[:10]\n",
    "    all_tokens = [x.replace('!', '') for x in all_tokens]\n",
    "    all_tokens = [x + get_next_token(x) for x in all_tokens]\n",
    "    print(all_tokens)\n",
    "    all_tokens = tl_model.to_tokens(all_tokens, padding_side='left')"
   ]
  },
  {
   "cell_type": "code",
   "execution_count": 17,
   "metadata": {},
   "outputs": [],
   "source": [
    "# Import List and Tuple\n",
    "from typing import List, Tuple\n",
    "import torch as t\n",
    "# functools\n",
    "import functools\n",
    "\n",
    "def head_ablation_hook(\n",
    "    attn_result: Float[Tensor, \"batch seq n_heads d_model\"],\n",
    "    hook: HookPoint,\n",
    "    head_index_to_ablate: int\n",
    ") -> Float[Tensor, \"batch seq n_heads d_model\"]:\n",
    "    attn_result[:, :, head_index_to_ablate, :] = 0.0\n",
    "    return attn_result\n",
    "\n",
    "def cross_entropy_loss(logits, tokens):\n",
    "    '''\n",
    "    Computes the mean cross entropy between logits (the model's prediction) and tokens (the true values).\n",
    "    '''\n",
    "    log_probs = F.log_softmax(logits, dim=-1)\n",
    "    pred_log_probs = t.gather(log_probs[:, :-1], -1, tokens[:, 1:, None])[..., 0]\n",
    "    return -pred_log_probs.mean()\n",
    "\n",
    "def kl_divergence(logits: torch.Tensor, base_model_logits: torch.Tensor, \n",
    "                  last_seq_element_only: bool = True, return_one_element: bool = True) -> torch.Tensor:\n",
    "    if last_seq_element_only:\n",
    "        logits = logits[:, -1, :]\n",
    "        base_model_logits = base_model_logits[:, -1, :]\n",
    "\n",
    "    logprobs = F.log_softmax(logits, dim=-1)\n",
    "    base_model_logprobs = F.log_softmax(base_model_logits, dim=-1)\n",
    "    kl_div = F.kl_div(logprobs, base_model_logprobs, log_target=True, reduction=\"none\").sum(dim=-1)\n",
    "\n",
    "    if return_one_element:\n",
    "        return kl_div.mean()\n",
    "\n",
    "    return kl_div\n",
    "\n",
    "def logit_difference(ablated_loss: torch.Tensor, base_loss: torch.Tensor) -> torch.Tensor: \n",
    "    \"\"\"\n",
    "    Calculates the logit difference of the correct token between ablated and clean model.\n",
    "    \"\"\"\n",
    "    # Ablated loss\n",
    "    ablated_loss = ablated_loss.mean(dim=0)\n",
    "    if task == 'induction':\n",
    "        # Loss on second half of the sequence\n",
    "        ablated_loss = ablated_loss[ablated_loss.shape[0]//2+1:]\n",
    "    elif task == 'ioi':\n",
    "        # Loss on last token\n",
    "        ablated_loss = ablated_loss[-1]\n",
    "    elif task == 'gt':\n",
    "        # Loss on last token\n",
    "        ablated_loss = ablated_loss[-1]\n",
    "    else: raise ValueError(f\"Unsupported task: {task}\")\n",
    "    # Clean loss\n",
    "    base_loss = base_loss.mean(dim=0)\n",
    "    if task == 'induction':\n",
    "        base_loss = base_loss[base_loss.shape[0]//2+1:]\n",
    "    elif task == 'ioi':\n",
    "        base_loss = base_loss[-1]\n",
    "    elif task == 'gt':\n",
    "        base_loss = base_loss[-1]\n",
    "    else: raise ValueError(f\"Unsupported task: {task}\")\n",
    "\n",
    "    return (ablated_loss - base_loss).mean()\n",
    "\n",
    "\n",
    "def faithfulness_score(\n",
    "    model: HookedTransformer,\n",
    "    tokens: Int[Tensor, \"batch seq\"],\n",
    "    heads_to_ablate: List[Tuple[int, int]],\n",
    "    all_heads: List[Tuple[int, int]],\n",
    "    metric: str = \"kl_divergence\"\n",
    ") -> Float[Tensor, \"1\"]:\n",
    "    \"\"\"\n",
    "    Returns the faithfulness of a circuit to the underlying model.\n",
    "    faithfulness = m(C) - m(empty_circuit) / m(M) - m(empty_circuit)\n",
    "    \"\"\"\n",
    "\n",
    "    # Calculate the metric for m(M), the full (clean) model\n",
    "    model.reset_hooks()\n",
    "    logits, base_loss = model(tokens, return_type=\"both\", loss_per_token=True)\n",
    "\n",
    "    # Calculate the metric for m(C), the predicted circuit\n",
    "    # Run the model with the ablation hook\n",
    "    model.reset_hooks()\n",
    "    ablated_logits, ablated_loss = model.run_with_hooks(tokens, return_type=\"both\", loss_per_token=True, fwd_hooks=[\n",
    "        (utils.get_act_name(\"z\", layer), functools.partial(head_ablation_hook, head_index_to_ablate=head)) for layer, head in heads_to_ablate\n",
    "    ])\n",
    "\n",
    "    if metric == \"kl_divergence\":\n",
    "        m_M = 0.0  # Since the KL divergence is with respect to the base model, m(M) here is just 0\n",
    "        m_C = kl_divergence(logits, ablated_logits)\n",
    "    elif metric == \"logit_difference\":\n",
    "        m_M = logit_difference(base_loss, base_loss) #0.0  # Logit difference for the clean model is 0\n",
    "        m_C = logit_difference(ablated_loss, base_loss)\n",
    "    else:\n",
    "        raise ValueError(f\"Unsupported metric: {metric}\")\n",
    "\n",
    "    # Calculate the metric for m(empty_circuit), the empty circuit\n",
    "    emptyset_logits, emptyset_loss = model.run_with_hooks(tokens, return_type=\"both\", loss_per_token=True, fwd_hooks=[\n",
    "        (utils.get_act_name(\"z\", layer), functools.partial(head_ablation_hook, head_index_to_ablate=head)) for layer, head in all_heads\n",
    "    ])\n",
    "\n",
    "    if metric == \"kl_divergence\":\n",
    "        m_empty_circuit = kl_divergence(logits, emptyset_logits)\n",
    "    elif metric == \"logit_difference\":\n",
    "        m_empty_circuit = logit_difference(emptyset_loss, base_loss)\n",
    "    \n",
    "    # Return the faithfulness\n",
    "    return (m_C - m_empty_circuit) / (m_M - m_empty_circuit)\n",
    "\n",
    "def get_ablation_scores(\n",
    "    model: HookedTransformer,\n",
    "    tokens: Int[Tensor, \"batch seq\"],\n",
    "    heads_to_ablate: List[Tuple[int, int]],\n",
    "    metric: str = \"kl_divergence\"\n",
    ") -> Float[Tensor, \"1\"]:\n",
    "    '''\n",
    "    Returns the increase in cross entropy loss from ablating the output of specified heads.\n",
    "    '''\n",
    "\n",
    "    # Calculating loss without any ablation, to act as a baseline\n",
    "    model.reset_hooks()\n",
    "    base_logits, base_loss = model(tokens, return_type=\"both\", loss_per_token = True)\n",
    "\n",
    "    # Run the model with the ablation hook\n",
    "    ablated_logits, ablated_loss = model.run_with_hooks(tokens, return_type=\"both\", loss_per_token=True, fwd_hooks=[\n",
    "        (utils.get_act_name(\"z\", layer), functools.partial(head_ablation_hook, head_index_to_ablate=head)) for layer, head in heads_to_ablate\n",
    "    ])\n",
    "\n",
    "    if metric == \"kl_divergence\":\n",
    "        # Store the result, subtracting the clean loss so that a value of zero means no change in loss\n",
    "        ablation_score = kl_divergence(base_logits, ablated_logits)\n",
    "\n",
    "    elif metric == \"logit_difference\":\n",
    "        # Calculate the logit difference of the correct token between ablated and clean model\n",
    "        ablation_score = logit_difference(ablated_loss, base_loss)\n",
    "\n",
    "    return ablation_score\n",
    "\n",
    "# Example usage\n",
    "heads_to_ablate = [(0, 10), (0, 9)]  # List of tuples (layer, head) to ablate\n",
    "all_heads = []\n",
    "for i in range(len(head_labels)):\n",
    "    # Calculate head and layer\n",
    "    layer, head = feature_string_to_head_and_layer(i, head_labels)\n",
    "    all_heads.append((layer, head))\n",
    "ablation_score = get_ablation_scores(tl_model, all_tokens, heads_to_ablate)\n",
    "print(ablation_score)\n",
    "ablation_score_ld = get_ablation_scores(tl_model, all_tokens, heads_to_ablate, metric=\"logit_difference\")\n",
    "print(ablation_score_ld)\n",
    "faithfulness = faithfulness_score(tl_model, all_tokens, heads_to_ablate, all_heads)\n",
    "print(faithfulness)\n",
    "faithfulness_ld = faithfulness_score(tl_model, all_tokens, heads_to_ablate, all_heads, metric=\"logit_difference\")\n",
    "print(faithfulness_ld)"
   ]
  },
  {
   "cell_type": "code",
   "execution_count": 299,
   "metadata": {},
   "outputs": [
    {
     "name": "stdout",
     "output_type": "stream",
     "text": [
      "Learned activations shape: (500, 144, 300)\n",
      "All indices shape: (500, 144)\n",
      "Node ROC AUC: 0.8750\n"
     ]
    }
   ],
   "source": [
    "model.eval()\n",
    "learned_activations = model.encoder(resid_streams).detach().cpu().numpy()\n",
    "print(f\"Learned activations shape: {learned_activations.shape}\")\n",
    "\n",
    "all_indices = np.argmax(learned_activations, axis=2)\n",
    "print(f\"All indices shape: {all_indices.shape}\")    \n",
    "\n",
    "positive_indices = all_indices[:250, :]\n",
    "negative_indices = all_indices[250:, :]\n",
    "\n",
    "unique_to_positive_array = gen_array_template(head_labels)\n",
    "\n",
    "normalise = False\n",
    "\n",
    "for i in range(len(head_labels)):\n",
    "    # Calculate head and layer\n",
    "    layer, head = feature_string_to_head_and_layer(i, head_labels)\n",
    "\n",
    "    positive = set(positive_indices[:, i].tolist())\n",
    "    negative = set(negative_indices[:, i].tolist())\n",
    "    total_unique = positive.union(negative)\n",
    "\n",
    "    # In positive but not negative\n",
    "    unique_to_positive = list(positive - negative)\n",
    "    # In negative but not positive\n",
    "    unique_to_negative = list(negative - positive)\n",
    "\n",
    "    if normalise: unique_to_positive_array[layer, head] = len(unique_to_positive) / len(total_unique)\n",
    "    \n",
    "    else: unique_to_positive_array[layer, head] = len(unique_to_positive)\n",
    "\n",
    "array_shape = unique_to_positive_array.shape\n",
    "unique_to_positive_array = unique_to_positive_array.flatten()\n",
    "\n",
    "# Apply softmax\n",
    "unique_to_positive_array = np.exp(unique_to_positive_array) / np.sum(np.exp(unique_to_positive_array))\n",
    "\n",
    "# Reshape\n",
    "unique_to_positive_array = unique_to_positive_array.reshape(array_shape)\n",
    "\n",
    "def positive_array_to_ablations(pos_array, threshold, faithfulness=True, start_layer=1):\n",
    "    binary_array = (pos_array > threshold).astype(int) if faithfulness else (pos_array < threshold).astype(int)\n",
    "    # Rows are layers, columns are heads -> return list of tuples of (layer, head)\n",
    "    return [(layer, head) for layer in range(binary_array.shape[0]) for head in range(binary_array.shape[1]) if binary_array[layer, head] == 0 and layer > start_layer]\n",
    "\n",
    "y_true, y_pred, fpr, tpr, node_roc_auc, f1, thresholds = gen_softmaxed_unique_to_pos(all_indices, ground_truth_array, head_labels, normalise=normalise)\n",
    "print(f\"Node ROC AUC: {node_roc_auc:.4f}\")"
   ]
  },
  {
   "cell_type": "code",
   "execution_count": 300,
   "metadata": {},
   "outputs": [
    {
     "name": "stdout",
     "output_type": "stream",
     "text": [
      "Num layers: 12, to add: 2, start layer: 1\n"
     ]
    },
    {
     "name": "stderr",
     "output_type": "stream",
     "text": [
      "100%|██████████| 28/28 [01:07<00:00,  2.42s/it]\n"
     ]
    }
   ],
   "source": [
    "# Faithfulness - ablate heads NOT included in the circuit\n",
    "num_nodes = []\n",
    "num_elements_in_pos_array = torch.tensor(unique_to_positive_array).numel()\n",
    "ablation_scores_kl = []\n",
    "ablation_scores_ld = []\n",
    "faithfulness_scores_kl = []\n",
    "faithfulness_scores_ld = []\n",
    "\n",
    "ablation_scores_kl_sequential = []\n",
    "ablation_scores_ld_sequential = []\n",
    "faithfulness_scores_kl_sequential = []\n",
    "faithfulness_scores_ld_sequential = []\n",
    "\n",
    "num_layers = 2 if task == 'induction' else 12\n",
    "to_add = 0 if task == 'induction' else 2\n",
    "start_layer = 0 if task == 'induction' else 1\n",
    "print(f\"Num layers: {num_layers}, to add: {to_add}, start layer: {start_layer}\")\n",
    "\n",
    "num_heads = len(head_labels) // num_layers\n",
    "all_head_layers = [(layer, head) for layer in range(num_layers) for head in range(num_heads)]\n",
    "\n",
    "heads_to_ablate_sequential = []\n",
    "\n",
    "\n",
    "for threshold in tqdm(thresholds):\n",
    "    # Our ablations, with our predicted circuit\n",
    "    heads_to_ablate = positive_array_to_ablations(unique_to_positive_array, threshold=threshold, start_layer=start_layer)\n",
    "    #print(f\"Heads to ablate: {heads_to_ablate}\")\n",
    "    ablation_score_kl = get_ablation_scores(tl_model, all_tokens, heads_to_ablate)\n",
    "    ablation_score_ld = get_ablation_scores(tl_model, all_tokens, heads_to_ablate, metric=\"logit_difference\")\n",
    "    faithfulness_kl = faithfulness_score(tl_model, all_tokens, heads_to_ablate, all_heads)\n",
    "    faithfulness_ld = faithfulness_score(tl_model, all_tokens, heads_to_ablate, all_heads, metric=\"logit_difference\")\n",
    "    num_nodes.append(num_elements_in_pos_array - len(heads_to_ablate))\n",
    "    ablation_scores_kl.append(ablation_score_kl)\n",
    "    ablation_scores_ld.append(ablation_score_ld)\n",
    "    faithfulness_scores_kl.append(faithfulness_kl)\n",
    "    faithfulness_scores_ld.append(faithfulness_ld)\n",
    "\n",
    "    # Heads to ablate is now sequential, moving through the layers\n",
    "    n = len(heads_to_ablate)\n",
    "    heads_to_ablate_indices = [x for x in range(n)]\n",
    "    # Convert to list of tuples (layer, head)\n",
    "    heads_to_ablate_sequential = [(heads_to_ablate_indices[i] % num_layers, heads_to_ablate_indices[i] // num_layers + to_add) for i in range(n)]\n",
    "    ##print(f\"Heads to ablate sequential: {heads_to_ablate_sequential}\")\n",
    "    ablation_score_kl_sequential = get_ablation_scores(tl_model, all_tokens, heads_to_ablate_sequential)\n",
    "    ablation_score_ld_sequential = get_ablation_scores(tl_model, all_tokens, heads_to_ablate_sequential, metric=\"logit_difference\")\n",
    "    faithfulness_kl_sequential = faithfulness_score(tl_model, all_tokens, heads_to_ablate_sequential, all_heads)\n",
    "    faithfulness_ld_sequential = faithfulness_score(tl_model, all_tokens, heads_to_ablate_sequential, all_heads, metric=\"logit_difference\")\n",
    "    ablation_scores_kl_sequential.append(ablation_score_kl_sequential)\n",
    "    ablation_scores_ld_sequential.append(ablation_score_ld_sequential)\n",
    "    faithfulness_scores_kl_sequential.append(faithfulness_kl_sequential)\n",
    "    faithfulness_scores_ld_sequential.append(faithfulness_ld_sequential)"
   ]
  },
  {
   "cell_type": "code",
   "execution_count": 301,
   "metadata": {},
   "outputs": [
    {
     "data": {
      "application/vnd.plotly.v1+json": {
       "config": {
        "plotlyServerURL": "https://plot.ly"
       },
       "data": [
        {
         "legendgroup": "Ours",
         "line": {
          "color": "#636EFA",
          "width": 6
         },
         "marker": {
          "color": "#636EFA",
          "size": 15
         },
         "mode": "lines+markers",
         "name": "Ours",
         "showlegend": true,
         "type": "scatter",
         "x": [
          24,
          24,
          27,
          29,
          30,
          32,
          35,
          36,
          36,
          37,
          38,
          39,
          40,
          42,
          43,
          48,
          50,
          52,
          54,
          57,
          60,
          64,
          71,
          76,
          85,
          95,
          106,
          113
         ],
         "xaxis": "x",
         "y": [
          6.123401165008545,
          6.123401165008545,
          6.218355655670166,
          6.332882404327393,
          6.3005571365356445,
          6.0410284996032715,
          6.012949466705322,
          5.977026462554932,
          5.977026462554932,
          6.15451192855835,
          6.144334316253662,
          6.145750045776367,
          6.088773727416992,
          6.0658135414123535,
          6.065478801727295,
          5.278951644897461,
          5.141258716583252,
          4.8772735595703125,
          4.955576419830322,
          4.64841365814209,
          4.267259120941162,
          4.893248558044434,
          3.993772506713867,
          4.019299507141113,
          5.5259108543396,
          2.978724956512451,
          2.421273708343506,
          0.6469635963439941
         ],
         "yaxis": "y"
        },
        {
         "legendgroup": "Ours",
         "line": {
          "color": "#636EFA",
          "width": 6
         },
         "marker": {
          "color": "#636EFA",
          "size": 15
         },
         "mode": "lines+markers",
         "name": "Ours",
         "showlegend": false,
         "type": "scatter",
         "x": [
          24,
          24,
          27,
          29,
          30,
          32,
          35,
          36,
          36,
          37,
          38,
          39,
          40,
          42,
          43,
          48,
          50,
          52,
          54,
          57,
          60,
          64,
          71,
          76,
          85,
          95,
          106,
          113
         ],
         "xaxis": "x2",
         "y": [
          10.083659172058105,
          10.083659172058105,
          9.982952117919922,
          9.71670913696289,
          9.6468505859375,
          9.48791217803955,
          9.463103294372559,
          9.519457817077637,
          9.519457817077637,
          9.572802543640137,
          9.593202590942383,
          9.849769592285156,
          10.424870491027832,
          10.244813919067383,
          10.216681480407715,
          10.805745124816895,
          10.784051895141602,
          10.66556167602539,
          10.681417465209961,
          10.984314918518066,
          10.7575101852417,
          9.9764404296875,
          6.054066181182861,
          5.206089973449707,
          5.955581188201904,
          5.334809303283691,
          4.815230846405029,
          3.3678998947143555
         ],
         "yaxis": "y2"
        },
        {
         "legendgroup": "Ours",
         "line": {
          "color": "#636EFA",
          "width": 6
         },
         "marker": {
          "color": "#636EFA",
          "size": 15
         },
         "mode": "lines+markers",
         "name": "Ours",
         "showlegend": false,
         "type": "scatter",
         "x": [
          0,
          24,
          24,
          27,
          29,
          30,
          32,
          35,
          36,
          36,
          37,
          38,
          39,
          40,
          42,
          43,
          48,
          50,
          52,
          54,
          57,
          60,
          64,
          71,
          76,
          85,
          95,
          106,
          113,
          144
         ],
         "xaxis": "x3",
         "y": [
          0,
          -0.0016271162312477827,
          -0.0016271162312477827,
          -0.017159169539809227,
          -0.035892728716135025,
          -0.030605165287852287,
          0.011846881359815598,
          0.01643987186253071,
          0.02231592871248722,
          0.02231592871248722,
          -0.006716017611324787,
          -0.00505122821778059,
          -0.005282804369926453,
          0.0040370202623307705,
          0.007792701944708824,
          0.007847456261515617,
          0.13650257885456085,
          0.15902552008628845,
          0.2022065371274948,
          0.18939824402332306,
          0.2396419793367386,
          0.301988810300827,
          0.1995934396982193,
          0.3467240333557129,
          0.3425484895706177,
          0.09610655903816223,
          0.5127590894699097,
          0.603943407535553,
          0.894173800945282,
          1
         ],
         "yaxis": "y3"
        },
        {
         "legendgroup": "Ours",
         "line": {
          "color": "#636EFA",
          "width": 6
         },
         "marker": {
          "color": "#636EFA",
          "size": 15
         },
         "mode": "lines+markers",
         "name": "Ours",
         "showlegend": false,
         "type": "scatter",
         "x": [
          0,
          24,
          24,
          27,
          29,
          30,
          32,
          35,
          36,
          36,
          37,
          38,
          39,
          40,
          42,
          43,
          48,
          50,
          52,
          54,
          57,
          60,
          64,
          71,
          76,
          85,
          95,
          106,
          113,
          144
         ],
         "xaxis": "x4",
         "y": [
          0,
          0.017346713691949844,
          0.017346713691949844,
          0.02716062404215336,
          0.053106021136045456,
          0.05991373956203461,
          0.07540229707956314,
          0.07781992852687836,
          0.07232817262411118,
          0.07232817262411118,
          0.06712973117828369,
          0.06514174491167068,
          0.04013926908373833,
          -0.015904352068901062,
          0.0016421725740656257,
          0.004383680876344442,
          -0.05302061140537262,
          -0.05090660601854324,
          -0.03935972601175308,
          -0.04090487211942673,
          -0.07042225450277328,
          -0.048320114612579346,
          0.02779518812894821,
          0.4100308418273926,
          0.49266618490219116,
          0.41962820291519165,
          0.48012247681617737,
          0.5307554006576538,
          0.6717979311943054,
          1
         ],
         "yaxis": "y4"
        },
        {
         "legendgroup": "Sequential",
         "line": {
          "color": "#EF553B",
          "dash": "dash",
          "width": 6
         },
         "mode": "lines",
         "name": "Sequential",
         "showlegend": true,
         "type": "scatter",
         "x": [
          24,
          24,
          27,
          29,
          30,
          32,
          35,
          36,
          36,
          37,
          38,
          39,
          40,
          42,
          43,
          48,
          50,
          52,
          54,
          57,
          60,
          64,
          71,
          76,
          85,
          95,
          106,
          113
         ],
         "xaxis": "x",
         "y": [
          5.911304950714111,
          5.911304950714111,
          5.649005889892578,
          5.4669718742370605,
          5.4175896644592285,
          5.357219219207764,
          5.126757621765137,
          5.7818193435668945,
          5.7818193435668945,
          5.882192134857178,
          5.9336724281311035,
          5.922601222991943,
          5.981683254241943,
          5.937298774719238,
          5.875560760498047,
          6.024056911468506,
          5.895724296569824,
          5.8761067390441895,
          5.864058494567871,
          5.80059289932251,
          5.022100925445557,
          4.305296897888184,
          3.1091229915618896,
          4.248434543609619,
          3.100776433944702,
          3.2269787788391113,
          2.207858085632324,
          2.940387487411499
         ],
         "yaxis": "y"
        },
        {
         "legendgroup": "Sequential",
         "line": {
          "color": "#EF553B",
          "dash": "dash",
          "width": 6
         },
         "mode": "lines",
         "name": "Sequential",
         "showlegend": false,
         "type": "scatter",
         "x": [
          24,
          24,
          27,
          29,
          30,
          32,
          35,
          36,
          36,
          37,
          38,
          39,
          40,
          42,
          43,
          48,
          50,
          52,
          54,
          57,
          60,
          64,
          71,
          76,
          85,
          95,
          106,
          113
         ],
         "xaxis": "x2",
         "y": [
          11.88029956817627,
          11.88029956817627,
          11.406481742858887,
          11.448348999023438,
          11.490058898925781,
          12.196714401245117,
          12.741729736328125,
          10.589178085327148,
          10.589178085327148,
          10.555081367492676,
          10.561391830444336,
          10.605445861816406,
          10.592381477355957,
          10.305832862854004,
          10.436651229858398,
          9.799681663513184,
          9.700783729553223,
          9.660433769226074,
          9.587267875671387,
          9.553838729858398,
          10.32068920135498,
          10.63093376159668,
          9.851908683776855,
          7.609841823577881,
          7.04202127456665,
          7.890714168548584,
          7.2943243980407715,
          6.903252124786377
         ],
         "yaxis": "y2"
        },
        {
         "legendgroup": "Sequential",
         "line": {
          "color": "#EF553B",
          "dash": "dash",
          "width": 6
         },
         "mode": "lines",
         "name": "Sequential",
         "showlegend": false,
         "type": "scatter",
         "x": [
          0,
          24,
          24,
          27,
          29,
          30,
          32,
          35,
          36,
          36,
          37,
          38,
          39,
          40,
          42,
          43,
          48,
          50,
          52,
          54,
          57,
          60,
          64,
          71,
          76,
          85,
          95,
          106,
          113,
          144
         ],
         "xaxis": "x3",
         "y": [
          0,
          0.03306623548269272,
          0.03306623548269272,
          0.07597145438194275,
          0.10574742406606674,
          0.11382505297660828,
          0.12370006740093231,
          0.1613975167274475,
          0.05424667149782181,
          0.05424667149782181,
          0.03782832622528076,
          0.029407506808638573,
          0.03121846355497837,
          0.02155419997870922,
          0.02881433255970478,
          0.038913045078516006,
          0.014622986316680908,
          0.035614822059869766,
          0.03882373869419098,
          0.04079451411962509,
          0.051175810396671295,
          0.17851659655570984,
          0.2957668602466583,
          0.4914293885231018,
          0.3050680160522461,
          0.4927946627140045,
          0.4721512794494629,
          0.638852596282959,
          0.5190300941467285,
          1
         ],
         "yaxis": "y3"
        },
        {
         "legendgroup": "Sequential",
         "line": {
          "color": "#EF553B",
          "dash": "dash",
          "width": 6
         },
         "mode": "lines",
         "name": "Sequential",
         "showlegend": false,
         "type": "scatter",
         "x": [
          0,
          24,
          24,
          27,
          29,
          30,
          32,
          35,
          36,
          36,
          37,
          38,
          39,
          40,
          42,
          43,
          48,
          50,
          52,
          54,
          57,
          60,
          64,
          71,
          76,
          85,
          95,
          106,
          113,
          144
         ],
         "xaxis": "x4",
         "y": [
          0,
          -0.15773601830005646,
          -0.15773601830005646,
          -0.11156243830919266,
          -0.11564240604639053,
          -0.11970704048871994,
          -0.18857066333293915,
          -0.24168244004249573,
          -0.03191613778471947,
          -0.03191613778471947,
          -0.028593411669135094,
          -0.029208367690443993,
          -0.033501435071229935,
          -0.03222830966114998,
          -0.0043041277676820755,
          -0.017052385956048965,
          0.045020341873168945,
          0.0546579509973526,
          0.058590058237314224,
          0.0657200813293457,
          0.06897775083780289,
          -0.005751878954470158,
          -0.03598523139953613,
          0.03993081673979759,
          0.2584203779697418,
          0.31375452876091003,
          0.23104935884475708,
          0.289167582988739,
          0.32727760076522827,
          1
         ],
         "yaxis": "y4"
        }
       ],
       "layout": {
        "annotations": [
         {
          "font": {
           "size": 28
          },
          "showarrow": false,
          "text": "KL Divergence",
          "x": 0.225,
          "xanchor": "center",
          "xref": "paper",
          "y": 1,
          "yanchor": "bottom",
          "yref": "paper"
         },
         {
          "font": {
           "size": 28
          },
          "showarrow": false,
          "text": "Loss",
          "x": 0.775,
          "xanchor": "center",
          "xref": "paper",
          "y": 1,
          "yanchor": "bottom",
          "yref": "paper"
         },
         {
          "font": {
           "size": 28
          },
          "showarrow": false,
          "text": "Faithfulness (KL)",
          "x": 0.225,
          "xanchor": "center",
          "xref": "paper",
          "y": 0.425,
          "yanchor": "bottom",
          "yref": "paper"
         },
         {
          "font": {
           "size": 28
          },
          "showarrow": false,
          "text": "Faithfulness (Loss)",
          "x": 0.775,
          "xanchor": "center",
          "xref": "paper",
          "y": 0.425,
          "yanchor": "bottom",
          "yref": "paper"
         }
        ],
        "font": {
         "family": "Palatino",
         "size": 28
        },
        "height": 800,
        "legend": {
         "font": {
          "size": 28
         }
        },
        "plot_bgcolor": "white",
        "showlegend": true,
        "template": {
         "data": {
          "bar": [
           {
            "error_x": {
             "color": "#2a3f5f"
            },
            "error_y": {
             "color": "#2a3f5f"
            },
            "marker": {
             "line": {
              "color": "#E5ECF6",
              "width": 0.5
             },
             "pattern": {
              "fillmode": "overlay",
              "size": 10,
              "solidity": 0.2
             }
            },
            "type": "bar"
           }
          ],
          "barpolar": [
           {
            "marker": {
             "line": {
              "color": "#E5ECF6",
              "width": 0.5
             },
             "pattern": {
              "fillmode": "overlay",
              "size": 10,
              "solidity": 0.2
             }
            },
            "type": "barpolar"
           }
          ],
          "carpet": [
           {
            "aaxis": {
             "endlinecolor": "#2a3f5f",
             "gridcolor": "white",
             "linecolor": "white",
             "minorgridcolor": "white",
             "startlinecolor": "#2a3f5f"
            },
            "baxis": {
             "endlinecolor": "#2a3f5f",
             "gridcolor": "white",
             "linecolor": "white",
             "minorgridcolor": "white",
             "startlinecolor": "#2a3f5f"
            },
            "type": "carpet"
           }
          ],
          "choropleth": [
           {
            "colorbar": {
             "outlinewidth": 0,
             "ticks": ""
            },
            "type": "choropleth"
           }
          ],
          "contour": [
           {
            "colorbar": {
             "outlinewidth": 0,
             "ticks": ""
            },
            "colorscale": [
             [
              0,
              "#0d0887"
             ],
             [
              0.1111111111111111,
              "#46039f"
             ],
             [
              0.2222222222222222,
              "#7201a8"
             ],
             [
              0.3333333333333333,
              "#9c179e"
             ],
             [
              0.4444444444444444,
              "#bd3786"
             ],
             [
              0.5555555555555556,
              "#d8576b"
             ],
             [
              0.6666666666666666,
              "#ed7953"
             ],
             [
              0.7777777777777778,
              "#fb9f3a"
             ],
             [
              0.8888888888888888,
              "#fdca26"
             ],
             [
              1,
              "#f0f921"
             ]
            ],
            "type": "contour"
           }
          ],
          "contourcarpet": [
           {
            "colorbar": {
             "outlinewidth": 0,
             "ticks": ""
            },
            "type": "contourcarpet"
           }
          ],
          "heatmap": [
           {
            "colorbar": {
             "outlinewidth": 0,
             "ticks": ""
            },
            "colorscale": [
             [
              0,
              "#0d0887"
             ],
             [
              0.1111111111111111,
              "#46039f"
             ],
             [
              0.2222222222222222,
              "#7201a8"
             ],
             [
              0.3333333333333333,
              "#9c179e"
             ],
             [
              0.4444444444444444,
              "#bd3786"
             ],
             [
              0.5555555555555556,
              "#d8576b"
             ],
             [
              0.6666666666666666,
              "#ed7953"
             ],
             [
              0.7777777777777778,
              "#fb9f3a"
             ],
             [
              0.8888888888888888,
              "#fdca26"
             ],
             [
              1,
              "#f0f921"
             ]
            ],
            "type": "heatmap"
           }
          ],
          "heatmapgl": [
           {
            "colorbar": {
             "outlinewidth": 0,
             "ticks": ""
            },
            "colorscale": [
             [
              0,
              "#0d0887"
             ],
             [
              0.1111111111111111,
              "#46039f"
             ],
             [
              0.2222222222222222,
              "#7201a8"
             ],
             [
              0.3333333333333333,
              "#9c179e"
             ],
             [
              0.4444444444444444,
              "#bd3786"
             ],
             [
              0.5555555555555556,
              "#d8576b"
             ],
             [
              0.6666666666666666,
              "#ed7953"
             ],
             [
              0.7777777777777778,
              "#fb9f3a"
             ],
             [
              0.8888888888888888,
              "#fdca26"
             ],
             [
              1,
              "#f0f921"
             ]
            ],
            "type": "heatmapgl"
           }
          ],
          "histogram": [
           {
            "marker": {
             "pattern": {
              "fillmode": "overlay",
              "size": 10,
              "solidity": 0.2
             }
            },
            "type": "histogram"
           }
          ],
          "histogram2d": [
           {
            "colorbar": {
             "outlinewidth": 0,
             "ticks": ""
            },
            "colorscale": [
             [
              0,
              "#0d0887"
             ],
             [
              0.1111111111111111,
              "#46039f"
             ],
             [
              0.2222222222222222,
              "#7201a8"
             ],
             [
              0.3333333333333333,
              "#9c179e"
             ],
             [
              0.4444444444444444,
              "#bd3786"
             ],
             [
              0.5555555555555556,
              "#d8576b"
             ],
             [
              0.6666666666666666,
              "#ed7953"
             ],
             [
              0.7777777777777778,
              "#fb9f3a"
             ],
             [
              0.8888888888888888,
              "#fdca26"
             ],
             [
              1,
              "#f0f921"
             ]
            ],
            "type": "histogram2d"
           }
          ],
          "histogram2dcontour": [
           {
            "colorbar": {
             "outlinewidth": 0,
             "ticks": ""
            },
            "colorscale": [
             [
              0,
              "#0d0887"
             ],
             [
              0.1111111111111111,
              "#46039f"
             ],
             [
              0.2222222222222222,
              "#7201a8"
             ],
             [
              0.3333333333333333,
              "#9c179e"
             ],
             [
              0.4444444444444444,
              "#bd3786"
             ],
             [
              0.5555555555555556,
              "#d8576b"
             ],
             [
              0.6666666666666666,
              "#ed7953"
             ],
             [
              0.7777777777777778,
              "#fb9f3a"
             ],
             [
              0.8888888888888888,
              "#fdca26"
             ],
             [
              1,
              "#f0f921"
             ]
            ],
            "type": "histogram2dcontour"
           }
          ],
          "mesh3d": [
           {
            "colorbar": {
             "outlinewidth": 0,
             "ticks": ""
            },
            "type": "mesh3d"
           }
          ],
          "parcoords": [
           {
            "line": {
             "colorbar": {
              "outlinewidth": 0,
              "ticks": ""
             }
            },
            "type": "parcoords"
           }
          ],
          "pie": [
           {
            "automargin": true,
            "type": "pie"
           }
          ],
          "scatter": [
           {
            "fillpattern": {
             "fillmode": "overlay",
             "size": 10,
             "solidity": 0.2
            },
            "type": "scatter"
           }
          ],
          "scatter3d": [
           {
            "line": {
             "colorbar": {
              "outlinewidth": 0,
              "ticks": ""
             }
            },
            "marker": {
             "colorbar": {
              "outlinewidth": 0,
              "ticks": ""
             }
            },
            "type": "scatter3d"
           }
          ],
          "scattercarpet": [
           {
            "marker": {
             "colorbar": {
              "outlinewidth": 0,
              "ticks": ""
             }
            },
            "type": "scattercarpet"
           }
          ],
          "scattergeo": [
           {
            "marker": {
             "colorbar": {
              "outlinewidth": 0,
              "ticks": ""
             }
            },
            "type": "scattergeo"
           }
          ],
          "scattergl": [
           {
            "marker": {
             "colorbar": {
              "outlinewidth": 0,
              "ticks": ""
             }
            },
            "type": "scattergl"
           }
          ],
          "scattermapbox": [
           {
            "marker": {
             "colorbar": {
              "outlinewidth": 0,
              "ticks": ""
             }
            },
            "type": "scattermapbox"
           }
          ],
          "scatterpolar": [
           {
            "marker": {
             "colorbar": {
              "outlinewidth": 0,
              "ticks": ""
             }
            },
            "type": "scatterpolar"
           }
          ],
          "scatterpolargl": [
           {
            "marker": {
             "colorbar": {
              "outlinewidth": 0,
              "ticks": ""
             }
            },
            "type": "scatterpolargl"
           }
          ],
          "scatterternary": [
           {
            "marker": {
             "colorbar": {
              "outlinewidth": 0,
              "ticks": ""
             }
            },
            "type": "scatterternary"
           }
          ],
          "surface": [
           {
            "colorbar": {
             "outlinewidth": 0,
             "ticks": ""
            },
            "colorscale": [
             [
              0,
              "#0d0887"
             ],
             [
              0.1111111111111111,
              "#46039f"
             ],
             [
              0.2222222222222222,
              "#7201a8"
             ],
             [
              0.3333333333333333,
              "#9c179e"
             ],
             [
              0.4444444444444444,
              "#bd3786"
             ],
             [
              0.5555555555555556,
              "#d8576b"
             ],
             [
              0.6666666666666666,
              "#ed7953"
             ],
             [
              0.7777777777777778,
              "#fb9f3a"
             ],
             [
              0.8888888888888888,
              "#fdca26"
             ],
             [
              1,
              "#f0f921"
             ]
            ],
            "type": "surface"
           }
          ],
          "table": [
           {
            "cells": {
             "fill": {
              "color": "#EBF0F8"
             },
             "line": {
              "color": "white"
             }
            },
            "header": {
             "fill": {
              "color": "#C8D4E3"
             },
             "line": {
              "color": "white"
             }
            },
            "type": "table"
           }
          ]
         },
         "layout": {
          "annotationdefaults": {
           "arrowcolor": "#2a3f5f",
           "arrowhead": 0,
           "arrowwidth": 1
          },
          "autotypenumbers": "strict",
          "coloraxis": {
           "colorbar": {
            "outlinewidth": 0,
            "ticks": ""
           }
          },
          "colorscale": {
           "diverging": [
            [
             0,
             "#8e0152"
            ],
            [
             0.1,
             "#c51b7d"
            ],
            [
             0.2,
             "#de77ae"
            ],
            [
             0.3,
             "#f1b6da"
            ],
            [
             0.4,
             "#fde0ef"
            ],
            [
             0.5,
             "#f7f7f7"
            ],
            [
             0.6,
             "#e6f5d0"
            ],
            [
             0.7,
             "#b8e186"
            ],
            [
             0.8,
             "#7fbc41"
            ],
            [
             0.9,
             "#4d9221"
            ],
            [
             1,
             "#276419"
            ]
           ],
           "sequential": [
            [
             0,
             "#0d0887"
            ],
            [
             0.1111111111111111,
             "#46039f"
            ],
            [
             0.2222222222222222,
             "#7201a8"
            ],
            [
             0.3333333333333333,
             "#9c179e"
            ],
            [
             0.4444444444444444,
             "#bd3786"
            ],
            [
             0.5555555555555556,
             "#d8576b"
            ],
            [
             0.6666666666666666,
             "#ed7953"
            ],
            [
             0.7777777777777778,
             "#fb9f3a"
            ],
            [
             0.8888888888888888,
             "#fdca26"
            ],
            [
             1,
             "#f0f921"
            ]
           ],
           "sequentialminus": [
            [
             0,
             "#0d0887"
            ],
            [
             0.1111111111111111,
             "#46039f"
            ],
            [
             0.2222222222222222,
             "#7201a8"
            ],
            [
             0.3333333333333333,
             "#9c179e"
            ],
            [
             0.4444444444444444,
             "#bd3786"
            ],
            [
             0.5555555555555556,
             "#d8576b"
            ],
            [
             0.6666666666666666,
             "#ed7953"
            ],
            [
             0.7777777777777778,
             "#fb9f3a"
            ],
            [
             0.8888888888888888,
             "#fdca26"
            ],
            [
             1,
             "#f0f921"
            ]
           ]
          },
          "colorway": [
           "#636efa",
           "#EF553B",
           "#00cc96",
           "#ab63fa",
           "#FFA15A",
           "#19d3f3",
           "#FF6692",
           "#B6E880",
           "#FF97FF",
           "#FECB52"
          ],
          "font": {
           "color": "#2a3f5f"
          },
          "geo": {
           "bgcolor": "white",
           "lakecolor": "white",
           "landcolor": "#E5ECF6",
           "showlakes": true,
           "showland": true,
           "subunitcolor": "white"
          },
          "hoverlabel": {
           "align": "left"
          },
          "hovermode": "closest",
          "mapbox": {
           "style": "light"
          },
          "paper_bgcolor": "white",
          "plot_bgcolor": "#E5ECF6",
          "polar": {
           "angularaxis": {
            "gridcolor": "white",
            "linecolor": "white",
            "ticks": ""
           },
           "bgcolor": "#E5ECF6",
           "radialaxis": {
            "gridcolor": "white",
            "linecolor": "white",
            "ticks": ""
           }
          },
          "scene": {
           "xaxis": {
            "backgroundcolor": "#E5ECF6",
            "gridcolor": "white",
            "gridwidth": 2,
            "linecolor": "white",
            "showbackground": true,
            "ticks": "",
            "zerolinecolor": "white"
           },
           "yaxis": {
            "backgroundcolor": "#E5ECF6",
            "gridcolor": "white",
            "gridwidth": 2,
            "linecolor": "white",
            "showbackground": true,
            "ticks": "",
            "zerolinecolor": "white"
           },
           "zaxis": {
            "backgroundcolor": "#E5ECF6",
            "gridcolor": "white",
            "gridwidth": 2,
            "linecolor": "white",
            "showbackground": true,
            "ticks": "",
            "zerolinecolor": "white"
           }
          },
          "shapedefaults": {
           "line": {
            "color": "#2a3f5f"
           }
          },
          "ternary": {
           "aaxis": {
            "gridcolor": "white",
            "linecolor": "white",
            "ticks": ""
           },
           "baxis": {
            "gridcolor": "white",
            "linecolor": "white",
            "ticks": ""
           },
           "bgcolor": "#E5ECF6",
           "caxis": {
            "gridcolor": "white",
            "linecolor": "white",
            "ticks": ""
           }
          },
          "title": {
           "x": 0.05
          },
          "xaxis": {
           "automargin": true,
           "gridcolor": "white",
           "linecolor": "white",
           "ticks": "",
           "title": {
            "standoff": 15
           },
           "zerolinecolor": "white",
           "zerolinewidth": 2
          },
          "yaxis": {
           "automargin": true,
           "gridcolor": "white",
           "linecolor": "white",
           "ticks": "",
           "title": {
            "standoff": 15
           },
           "zerolinecolor": "white",
           "zerolinewidth": 2
          }
         }
        },
        "width": 1000,
        "xaxis": {
         "anchor": "y",
         "domain": [
          0,
          0.45
         ],
         "title": {
          "font": {
           "size": 22
          }
         }
        },
        "xaxis2": {
         "anchor": "y2",
         "domain": [
          0.55,
          1
         ],
         "title": {
          "font": {
           "size": 22
          }
         }
        },
        "xaxis3": {
         "anchor": "y3",
         "domain": [
          0,
          0.45
         ],
         "title": {
          "font": {
           "size": 22
          },
          "text": "Number of nodes"
         }
        },
        "xaxis4": {
         "anchor": "y4",
         "domain": [
          0.55,
          1
         ],
         "title": {
          "font": {
           "size": 22
          },
          "text": "Number of nodes"
         }
        },
        "yaxis": {
         "anchor": "x",
         "domain": [
          0.575,
          1
         ],
         "title": {
          "font": {
           "size": 22
          }
         }
        },
        "yaxis2": {
         "anchor": "x2",
         "domain": [
          0.575,
          1
         ],
         "title": {
          "font": {
           "size": 22
          }
         }
        },
        "yaxis3": {
         "anchor": "x3",
         "domain": [
          0,
          0.425
         ],
         "title": {
          "font": {
           "size": 22
          }
         }
        },
        "yaxis4": {
         "anchor": "x4",
         "domain": [
          0,
          0.425
         ],
         "title": {
          "font": {
           "size": 22
          }
         }
        }
       }
      }
     },
     "metadata": {},
     "output_type": "display_data"
    }
   ],
   "source": [
    "import plotly.graph_objects as go\n",
    "from plotly.subplots import make_subplots\n",
    "\n",
    "# Define colors for \"Ours\" and \"Sequential\"\n",
    "color_ours = '#636EFA'\n",
    "color_sequential = '#EF553B'\n",
    "\n",
    "# Create a 2x2 subplot grid\n",
    "fig = make_subplots(rows=2, cols=2, subplot_titles=(\"KL Divergence\", \"Loss\", \"Faithfulness (KL)\", \"Faithfulness (Loss)\"), vertical_spacing=0.15)\n",
    "\n",
    "# Add traces to the subplots for \"Ours\"\n",
    "fig.add_trace(go.Scatter(x=num_nodes, y=ablation_scores_kl, mode='lines+markers', name=\"Ours\", line=dict(width=6, color=color_ours), marker=dict(size=15, color=color_ours), legendgroup=\"Ours\", showlegend=True), row=1, col=1)\n",
    "fig.add_trace(go.Scatter(x=num_nodes, y=ablation_scores_ld, mode='lines+markers', name=\"Ours\", line=dict(width=6, color=color_ours), marker=dict(size=15, color=color_ours), legendgroup=\"Ours\", showlegend=False), row=1, col=2)\n",
    "fig.add_trace(go.Scatter(x=[0]+num_nodes+[num_elements_in_pos_array], y=[0]+faithfulness_scores_kl+[1], mode='lines+markers', name=\"Ours\", line=dict(width=6, color=color_ours), marker=dict(size=15, color=color_ours), legendgroup=\"Ours\", showlegend=False), row=2, col=1)\n",
    "fig.add_trace(go.Scatter(x=[0]+num_nodes+[num_elements_in_pos_array], y=[0]+faithfulness_scores_ld+[1], mode='lines+markers', name=\"Ours\", line=dict(width=6, color=color_ours), marker=dict(size=15, color=color_ours), legendgroup=\"Ours\", showlegend=False), row=2, col=2)\n",
    "\n",
    "# Add traces to the subplots for \"Sequential\"\n",
    "fig.add_trace(go.Scatter(x=num_nodes, y=ablation_scores_kl_sequential, mode='lines', name=\"Sequential\", line=dict(width=6, dash='dash', color=color_sequential), legendgroup=\"Sequential\", showlegend=True), row=1, col=1)\n",
    "fig.add_trace(go.Scatter(x=num_nodes, y=ablation_scores_ld_sequential, mode='lines', name=\"Sequential\", line=dict(width=6, dash='dash', color=color_sequential), legendgroup=\"Sequential\", showlegend=False), row=1, col=2)\n",
    "fig.add_trace(go.Scatter(x=[0]+num_nodes+[num_elements_in_pos_array], y=[0]+faithfulness_scores_kl_sequential+[1], mode='lines', name=\"Sequential\", line=dict(width=6, dash='dash', color=color_sequential), legendgroup=\"Sequential\", showlegend=False), row=2, col=1)\n",
    "fig.add_trace(go.Scatter(x=[0]+num_nodes+[num_elements_in_pos_array], y=[0]+faithfulness_scores_ld_sequential+[1], mode='lines', name=\"Sequential\", line=dict(width=6, dash='dash', color=color_sequential), legendgroup=\"Sequential\", showlegend=False), row=2, col=2)\n",
    "\n",
    "# Update layout\n",
    "fontsize = 28\n",
    "fig.update_layout(\n",
    "    font=dict(family='Palatino', size=fontsize),\n",
    "    plot_bgcolor='white',\n",
    "    width=1000,\n",
    "    height=800,\n",
    "    showlegend=True,\n",
    "    legend=dict(font=dict(size=fontsize)),\n",
    "    xaxis3=dict(title='Number of nodes'),\n",
    "    xaxis4=dict(title='Number of nodes'),\n",
    ")\n",
    "\n",
    "# Adjust subplot titles\n",
    "fig.update_annotations(font=dict(size=fontsize))\n",
    "\n",
    "# Update subplot titles and axis labels to have fontsize 24\n",
    "fig.update_xaxes(title_font=dict(size=fontsize-6))\n",
    "fig.update_yaxes(title_font=dict(size=fontsize-6))\n",
    "\n",
    "# Save the figure as pdf\n",
    "fig.write_image(f\"../output/{task}/faithfulness_{task}.pdf\")\n",
    "\n",
    "# Display the figure\n",
    "fig.show()"
   ]
  },
  {
   "cell_type": "code",
   "execution_count": 302,
   "metadata": {},
   "outputs": [
    {
     "name": "stdout",
     "output_type": "stream",
     "text": [
      "Num layers: 12, to add: 2, start layer: 1\n"
     ]
    },
    {
     "name": "stderr",
     "output_type": "stream",
     "text": [
      "100%|██████████| 28/28 [01:03<00:00,  2.29s/it]\n"
     ]
    }
   ],
   "source": [
    "# Faithfulness - ablate heads NOT included in the circuit\n",
    "num_nodes = []\n",
    "num_elements_in_pos_array = torch.tensor(unique_to_positive_array).numel()\n",
    "ablation_scores_kl = []\n",
    "ablation_scores_ld = []\n",
    "faithfulness_scores_kl = []\n",
    "faithfulness_scores_ld = []\n",
    "\n",
    "ablation_scores_kl_sequential = []\n",
    "ablation_scores_ld_sequential = []\n",
    "faithfulness_scores_kl_sequential = []\n",
    "faithfulness_scores_ld_sequential = []\n",
    "\n",
    "num_layers = 2 if task == 'induction' else 12\n",
    "to_add = 0 if task == 'induction' else 2\n",
    "start_layer = 0 if task == 'induction' else 1\n",
    "print(f\"Num layers: {num_layers}, to add: {to_add}, start layer: {start_layer}\")\n",
    "\n",
    "num_heads = len(head_labels) // num_layers\n",
    "all_head_layers = [(layer, head) for layer in range(num_layers) for head in range(num_heads)]\n",
    "\n",
    "heads_to_ablate_sequential = []\n",
    "\n",
    "\n",
    "for threshold in tqdm(thresholds):\n",
    "    # Our ablations, with our predicted circuit\n",
    "    heads_to_ablate = positive_array_to_ablations(unique_to_positive_array, threshold=threshold, faithfulness=False, start_layer=start_layer)\n",
    "    #print(f\"Heads to ablate: {heads_to_ablate}\")\n",
    "    ablation_score_kl = get_ablation_scores(tl_model, all_tokens, heads_to_ablate)\n",
    "    ablation_score_ld = get_ablation_scores(tl_model, all_tokens, heads_to_ablate, metric=\"logit_difference\")\n",
    "    faithfulness_kl = faithfulness_score(tl_model, all_tokens, heads_to_ablate, all_heads)\n",
    "    faithfulness_ld = faithfulness_score(tl_model, all_tokens, heads_to_ablate, all_heads, metric=\"logit_difference\")\n",
    "    num_nodes.append(len(heads_to_ablate))\n",
    "    ablation_scores_kl.append(ablation_score_kl)\n",
    "    ablation_scores_ld.append(ablation_score_ld)\n",
    "    faithfulness_scores_kl.append(faithfulness_kl)\n",
    "    faithfulness_scores_ld.append(faithfulness_ld)\n",
    "\n",
    "    # Heads to ablate is now sequential, moving through the layers\n",
    "    n = len(heads_to_ablate)\n",
    "    heads_to_ablate_indices = [x for x in range(n)]\n",
    "    # Convert to list of tuples (layer, head)\n",
    "    heads_to_ablate_sequential = [(heads_to_ablate_indices[i] % num_layers, heads_to_ablate_indices[i] // num_layers + to_add) for i in range(n)]\n",
    "    # # Heads to ablate sequential is a random choice of n from all heads layers\n",
    "    # heads_to_ablate_sequential_list = random.sample(all_head_layers, n-len(heads_to_ablate_sequential))\n",
    "    # heads_to_ablate_sequential.extend(heads_to_ablate_sequential_list)\n",
    "    # # Remove head layer pairs from all_head_layers already in heads_to_ablate_sequential\n",
    "    # all_head_layers = [x for x in all_head_layers if x not in heads_to_ablate_sequential_list]\n",
    "    #print(f\"Heads to ablate sequential: {heads_to_ablate_sequential}\")\n",
    "    ablation_score_kl_sequential = get_ablation_scores(tl_model, all_tokens, heads_to_ablate_sequential)\n",
    "    ablation_score_ld_sequential = get_ablation_scores(tl_model, all_tokens, heads_to_ablate_sequential, metric=\"logit_difference\")\n",
    "    faithfulness_kl_sequential = faithfulness_score(tl_model, all_tokens, heads_to_ablate_sequential, all_heads)\n",
    "    faithfulness_ld_sequential = faithfulness_score(tl_model, all_tokens, heads_to_ablate_sequential, all_heads, metric=\"logit_difference\")\n",
    "    ablation_scores_kl_sequential.append(ablation_score_kl_sequential)\n",
    "    ablation_scores_ld_sequential.append(ablation_score_ld_sequential)\n",
    "    faithfulness_scores_kl_sequential.append(faithfulness_kl_sequential)\n",
    "    faithfulness_scores_ld_sequential.append(faithfulness_ld_sequential)"
   ]
  },
  {
   "cell_type": "code",
   "execution_count": 285,
   "metadata": {},
   "outputs": [
    {
     "data": {
      "application/vnd.plotly.v1+json": {
       "config": {
        "plotlyServerURL": "https://plot.ly"
       },
       "data": [
        {
         "legendgroup": "Ours",
         "line": {
          "color": "#636EFA",
          "width": 6
         },
         "marker": {
          "color": "#636EFA",
          "size": 15
         },
         "mode": "lines+markers",
         "name": "Ours",
         "showlegend": true,
         "type": "scatter",
         "x": [
          0,
          2,
          3,
          4,
          5,
          6,
          9,
          14,
          19,
          32,
          41,
          68,
          120
         ],
         "xaxis": "x",
         "y": [
          0,
          0.002939669881016016,
          0.004185208119452,
          0.010751624591648579,
          0.13883882761001587,
          0.13642755150794983,
          0.11484821885824203,
          0.08437077701091766,
          0.32820525765419006,
          0.36426234245300293,
          1.3543715476989746,
          1.3170948028564453,
          2.1149439811706543
         ],
         "yaxis": "y"
        },
        {
         "legendgroup": "Ours",
         "line": {
          "color": "#636EFA",
          "width": 6
         },
         "marker": {
          "color": "#636EFA",
          "size": 15
         },
         "mode": "lines+markers",
         "name": "Ours",
         "showlegend": false,
         "type": "scatter",
         "x": [
          0,
          2,
          3,
          4,
          5,
          6,
          9,
          14,
          19,
          32,
          41,
          68,
          120
         ],
         "xaxis": "x2",
         "y": [
          5.214062690734863,
          4.869983196258545,
          4.711690902709961,
          4.730790615081787,
          4.985669136047363,
          4.948418617248535,
          5.14461612701416,
          4.975442409515381,
          4.891709327697754,
          4.776694297790527,
          5.045420169830322,
          4.741005897521973,
          7.6506667137146
         ],
         "yaxis": "y2"
        },
        {
         "legendgroup": "Ours",
         "line": {
          "color": "#636EFA",
          "width": 6
         },
         "marker": {
          "color": "#636EFA",
          "size": 15
         },
         "mode": "lines+markers",
         "name": "Ours",
         "showlegend": false,
         "type": "scatter",
         "x": [
          0,
          0,
          2,
          3,
          4,
          5,
          6,
          9,
          14,
          19,
          32,
          41,
          68,
          120
         ],
         "xaxis": "x3",
         "y": [
          1,
          1,
          0.9993991851806641,
          0.9991446733474731,
          0.9978026747703552,
          0.9716253876686096,
          0.9721181988716125,
          0.9765284061431885,
          0.9827570915222168,
          0.9329244494438171,
          0.9255553483963013,
          0.7232060432434082,
          0.7308242917060852,
          0.5677672624588013
         ],
         "yaxis": "y3"
        },
        {
         "legendgroup": "Ours",
         "line": {
          "color": "#636EFA",
          "width": 6
         },
         "marker": {
          "color": "#636EFA",
          "size": 15
         },
         "mode": "lines+markers",
         "name": "Ours",
         "showlegend": false,
         "type": "scatter",
         "x": [
          0,
          0,
          2,
          3,
          4,
          5,
          6,
          9,
          14,
          19,
          32,
          41,
          68,
          120
         ],
         "xaxis": "x4",
         "y": [
          1,
          1,
          1.1364843845367432,
          1.1992734670639038,
          1.1916972398757935,
          1.0905958414077759,
          1.1053718328475952,
          1.027547001838684,
          1.0946524143218994,
          1.1278663873672485,
          1.1734888553619385,
          1.0668946504592896,
          1.1876451969146729,
          0.033483728766441345
         ],
         "yaxis": "y4"
        },
        {
         "legendgroup": "Sequential",
         "line": {
          "color": "#EF553B",
          "dash": "dash",
          "width": 6
         },
         "mode": "lines",
         "name": "Sequential",
         "showlegend": true,
         "type": "scatter",
         "x": [
          0,
          2,
          3,
          4,
          5,
          6,
          9,
          14,
          19,
          32,
          41,
          68,
          120
         ],
         "xaxis": "x",
         "y": [
          0,
          0.00266495649702847,
          0.011002018116414547,
          0.11613552272319794,
          0.09450031816959381,
          0.06534147262573242,
          0.05393198877573013,
          0.11693938076496124,
          1.1786155700683594,
          5.542586326599121,
          4.958255290985107,
          4.442452430725098,
          3.2697925567626953
         ],
         "yaxis": "y"
        },
        {
         "legendgroup": "Sequential",
         "line": {
          "color": "#EF553B",
          "dash": "dash",
          "width": 6
         },
         "mode": "lines",
         "name": "Sequential",
         "showlegend": false,
         "type": "scatter",
         "x": [
          0,
          2,
          3,
          4,
          5,
          6,
          9,
          14,
          19,
          32,
          41,
          68,
          120
         ],
         "xaxis": "x2",
         "y": [
          5.214062690734863,
          5.412154197692871,
          5.431398868560791,
          5.371716499328613,
          5.312524795532227,
          5.476332664489746,
          5.3717265129089355,
          5.237353324890137,
          5.419549465179443,
          6.046306610107422,
          6.77579402923584,
          7.715275764465332,
          7.548268795013428
         ],
         "yaxis": "y2"
        },
        {
         "legendgroup": "Sequential",
         "line": {
          "color": "#EF553B",
          "dash": "dash",
          "width": 6
         },
         "mode": "lines",
         "name": "Sequential",
         "showlegend": false,
         "type": "scatter",
         "x": [
          0,
          0,
          2,
          3,
          4,
          5,
          6,
          9,
          14,
          19,
          32,
          41,
          68,
          120
         ],
         "xaxis": "x3",
         "y": [
          1,
          1,
          0.9994553327560425,
          0.9977514743804932,
          0.9762652516365051,
          0.9806868433952332,
          0.9866461157798767,
          0.98897784948349,
          0.9761009812355042,
          0.7591254115104675,
          -0.13274270296096802,
          -0.013322507962584496,
          0.09209252148866653,
          0.33174994587898254
         ],
         "yaxis": "y3"
        },
        {
         "legendgroup": "Sequential",
         "line": {
          "color": "#EF553B",
          "dash": "dash",
          "width": 6
         },
         "mode": "lines",
         "name": "Sequential",
         "showlegend": false,
         "type": "scatter",
         "x": [
          0,
          0,
          2,
          3,
          4,
          5,
          6,
          9,
          14,
          19,
          32,
          41,
          68,
          120
         ],
         "xaxis": "x4",
         "y": [
          1,
          1,
          0.9214239716529846,
          0.9137902855873108,
          0.93746417760849,
          0.9609435200691223,
          0.8959665894508362,
          0.9374602437019348,
          0.990761399269104,
          0.9184905290603638,
          0.6698777079582214,
          0.38051536679267883,
          0.007855559699237347,
          0.07410143315792084
         ],
         "yaxis": "y4"
        }
       ],
       "layout": {
        "annotations": [
         {
          "font": {
           "size": 28
          },
          "showarrow": false,
          "text": "KL Divergence",
          "x": 0.225,
          "xanchor": "center",
          "xref": "paper",
          "y": 1,
          "yanchor": "bottom",
          "yref": "paper"
         },
         {
          "font": {
           "size": 28
          },
          "showarrow": false,
          "text": "Loss",
          "x": 0.775,
          "xanchor": "center",
          "xref": "paper",
          "y": 1,
          "yanchor": "bottom",
          "yref": "paper"
         },
         {
          "font": {
           "size": 28
          },
          "showarrow": false,
          "text": "Completeness (KL)",
          "x": 0.225,
          "xanchor": "center",
          "xref": "paper",
          "y": 0.425,
          "yanchor": "bottom",
          "yref": "paper"
         },
         {
          "font": {
           "size": 28
          },
          "showarrow": false,
          "text": "Completeness (Loss)",
          "x": 0.775,
          "xanchor": "center",
          "xref": "paper",
          "y": 0.425,
          "yanchor": "bottom",
          "yref": "paper"
         }
        ],
        "font": {
         "family": "Palatino",
         "size": 28
        },
        "height": 800,
        "legend": {
         "font": {
          "size": 28
         }
        },
        "plot_bgcolor": "white",
        "showlegend": true,
        "template": {
         "data": {
          "bar": [
           {
            "error_x": {
             "color": "#2a3f5f"
            },
            "error_y": {
             "color": "#2a3f5f"
            },
            "marker": {
             "line": {
              "color": "#E5ECF6",
              "width": 0.5
             },
             "pattern": {
              "fillmode": "overlay",
              "size": 10,
              "solidity": 0.2
             }
            },
            "type": "bar"
           }
          ],
          "barpolar": [
           {
            "marker": {
             "line": {
              "color": "#E5ECF6",
              "width": 0.5
             },
             "pattern": {
              "fillmode": "overlay",
              "size": 10,
              "solidity": 0.2
             }
            },
            "type": "barpolar"
           }
          ],
          "carpet": [
           {
            "aaxis": {
             "endlinecolor": "#2a3f5f",
             "gridcolor": "white",
             "linecolor": "white",
             "minorgridcolor": "white",
             "startlinecolor": "#2a3f5f"
            },
            "baxis": {
             "endlinecolor": "#2a3f5f",
             "gridcolor": "white",
             "linecolor": "white",
             "minorgridcolor": "white",
             "startlinecolor": "#2a3f5f"
            },
            "type": "carpet"
           }
          ],
          "choropleth": [
           {
            "colorbar": {
             "outlinewidth": 0,
             "ticks": ""
            },
            "type": "choropleth"
           }
          ],
          "contour": [
           {
            "colorbar": {
             "outlinewidth": 0,
             "ticks": ""
            },
            "colorscale": [
             [
              0,
              "#0d0887"
             ],
             [
              0.1111111111111111,
              "#46039f"
             ],
             [
              0.2222222222222222,
              "#7201a8"
             ],
             [
              0.3333333333333333,
              "#9c179e"
             ],
             [
              0.4444444444444444,
              "#bd3786"
             ],
             [
              0.5555555555555556,
              "#d8576b"
             ],
             [
              0.6666666666666666,
              "#ed7953"
             ],
             [
              0.7777777777777778,
              "#fb9f3a"
             ],
             [
              0.8888888888888888,
              "#fdca26"
             ],
             [
              1,
              "#f0f921"
             ]
            ],
            "type": "contour"
           }
          ],
          "contourcarpet": [
           {
            "colorbar": {
             "outlinewidth": 0,
             "ticks": ""
            },
            "type": "contourcarpet"
           }
          ],
          "heatmap": [
           {
            "colorbar": {
             "outlinewidth": 0,
             "ticks": ""
            },
            "colorscale": [
             [
              0,
              "#0d0887"
             ],
             [
              0.1111111111111111,
              "#46039f"
             ],
             [
              0.2222222222222222,
              "#7201a8"
             ],
             [
              0.3333333333333333,
              "#9c179e"
             ],
             [
              0.4444444444444444,
              "#bd3786"
             ],
             [
              0.5555555555555556,
              "#d8576b"
             ],
             [
              0.6666666666666666,
              "#ed7953"
             ],
             [
              0.7777777777777778,
              "#fb9f3a"
             ],
             [
              0.8888888888888888,
              "#fdca26"
             ],
             [
              1,
              "#f0f921"
             ]
            ],
            "type": "heatmap"
           }
          ],
          "heatmapgl": [
           {
            "colorbar": {
             "outlinewidth": 0,
             "ticks": ""
            },
            "colorscale": [
             [
              0,
              "#0d0887"
             ],
             [
              0.1111111111111111,
              "#46039f"
             ],
             [
              0.2222222222222222,
              "#7201a8"
             ],
             [
              0.3333333333333333,
              "#9c179e"
             ],
             [
              0.4444444444444444,
              "#bd3786"
             ],
             [
              0.5555555555555556,
              "#d8576b"
             ],
             [
              0.6666666666666666,
              "#ed7953"
             ],
             [
              0.7777777777777778,
              "#fb9f3a"
             ],
             [
              0.8888888888888888,
              "#fdca26"
             ],
             [
              1,
              "#f0f921"
             ]
            ],
            "type": "heatmapgl"
           }
          ],
          "histogram": [
           {
            "marker": {
             "pattern": {
              "fillmode": "overlay",
              "size": 10,
              "solidity": 0.2
             }
            },
            "type": "histogram"
           }
          ],
          "histogram2d": [
           {
            "colorbar": {
             "outlinewidth": 0,
             "ticks": ""
            },
            "colorscale": [
             [
              0,
              "#0d0887"
             ],
             [
              0.1111111111111111,
              "#46039f"
             ],
             [
              0.2222222222222222,
              "#7201a8"
             ],
             [
              0.3333333333333333,
              "#9c179e"
             ],
             [
              0.4444444444444444,
              "#bd3786"
             ],
             [
              0.5555555555555556,
              "#d8576b"
             ],
             [
              0.6666666666666666,
              "#ed7953"
             ],
             [
              0.7777777777777778,
              "#fb9f3a"
             ],
             [
              0.8888888888888888,
              "#fdca26"
             ],
             [
              1,
              "#f0f921"
             ]
            ],
            "type": "histogram2d"
           }
          ],
          "histogram2dcontour": [
           {
            "colorbar": {
             "outlinewidth": 0,
             "ticks": ""
            },
            "colorscale": [
             [
              0,
              "#0d0887"
             ],
             [
              0.1111111111111111,
              "#46039f"
             ],
             [
              0.2222222222222222,
              "#7201a8"
             ],
             [
              0.3333333333333333,
              "#9c179e"
             ],
             [
              0.4444444444444444,
              "#bd3786"
             ],
             [
              0.5555555555555556,
              "#d8576b"
             ],
             [
              0.6666666666666666,
              "#ed7953"
             ],
             [
              0.7777777777777778,
              "#fb9f3a"
             ],
             [
              0.8888888888888888,
              "#fdca26"
             ],
             [
              1,
              "#f0f921"
             ]
            ],
            "type": "histogram2dcontour"
           }
          ],
          "mesh3d": [
           {
            "colorbar": {
             "outlinewidth": 0,
             "ticks": ""
            },
            "type": "mesh3d"
           }
          ],
          "parcoords": [
           {
            "line": {
             "colorbar": {
              "outlinewidth": 0,
              "ticks": ""
             }
            },
            "type": "parcoords"
           }
          ],
          "pie": [
           {
            "automargin": true,
            "type": "pie"
           }
          ],
          "scatter": [
           {
            "fillpattern": {
             "fillmode": "overlay",
             "size": 10,
             "solidity": 0.2
            },
            "type": "scatter"
           }
          ],
          "scatter3d": [
           {
            "line": {
             "colorbar": {
              "outlinewidth": 0,
              "ticks": ""
             }
            },
            "marker": {
             "colorbar": {
              "outlinewidth": 0,
              "ticks": ""
             }
            },
            "type": "scatter3d"
           }
          ],
          "scattercarpet": [
           {
            "marker": {
             "colorbar": {
              "outlinewidth": 0,
              "ticks": ""
             }
            },
            "type": "scattercarpet"
           }
          ],
          "scattergeo": [
           {
            "marker": {
             "colorbar": {
              "outlinewidth": 0,
              "ticks": ""
             }
            },
            "type": "scattergeo"
           }
          ],
          "scattergl": [
           {
            "marker": {
             "colorbar": {
              "outlinewidth": 0,
              "ticks": ""
             }
            },
            "type": "scattergl"
           }
          ],
          "scattermapbox": [
           {
            "marker": {
             "colorbar": {
              "outlinewidth": 0,
              "ticks": ""
             }
            },
            "type": "scattermapbox"
           }
          ],
          "scatterpolar": [
           {
            "marker": {
             "colorbar": {
              "outlinewidth": 0,
              "ticks": ""
             }
            },
            "type": "scatterpolar"
           }
          ],
          "scatterpolargl": [
           {
            "marker": {
             "colorbar": {
              "outlinewidth": 0,
              "ticks": ""
             }
            },
            "type": "scatterpolargl"
           }
          ],
          "scatterternary": [
           {
            "marker": {
             "colorbar": {
              "outlinewidth": 0,
              "ticks": ""
             }
            },
            "type": "scatterternary"
           }
          ],
          "surface": [
           {
            "colorbar": {
             "outlinewidth": 0,
             "ticks": ""
            },
            "colorscale": [
             [
              0,
              "#0d0887"
             ],
             [
              0.1111111111111111,
              "#46039f"
             ],
             [
              0.2222222222222222,
              "#7201a8"
             ],
             [
              0.3333333333333333,
              "#9c179e"
             ],
             [
              0.4444444444444444,
              "#bd3786"
             ],
             [
              0.5555555555555556,
              "#d8576b"
             ],
             [
              0.6666666666666666,
              "#ed7953"
             ],
             [
              0.7777777777777778,
              "#fb9f3a"
             ],
             [
              0.8888888888888888,
              "#fdca26"
             ],
             [
              1,
              "#f0f921"
             ]
            ],
            "type": "surface"
           }
          ],
          "table": [
           {
            "cells": {
             "fill": {
              "color": "#EBF0F8"
             },
             "line": {
              "color": "white"
             }
            },
            "header": {
             "fill": {
              "color": "#C8D4E3"
             },
             "line": {
              "color": "white"
             }
            },
            "type": "table"
           }
          ]
         },
         "layout": {
          "annotationdefaults": {
           "arrowcolor": "#2a3f5f",
           "arrowhead": 0,
           "arrowwidth": 1
          },
          "autotypenumbers": "strict",
          "coloraxis": {
           "colorbar": {
            "outlinewidth": 0,
            "ticks": ""
           }
          },
          "colorscale": {
           "diverging": [
            [
             0,
             "#8e0152"
            ],
            [
             0.1,
             "#c51b7d"
            ],
            [
             0.2,
             "#de77ae"
            ],
            [
             0.3,
             "#f1b6da"
            ],
            [
             0.4,
             "#fde0ef"
            ],
            [
             0.5,
             "#f7f7f7"
            ],
            [
             0.6,
             "#e6f5d0"
            ],
            [
             0.7,
             "#b8e186"
            ],
            [
             0.8,
             "#7fbc41"
            ],
            [
             0.9,
             "#4d9221"
            ],
            [
             1,
             "#276419"
            ]
           ],
           "sequential": [
            [
             0,
             "#0d0887"
            ],
            [
             0.1111111111111111,
             "#46039f"
            ],
            [
             0.2222222222222222,
             "#7201a8"
            ],
            [
             0.3333333333333333,
             "#9c179e"
            ],
            [
             0.4444444444444444,
             "#bd3786"
            ],
            [
             0.5555555555555556,
             "#d8576b"
            ],
            [
             0.6666666666666666,
             "#ed7953"
            ],
            [
             0.7777777777777778,
             "#fb9f3a"
            ],
            [
             0.8888888888888888,
             "#fdca26"
            ],
            [
             1,
             "#f0f921"
            ]
           ],
           "sequentialminus": [
            [
             0,
             "#0d0887"
            ],
            [
             0.1111111111111111,
             "#46039f"
            ],
            [
             0.2222222222222222,
             "#7201a8"
            ],
            [
             0.3333333333333333,
             "#9c179e"
            ],
            [
             0.4444444444444444,
             "#bd3786"
            ],
            [
             0.5555555555555556,
             "#d8576b"
            ],
            [
             0.6666666666666666,
             "#ed7953"
            ],
            [
             0.7777777777777778,
             "#fb9f3a"
            ],
            [
             0.8888888888888888,
             "#fdca26"
            ],
            [
             1,
             "#f0f921"
            ]
           ]
          },
          "colorway": [
           "#636efa",
           "#EF553B",
           "#00cc96",
           "#ab63fa",
           "#FFA15A",
           "#19d3f3",
           "#FF6692",
           "#B6E880",
           "#FF97FF",
           "#FECB52"
          ],
          "font": {
           "color": "#2a3f5f"
          },
          "geo": {
           "bgcolor": "white",
           "lakecolor": "white",
           "landcolor": "#E5ECF6",
           "showlakes": true,
           "showland": true,
           "subunitcolor": "white"
          },
          "hoverlabel": {
           "align": "left"
          },
          "hovermode": "closest",
          "mapbox": {
           "style": "light"
          },
          "paper_bgcolor": "white",
          "plot_bgcolor": "#E5ECF6",
          "polar": {
           "angularaxis": {
            "gridcolor": "white",
            "linecolor": "white",
            "ticks": ""
           },
           "bgcolor": "#E5ECF6",
           "radialaxis": {
            "gridcolor": "white",
            "linecolor": "white",
            "ticks": ""
           }
          },
          "scene": {
           "xaxis": {
            "backgroundcolor": "#E5ECF6",
            "gridcolor": "white",
            "gridwidth": 2,
            "linecolor": "white",
            "showbackground": true,
            "ticks": "",
            "zerolinecolor": "white"
           },
           "yaxis": {
            "backgroundcolor": "#E5ECF6",
            "gridcolor": "white",
            "gridwidth": 2,
            "linecolor": "white",
            "showbackground": true,
            "ticks": "",
            "zerolinecolor": "white"
           },
           "zaxis": {
            "backgroundcolor": "#E5ECF6",
            "gridcolor": "white",
            "gridwidth": 2,
            "linecolor": "white",
            "showbackground": true,
            "ticks": "",
            "zerolinecolor": "white"
           }
          },
          "shapedefaults": {
           "line": {
            "color": "#2a3f5f"
           }
          },
          "ternary": {
           "aaxis": {
            "gridcolor": "white",
            "linecolor": "white",
            "ticks": ""
           },
           "baxis": {
            "gridcolor": "white",
            "linecolor": "white",
            "ticks": ""
           },
           "bgcolor": "#E5ECF6",
           "caxis": {
            "gridcolor": "white",
            "linecolor": "white",
            "ticks": ""
           }
          },
          "title": {
           "x": 0.05
          },
          "xaxis": {
           "automargin": true,
           "gridcolor": "white",
           "linecolor": "white",
           "ticks": "",
           "title": {
            "standoff": 15
           },
           "zerolinecolor": "white",
           "zerolinewidth": 2
          },
          "yaxis": {
           "automargin": true,
           "gridcolor": "white",
           "linecolor": "white",
           "ticks": "",
           "title": {
            "standoff": 15
           },
           "zerolinecolor": "white",
           "zerolinewidth": 2
          }
         }
        },
        "width": 1000,
        "xaxis": {
         "anchor": "y",
         "domain": [
          0,
          0.45
         ],
         "title": {
          "font": {
           "size": 22
          }
         }
        },
        "xaxis2": {
         "anchor": "y2",
         "domain": [
          0.55,
          1
         ],
         "title": {
          "font": {
           "size": 22
          }
         }
        },
        "xaxis3": {
         "anchor": "y3",
         "domain": [
          0,
          0.45
         ],
         "title": {
          "font": {
           "size": 22
          },
          "text": "Number of nodes"
         }
        },
        "xaxis4": {
         "anchor": "y4",
         "domain": [
          0.55,
          1
         ],
         "title": {
          "font": {
           "size": 22
          },
          "text": "Number of nodes"
         }
        },
        "yaxis": {
         "anchor": "x",
         "domain": [
          0.575,
          1
         ],
         "title": {
          "font": {
           "size": 22
          }
         }
        },
        "yaxis2": {
         "anchor": "x2",
         "domain": [
          0.575,
          1
         ],
         "title": {
          "font": {
           "size": 22
          }
         }
        },
        "yaxis3": {
         "anchor": "x3",
         "domain": [
          0,
          0.425
         ],
         "title": {
          "font": {
           "size": 22
          }
         }
        },
        "yaxis4": {
         "anchor": "x4",
         "domain": [
          0,
          0.425
         ],
         "title": {
          "font": {
           "size": 22
          }
         }
        }
       }
      }
     },
     "metadata": {},
     "output_type": "display_data"
    }
   ],
   "source": [
    "import plotly.graph_objects as go\n",
    "from plotly.subplots import make_subplots\n",
    "\n",
    "# Define colors for \"Ours\" and \"Sequential\"\n",
    "color_ours = '#636EFA'\n",
    "color_sequential = '#EF553B'\n",
    "\n",
    "# Create a 2x2 subplot grid\n",
    "fig = make_subplots(rows=2, cols=2, subplot_titles=(\"KL Divergence\", \"Loss\", \"Completeness (KL)\", \"Completeness (Loss)\"), vertical_spacing=0.15)\n",
    "\n",
    "# Add traces to the subplots for \"Ours\"\n",
    "fig.add_trace(go.Scatter(x=num_nodes, y=ablation_scores_kl, mode='lines+markers', name=\"Ours\", line=dict(width=6, color=color_ours), marker=dict(size=15, color=color_ours), legendgroup=\"Ours\", showlegend=True), row=1, col=1)\n",
    "fig.add_trace(go.Scatter(x=num_nodes, y=ablation_scores_ld, mode='lines+markers', name=\"Ours\", line=dict(width=6, color=color_ours), marker=dict(size=15, color=color_ours), legendgroup=\"Ours\", showlegend=False), row=1, col=2)\n",
    "fig.add_trace(go.Scatter(x=[0]+num_nodes, y=[1]+faithfulness_scores_kl, mode='lines+markers', name=\"Ours\", line=dict(width=6, color=color_ours), marker=dict(size=15, color=color_ours), legendgroup=\"Ours\", showlegend=False), row=2, col=1)\n",
    "fig.add_trace(go.Scatter(x=[0]+num_nodes, y=[1]+faithfulness_scores_ld, mode='lines+markers', name=\"Ours\", line=dict(width=6, color=color_ours), marker=dict(size=15, color=color_ours), legendgroup=\"Ours\", showlegend=False), row=2, col=2)\n",
    "\n",
    "# Add traces to the subplots for \"Sequential\"\n",
    "fig.add_trace(go.Scatter(x=num_nodes, y=ablation_scores_kl_sequential, mode='lines', name=\"Sequential\", line=dict(width=6, dash='dash', color=color_sequential), legendgroup=\"Sequential\", showlegend=True), row=1, col=1)\n",
    "fig.add_trace(go.Scatter(x=num_nodes, y=ablation_scores_ld_sequential, mode='lines', name=\"Sequential\", line=dict(width=6, dash='dash', color=color_sequential), legendgroup=\"Sequential\", showlegend=False), row=1, col=2)\n",
    "fig.add_trace(go.Scatter(x=[0]+num_nodes, y=[1]+faithfulness_scores_kl_sequential, mode='lines', name=\"Sequential\", line=dict(width=6, dash='dash', color=color_sequential), legendgroup=\"Sequential\", showlegend=False), row=2, col=1)\n",
    "fig.add_trace(go.Scatter(x=[0]+num_nodes, y=[1]+faithfulness_scores_ld_sequential, mode='lines', name=\"Sequential\", line=dict(width=6, dash='dash', color=color_sequential), legendgroup=\"Sequential\", showlegend=False), row=2, col=2)\n",
    "\n",
    "# Update layout\n",
    "fontsize = 28\n",
    "fig.update_layout(\n",
    "    font=dict(family='Palatino', size=fontsize),\n",
    "    plot_bgcolor='white',\n",
    "    width=1000,\n",
    "    height=800,\n",
    "    showlegend=True,\n",
    "    legend=dict(font=dict(size=fontsize)),\n",
    "    xaxis3=dict(title='Number of nodes'),\n",
    "    xaxis4=dict(title='Number of nodes'),\n",
    ")\n",
    "\n",
    "# Adjust subplot titles\n",
    "fig.update_annotations(font=dict(size=fontsize))\n",
    "\n",
    "# Update subplot titles and axis labels to have fontsize 24\n",
    "fig.update_xaxes(title_font=dict(size=fontsize-6))\n",
    "fig.update_yaxes(title_font=dict(size=fontsize-6))\n",
    "\n",
    "# Save the figure as pdf\n",
    "#fig.write_image(f\"../output/{task}/completeness_{task}.pdf\")\n",
    "\n",
    "# Display the figure\n",
    "fig.show()"
   ]
  },
  {
   "cell_type": "code",
   "execution_count": null,
   "metadata": {},
   "outputs": [
    {
     "name": "stdout",
     "output_type": "stream",
     "text": [
      "Normalise: False\n"
     ]
    }
   ],
   "source": [
    "# Learned activations and then take argmax to discretise\n",
    "learned_activations = model(resid_streams)[0].detach().cpu().numpy()\n",
    "all_indices = np.argmax(learned_activations, axis=2)\n",
    "\n",
    "positive_indices = all_indices[:250, :]\n",
    "negative_indices = all_indices[250:, :]\n",
    "positive_learned_activations = learned_activations[:250, :, :]\n",
    "negative_learned_activations = learned_activations[250:, :, :]\n",
    "\n",
    "# Assume all_indices, positive_indices, and negative_indices are defined, as well as n_heads and n_feat\n",
    "n_feat = learned_activations.shape[-1]\n",
    "n_heads = all_indices.shape[1]\n",
    "positive_co_occurrence_matrix = gen_co_occurrence_matrix(positive_indices, n_heads, n_feat)\n",
    "negative_co_occurrence_matrix = gen_co_occurrence_matrix(negative_indices, n_heads, n_feat)\n",
    "\n",
    "# Calculate unique co-occurrences\n",
    "normalise = False# if task in ['ds', 'ioi']  else True\n",
    "print(f\"Normalise: {normalise}\")\n",
    "unique_co_occurrence_counts = unique_co_occurrences(positive_co_occurrence_matrix, negative_co_occurrence_matrix, normalise=normalise)\n",
    "\n",
    "# Sort (head, head) pairs by descending unique co-occurrence counts\n",
    "sorted_indices = np.argsort(unique_co_occurrence_counts.flatten())[::-1]\n",
    "sorted_indices = np.unravel_index(sorted_indices, unique_co_occurrence_counts.shape)\n",
    "# Zip them together to create a list of (head, head) pairs\n",
    "sorted_head_pairs = list(zip(sorted_indices[0], sorted_indices[1]))"
   ]
  },
  {
   "cell_type": "code",
   "execution_count": 68,
   "metadata": {},
   "outputs": [
    {
     "name": "stdout",
     "output_type": "stream",
     "text": [
      "Threshold: 0, heads to ablate: []\n",
      "Threshold: 34, heads to ablate: [(1, 2)]\n",
      "Threshold: 58, heads to ablate: [(0, 2), (1, 2)]\n",
      "Threshold: 79, heads to ablate: [(0, 2), (0, 9), (1, 2)]\n",
      "Threshold: 83, heads to ablate: [(0, 2), (0, 3), (0, 9), (1, 2)]\n",
      "Threshold: 92, heads to ablate: [(0, 2), (0, 3), (0, 5), (0, 9), (1, 2)]\n",
      "Threshold: 94, heads to ablate: [(0, 2), (0, 3), (0, 5), (0, 9), (1, 2), (1, 6), (1, 11)]\n",
      "Threshold: 102, heads to ablate: [(0, 2), (0, 3), (0, 5), (0, 7), (0, 9), (1, 2), (1, 6), (1, 11)]\n",
      "Threshold: 107, heads to ablate: [(0, 2), (0, 3), (0, 5), (0, 7), (0, 8), (0, 9), (1, 2), (1, 6), (1, 11)]\n",
      "Threshold: 110, heads to ablate: [(0, 2), (0, 3), (0, 5), (0, 7), (0, 8), (0, 9), (1, 2), (1, 6), (1, 10), (1, 11)]\n",
      "Threshold: 113, heads to ablate: [(0, 2), (0, 3), (0, 5), (0, 7), (0, 8), (0, 9), (1, 2), (1, 6), (1, 8), (1, 10), (1, 11)]\n",
      "Threshold: 114, heads to ablate: [(0, 2), (0, 3), (0, 5), (0, 7), (0, 8), (0, 9), (1, 2), (1, 5), (1, 6), (1, 8), (1, 10), (1, 11)]\n",
      "Threshold: 117, heads to ablate: [(0, 2), (0, 3), (0, 5), (0, 7), (0, 8), (0, 9), (0, 11), (1, 2), (1, 5), (1, 6), (1, 8), (1, 10), (1, 11)]\n",
      "Threshold: 118, heads to ablate: [(0, 2), (0, 3), (0, 5), (0, 7), (0, 8), (0, 9), (0, 11), (1, 2), (1, 3), (1, 5), (1, 6), (1, 8), (1, 10), (1, 11)]\n",
      "Threshold: 127, heads to ablate: [(0, 1), (0, 2), (0, 3), (0, 5), (0, 7), (0, 8), (0, 9), (0, 11), (1, 2), (1, 3), (1, 5), (1, 6), (1, 8), (1, 10), (1, 11)]\n",
      "Threshold: 136, heads to ablate: [(0, 0), (0, 1), (0, 2), (0, 3), (0, 5), (0, 7), (0, 8), (0, 9), (0, 11), (1, 2), (1, 3), (1, 5), (1, 6), (1, 8), (1, 10), (1, 11)]\n",
      "Threshold: 137, heads to ablate: [(0, 0), (0, 1), (0, 2), (0, 3), (0, 5), (0, 7), (0, 8), (0, 9), (0, 10), (0, 11), (1, 2), (1, 3), (1, 5), (1, 6), (1, 8), (1, 10), (1, 11)]\n",
      "Threshold: 140, heads to ablate: [(0, 0), (0, 1), (0, 2), (0, 3), (0, 5), (0, 7), (0, 8), (0, 9), (0, 10), (0, 11), (1, 2), (1, 3), (1, 5), (1, 6), (1, 7), (1, 8), (1, 10), (1, 11)]\n",
      "Threshold: 142, heads to ablate: [(0, 0), (0, 1), (0, 2), (0, 3), (0, 5), (0, 7), (0, 8), (0, 9), (0, 10), (0, 11), (1, 2), (1, 3), (1, 4), (1, 5), (1, 6), (1, 7), (1, 8), (1, 10), (1, 11)]\n",
      "Threshold: 147, heads to ablate: [(0, 0), (0, 1), (0, 2), (0, 3), (0, 5), (0, 7), (0, 8), (0, 9), (0, 10), (0, 11), (1, 0), (1, 2), (1, 3), (1, 4), (1, 5), (1, 6), (1, 7), (1, 8), (1, 10), (1, 11)]\n",
      "Threshold: 148, heads to ablate: [(0, 0), (0, 1), (0, 2), (0, 3), (0, 5), (0, 7), (0, 8), (0, 9), (0, 10), (0, 11), (1, 0), (1, 2), (1, 3), (1, 4), (1, 5), (1, 6), (1, 7), (1, 8), (1, 9), (1, 10), (1, 11)]\n",
      "Threshold: 159, heads to ablate: [(0, 0), (0, 1), (0, 2), (0, 3), (0, 5), (0, 7), (0, 8), (0, 9), (0, 10), (0, 11), (1, 0), (1, 1), (1, 2), (1, 3), (1, 4), (1, 5), (1, 6), (1, 7), (1, 8), (1, 9), (1, 10), (1, 11)]\n",
      "Threshold: 165, heads to ablate: [(0, 0), (0, 1), (0, 2), (0, 3), (0, 5), (0, 6), (0, 7), (0, 8), (0, 9), (0, 10), (0, 11), (1, 0), (1, 1), (1, 2), (1, 3), (1, 4), (1, 5), (1, 6), (1, 7), (1, 8), (1, 9), (1, 10), (1, 11)]\n",
      "Threshold: 169, heads to ablate: [(0, 0), (0, 1), (0, 2), (0, 3), (0, 4), (0, 5), (0, 6), (0, 7), (0, 8), (0, 9), (0, 10), (0, 11), (1, 0), (1, 1), (1, 2), (1, 3), (1, 4), (1, 5), (1, 6), (1, 7), (1, 8), (1, 9), (1, 10), (1, 11)]\n"
     ]
    }
   ],
   "source": [
    "def array_to_ablations(array, threshold):\n",
    "    binary_array = (array > threshold).astype(int)\n",
    "    try:\n",
    "        # Num edges is the number of elements that are non-zero in the binary array\n",
    "        num_edges = np.sum(binary_array) // 2\n",
    "        # Get head numbers that are not zero\n",
    "        heads = list(set(np.array(np.argwhere(binary_array).tolist())[:, 0].tolist()))\n",
    "        # Heads to ablate\n",
    "        heads_to_ablate = [x for x in range(24) if x not in heads]\n",
    "        # Convert head index into (layer, head) tuple\n",
    "        heads = [feature_string_to_head_and_layer(h, head_labels) for h in heads_to_ablate]\n",
    "        #num_edges = 144 - calculate_total_edges(heads)\n",
    "        # Num edges is \n",
    "        return heads, num_edges\n",
    "    except:\n",
    "        heads = [x for x in range(24)]\n",
    "        heads = [feature_string_to_head_and_layer(h, head_labels) for h in heads]\n",
    "        return heads, 0\n",
    "\n",
    "\n",
    "num_nodes = []\n",
    "ablation_scores_kl = []\n",
    "ablation_scores_ld = []\n",
    "faithfulness_scores_kl = []\n",
    "faithfulness_scores_ld = []\n",
    "\n",
    "thresholds = []\n",
    "heads_to_ablate_old = ['a']\n",
    "\n",
    "for threshold in range(0, int(unique_co_occurrence_counts.max())):\n",
    "    heads_to_ablate_new, num_nodes_in_circuit = array_to_ablations(unique_co_occurrence_counts, threshold)\n",
    "    if heads_to_ablate_new != heads_to_ablate_old:\n",
    "        print(f\"Threshold: {threshold}, heads to ablate: {heads_to_ablate_new}\")\n",
    "        # Calculate KL\n",
    "        ablation_score_kl = get_ablation_scores(tl_model, all_tokens, heads_to_ablate_new)\n",
    "        ablation_score_ld = get_ablation_scores(tl_model, all_tokens, heads_to_ablate_new, metric=\"logit_difference\")\n",
    "        faithfulness_kl = faithfulness_score(tl_model, all_tokens, heads_to_ablate_new, all_heads)\n",
    "        faithfulness_ld = faithfulness_score(tl_model, all_tokens, heads_to_ablate_new, all_heads, metric=\"logit_difference\")\n",
    "        num_nodes.append(num_nodes_in_circuit)\n",
    "        ablation_scores_kl.append(ablation_score_kl)\n",
    "        ablation_scores_ld.append(ablation_score_ld)\n",
    "        faithfulness_scores_kl.append(faithfulness_kl)\n",
    "        faithfulness_scores_ld.append(faithfulness_ld)\n",
    "        thresholds.append(threshold)\n",
    "        heads_to_ablate_old = heads_to_ablate_new\n",
    "    # Calculate KL and logit difference\n",
    "    # ablation_score_kl = get_ablation_scores(tl_model, all_tokens, heads_to_ablate)\n",
    "    # ablation_score_ld = get_ablation_scores(tl_model, all_tokens, heads_to_ablate, metric=\"logit_difference\")\n",
    "    # faithfulness_kl = faithfulness_score(tl_model, all_tokens, heads_to_ablate, all_heads)\n",
    "    # faithfulness_ld = faithfulness_score(tl_model, all_tokens, heads_to_ablate, all_heads, metric=\"logit_difference\")"
   ]
  },
  {
   "cell_type": "code",
   "execution_count": 69,
   "metadata": {},
   "outputs": [
    {
     "data": {
      "application/vnd.plotly.v1+json": {
       "config": {
        "plotlyServerURL": "https://plot.ly"
       },
       "data": [
        {
         "line": {
          "width": 6
         },
         "marker": {
          "size": 15
         },
         "mode": "lines+markers",
         "name": "Ours",
         "type": "scatter",
         "x": [
          9963,
          3231,
          1628,
          939,
          846,
          690,
          659,
          542,
          470,
          435,
          403,
          388,
          359,
          347,
          279,
          213,
          205,
          186,
          166,
          139,
          131,
          85,
          63,
          52
         ],
         "y": [
          0,
          0.012454621493816376,
          0.026725884526968002,
          1.4127784967422485,
          2.000640630722046,
          1.9186277389526367,
          3.019758939743042,
          3.222072124481201,
          3.188162326812744,
          3.274218797683716,
          3.5397846698760986,
          2.590958833694458,
          2.4734232425689697,
          2.560964584350586,
          2.341207981109619,
          2.296330213546753,
          2.5987391471862793,
          3.0392403602600098,
          4.108242988586426,
          4.058259010314941,
          3.887179136276245,
          3.950399398803711,
          3.511427402496338,
          3.3067920207977295
         ]
        }
       ],
       "layout": {
        "font": {
         "size": 24
        },
        "height": 600,
        "plot_bgcolor": "white",
        "template": {
         "data": {
          "bar": [
           {
            "error_x": {
             "color": "#2a3f5f"
            },
            "error_y": {
             "color": "#2a3f5f"
            },
            "marker": {
             "line": {
              "color": "#E5ECF6",
              "width": 0.5
             },
             "pattern": {
              "fillmode": "overlay",
              "size": 10,
              "solidity": 0.2
             }
            },
            "type": "bar"
           }
          ],
          "barpolar": [
           {
            "marker": {
             "line": {
              "color": "#E5ECF6",
              "width": 0.5
             },
             "pattern": {
              "fillmode": "overlay",
              "size": 10,
              "solidity": 0.2
             }
            },
            "type": "barpolar"
           }
          ],
          "carpet": [
           {
            "aaxis": {
             "endlinecolor": "#2a3f5f",
             "gridcolor": "white",
             "linecolor": "white",
             "minorgridcolor": "white",
             "startlinecolor": "#2a3f5f"
            },
            "baxis": {
             "endlinecolor": "#2a3f5f",
             "gridcolor": "white",
             "linecolor": "white",
             "minorgridcolor": "white",
             "startlinecolor": "#2a3f5f"
            },
            "type": "carpet"
           }
          ],
          "choropleth": [
           {
            "colorbar": {
             "outlinewidth": 0,
             "ticks": ""
            },
            "type": "choropleth"
           }
          ],
          "contour": [
           {
            "colorbar": {
             "outlinewidth": 0,
             "ticks": ""
            },
            "colorscale": [
             [
              0,
              "#0d0887"
             ],
             [
              0.1111111111111111,
              "#46039f"
             ],
             [
              0.2222222222222222,
              "#7201a8"
             ],
             [
              0.3333333333333333,
              "#9c179e"
             ],
             [
              0.4444444444444444,
              "#bd3786"
             ],
             [
              0.5555555555555556,
              "#d8576b"
             ],
             [
              0.6666666666666666,
              "#ed7953"
             ],
             [
              0.7777777777777778,
              "#fb9f3a"
             ],
             [
              0.8888888888888888,
              "#fdca26"
             ],
             [
              1,
              "#f0f921"
             ]
            ],
            "type": "contour"
           }
          ],
          "contourcarpet": [
           {
            "colorbar": {
             "outlinewidth": 0,
             "ticks": ""
            },
            "type": "contourcarpet"
           }
          ],
          "heatmap": [
           {
            "colorbar": {
             "outlinewidth": 0,
             "ticks": ""
            },
            "colorscale": [
             [
              0,
              "#0d0887"
             ],
             [
              0.1111111111111111,
              "#46039f"
             ],
             [
              0.2222222222222222,
              "#7201a8"
             ],
             [
              0.3333333333333333,
              "#9c179e"
             ],
             [
              0.4444444444444444,
              "#bd3786"
             ],
             [
              0.5555555555555556,
              "#d8576b"
             ],
             [
              0.6666666666666666,
              "#ed7953"
             ],
             [
              0.7777777777777778,
              "#fb9f3a"
             ],
             [
              0.8888888888888888,
              "#fdca26"
             ],
             [
              1,
              "#f0f921"
             ]
            ],
            "type": "heatmap"
           }
          ],
          "heatmapgl": [
           {
            "colorbar": {
             "outlinewidth": 0,
             "ticks": ""
            },
            "colorscale": [
             [
              0,
              "#0d0887"
             ],
             [
              0.1111111111111111,
              "#46039f"
             ],
             [
              0.2222222222222222,
              "#7201a8"
             ],
             [
              0.3333333333333333,
              "#9c179e"
             ],
             [
              0.4444444444444444,
              "#bd3786"
             ],
             [
              0.5555555555555556,
              "#d8576b"
             ],
             [
              0.6666666666666666,
              "#ed7953"
             ],
             [
              0.7777777777777778,
              "#fb9f3a"
             ],
             [
              0.8888888888888888,
              "#fdca26"
             ],
             [
              1,
              "#f0f921"
             ]
            ],
            "type": "heatmapgl"
           }
          ],
          "histogram": [
           {
            "marker": {
             "pattern": {
              "fillmode": "overlay",
              "size": 10,
              "solidity": 0.2
             }
            },
            "type": "histogram"
           }
          ],
          "histogram2d": [
           {
            "colorbar": {
             "outlinewidth": 0,
             "ticks": ""
            },
            "colorscale": [
             [
              0,
              "#0d0887"
             ],
             [
              0.1111111111111111,
              "#46039f"
             ],
             [
              0.2222222222222222,
              "#7201a8"
             ],
             [
              0.3333333333333333,
              "#9c179e"
             ],
             [
              0.4444444444444444,
              "#bd3786"
             ],
             [
              0.5555555555555556,
              "#d8576b"
             ],
             [
              0.6666666666666666,
              "#ed7953"
             ],
             [
              0.7777777777777778,
              "#fb9f3a"
             ],
             [
              0.8888888888888888,
              "#fdca26"
             ],
             [
              1,
              "#f0f921"
             ]
            ],
            "type": "histogram2d"
           }
          ],
          "histogram2dcontour": [
           {
            "colorbar": {
             "outlinewidth": 0,
             "ticks": ""
            },
            "colorscale": [
             [
              0,
              "#0d0887"
             ],
             [
              0.1111111111111111,
              "#46039f"
             ],
             [
              0.2222222222222222,
              "#7201a8"
             ],
             [
              0.3333333333333333,
              "#9c179e"
             ],
             [
              0.4444444444444444,
              "#bd3786"
             ],
             [
              0.5555555555555556,
              "#d8576b"
             ],
             [
              0.6666666666666666,
              "#ed7953"
             ],
             [
              0.7777777777777778,
              "#fb9f3a"
             ],
             [
              0.8888888888888888,
              "#fdca26"
             ],
             [
              1,
              "#f0f921"
             ]
            ],
            "type": "histogram2dcontour"
           }
          ],
          "mesh3d": [
           {
            "colorbar": {
             "outlinewidth": 0,
             "ticks": ""
            },
            "type": "mesh3d"
           }
          ],
          "parcoords": [
           {
            "line": {
             "colorbar": {
              "outlinewidth": 0,
              "ticks": ""
             }
            },
            "type": "parcoords"
           }
          ],
          "pie": [
           {
            "automargin": true,
            "type": "pie"
           }
          ],
          "scatter": [
           {
            "fillpattern": {
             "fillmode": "overlay",
             "size": 10,
             "solidity": 0.2
            },
            "type": "scatter"
           }
          ],
          "scatter3d": [
           {
            "line": {
             "colorbar": {
              "outlinewidth": 0,
              "ticks": ""
             }
            },
            "marker": {
             "colorbar": {
              "outlinewidth": 0,
              "ticks": ""
             }
            },
            "type": "scatter3d"
           }
          ],
          "scattercarpet": [
           {
            "marker": {
             "colorbar": {
              "outlinewidth": 0,
              "ticks": ""
             }
            },
            "type": "scattercarpet"
           }
          ],
          "scattergeo": [
           {
            "marker": {
             "colorbar": {
              "outlinewidth": 0,
              "ticks": ""
             }
            },
            "type": "scattergeo"
           }
          ],
          "scattergl": [
           {
            "marker": {
             "colorbar": {
              "outlinewidth": 0,
              "ticks": ""
             }
            },
            "type": "scattergl"
           }
          ],
          "scattermapbox": [
           {
            "marker": {
             "colorbar": {
              "outlinewidth": 0,
              "ticks": ""
             }
            },
            "type": "scattermapbox"
           }
          ],
          "scatterpolar": [
           {
            "marker": {
             "colorbar": {
              "outlinewidth": 0,
              "ticks": ""
             }
            },
            "type": "scatterpolar"
           }
          ],
          "scatterpolargl": [
           {
            "marker": {
             "colorbar": {
              "outlinewidth": 0,
              "ticks": ""
             }
            },
            "type": "scatterpolargl"
           }
          ],
          "scatterternary": [
           {
            "marker": {
             "colorbar": {
              "outlinewidth": 0,
              "ticks": ""
             }
            },
            "type": "scatterternary"
           }
          ],
          "surface": [
           {
            "colorbar": {
             "outlinewidth": 0,
             "ticks": ""
            },
            "colorscale": [
             [
              0,
              "#0d0887"
             ],
             [
              0.1111111111111111,
              "#46039f"
             ],
             [
              0.2222222222222222,
              "#7201a8"
             ],
             [
              0.3333333333333333,
              "#9c179e"
             ],
             [
              0.4444444444444444,
              "#bd3786"
             ],
             [
              0.5555555555555556,
              "#d8576b"
             ],
             [
              0.6666666666666666,
              "#ed7953"
             ],
             [
              0.7777777777777778,
              "#fb9f3a"
             ],
             [
              0.8888888888888888,
              "#fdca26"
             ],
             [
              1,
              "#f0f921"
             ]
            ],
            "type": "surface"
           }
          ],
          "table": [
           {
            "cells": {
             "fill": {
              "color": "#EBF0F8"
             },
             "line": {
              "color": "white"
             }
            },
            "header": {
             "fill": {
              "color": "#C8D4E3"
             },
             "line": {
              "color": "white"
             }
            },
            "type": "table"
           }
          ]
         },
         "layout": {
          "annotationdefaults": {
           "arrowcolor": "#2a3f5f",
           "arrowhead": 0,
           "arrowwidth": 1
          },
          "autotypenumbers": "strict",
          "coloraxis": {
           "colorbar": {
            "outlinewidth": 0,
            "ticks": ""
           }
          },
          "colorscale": {
           "diverging": [
            [
             0,
             "#8e0152"
            ],
            [
             0.1,
             "#c51b7d"
            ],
            [
             0.2,
             "#de77ae"
            ],
            [
             0.3,
             "#f1b6da"
            ],
            [
             0.4,
             "#fde0ef"
            ],
            [
             0.5,
             "#f7f7f7"
            ],
            [
             0.6,
             "#e6f5d0"
            ],
            [
             0.7,
             "#b8e186"
            ],
            [
             0.8,
             "#7fbc41"
            ],
            [
             0.9,
             "#4d9221"
            ],
            [
             1,
             "#276419"
            ]
           ],
           "sequential": [
            [
             0,
             "#0d0887"
            ],
            [
             0.1111111111111111,
             "#46039f"
            ],
            [
             0.2222222222222222,
             "#7201a8"
            ],
            [
             0.3333333333333333,
             "#9c179e"
            ],
            [
             0.4444444444444444,
             "#bd3786"
            ],
            [
             0.5555555555555556,
             "#d8576b"
            ],
            [
             0.6666666666666666,
             "#ed7953"
            ],
            [
             0.7777777777777778,
             "#fb9f3a"
            ],
            [
             0.8888888888888888,
             "#fdca26"
            ],
            [
             1,
             "#f0f921"
            ]
           ],
           "sequentialminus": [
            [
             0,
             "#0d0887"
            ],
            [
             0.1111111111111111,
             "#46039f"
            ],
            [
             0.2222222222222222,
             "#7201a8"
            ],
            [
             0.3333333333333333,
             "#9c179e"
            ],
            [
             0.4444444444444444,
             "#bd3786"
            ],
            [
             0.5555555555555556,
             "#d8576b"
            ],
            [
             0.6666666666666666,
             "#ed7953"
            ],
            [
             0.7777777777777778,
             "#fb9f3a"
            ],
            [
             0.8888888888888888,
             "#fdca26"
            ],
            [
             1,
             "#f0f921"
            ]
           ]
          },
          "colorway": [
           "#636efa",
           "#EF553B",
           "#00cc96",
           "#ab63fa",
           "#FFA15A",
           "#19d3f3",
           "#FF6692",
           "#B6E880",
           "#FF97FF",
           "#FECB52"
          ],
          "font": {
           "color": "#2a3f5f"
          },
          "geo": {
           "bgcolor": "white",
           "lakecolor": "white",
           "landcolor": "#E5ECF6",
           "showlakes": true,
           "showland": true,
           "subunitcolor": "white"
          },
          "hoverlabel": {
           "align": "left"
          },
          "hovermode": "closest",
          "mapbox": {
           "style": "light"
          },
          "paper_bgcolor": "white",
          "plot_bgcolor": "#E5ECF6",
          "polar": {
           "angularaxis": {
            "gridcolor": "white",
            "linecolor": "white",
            "ticks": ""
           },
           "bgcolor": "#E5ECF6",
           "radialaxis": {
            "gridcolor": "white",
            "linecolor": "white",
            "ticks": ""
           }
          },
          "scene": {
           "xaxis": {
            "backgroundcolor": "#E5ECF6",
            "gridcolor": "white",
            "gridwidth": 2,
            "linecolor": "white",
            "showbackground": true,
            "ticks": "",
            "zerolinecolor": "white"
           },
           "yaxis": {
            "backgroundcolor": "#E5ECF6",
            "gridcolor": "white",
            "gridwidth": 2,
            "linecolor": "white",
            "showbackground": true,
            "ticks": "",
            "zerolinecolor": "white"
           },
           "zaxis": {
            "backgroundcolor": "#E5ECF6",
            "gridcolor": "white",
            "gridwidth": 2,
            "linecolor": "white",
            "showbackground": true,
            "ticks": "",
            "zerolinecolor": "white"
           }
          },
          "shapedefaults": {
           "line": {
            "color": "#2a3f5f"
           }
          },
          "ternary": {
           "aaxis": {
            "gridcolor": "white",
            "linecolor": "white",
            "ticks": ""
           },
           "baxis": {
            "gridcolor": "white",
            "linecolor": "white",
            "ticks": ""
           },
           "bgcolor": "#E5ECF6",
           "caxis": {
            "gridcolor": "white",
            "linecolor": "white",
            "ticks": ""
           }
          },
          "title": {
           "x": 0.05
          },
          "xaxis": {
           "automargin": true,
           "gridcolor": "white",
           "linecolor": "white",
           "ticks": "",
           "title": {
            "standoff": 15
           },
           "zerolinecolor": "white",
           "zerolinewidth": 2
          },
          "yaxis": {
           "automargin": true,
           "gridcolor": "white",
           "linecolor": "white",
           "ticks": "",
           "title": {
            "standoff": 15
           },
           "zerolinecolor": "white",
           "zerolinewidth": 2
          }
         }
        },
        "width": 1000,
        "xaxis": {
         "title": {
          "text": "Number of edges"
         },
         "type": "log"
        },
        "yaxis": {
         "title": {
          "text": "KL(Model, Ablated)"
         }
        }
       }
      }
     },
     "metadata": {},
     "output_type": "display_data"
    }
   ],
   "source": [
    "# Plotly line plot of threshold vs kl div \n",
    "fig = go.Figure(data=go.Scatter(x=num_nodes, y=ablation_scores_kl, mode='lines+markers', name=\"Ours\", line=dict(width=6), marker=dict(size=15))) \n",
    "\n",
    "# Update layout \n",
    "fig.update_layout(xaxis_title='Number of edges', yaxis_title='KL(Model, Ablated)', font=dict(size=24), plot_bgcolor='white', width=1000, height=600) \n",
    "\n",
    "# X-axis log\n",
    "fig.update_xaxes(type=\"log\")\n",
    "\n",
    "fig.show()"
   ]
  },
  {
   "cell_type": "code",
   "execution_count": 70,
   "metadata": {},
   "outputs": [
    {
     "data": {
      "application/vnd.plotly.v1+json": {
       "config": {
        "plotlyServerURL": "https://plot.ly"
       },
       "data": [
        {
         "line": {
          "width": 6
         },
         "marker": {
          "size": 15
         },
         "mode": "lines+markers",
         "name": "Ours",
         "type": "scatter",
         "x": [
          9963,
          3231,
          1628,
          939,
          846,
          690,
          659,
          542,
          470,
          435,
          403,
          388,
          359,
          347,
          279,
          213,
          205,
          186,
          166,
          139,
          131,
          85,
          63,
          52
         ],
         "y": [
          0,
          0.029519200325012207,
          0.009184479713439941,
          1.6438000202178955,
          2.4495577812194824,
          2.554452419281006,
          2.6392531394958496,
          2.021601438522339,
          1.4760050773620605,
          2.378251791000366,
          2.7653627395629883,
          2.611438274383545,
          3.035233736038208,
          1.9559524059295654,
          3.237445116043091,
          3.0323541164398193,
          3.4748175144195557,
          3.0920984745025635,
          3.158147096633911,
          3.1666433811187744,
          2.746795415878296,
          2.794672966003418,
          2.6895499229431152,
          2.528750419616699
         ]
        }
       ],
       "layout": {
        "font": {
         "size": 24
        },
        "height": 600,
        "plot_bgcolor": "white",
        "template": {
         "data": {
          "bar": [
           {
            "error_x": {
             "color": "#2a3f5f"
            },
            "error_y": {
             "color": "#2a3f5f"
            },
            "marker": {
             "line": {
              "color": "#E5ECF6",
              "width": 0.5
             },
             "pattern": {
              "fillmode": "overlay",
              "size": 10,
              "solidity": 0.2
             }
            },
            "type": "bar"
           }
          ],
          "barpolar": [
           {
            "marker": {
             "line": {
              "color": "#E5ECF6",
              "width": 0.5
             },
             "pattern": {
              "fillmode": "overlay",
              "size": 10,
              "solidity": 0.2
             }
            },
            "type": "barpolar"
           }
          ],
          "carpet": [
           {
            "aaxis": {
             "endlinecolor": "#2a3f5f",
             "gridcolor": "white",
             "linecolor": "white",
             "minorgridcolor": "white",
             "startlinecolor": "#2a3f5f"
            },
            "baxis": {
             "endlinecolor": "#2a3f5f",
             "gridcolor": "white",
             "linecolor": "white",
             "minorgridcolor": "white",
             "startlinecolor": "#2a3f5f"
            },
            "type": "carpet"
           }
          ],
          "choropleth": [
           {
            "colorbar": {
             "outlinewidth": 0,
             "ticks": ""
            },
            "type": "choropleth"
           }
          ],
          "contour": [
           {
            "colorbar": {
             "outlinewidth": 0,
             "ticks": ""
            },
            "colorscale": [
             [
              0,
              "#0d0887"
             ],
             [
              0.1111111111111111,
              "#46039f"
             ],
             [
              0.2222222222222222,
              "#7201a8"
             ],
             [
              0.3333333333333333,
              "#9c179e"
             ],
             [
              0.4444444444444444,
              "#bd3786"
             ],
             [
              0.5555555555555556,
              "#d8576b"
             ],
             [
              0.6666666666666666,
              "#ed7953"
             ],
             [
              0.7777777777777778,
              "#fb9f3a"
             ],
             [
              0.8888888888888888,
              "#fdca26"
             ],
             [
              1,
              "#f0f921"
             ]
            ],
            "type": "contour"
           }
          ],
          "contourcarpet": [
           {
            "colorbar": {
             "outlinewidth": 0,
             "ticks": ""
            },
            "type": "contourcarpet"
           }
          ],
          "heatmap": [
           {
            "colorbar": {
             "outlinewidth": 0,
             "ticks": ""
            },
            "colorscale": [
             [
              0,
              "#0d0887"
             ],
             [
              0.1111111111111111,
              "#46039f"
             ],
             [
              0.2222222222222222,
              "#7201a8"
             ],
             [
              0.3333333333333333,
              "#9c179e"
             ],
             [
              0.4444444444444444,
              "#bd3786"
             ],
             [
              0.5555555555555556,
              "#d8576b"
             ],
             [
              0.6666666666666666,
              "#ed7953"
             ],
             [
              0.7777777777777778,
              "#fb9f3a"
             ],
             [
              0.8888888888888888,
              "#fdca26"
             ],
             [
              1,
              "#f0f921"
             ]
            ],
            "type": "heatmap"
           }
          ],
          "heatmapgl": [
           {
            "colorbar": {
             "outlinewidth": 0,
             "ticks": ""
            },
            "colorscale": [
             [
              0,
              "#0d0887"
             ],
             [
              0.1111111111111111,
              "#46039f"
             ],
             [
              0.2222222222222222,
              "#7201a8"
             ],
             [
              0.3333333333333333,
              "#9c179e"
             ],
             [
              0.4444444444444444,
              "#bd3786"
             ],
             [
              0.5555555555555556,
              "#d8576b"
             ],
             [
              0.6666666666666666,
              "#ed7953"
             ],
             [
              0.7777777777777778,
              "#fb9f3a"
             ],
             [
              0.8888888888888888,
              "#fdca26"
             ],
             [
              1,
              "#f0f921"
             ]
            ],
            "type": "heatmapgl"
           }
          ],
          "histogram": [
           {
            "marker": {
             "pattern": {
              "fillmode": "overlay",
              "size": 10,
              "solidity": 0.2
             }
            },
            "type": "histogram"
           }
          ],
          "histogram2d": [
           {
            "colorbar": {
             "outlinewidth": 0,
             "ticks": ""
            },
            "colorscale": [
             [
              0,
              "#0d0887"
             ],
             [
              0.1111111111111111,
              "#46039f"
             ],
             [
              0.2222222222222222,
              "#7201a8"
             ],
             [
              0.3333333333333333,
              "#9c179e"
             ],
             [
              0.4444444444444444,
              "#bd3786"
             ],
             [
              0.5555555555555556,
              "#d8576b"
             ],
             [
              0.6666666666666666,
              "#ed7953"
             ],
             [
              0.7777777777777778,
              "#fb9f3a"
             ],
             [
              0.8888888888888888,
              "#fdca26"
             ],
             [
              1,
              "#f0f921"
             ]
            ],
            "type": "histogram2d"
           }
          ],
          "histogram2dcontour": [
           {
            "colorbar": {
             "outlinewidth": 0,
             "ticks": ""
            },
            "colorscale": [
             [
              0,
              "#0d0887"
             ],
             [
              0.1111111111111111,
              "#46039f"
             ],
             [
              0.2222222222222222,
              "#7201a8"
             ],
             [
              0.3333333333333333,
              "#9c179e"
             ],
             [
              0.4444444444444444,
              "#bd3786"
             ],
             [
              0.5555555555555556,
              "#d8576b"
             ],
             [
              0.6666666666666666,
              "#ed7953"
             ],
             [
              0.7777777777777778,
              "#fb9f3a"
             ],
             [
              0.8888888888888888,
              "#fdca26"
             ],
             [
              1,
              "#f0f921"
             ]
            ],
            "type": "histogram2dcontour"
           }
          ],
          "mesh3d": [
           {
            "colorbar": {
             "outlinewidth": 0,
             "ticks": ""
            },
            "type": "mesh3d"
           }
          ],
          "parcoords": [
           {
            "line": {
             "colorbar": {
              "outlinewidth": 0,
              "ticks": ""
             }
            },
            "type": "parcoords"
           }
          ],
          "pie": [
           {
            "automargin": true,
            "type": "pie"
           }
          ],
          "scatter": [
           {
            "fillpattern": {
             "fillmode": "overlay",
             "size": 10,
             "solidity": 0.2
            },
            "type": "scatter"
           }
          ],
          "scatter3d": [
           {
            "line": {
             "colorbar": {
              "outlinewidth": 0,
              "ticks": ""
             }
            },
            "marker": {
             "colorbar": {
              "outlinewidth": 0,
              "ticks": ""
             }
            },
            "type": "scatter3d"
           }
          ],
          "scattercarpet": [
           {
            "marker": {
             "colorbar": {
              "outlinewidth": 0,
              "ticks": ""
             }
            },
            "type": "scattercarpet"
           }
          ],
          "scattergeo": [
           {
            "marker": {
             "colorbar": {
              "outlinewidth": 0,
              "ticks": ""
             }
            },
            "type": "scattergeo"
           }
          ],
          "scattergl": [
           {
            "marker": {
             "colorbar": {
              "outlinewidth": 0,
              "ticks": ""
             }
            },
            "type": "scattergl"
           }
          ],
          "scattermapbox": [
           {
            "marker": {
             "colorbar": {
              "outlinewidth": 0,
              "ticks": ""
             }
            },
            "type": "scattermapbox"
           }
          ],
          "scatterpolar": [
           {
            "marker": {
             "colorbar": {
              "outlinewidth": 0,
              "ticks": ""
             }
            },
            "type": "scatterpolar"
           }
          ],
          "scatterpolargl": [
           {
            "marker": {
             "colorbar": {
              "outlinewidth": 0,
              "ticks": ""
             }
            },
            "type": "scatterpolargl"
           }
          ],
          "scatterternary": [
           {
            "marker": {
             "colorbar": {
              "outlinewidth": 0,
              "ticks": ""
             }
            },
            "type": "scatterternary"
           }
          ],
          "surface": [
           {
            "colorbar": {
             "outlinewidth": 0,
             "ticks": ""
            },
            "colorscale": [
             [
              0,
              "#0d0887"
             ],
             [
              0.1111111111111111,
              "#46039f"
             ],
             [
              0.2222222222222222,
              "#7201a8"
             ],
             [
              0.3333333333333333,
              "#9c179e"
             ],
             [
              0.4444444444444444,
              "#bd3786"
             ],
             [
              0.5555555555555556,
              "#d8576b"
             ],
             [
              0.6666666666666666,
              "#ed7953"
             ],
             [
              0.7777777777777778,
              "#fb9f3a"
             ],
             [
              0.8888888888888888,
              "#fdca26"
             ],
             [
              1,
              "#f0f921"
             ]
            ],
            "type": "surface"
           }
          ],
          "table": [
           {
            "cells": {
             "fill": {
              "color": "#EBF0F8"
             },
             "line": {
              "color": "white"
             }
            },
            "header": {
             "fill": {
              "color": "#C8D4E3"
             },
             "line": {
              "color": "white"
             }
            },
            "type": "table"
           }
          ]
         },
         "layout": {
          "annotationdefaults": {
           "arrowcolor": "#2a3f5f",
           "arrowhead": 0,
           "arrowwidth": 1
          },
          "autotypenumbers": "strict",
          "coloraxis": {
           "colorbar": {
            "outlinewidth": 0,
            "ticks": ""
           }
          },
          "colorscale": {
           "diverging": [
            [
             0,
             "#8e0152"
            ],
            [
             0.1,
             "#c51b7d"
            ],
            [
             0.2,
             "#de77ae"
            ],
            [
             0.3,
             "#f1b6da"
            ],
            [
             0.4,
             "#fde0ef"
            ],
            [
             0.5,
             "#f7f7f7"
            ],
            [
             0.6,
             "#e6f5d0"
            ],
            [
             0.7,
             "#b8e186"
            ],
            [
             0.8,
             "#7fbc41"
            ],
            [
             0.9,
             "#4d9221"
            ],
            [
             1,
             "#276419"
            ]
           ],
           "sequential": [
            [
             0,
             "#0d0887"
            ],
            [
             0.1111111111111111,
             "#46039f"
            ],
            [
             0.2222222222222222,
             "#7201a8"
            ],
            [
             0.3333333333333333,
             "#9c179e"
            ],
            [
             0.4444444444444444,
             "#bd3786"
            ],
            [
             0.5555555555555556,
             "#d8576b"
            ],
            [
             0.6666666666666666,
             "#ed7953"
            ],
            [
             0.7777777777777778,
             "#fb9f3a"
            ],
            [
             0.8888888888888888,
             "#fdca26"
            ],
            [
             1,
             "#f0f921"
            ]
           ],
           "sequentialminus": [
            [
             0,
             "#0d0887"
            ],
            [
             0.1111111111111111,
             "#46039f"
            ],
            [
             0.2222222222222222,
             "#7201a8"
            ],
            [
             0.3333333333333333,
             "#9c179e"
            ],
            [
             0.4444444444444444,
             "#bd3786"
            ],
            [
             0.5555555555555556,
             "#d8576b"
            ],
            [
             0.6666666666666666,
             "#ed7953"
            ],
            [
             0.7777777777777778,
             "#fb9f3a"
            ],
            [
             0.8888888888888888,
             "#fdca26"
            ],
            [
             1,
             "#f0f921"
            ]
           ]
          },
          "colorway": [
           "#636efa",
           "#EF553B",
           "#00cc96",
           "#ab63fa",
           "#FFA15A",
           "#19d3f3",
           "#FF6692",
           "#B6E880",
           "#FF97FF",
           "#FECB52"
          ],
          "font": {
           "color": "#2a3f5f"
          },
          "geo": {
           "bgcolor": "white",
           "lakecolor": "white",
           "landcolor": "#E5ECF6",
           "showlakes": true,
           "showland": true,
           "subunitcolor": "white"
          },
          "hoverlabel": {
           "align": "left"
          },
          "hovermode": "closest",
          "mapbox": {
           "style": "light"
          },
          "paper_bgcolor": "white",
          "plot_bgcolor": "#E5ECF6",
          "polar": {
           "angularaxis": {
            "gridcolor": "white",
            "linecolor": "white",
            "ticks": ""
           },
           "bgcolor": "#E5ECF6",
           "radialaxis": {
            "gridcolor": "white",
            "linecolor": "white",
            "ticks": ""
           }
          },
          "scene": {
           "xaxis": {
            "backgroundcolor": "#E5ECF6",
            "gridcolor": "white",
            "gridwidth": 2,
            "linecolor": "white",
            "showbackground": true,
            "ticks": "",
            "zerolinecolor": "white"
           },
           "yaxis": {
            "backgroundcolor": "#E5ECF6",
            "gridcolor": "white",
            "gridwidth": 2,
            "linecolor": "white",
            "showbackground": true,
            "ticks": "",
            "zerolinecolor": "white"
           },
           "zaxis": {
            "backgroundcolor": "#E5ECF6",
            "gridcolor": "white",
            "gridwidth": 2,
            "linecolor": "white",
            "showbackground": true,
            "ticks": "",
            "zerolinecolor": "white"
           }
          },
          "shapedefaults": {
           "line": {
            "color": "#2a3f5f"
           }
          },
          "ternary": {
           "aaxis": {
            "gridcolor": "white",
            "linecolor": "white",
            "ticks": ""
           },
           "baxis": {
            "gridcolor": "white",
            "linecolor": "white",
            "ticks": ""
           },
           "bgcolor": "#E5ECF6",
           "caxis": {
            "gridcolor": "white",
            "linecolor": "white",
            "ticks": ""
           }
          },
          "title": {
           "x": 0.05
          },
          "xaxis": {
           "automargin": true,
           "gridcolor": "white",
           "linecolor": "white",
           "ticks": "",
           "title": {
            "standoff": 15
           },
           "zerolinecolor": "white",
           "zerolinewidth": 2
          },
          "yaxis": {
           "automargin": true,
           "gridcolor": "white",
           "linecolor": "white",
           "ticks": "",
           "title": {
            "standoff": 15
           },
           "zerolinecolor": "white",
           "zerolinewidth": 2
          }
         }
        },
        "width": 1000,
        "xaxis": {
         "title": {
          "text": "Number of edges"
         },
         "type": "log"
        },
        "yaxis": {
         "title": {
          "text": "LD(Model, Ablated)"
         }
        }
       }
      }
     },
     "metadata": {},
     "output_type": "display_data"
    }
   ],
   "source": [
    "# Plotly line plot of threshold vs logit diff\n",
    "fig = go.Figure(data=go.Scatter(x=num_nodes, y=ablation_scores_ld, mode='lines+markers', name=\"Ours\", line=dict(width=6), marker=dict(size=15)))\n",
    "\n",
    "# Update layout\n",
    "fig.update_layout(xaxis_title='Number of edges', yaxis_title='LD(Model, Ablated)', font=dict(size=24), plot_bgcolor='white', width=1000, height=600)\n",
    "\n",
    "# X-axis log\n",
    "fig.update_xaxes(type=\"log\")\n",
    "\n",
    "fig.show()"
   ]
  },
  {
   "cell_type": "code",
   "execution_count": 71,
   "metadata": {},
   "outputs": [
    {
     "data": {
      "application/vnd.plotly.v1+json": {
       "config": {
        "plotlyServerURL": "https://plot.ly"
       },
       "data": [
        {
         "line": {
          "width": 6
         },
         "marker": {
          "size": 15
         },
         "mode": "lines+markers",
         "name": "Ours",
         "type": "scatter",
         "x": [
          9963,
          3231,
          1628,
          939,
          846,
          690,
          659,
          542,
          470,
          435,
          403,
          388,
          359,
          347,
          279,
          213,
          205,
          186,
          166,
          139,
          131,
          85,
          63,
          52
         ],
         "y": [
          1,
          0.9966368079185486,
          0.9927830696105957,
          0.6184971332550049,
          0.45975247025489807,
          0.4818989932537079,
          0.18455253541469574,
          0.12992042303085327,
          0.1390773355960846,
          0.11583888530731201,
          0.04412619769573212,
          0.3003445267677307,
          0.332083523273468,
          0.3084441125392914,
          0.36778658628463745,
          0.37990525364875793,
          0.29824355244636536,
          0.17929181456565857,
          -0.10937874019145966,
          -0.09588120132684708,
          -0.049683257937431335,
          -0.06675508618354797,
          0.051783718168735504,
          0.10704289376735687
         ]
        }
       ],
       "layout": {
        "font": {
         "size": 24
        },
        "height": 600,
        "plot_bgcolor": "white",
        "template": {
         "data": {
          "bar": [
           {
            "error_x": {
             "color": "#2a3f5f"
            },
            "error_y": {
             "color": "#2a3f5f"
            },
            "marker": {
             "line": {
              "color": "#E5ECF6",
              "width": 0.5
             },
             "pattern": {
              "fillmode": "overlay",
              "size": 10,
              "solidity": 0.2
             }
            },
            "type": "bar"
           }
          ],
          "barpolar": [
           {
            "marker": {
             "line": {
              "color": "#E5ECF6",
              "width": 0.5
             },
             "pattern": {
              "fillmode": "overlay",
              "size": 10,
              "solidity": 0.2
             }
            },
            "type": "barpolar"
           }
          ],
          "carpet": [
           {
            "aaxis": {
             "endlinecolor": "#2a3f5f",
             "gridcolor": "white",
             "linecolor": "white",
             "minorgridcolor": "white",
             "startlinecolor": "#2a3f5f"
            },
            "baxis": {
             "endlinecolor": "#2a3f5f",
             "gridcolor": "white",
             "linecolor": "white",
             "minorgridcolor": "white",
             "startlinecolor": "#2a3f5f"
            },
            "type": "carpet"
           }
          ],
          "choropleth": [
           {
            "colorbar": {
             "outlinewidth": 0,
             "ticks": ""
            },
            "type": "choropleth"
           }
          ],
          "contour": [
           {
            "colorbar": {
             "outlinewidth": 0,
             "ticks": ""
            },
            "colorscale": [
             [
              0,
              "#0d0887"
             ],
             [
              0.1111111111111111,
              "#46039f"
             ],
             [
              0.2222222222222222,
              "#7201a8"
             ],
             [
              0.3333333333333333,
              "#9c179e"
             ],
             [
              0.4444444444444444,
              "#bd3786"
             ],
             [
              0.5555555555555556,
              "#d8576b"
             ],
             [
              0.6666666666666666,
              "#ed7953"
             ],
             [
              0.7777777777777778,
              "#fb9f3a"
             ],
             [
              0.8888888888888888,
              "#fdca26"
             ],
             [
              1,
              "#f0f921"
             ]
            ],
            "type": "contour"
           }
          ],
          "contourcarpet": [
           {
            "colorbar": {
             "outlinewidth": 0,
             "ticks": ""
            },
            "type": "contourcarpet"
           }
          ],
          "heatmap": [
           {
            "colorbar": {
             "outlinewidth": 0,
             "ticks": ""
            },
            "colorscale": [
             [
              0,
              "#0d0887"
             ],
             [
              0.1111111111111111,
              "#46039f"
             ],
             [
              0.2222222222222222,
              "#7201a8"
             ],
             [
              0.3333333333333333,
              "#9c179e"
             ],
             [
              0.4444444444444444,
              "#bd3786"
             ],
             [
              0.5555555555555556,
              "#d8576b"
             ],
             [
              0.6666666666666666,
              "#ed7953"
             ],
             [
              0.7777777777777778,
              "#fb9f3a"
             ],
             [
              0.8888888888888888,
              "#fdca26"
             ],
             [
              1,
              "#f0f921"
             ]
            ],
            "type": "heatmap"
           }
          ],
          "heatmapgl": [
           {
            "colorbar": {
             "outlinewidth": 0,
             "ticks": ""
            },
            "colorscale": [
             [
              0,
              "#0d0887"
             ],
             [
              0.1111111111111111,
              "#46039f"
             ],
             [
              0.2222222222222222,
              "#7201a8"
             ],
             [
              0.3333333333333333,
              "#9c179e"
             ],
             [
              0.4444444444444444,
              "#bd3786"
             ],
             [
              0.5555555555555556,
              "#d8576b"
             ],
             [
              0.6666666666666666,
              "#ed7953"
             ],
             [
              0.7777777777777778,
              "#fb9f3a"
             ],
             [
              0.8888888888888888,
              "#fdca26"
             ],
             [
              1,
              "#f0f921"
             ]
            ],
            "type": "heatmapgl"
           }
          ],
          "histogram": [
           {
            "marker": {
             "pattern": {
              "fillmode": "overlay",
              "size": 10,
              "solidity": 0.2
             }
            },
            "type": "histogram"
           }
          ],
          "histogram2d": [
           {
            "colorbar": {
             "outlinewidth": 0,
             "ticks": ""
            },
            "colorscale": [
             [
              0,
              "#0d0887"
             ],
             [
              0.1111111111111111,
              "#46039f"
             ],
             [
              0.2222222222222222,
              "#7201a8"
             ],
             [
              0.3333333333333333,
              "#9c179e"
             ],
             [
              0.4444444444444444,
              "#bd3786"
             ],
             [
              0.5555555555555556,
              "#d8576b"
             ],
             [
              0.6666666666666666,
              "#ed7953"
             ],
             [
              0.7777777777777778,
              "#fb9f3a"
             ],
             [
              0.8888888888888888,
              "#fdca26"
             ],
             [
              1,
              "#f0f921"
             ]
            ],
            "type": "histogram2d"
           }
          ],
          "histogram2dcontour": [
           {
            "colorbar": {
             "outlinewidth": 0,
             "ticks": ""
            },
            "colorscale": [
             [
              0,
              "#0d0887"
             ],
             [
              0.1111111111111111,
              "#46039f"
             ],
             [
              0.2222222222222222,
              "#7201a8"
             ],
             [
              0.3333333333333333,
              "#9c179e"
             ],
             [
              0.4444444444444444,
              "#bd3786"
             ],
             [
              0.5555555555555556,
              "#d8576b"
             ],
             [
              0.6666666666666666,
              "#ed7953"
             ],
             [
              0.7777777777777778,
              "#fb9f3a"
             ],
             [
              0.8888888888888888,
              "#fdca26"
             ],
             [
              1,
              "#f0f921"
             ]
            ],
            "type": "histogram2dcontour"
           }
          ],
          "mesh3d": [
           {
            "colorbar": {
             "outlinewidth": 0,
             "ticks": ""
            },
            "type": "mesh3d"
           }
          ],
          "parcoords": [
           {
            "line": {
             "colorbar": {
              "outlinewidth": 0,
              "ticks": ""
             }
            },
            "type": "parcoords"
           }
          ],
          "pie": [
           {
            "automargin": true,
            "type": "pie"
           }
          ],
          "scatter": [
           {
            "fillpattern": {
             "fillmode": "overlay",
             "size": 10,
             "solidity": 0.2
            },
            "type": "scatter"
           }
          ],
          "scatter3d": [
           {
            "line": {
             "colorbar": {
              "outlinewidth": 0,
              "ticks": ""
             }
            },
            "marker": {
             "colorbar": {
              "outlinewidth": 0,
              "ticks": ""
             }
            },
            "type": "scatter3d"
           }
          ],
          "scattercarpet": [
           {
            "marker": {
             "colorbar": {
              "outlinewidth": 0,
              "ticks": ""
             }
            },
            "type": "scattercarpet"
           }
          ],
          "scattergeo": [
           {
            "marker": {
             "colorbar": {
              "outlinewidth": 0,
              "ticks": ""
             }
            },
            "type": "scattergeo"
           }
          ],
          "scattergl": [
           {
            "marker": {
             "colorbar": {
              "outlinewidth": 0,
              "ticks": ""
             }
            },
            "type": "scattergl"
           }
          ],
          "scattermapbox": [
           {
            "marker": {
             "colorbar": {
              "outlinewidth": 0,
              "ticks": ""
             }
            },
            "type": "scattermapbox"
           }
          ],
          "scatterpolar": [
           {
            "marker": {
             "colorbar": {
              "outlinewidth": 0,
              "ticks": ""
             }
            },
            "type": "scatterpolar"
           }
          ],
          "scatterpolargl": [
           {
            "marker": {
             "colorbar": {
              "outlinewidth": 0,
              "ticks": ""
             }
            },
            "type": "scatterpolargl"
           }
          ],
          "scatterternary": [
           {
            "marker": {
             "colorbar": {
              "outlinewidth": 0,
              "ticks": ""
             }
            },
            "type": "scatterternary"
           }
          ],
          "surface": [
           {
            "colorbar": {
             "outlinewidth": 0,
             "ticks": ""
            },
            "colorscale": [
             [
              0,
              "#0d0887"
             ],
             [
              0.1111111111111111,
              "#46039f"
             ],
             [
              0.2222222222222222,
              "#7201a8"
             ],
             [
              0.3333333333333333,
              "#9c179e"
             ],
             [
              0.4444444444444444,
              "#bd3786"
             ],
             [
              0.5555555555555556,
              "#d8576b"
             ],
             [
              0.6666666666666666,
              "#ed7953"
             ],
             [
              0.7777777777777778,
              "#fb9f3a"
             ],
             [
              0.8888888888888888,
              "#fdca26"
             ],
             [
              1,
              "#f0f921"
             ]
            ],
            "type": "surface"
           }
          ],
          "table": [
           {
            "cells": {
             "fill": {
              "color": "#EBF0F8"
             },
             "line": {
              "color": "white"
             }
            },
            "header": {
             "fill": {
              "color": "#C8D4E3"
             },
             "line": {
              "color": "white"
             }
            },
            "type": "table"
           }
          ]
         },
         "layout": {
          "annotationdefaults": {
           "arrowcolor": "#2a3f5f",
           "arrowhead": 0,
           "arrowwidth": 1
          },
          "autotypenumbers": "strict",
          "coloraxis": {
           "colorbar": {
            "outlinewidth": 0,
            "ticks": ""
           }
          },
          "colorscale": {
           "diverging": [
            [
             0,
             "#8e0152"
            ],
            [
             0.1,
             "#c51b7d"
            ],
            [
             0.2,
             "#de77ae"
            ],
            [
             0.3,
             "#f1b6da"
            ],
            [
             0.4,
             "#fde0ef"
            ],
            [
             0.5,
             "#f7f7f7"
            ],
            [
             0.6,
             "#e6f5d0"
            ],
            [
             0.7,
             "#b8e186"
            ],
            [
             0.8,
             "#7fbc41"
            ],
            [
             0.9,
             "#4d9221"
            ],
            [
             1,
             "#276419"
            ]
           ],
           "sequential": [
            [
             0,
             "#0d0887"
            ],
            [
             0.1111111111111111,
             "#46039f"
            ],
            [
             0.2222222222222222,
             "#7201a8"
            ],
            [
             0.3333333333333333,
             "#9c179e"
            ],
            [
             0.4444444444444444,
             "#bd3786"
            ],
            [
             0.5555555555555556,
             "#d8576b"
            ],
            [
             0.6666666666666666,
             "#ed7953"
            ],
            [
             0.7777777777777778,
             "#fb9f3a"
            ],
            [
             0.8888888888888888,
             "#fdca26"
            ],
            [
             1,
             "#f0f921"
            ]
           ],
           "sequentialminus": [
            [
             0,
             "#0d0887"
            ],
            [
             0.1111111111111111,
             "#46039f"
            ],
            [
             0.2222222222222222,
             "#7201a8"
            ],
            [
             0.3333333333333333,
             "#9c179e"
            ],
            [
             0.4444444444444444,
             "#bd3786"
            ],
            [
             0.5555555555555556,
             "#d8576b"
            ],
            [
             0.6666666666666666,
             "#ed7953"
            ],
            [
             0.7777777777777778,
             "#fb9f3a"
            ],
            [
             0.8888888888888888,
             "#fdca26"
            ],
            [
             1,
             "#f0f921"
            ]
           ]
          },
          "colorway": [
           "#636efa",
           "#EF553B",
           "#00cc96",
           "#ab63fa",
           "#FFA15A",
           "#19d3f3",
           "#FF6692",
           "#B6E880",
           "#FF97FF",
           "#FECB52"
          ],
          "font": {
           "color": "#2a3f5f"
          },
          "geo": {
           "bgcolor": "white",
           "lakecolor": "white",
           "landcolor": "#E5ECF6",
           "showlakes": true,
           "showland": true,
           "subunitcolor": "white"
          },
          "hoverlabel": {
           "align": "left"
          },
          "hovermode": "closest",
          "mapbox": {
           "style": "light"
          },
          "paper_bgcolor": "white",
          "plot_bgcolor": "#E5ECF6",
          "polar": {
           "angularaxis": {
            "gridcolor": "white",
            "linecolor": "white",
            "ticks": ""
           },
           "bgcolor": "#E5ECF6",
           "radialaxis": {
            "gridcolor": "white",
            "linecolor": "white",
            "ticks": ""
           }
          },
          "scene": {
           "xaxis": {
            "backgroundcolor": "#E5ECF6",
            "gridcolor": "white",
            "gridwidth": 2,
            "linecolor": "white",
            "showbackground": true,
            "ticks": "",
            "zerolinecolor": "white"
           },
           "yaxis": {
            "backgroundcolor": "#E5ECF6",
            "gridcolor": "white",
            "gridwidth": 2,
            "linecolor": "white",
            "showbackground": true,
            "ticks": "",
            "zerolinecolor": "white"
           },
           "zaxis": {
            "backgroundcolor": "#E5ECF6",
            "gridcolor": "white",
            "gridwidth": 2,
            "linecolor": "white",
            "showbackground": true,
            "ticks": "",
            "zerolinecolor": "white"
           }
          },
          "shapedefaults": {
           "line": {
            "color": "#2a3f5f"
           }
          },
          "ternary": {
           "aaxis": {
            "gridcolor": "white",
            "linecolor": "white",
            "ticks": ""
           },
           "baxis": {
            "gridcolor": "white",
            "linecolor": "white",
            "ticks": ""
           },
           "bgcolor": "#E5ECF6",
           "caxis": {
            "gridcolor": "white",
            "linecolor": "white",
            "ticks": ""
           }
          },
          "title": {
           "x": 0.05
          },
          "xaxis": {
           "automargin": true,
           "gridcolor": "white",
           "linecolor": "white",
           "ticks": "",
           "title": {
            "standoff": 15
           },
           "zerolinecolor": "white",
           "zerolinewidth": 2
          },
          "yaxis": {
           "automargin": true,
           "gridcolor": "white",
           "linecolor": "white",
           "ticks": "",
           "title": {
            "standoff": 15
           },
           "zerolinecolor": "white",
           "zerolinewidth": 2
          }
         }
        },
        "width": 1000,
        "xaxis": {
         "title": {
          "text": "Number of edges"
         },
         "type": "log"
        },
        "yaxis": {
         "title": {
          "text": "Faithfulness"
         }
        }
       }
      }
     },
     "metadata": {},
     "output_type": "display_data"
    }
   ],
   "source": [
    "# Plotly line plot of threshold vs faithfulness\n",
    "fig = go.Figure(data=go.Scatter(x=num_nodes, y=faithfulness_scores_kl, mode='lines+markers', name=\"Ours\", line=dict(width=6), marker=dict(size=15)))\n",
    "\n",
    "# Update layout\n",
    "fig.update_layout(xaxis_title='Number of edges', yaxis_title='Faithfulness', font=dict(size=24), plot_bgcolor='white', width=1000, height=600)\n",
    "\n",
    "# X-axis log\n",
    "\n",
    "fig.update_xaxes(type=\"log\")\n",
    "\n",
    "fig.show()"
   ]
  },
  {
   "cell_type": "code",
   "execution_count": 72,
   "metadata": {},
   "outputs": [
    {
     "data": {
      "application/vnd.plotly.v1+json": {
       "config": {
        "plotlyServerURL": "https://plot.ly"
       },
       "data": [
        {
         "line": {
          "width": 6
         },
         "marker": {
          "size": 15
         },
         "mode": "lines+markers",
         "name": "Ours",
         "type": "scatter",
         "x": [
          9963,
          3231,
          1628,
          939,
          846,
          690,
          659,
          542,
          470,
          435,
          403,
          388,
          359,
          347,
          279,
          213,
          205,
          186,
          166,
          139,
          131,
          85,
          63,
          52
         ],
         "y": [
          1,
          0.9937719106674194,
          0.998062252998352,
          0.6531808972358704,
          0.48317715525627136,
          0.4610458314418793,
          0.44315406680107117,
          0.5734700560569763,
          0.6885833144187927,
          0.4982217252254486,
          0.41654667258262634,
          0.4490226209163666,
          0.35960763692855835,
          0.5873210430145264,
          0.31694382429122925,
          0.3602151870727539,
          0.26686152815818787,
          0.3476099669933319,
          0.3336746096611023,
          0.3318819999694824,
          0.4204641282558441,
          0.4103626310825348,
          0.4325421452522278,
          0.46646860241889954
         ]
        }
       ],
       "layout": {
        "font": {
         "size": 24
        },
        "height": 600,
        "plot_bgcolor": "white",
        "template": {
         "data": {
          "bar": [
           {
            "error_x": {
             "color": "#2a3f5f"
            },
            "error_y": {
             "color": "#2a3f5f"
            },
            "marker": {
             "line": {
              "color": "#E5ECF6",
              "width": 0.5
             },
             "pattern": {
              "fillmode": "overlay",
              "size": 10,
              "solidity": 0.2
             }
            },
            "type": "bar"
           }
          ],
          "barpolar": [
           {
            "marker": {
             "line": {
              "color": "#E5ECF6",
              "width": 0.5
             },
             "pattern": {
              "fillmode": "overlay",
              "size": 10,
              "solidity": 0.2
             }
            },
            "type": "barpolar"
           }
          ],
          "carpet": [
           {
            "aaxis": {
             "endlinecolor": "#2a3f5f",
             "gridcolor": "white",
             "linecolor": "white",
             "minorgridcolor": "white",
             "startlinecolor": "#2a3f5f"
            },
            "baxis": {
             "endlinecolor": "#2a3f5f",
             "gridcolor": "white",
             "linecolor": "white",
             "minorgridcolor": "white",
             "startlinecolor": "#2a3f5f"
            },
            "type": "carpet"
           }
          ],
          "choropleth": [
           {
            "colorbar": {
             "outlinewidth": 0,
             "ticks": ""
            },
            "type": "choropleth"
           }
          ],
          "contour": [
           {
            "colorbar": {
             "outlinewidth": 0,
             "ticks": ""
            },
            "colorscale": [
             [
              0,
              "#0d0887"
             ],
             [
              0.1111111111111111,
              "#46039f"
             ],
             [
              0.2222222222222222,
              "#7201a8"
             ],
             [
              0.3333333333333333,
              "#9c179e"
             ],
             [
              0.4444444444444444,
              "#bd3786"
             ],
             [
              0.5555555555555556,
              "#d8576b"
             ],
             [
              0.6666666666666666,
              "#ed7953"
             ],
             [
              0.7777777777777778,
              "#fb9f3a"
             ],
             [
              0.8888888888888888,
              "#fdca26"
             ],
             [
              1,
              "#f0f921"
             ]
            ],
            "type": "contour"
           }
          ],
          "contourcarpet": [
           {
            "colorbar": {
             "outlinewidth": 0,
             "ticks": ""
            },
            "type": "contourcarpet"
           }
          ],
          "heatmap": [
           {
            "colorbar": {
             "outlinewidth": 0,
             "ticks": ""
            },
            "colorscale": [
             [
              0,
              "#0d0887"
             ],
             [
              0.1111111111111111,
              "#46039f"
             ],
             [
              0.2222222222222222,
              "#7201a8"
             ],
             [
              0.3333333333333333,
              "#9c179e"
             ],
             [
              0.4444444444444444,
              "#bd3786"
             ],
             [
              0.5555555555555556,
              "#d8576b"
             ],
             [
              0.6666666666666666,
              "#ed7953"
             ],
             [
              0.7777777777777778,
              "#fb9f3a"
             ],
             [
              0.8888888888888888,
              "#fdca26"
             ],
             [
              1,
              "#f0f921"
             ]
            ],
            "type": "heatmap"
           }
          ],
          "heatmapgl": [
           {
            "colorbar": {
             "outlinewidth": 0,
             "ticks": ""
            },
            "colorscale": [
             [
              0,
              "#0d0887"
             ],
             [
              0.1111111111111111,
              "#46039f"
             ],
             [
              0.2222222222222222,
              "#7201a8"
             ],
             [
              0.3333333333333333,
              "#9c179e"
             ],
             [
              0.4444444444444444,
              "#bd3786"
             ],
             [
              0.5555555555555556,
              "#d8576b"
             ],
             [
              0.6666666666666666,
              "#ed7953"
             ],
             [
              0.7777777777777778,
              "#fb9f3a"
             ],
             [
              0.8888888888888888,
              "#fdca26"
             ],
             [
              1,
              "#f0f921"
             ]
            ],
            "type": "heatmapgl"
           }
          ],
          "histogram": [
           {
            "marker": {
             "pattern": {
              "fillmode": "overlay",
              "size": 10,
              "solidity": 0.2
             }
            },
            "type": "histogram"
           }
          ],
          "histogram2d": [
           {
            "colorbar": {
             "outlinewidth": 0,
             "ticks": ""
            },
            "colorscale": [
             [
              0,
              "#0d0887"
             ],
             [
              0.1111111111111111,
              "#46039f"
             ],
             [
              0.2222222222222222,
              "#7201a8"
             ],
             [
              0.3333333333333333,
              "#9c179e"
             ],
             [
              0.4444444444444444,
              "#bd3786"
             ],
             [
              0.5555555555555556,
              "#d8576b"
             ],
             [
              0.6666666666666666,
              "#ed7953"
             ],
             [
              0.7777777777777778,
              "#fb9f3a"
             ],
             [
              0.8888888888888888,
              "#fdca26"
             ],
             [
              1,
              "#f0f921"
             ]
            ],
            "type": "histogram2d"
           }
          ],
          "histogram2dcontour": [
           {
            "colorbar": {
             "outlinewidth": 0,
             "ticks": ""
            },
            "colorscale": [
             [
              0,
              "#0d0887"
             ],
             [
              0.1111111111111111,
              "#46039f"
             ],
             [
              0.2222222222222222,
              "#7201a8"
             ],
             [
              0.3333333333333333,
              "#9c179e"
             ],
             [
              0.4444444444444444,
              "#bd3786"
             ],
             [
              0.5555555555555556,
              "#d8576b"
             ],
             [
              0.6666666666666666,
              "#ed7953"
             ],
             [
              0.7777777777777778,
              "#fb9f3a"
             ],
             [
              0.8888888888888888,
              "#fdca26"
             ],
             [
              1,
              "#f0f921"
             ]
            ],
            "type": "histogram2dcontour"
           }
          ],
          "mesh3d": [
           {
            "colorbar": {
             "outlinewidth": 0,
             "ticks": ""
            },
            "type": "mesh3d"
           }
          ],
          "parcoords": [
           {
            "line": {
             "colorbar": {
              "outlinewidth": 0,
              "ticks": ""
             }
            },
            "type": "parcoords"
           }
          ],
          "pie": [
           {
            "automargin": true,
            "type": "pie"
           }
          ],
          "scatter": [
           {
            "fillpattern": {
             "fillmode": "overlay",
             "size": 10,
             "solidity": 0.2
            },
            "type": "scatter"
           }
          ],
          "scatter3d": [
           {
            "line": {
             "colorbar": {
              "outlinewidth": 0,
              "ticks": ""
             }
            },
            "marker": {
             "colorbar": {
              "outlinewidth": 0,
              "ticks": ""
             }
            },
            "type": "scatter3d"
           }
          ],
          "scattercarpet": [
           {
            "marker": {
             "colorbar": {
              "outlinewidth": 0,
              "ticks": ""
             }
            },
            "type": "scattercarpet"
           }
          ],
          "scattergeo": [
           {
            "marker": {
             "colorbar": {
              "outlinewidth": 0,
              "ticks": ""
             }
            },
            "type": "scattergeo"
           }
          ],
          "scattergl": [
           {
            "marker": {
             "colorbar": {
              "outlinewidth": 0,
              "ticks": ""
             }
            },
            "type": "scattergl"
           }
          ],
          "scattermapbox": [
           {
            "marker": {
             "colorbar": {
              "outlinewidth": 0,
              "ticks": ""
             }
            },
            "type": "scattermapbox"
           }
          ],
          "scatterpolar": [
           {
            "marker": {
             "colorbar": {
              "outlinewidth": 0,
              "ticks": ""
             }
            },
            "type": "scatterpolar"
           }
          ],
          "scatterpolargl": [
           {
            "marker": {
             "colorbar": {
              "outlinewidth": 0,
              "ticks": ""
             }
            },
            "type": "scatterpolargl"
           }
          ],
          "scatterternary": [
           {
            "marker": {
             "colorbar": {
              "outlinewidth": 0,
              "ticks": ""
             }
            },
            "type": "scatterternary"
           }
          ],
          "surface": [
           {
            "colorbar": {
             "outlinewidth": 0,
             "ticks": ""
            },
            "colorscale": [
             [
              0,
              "#0d0887"
             ],
             [
              0.1111111111111111,
              "#46039f"
             ],
             [
              0.2222222222222222,
              "#7201a8"
             ],
             [
              0.3333333333333333,
              "#9c179e"
             ],
             [
              0.4444444444444444,
              "#bd3786"
             ],
             [
              0.5555555555555556,
              "#d8576b"
             ],
             [
              0.6666666666666666,
              "#ed7953"
             ],
             [
              0.7777777777777778,
              "#fb9f3a"
             ],
             [
              0.8888888888888888,
              "#fdca26"
             ],
             [
              1,
              "#f0f921"
             ]
            ],
            "type": "surface"
           }
          ],
          "table": [
           {
            "cells": {
             "fill": {
              "color": "#EBF0F8"
             },
             "line": {
              "color": "white"
             }
            },
            "header": {
             "fill": {
              "color": "#C8D4E3"
             },
             "line": {
              "color": "white"
             }
            },
            "type": "table"
           }
          ]
         },
         "layout": {
          "annotationdefaults": {
           "arrowcolor": "#2a3f5f",
           "arrowhead": 0,
           "arrowwidth": 1
          },
          "autotypenumbers": "strict",
          "coloraxis": {
           "colorbar": {
            "outlinewidth": 0,
            "ticks": ""
           }
          },
          "colorscale": {
           "diverging": [
            [
             0,
             "#8e0152"
            ],
            [
             0.1,
             "#c51b7d"
            ],
            [
             0.2,
             "#de77ae"
            ],
            [
             0.3,
             "#f1b6da"
            ],
            [
             0.4,
             "#fde0ef"
            ],
            [
             0.5,
             "#f7f7f7"
            ],
            [
             0.6,
             "#e6f5d0"
            ],
            [
             0.7,
             "#b8e186"
            ],
            [
             0.8,
             "#7fbc41"
            ],
            [
             0.9,
             "#4d9221"
            ],
            [
             1,
             "#276419"
            ]
           ],
           "sequential": [
            [
             0,
             "#0d0887"
            ],
            [
             0.1111111111111111,
             "#46039f"
            ],
            [
             0.2222222222222222,
             "#7201a8"
            ],
            [
             0.3333333333333333,
             "#9c179e"
            ],
            [
             0.4444444444444444,
             "#bd3786"
            ],
            [
             0.5555555555555556,
             "#d8576b"
            ],
            [
             0.6666666666666666,
             "#ed7953"
            ],
            [
             0.7777777777777778,
             "#fb9f3a"
            ],
            [
             0.8888888888888888,
             "#fdca26"
            ],
            [
             1,
             "#f0f921"
            ]
           ],
           "sequentialminus": [
            [
             0,
             "#0d0887"
            ],
            [
             0.1111111111111111,
             "#46039f"
            ],
            [
             0.2222222222222222,
             "#7201a8"
            ],
            [
             0.3333333333333333,
             "#9c179e"
            ],
            [
             0.4444444444444444,
             "#bd3786"
            ],
            [
             0.5555555555555556,
             "#d8576b"
            ],
            [
             0.6666666666666666,
             "#ed7953"
            ],
            [
             0.7777777777777778,
             "#fb9f3a"
            ],
            [
             0.8888888888888888,
             "#fdca26"
            ],
            [
             1,
             "#f0f921"
            ]
           ]
          },
          "colorway": [
           "#636efa",
           "#EF553B",
           "#00cc96",
           "#ab63fa",
           "#FFA15A",
           "#19d3f3",
           "#FF6692",
           "#B6E880",
           "#FF97FF",
           "#FECB52"
          ],
          "font": {
           "color": "#2a3f5f"
          },
          "geo": {
           "bgcolor": "white",
           "lakecolor": "white",
           "landcolor": "#E5ECF6",
           "showlakes": true,
           "showland": true,
           "subunitcolor": "white"
          },
          "hoverlabel": {
           "align": "left"
          },
          "hovermode": "closest",
          "mapbox": {
           "style": "light"
          },
          "paper_bgcolor": "white",
          "plot_bgcolor": "#E5ECF6",
          "polar": {
           "angularaxis": {
            "gridcolor": "white",
            "linecolor": "white",
            "ticks": ""
           },
           "bgcolor": "#E5ECF6",
           "radialaxis": {
            "gridcolor": "white",
            "linecolor": "white",
            "ticks": ""
           }
          },
          "scene": {
           "xaxis": {
            "backgroundcolor": "#E5ECF6",
            "gridcolor": "white",
            "gridwidth": 2,
            "linecolor": "white",
            "showbackground": true,
            "ticks": "",
            "zerolinecolor": "white"
           },
           "yaxis": {
            "backgroundcolor": "#E5ECF6",
            "gridcolor": "white",
            "gridwidth": 2,
            "linecolor": "white",
            "showbackground": true,
            "ticks": "",
            "zerolinecolor": "white"
           },
           "zaxis": {
            "backgroundcolor": "#E5ECF6",
            "gridcolor": "white",
            "gridwidth": 2,
            "linecolor": "white",
            "showbackground": true,
            "ticks": "",
            "zerolinecolor": "white"
           }
          },
          "shapedefaults": {
           "line": {
            "color": "#2a3f5f"
           }
          },
          "ternary": {
           "aaxis": {
            "gridcolor": "white",
            "linecolor": "white",
            "ticks": ""
           },
           "baxis": {
            "gridcolor": "white",
            "linecolor": "white",
            "ticks": ""
           },
           "bgcolor": "#E5ECF6",
           "caxis": {
            "gridcolor": "white",
            "linecolor": "white",
            "ticks": ""
           }
          },
          "title": {
           "x": 0.05
          },
          "xaxis": {
           "automargin": true,
           "gridcolor": "white",
           "linecolor": "white",
           "ticks": "",
           "title": {
            "standoff": 15
           },
           "zerolinecolor": "white",
           "zerolinewidth": 2
          },
          "yaxis": {
           "automargin": true,
           "gridcolor": "white",
           "linecolor": "white",
           "ticks": "",
           "title": {
            "standoff": 15
           },
           "zerolinecolor": "white",
           "zerolinewidth": 2
          }
         }
        },
        "width": 1000,
        "xaxis": {
         "title": {
          "text": "Number of edges"
         },
         "type": "log"
        },
        "yaxis": {
         "title": {
          "text": "Faithfulness (LD)"
         }
        }
       }
      }
     },
     "metadata": {},
     "output_type": "display_data"
    }
   ],
   "source": [
    "# Plotly line plot of threshold vs faithfulness (logit difference)\n",
    "fig = go.Figure(data=go.Scatter(x=num_nodes, y=faithfulness_scores_ld, mode='lines+markers', name=\"Ours\", line=dict(width=6), marker=dict(size=15)))\n",
    "\n",
    "# Update layout\n",
    "fig.update_layout(xaxis_title='Number of edges', yaxis_title='Faithfulness (LD)', font=dict(size=24), plot_bgcolor='white', width=1000, height=600)\n",
    "\n",
    "# X-axis log\n",
    "fig.update_xaxes(type=\"log\")\n",
    "\n",
    "fig.show()"
   ]
  },
  {
   "cell_type": "markdown",
   "metadata": {},
   "source": [
    "## Getting zoo of data for different models"
   ]
  },
  {
   "cell_type": "code",
   "execution_count": 6,
   "metadata": {},
   "outputs": [],
   "source": [
    "model_names = ['gpt2-small', 'gpt2-large', 'pythia-70-deduped', 'opt-125m']"
   ]
  },
  {
   "cell_type": "code",
   "execution_count": 7,
   "metadata": {},
   "outputs": [
    {
     "name": "stdout",
     "output_type": "stream",
     "text": [
      "Loaded pretrained model gpt2-small into HookedTransformer\n"
     ]
    }
   ],
   "source": [
    "model = HookedTransformer.from_pretrained(model_name = \"gpt2-small\", device='cpu')"
   ]
  },
  {
   "cell_type": "code",
   "execution_count": 7,
   "metadata": {},
   "outputs": [
    {
     "data": {
      "text/plain": [
       "(torch.Size([25, 20]), torch.Size([25, 20]))"
      ]
     },
     "execution_count": 7,
     "metadata": {},
     "output_type": "execute_result"
    }
   ],
   "source": [
    "batch_size = 25\n",
    "seq_len = 10\n",
    "size = (batch_size, seq_len)\n",
    "input_tensor = torch.randint(1000, 10000, size)\n",
    "\n",
    "random_tokens = input_tensor#.to(model.cfg.device)\n",
    "normal_tokens = einops.repeat(random_tokens, \"batch seq_len -> batch (2 seq_len)\")\n",
    "# Corrupted tokens \n",
    "corrupted_tokens = torch.randint(1000, 10000, (batch_size, seq_len*2))\n",
    "normal_tokens.shape, corrupted_tokens.shape"
   ]
  },
  {
   "cell_type": "code",
   "execution_count": 8,
   "metadata": {},
   "outputs": [
    {
     "name": "stderr",
     "output_type": "stream",
     "text": [
      "  0%|          | 0/3 [00:00<?, ?it/s]"
     ]
    },
    {
     "name": "stdout",
     "output_type": "stream",
     "text": [
      "Loaded pretrained model gpt2-small into HookedTransformer\n"
     ]
    },
    {
     "name": "stderr",
     "output_type": "stream",
     "text": [
      " 33%|███▎      | 1/3 [00:03<00:06,  3.15s/it]Special tokens have been added in the vocabulary, make sure the associated word embeddings are fine-tuned or trained.\n"
     ]
    },
    {
     "name": "stdout",
     "output_type": "stream",
     "text": [
      "Loaded pretrained model EleutherAI/pythia-160m-deduped into HookedTransformer\n"
     ]
    },
    {
     "name": "stderr",
     "output_type": "stream",
     "text": [
      " 67%|██████▋   | 2/3 [00:05<00:02,  2.78s/it]"
     ]
    },
    {
     "name": "stdout",
     "output_type": "stream",
     "text": [
      "Loaded pretrained model opt-125m into HookedTransformer\n"
     ]
    },
    {
     "name": "stderr",
     "output_type": "stream",
     "text": [
      "100%|██████████| 3/3 [00:07<00:00,  2.58s/it]\n"
     ]
    }
   ],
   "source": [
    "model_names = ['gpt2-small', 'EleutherAI/pythia-160m-deduped', 'opt-125m'] #'gpt2-large', \n",
    "# Turn grad off\n",
    "torch.set_grad_enabled(False)\n",
    "\n",
    "for model_name in tqdm(model_names):\n",
    "\n",
    "    model = HookedTransformer.from_pretrained(model_name = model_name, device='cpu')\n",
    "\n",
    "    # Normal resid streams\n",
    "    normal_logits, normal_cache = model.run_with_cache(normal_tokens)\n",
    "    normal_cache.compute_head_results()\n",
    "    normal_head_resid, normal_head_labels = normal_cache.stack_head_results(return_labels=True)\n",
    "    normal_head_resid = normal_head_resid.mean(dim=2).squeeze()\n",
    "    normal_head_resid = einops.rearrange(normal_head_resid, \"seq_len batch n_heads -> batch seq_len n_heads\")\n",
    "\n",
    "    # Corrupted resid streams\n",
    "    corrupted_logits, corrupted_cache = model.run_with_cache(corrupted_tokens)\n",
    "    corrupted_cache.compute_head_results()\n",
    "    corrupted_head_resid, corrupted_head_labels = corrupted_cache.stack_head_results(return_labels=True)\n",
    "    corrupted_head_resid = corrupted_head_resid.mean(dim=2).squeeze()\n",
    "    corrupted_head_resid = einops.rearrange(corrupted_head_resid, \"seq_len batch n_heads -> batch seq_len n_heads\")\n",
    "\n",
    "    # Stack the two together\n",
    "    resid_streams = torch.cat([normal_head_resid, corrupted_head_resid], dim=0).detach().cpu()\n",
    "\n",
    "    # Ground truth\n",
    "    ground_truth = [\n",
    "        (0, 4), (0, 7), (1, 4), (1, 10)\n",
    "    ]\n",
    "    labels = normal_head_labels\n",
    "\n",
    "    # Save\n",
    "    # Save to ..data/gt folder\n",
    "    torch.save(resid_streams, f\"../data/induction/{model_name.split('/')[-1]}_resid_heads_mean.pt\")\n",
    "    torch.save(labels, f\"../data/induction/{model_name.split('/')[-1]}_labels_heads_mean.pt\")\n",
    "    torch.save(ground_truth, f\"../data/induction/{model_name.split('/')[-1]}_ground_truth.pt\")\n",
    "    all_tokens = torch.cat([normal_tokens.cpu(), corrupted_tokens.cpu()], dim=0)\n",
    "    torch.save(all_tokens, \"../data/induction/all_tokens.pt\")"
   ]
  },
  {
   "cell_type": "code",
   "execution_count": 23,
   "metadata": {},
   "outputs": [
    {
     "name": "stdout",
     "output_type": "stream",
     "text": [
      "Type: node\n",
      "Task: Induction\n",
      "Using device: cpu\n",
      "[(0, 4), (0, 7), (1, 4), (1, 10)]\n",
      "torch.Size([50, 144, 768])\n",
      "Train streams shape: torch.Size([40, 144, 768])\n",
      "Train labels shape: torch.Size([40])\n",
      "Eval streams shape: torch.Size([10, 144, 768])\n",
      "Eval labels shape: torch.Size([10])\n"
     ]
    },
    {
     "name": "stderr",
     "output_type": "stream",
     "text": [
      "  0%|          | 2/500 [00:00<00:26, 18.66it/s]"
     ]
    },
    {
     "name": "stdout",
     "output_type": "stream",
     "text": [
      "Train loss = 0.8880, Eval loss = 0.7965\n"
     ]
    },
    {
     "name": "stderr",
     "output_type": "stream",
     "text": [
      " 11%|█▏        | 57/500 [00:01<00:09, 47.65it/s]"
     ]
    },
    {
     "name": "stdout",
     "output_type": "stream",
     "text": [
      "Train loss = 0.1637, Eval loss = 0.1633\n"
     ]
    },
    {
     "name": "stderr",
     "output_type": "stream",
     "text": [
      " 21%|██▏       | 107/500 [00:02<00:09, 43.62it/s]"
     ]
    },
    {
     "name": "stdout",
     "output_type": "stream",
     "text": [
      "Train loss = 0.1258, Eval loss = 0.1265\n"
     ]
    },
    {
     "name": "stderr",
     "output_type": "stream",
     "text": [
      " 31%|███▏      | 157/500 [00:03<00:07, 46.51it/s]"
     ]
    },
    {
     "name": "stdout",
     "output_type": "stream",
     "text": [
      "Train loss = 0.1120, Eval loss = 0.1129\n"
     ]
    },
    {
     "name": "stderr",
     "output_type": "stream",
     "text": [
      " 42%|████▏     | 208/500 [00:05<00:07, 41.46it/s]"
     ]
    },
    {
     "name": "stdout",
     "output_type": "stream",
     "text": [
      "Train loss = 0.1037, Eval loss = 0.1048\n"
     ]
    },
    {
     "name": "stderr",
     "output_type": "stream",
     "text": [
      " 52%|█████▏    | 258/500 [00:06<00:05, 45.09it/s]"
     ]
    },
    {
     "name": "stdout",
     "output_type": "stream",
     "text": [
      "Train loss = 0.0967, Eval loss = 0.0980\n"
     ]
    },
    {
     "name": "stderr",
     "output_type": "stream",
     "text": [
      " 62%|██████▏   | 309/500 [00:07<00:04, 46.00it/s]"
     ]
    },
    {
     "name": "stdout",
     "output_type": "stream",
     "text": [
      "Train loss = 0.0910, Eval loss = 0.0924\n"
     ]
    },
    {
     "name": "stderr",
     "output_type": "stream",
     "text": [
      " 71%|███████▏  | 357/500 [00:08<00:03, 46.99it/s]"
     ]
    },
    {
     "name": "stdout",
     "output_type": "stream",
     "text": [
      "Train loss = 0.0859, Eval loss = 0.0876\n"
     ]
    },
    {
     "name": "stderr",
     "output_type": "stream",
     "text": [
      " 82%|████████▏ | 409/500 [00:09<00:01, 50.63it/s]"
     ]
    },
    {
     "name": "stdout",
     "output_type": "stream",
     "text": [
      "Train loss = 0.0825, Eval loss = 0.0844\n"
     ]
    },
    {
     "name": "stderr",
     "output_type": "stream",
     "text": [
      " 91%|█████████ | 456/500 [00:10<00:00, 44.15it/s]"
     ]
    },
    {
     "name": "stdout",
     "output_type": "stream",
     "text": [
      "Train loss = 0.0800, Eval loss = 0.0820\n"
     ]
    },
    {
     "name": "stderr",
     "output_type": "stream",
     "text": [
      "100%|██████████| 500/500 [00:11<00:00, 43.90it/s]\n"
     ]
    },
    {
     "name": "stdout",
     "output_type": "stream",
     "text": [
      "\n",
      "\n",
      "Normalise: False\n",
      "Best F1 score: 0.6977\n",
      "ROC AUC: 0.6375\n",
      "\n",
      "\n",
      "Type: node\n",
      "Task: Induction\n",
      "Using device: cpu\n",
      "[(0, 4), (0, 7), (1, 4), (1, 10)]\n",
      "torch.Size([50, 144, 768])\n",
      "Train streams shape: torch.Size([40, 144, 768])\n",
      "Train labels shape: torch.Size([40])\n",
      "Eval streams shape: torch.Size([10, 144, 768])\n",
      "Eval labels shape: torch.Size([10])\n"
     ]
    },
    {
     "name": "stderr",
     "output_type": "stream",
     "text": [
      "  1%|          | 5/500 [00:00<00:11, 41.70it/s]"
     ]
    },
    {
     "name": "stdout",
     "output_type": "stream",
     "text": [
      "Train loss = 0.0509, Eval loss = 0.0424\n"
     ]
    },
    {
     "name": "stderr",
     "output_type": "stream",
     "text": [
      " 12%|█▏        | 60/500 [00:01<00:09, 45.69it/s]"
     ]
    },
    {
     "name": "stdout",
     "output_type": "stream",
     "text": [
      "Train loss = 0.0018, Eval loss = 0.0018\n"
     ]
    },
    {
     "name": "stderr",
     "output_type": "stream",
     "text": [
      " 22%|██▏       | 108/500 [00:02<00:07, 49.73it/s]"
     ]
    },
    {
     "name": "stdout",
     "output_type": "stream",
     "text": [
      "Train loss = 0.0017, Eval loss = 0.0017\n"
     ]
    },
    {
     "name": "stderr",
     "output_type": "stream",
     "text": [
      " 31%|███       | 156/500 [00:03<00:06, 50.60it/s]"
     ]
    },
    {
     "name": "stdout",
     "output_type": "stream",
     "text": [
      "Train loss = 0.0017, Eval loss = 0.0017\n"
     ]
    },
    {
     "name": "stderr",
     "output_type": "stream",
     "text": [
      " 42%|████▏     | 209/500 [00:04<00:05, 49.24it/s]"
     ]
    },
    {
     "name": "stdout",
     "output_type": "stream",
     "text": [
      "Train loss = 0.0016, Eval loss = 0.0017\n"
     ]
    },
    {
     "name": "stderr",
     "output_type": "stream",
     "text": [
      " 52%|█████▏    | 259/500 [00:05<00:04, 48.52it/s]"
     ]
    },
    {
     "name": "stdout",
     "output_type": "stream",
     "text": [
      "Train loss = 0.0016, Eval loss = 0.0017\n"
     ]
    },
    {
     "name": "stderr",
     "output_type": "stream",
     "text": [
      " 62%|██████▏   | 309/500 [00:06<00:03, 48.70it/s]"
     ]
    },
    {
     "name": "stdout",
     "output_type": "stream",
     "text": [
      "Train loss = 0.0016, Eval loss = 0.0017\n"
     ]
    },
    {
     "name": "stderr",
     "output_type": "stream",
     "text": [
      " 72%|███████▏  | 361/500 [00:07<00:02, 50.34it/s]"
     ]
    },
    {
     "name": "stdout",
     "output_type": "stream",
     "text": [
      "Train loss = 0.0016, Eval loss = 0.0017\n"
     ]
    },
    {
     "name": "stderr",
     "output_type": "stream",
     "text": [
      " 81%|████████▏ | 407/500 [00:08<00:01, 47.40it/s]"
     ]
    },
    {
     "name": "stdout",
     "output_type": "stream",
     "text": [
      "Train loss = 0.0016, Eval loss = 0.0017\n"
     ]
    },
    {
     "name": "stderr",
     "output_type": "stream",
     "text": [
      " 92%|█████████▏| 458/500 [00:09<00:00, 48.26it/s]"
     ]
    },
    {
     "name": "stdout",
     "output_type": "stream",
     "text": [
      "Train loss = 0.0015, Eval loss = 0.0017\n"
     ]
    },
    {
     "name": "stderr",
     "output_type": "stream",
     "text": [
      "100%|██████████| 500/500 [00:10<00:00, 48.08it/s]\n"
     ]
    },
    {
     "name": "stdout",
     "output_type": "stream",
     "text": [
      "\n",
      "\n",
      "Normalise: False\n",
      "Best F1 score: 0.5954\n",
      "ROC AUC: 0.6214\n",
      "\n",
      "\n",
      "Type: node\n",
      "Task: Induction\n",
      "Using device: cpu\n",
      "[(0, 4), (0, 7), (1, 4), (1, 10)]\n",
      "torch.Size([50, 144, 768])\n",
      "Train streams shape: torch.Size([40, 144, 768])\n",
      "Train labels shape: torch.Size([40])\n",
      "Eval streams shape: torch.Size([10, 144, 768])\n",
      "Eval labels shape: torch.Size([10])\n"
     ]
    },
    {
     "name": "stderr",
     "output_type": "stream",
     "text": [
      "  1%|          | 5/500 [00:00<00:10, 45.56it/s]"
     ]
    },
    {
     "name": "stdout",
     "output_type": "stream",
     "text": [
      "Train loss = 0.0294, Eval loss = 0.0244\n"
     ]
    },
    {
     "name": "stderr",
     "output_type": "stream",
     "text": [
      " 12%|█▏        | 58/500 [00:01<00:09, 49.06it/s]"
     ]
    },
    {
     "name": "stdout",
     "output_type": "stream",
     "text": [
      "Train loss = 0.0004, Eval loss = 0.0004\n"
     ]
    },
    {
     "name": "stderr",
     "output_type": "stream",
     "text": [
      " 22%|██▏       | 110/500 [00:02<00:07, 49.73it/s]"
     ]
    },
    {
     "name": "stdout",
     "output_type": "stream",
     "text": [
      "Train loss = 0.0004, Eval loss = 0.0004\n"
     ]
    },
    {
     "name": "stderr",
     "output_type": "stream",
     "text": [
      " 32%|███▏      | 161/500 [00:03<00:06, 50.89it/s]"
     ]
    },
    {
     "name": "stdout",
     "output_type": "stream",
     "text": [
      "Train loss = 0.0004, Eval loss = 0.0003\n"
     ]
    },
    {
     "name": "stderr",
     "output_type": "stream",
     "text": [
      " 42%|████▏     | 210/500 [00:04<00:05, 48.52it/s]"
     ]
    },
    {
     "name": "stdout",
     "output_type": "stream",
     "text": [
      "Train loss = 0.0003, Eval loss = 0.0003\n"
     ]
    },
    {
     "name": "stderr",
     "output_type": "stream",
     "text": [
      " 51%|█████▏    | 257/500 [00:05<00:04, 48.77it/s]"
     ]
    },
    {
     "name": "stdout",
     "output_type": "stream",
     "text": [
      "Train loss = 0.0003, Eval loss = 0.0003\n"
     ]
    },
    {
     "name": "stderr",
     "output_type": "stream",
     "text": [
      " 61%|██████    | 305/500 [00:06<00:03, 50.23it/s]"
     ]
    },
    {
     "name": "stdout",
     "output_type": "stream",
     "text": [
      "Train loss = 0.0003, Eval loss = 0.0003\n"
     ]
    },
    {
     "name": "stderr",
     "output_type": "stream",
     "text": [
      " 72%|███████▏  | 358/500 [00:07<00:02, 49.05it/s]"
     ]
    },
    {
     "name": "stdout",
     "output_type": "stream",
     "text": [
      "Train loss = 0.0003, Eval loss = 0.0003\n"
     ]
    },
    {
     "name": "stderr",
     "output_type": "stream",
     "text": [
      " 82%|████████▏ | 410/500 [00:08<00:01, 51.11it/s]"
     ]
    },
    {
     "name": "stdout",
     "output_type": "stream",
     "text": [
      "Train loss = 0.0003, Eval loss = 0.0003\n"
     ]
    },
    {
     "name": "stderr",
     "output_type": "stream",
     "text": [
      " 92%|█████████▏| 459/500 [00:09<00:00, 48.50it/s]"
     ]
    },
    {
     "name": "stdout",
     "output_type": "stream",
     "text": [
      "Train loss = 0.0003, Eval loss = 0.0003\n"
     ]
    },
    {
     "name": "stderr",
     "output_type": "stream",
     "text": [
      "100%|██████████| 500/500 [00:10<00:00, 49.15it/s]"
     ]
    },
    {
     "name": "stdout",
     "output_type": "stream",
     "text": [
      "\n",
      "\n",
      "Normalise: False\n",
      "Best F1 score: 0.3723\n",
      "ROC AUC: 0.4652\n",
      "\n",
      "\n"
     ]
    },
    {
     "name": "stderr",
     "output_type": "stream",
     "text": [
      "\n"
     ]
    }
   ],
   "source": [
    "torch.set_grad_enabled(True)\n",
    "\n",
    "for model_name in model_names:\n",
    "\n",
    "    task = 'induction'\n",
    "    task_type = 'node'\n",
    "    assert task_type in ['node', 'edge'], \"Type must be either 'node' or 'edge'\"\n",
    "    print(f\"Type: {task_type}\")\n",
    "    task_mappings = {\n",
    "        'gt': 'Greater-than',\n",
    "        'ioi': 'Indirect Object Identification',\n",
    "        'ds': 'Docstring',\n",
    "        'induction': 'Induction',\n",
    "    }\n",
    "\n",
    "    print(f\"Task: {task_mappings[task]}\")\n",
    "    device = 'cuda' if torch.cuda.is_available() else 'cpu'\n",
    "    print(f\"Using device: {device}\")\n",
    "\n",
    "    num_unique = 300\n",
    "    n_epochs = 500\n",
    "\n",
    "\n",
    "    roc_results = []\n",
    "\n",
    "    # Load residual streams\n",
    "    resid_streams = torch.load(f\"../data/{task}/{model_name.split('/')[-1]}_resid_heads_mean.pt\").to(device)\n",
    "    head_labels = torch.load(f'../data/{task}/{model_name.split('/')[-1]}_labels_heads_mean.pt')\n",
    "    ground_truth = torch.load(f'../data/{task}/{model_name.split('/')[-1]}_ground_truth.pt')\n",
    "    print(ground_truth)\n",
    "    print(resid_streams.shape)\n",
    "\n",
    "\n",
    "    # Shuffle and create the labels\n",
    "    labels = torch.ones(resid_streams.shape[0]//2) # BIG ASSUMPTION: assumes first half is positive and second half is negative\n",
    "    labels = torch.cat((labels, torch.zeros_like(labels)))\n",
    "    permutation = torch.randperm(resid_streams.shape[0])\n",
    "    resid_shuffled = resid_streams[permutation, :, :]\n",
    "    labels_shuffled = labels[permutation]\n",
    "    cutoff = int(resid_shuffled.shape[0] * 0.8)\n",
    "    train_streams = resid_shuffled[:cutoff, :, :].to(device)\n",
    "    train_labels = labels_shuffled[:cutoff].to(device)\n",
    "    eval_streams = resid_shuffled[cutoff:, :, :].to(device)\n",
    "    eval_labels = labels_shuffled[cutoff:].to(device)\n",
    "\n",
    "    print(f\"Train streams shape: {train_streams.shape}\")\n",
    "    print(f\"Train labels shape: {train_labels.shape}\")  \n",
    "    print(f\"Eval streams shape: {eval_streams.shape}\")\n",
    "    print(f\"Eval labels shape: {eval_labels.shape}\")\n",
    "\n",
    "\n",
    "    model = SparseAutoencoder(n_input_features=resid_streams.shape[-1], n_learned_features=num_unique, geometric_median_dataset=None).to(device)\n",
    "\n",
    "    optimizer = optim.Adam(model.parameters(), lr=0.001)\n",
    "\n",
    "    model = train(model, n_epochs, optimizer, train_streams, eval_streams, lambda_=0.01)\n",
    "    model = model.to('cpu')\n",
    "    resid_streams = resid_streams.to('cpu')\n",
    "    # Save model\n",
    "    torch.save(model, f'../models/{task}/{model_name.split('/')[-1]}_sparse_autoencoder.pt')\n",
    "\n",
    "    heads = []\n",
    "    layers = []\n",
    "    for i, l in enumerate(head_labels):\n",
    "        layer, head = feature_string_to_head_and_layer(i, head_labels)\n",
    "        heads.append(head)\n",
    "        layers.append(layer)\n",
    "\n",
    "    heads = list(set(heads))\n",
    "    layers = list(set(layers))\n",
    "\n",
    "    ground_truth_array = np.zeros((len(layers), len(heads)))\n",
    "    for layer, head in ground_truth:\n",
    "        ground_truth_array[layer, head] = 1\n",
    "\n",
    "    normalise = False# if task == 'ds' else True\n",
    "\n",
    "    # Plot the ground truth (head, layer) pairs (1 if in ground truth, 0 otherwise)\n",
    "\n",
    "    model.eval()\n",
    "    learned_activations = model(resid_streams)[0].detach().cpu().numpy()\n",
    "    all_indices = np.argmax(learned_activations, axis=2)\n",
    "\n",
    "    print(f\"\\n\\nNormalise: {normalise}\")\n",
    "    y_true, y_pred, fpr, tpr, node_roc_auc, f1, thresholds = gen_softmaxed_unique_to_pos(all_indices, ground_truth_array, head_labels, normalise=normalise)\n",
    "\n",
    "    # Print best f1 score (and corresponding threshold)\n",
    "    node_best_f1 = np.max(f1)\n",
    "    best_threshold = thresholds[np.argmax(f1)]\n",
    "    print(f\"Best F1 score: {node_best_f1:.4f}\")\n",
    "\n",
    "    # Print ROC AUC\n",
    "    print(f\"ROC AUC: {node_roc_auc:.4f}\\n\\n\")"
   ]
  },
  {
   "cell_type": "code",
   "execution_count": 18,
   "metadata": {},
   "outputs": [],
   "source": [
    "# Repeat with num edges\n",
    "def gen_co_occurrence_matrix(all_indices, n_heads, n_feat):\n",
    "    co_occurrence_matrix = np.zeros((n_heads, n_heads, n_feat, n_feat))\n",
    "\n",
    "    for e in range(all_indices.shape[0]):  # For each example\n",
    "        for h1 in range(n_heads):  # For each head\n",
    "            c1 = all_indices[e, h1]  # Code in head h1\n",
    "            for h2 in range(n_heads):  # For each other head\n",
    "                if h1 != h2:  # Skip counting co-occurrence of a head with itself\n",
    "                    c2 = all_indices[e, h2]  # Code in head h2\n",
    "                    # Increment co-occurrence count for (h1, h2)\n",
    "                    co_occurrence_matrix[h1, h2, c1, c2] += 1\n",
    "\n",
    "    return co_occurrence_matrix\n",
    "\n",
    "def normalize_co_occurrence_matrix(co_occurrence_matrix):\n",
    "    # Assuming co_occurrence_matrix is of shape (n_heads, n_heads, n_feat, n_feat)\n",
    "    n_heads, _, n_feat, _ = co_occurrence_matrix.shape\n",
    "    normalized_matrix = np.zeros_like(co_occurrence_matrix)\n",
    "\n",
    "    for h1 in range(n_heads):\n",
    "        for h2 in range(n_heads):\n",
    "            if h1 != h2:  # Skip self co-occurrences\n",
    "                total_co_occurrences = np.sum(co_occurrence_matrix[h1, h2, :, :])\n",
    "                if total_co_occurrences > 0:  # Avoid division by zero\n",
    "                    normalized_matrix[h1, h2, :, :] = co_occurrence_matrix[h1, h2, :, :] / total_co_occurrences\n",
    "\n",
    "    return normalized_matrix\n",
    "\n",
    "def unique_co_occurrences(positive_matrix, negative_matrix, normalise=True):\n",
    "    # Normalize matrices\n",
    "    if normalise:\n",
    "        positive_matrix = normalize_co_occurrence_matrix(positive_matrix)\n",
    "        negative_matrix = normalize_co_occurrence_matrix(negative_matrix)\n",
    "\n",
    "    n_heads, _, n_feat, _ = positive_matrix.shape\n",
    "    unique_co_occurrence_counts = np.zeros((n_heads, n_heads))\n",
    "    \n",
    "    for h1 in range(n_heads):\n",
    "        for h2 in range(n_heads):\n",
    "            if h1 != h2:  # Skip self co-occurrences\n",
    "                # Find co-occurrences in positive not present in negative\n",
    "                unique_positives = positive_matrix[h1, h2, :, :] > 0\n",
    "                negatives = negative_matrix[h1, h2, :, :] > 0\n",
    "                # Boolean array of unique positives\n",
    "                unique = unique_positives & ~negatives\n",
    "                if normalise:\n",
    "                    # Normalize count by total co-occurrences for this head pair in positive matrix\n",
    "                    total_co_occurrences = np.sum(positive_matrix[h1, h2, :, :] > 0) + np.sum(negative_matrix[h1, h2, :, :] > 0)\n",
    "                    if total_co_occurrences > 0:  # Avoid division by zero\n",
    "                        unique_count_normalized = np.sum(unique) / total_co_occurrences\n",
    "                    else:\n",
    "                        unique_count_normalized = 0\n",
    "                    # Set normalized unique counts for this head pair\n",
    "                    unique_co_occurrence_counts[h1, h2] = unique_count_normalized\n",
    "                else:\n",
    "                    # Count unique co-occurrences\n",
    "                    unique_co_occurrence_counts[h1, h2] = np.sum(unique)\n",
    "\n",
    "    return unique_co_occurrence_counts\n",
    "\n",
    "def array_to_ablations(array, threshold):\n",
    "    binary_array = (array > threshold).astype(int)\n",
    "    try:\n",
    "        # Num edges is the number of elements that are non-zero in the binary array\n",
    "        num_edges = np.sum(binary_array) // 2\n",
    "        # Get head numbers that are not zero\n",
    "        heads = list(set(np.array(np.argwhere(binary_array).tolist())[:, 0].tolist()))\n",
    "        # Heads to ablate\n",
    "        heads_to_ablate = [x for x in range(144) if x not in heads]\n",
    "        # Convert head index into (layer, head) tuple\n",
    "        heads = [feature_string_to_head_and_layer(h, head_labels) for h in heads_to_ablate]\n",
    "        #num_edges = 144 - calculate_total_edges(heads)\n",
    "        # Num edges is \n",
    "        return heads, num_edges\n",
    "    except:\n",
    "        heads = [x for x in range(144)]\n",
    "        heads = [feature_string_to_head_and_layer(h, head_labels) for h in heads]\n",
    "        return heads, 0"
   ]
  },
  {
   "cell_type": "code",
   "execution_count": 6,
   "metadata": {},
   "outputs": [
    {
     "name": "stderr",
     "output_type": "stream",
     "text": [
      "  0%|          | 0/3 [00:00<?, ?it/s]"
     ]
    },
    {
     "name": "stdout",
     "output_type": "stream",
     "text": [
      "Loaded pretrained model gpt2-small into HookedTransformer\n",
      "Num layers: 12, to add: 2, start layer: 1\n"
     ]
    },
    {
     "name": "stderr",
     "output_type": "stream",
     "text": [
      " 33%|███▎      | 1/3 [00:54<01:48, 54.36s/it]Special tokens have been added in the vocabulary, make sure the associated word embeddings are fine-tuned or trained.\n"
     ]
    },
    {
     "name": "stdout",
     "output_type": "stream",
     "text": [
      "Loaded pretrained model EleutherAI/pythia-160m-deduped into HookedTransformer\n",
      "Num layers: 12, to add: 2, start layer: 1\n"
     ]
    },
    {
     "name": "stderr",
     "output_type": "stream",
     "text": [
      " 67%|██████▋   | 2/3 [01:34<00:46, 46.02s/it]"
     ]
    },
    {
     "name": "stdout",
     "output_type": "stream",
     "text": [
      "Loaded pretrained model opt-125m into HookedTransformer\n",
      "Num layers: 12, to add: 2, start layer: 1\n"
     ]
    },
    {
     "name": "stderr",
     "output_type": "stream",
     "text": [
      "100%|██████████| 3/3 [02:08<00:00, 42.71s/it]\n"
     ]
    }
   ],
   "source": [
    "results_dict = {}\n",
    "task = 'induction'\n",
    "\n",
    "def positive_array_to_ablations(pos_array, threshold, faithfulness=True, start_layer=1):\n",
    "    binary_array = (pos_array > threshold).astype(int) if faithfulness else (pos_array < threshold).astype(int)\n",
    "    # Rows are layers, columns are heads -> return list of tuples of (layer, head)\n",
    "    return [(layer, head) for layer in range(binary_array.shape[0]) for head in range(binary_array.shape[1]) if binary_array[layer, head] == 0 and layer > start_layer]\n",
    "\n",
    "for model_name in tqdm(model_names):\n",
    "\n",
    "    # Load the residual streams and trained model\n",
    "    resid_streams = torch.load(f\"../data/{task}/{model_name.split('/')[-1]}_resid_heads_mean.pt\")\n",
    "    #model = SparseAutoencoder(n_input_features=resid_streams.shape[-1], n_learned_features=300, geometric_median_dataset=None).to(device)\n",
    "    model = torch.load(f'../models/{task}/{model_name.split('/')[-1]}_sparse_autoencoder.pt')\n",
    "    tl_model = HookedTransformer.from_pretrained(model_name = model_name, device='cpu')\n",
    "    # Turn torch off\n",
    "    torch.set_grad_enabled(False)\n",
    "\n",
    "    # Learned activations and then take argmax to discretise\n",
    "    learned_activations = model(resid_streams)[0].detach().cpu().numpy()\n",
    "    all_indices = np.argmax(learned_activations, axis=2)\n",
    "\n",
    "    halfway = all_indices.shape[0] // 2\n",
    "    positive_indices = all_indices[:halfway, :]\n",
    "    negative_indices = all_indices[halfway:, :]\n",
    "\n",
    "    unique_to_positive_array = gen_array_template(head_labels)\n",
    "\n",
    "    normalise = False\n",
    "\n",
    "    for i in range(len(head_labels)):\n",
    "        # Calculate head and layer\n",
    "        layer, head = feature_string_to_head_and_layer(i, head_labels)\n",
    "\n",
    "        positive = set(positive_indices[:, i].tolist())\n",
    "        negative = set(negative_indices[:, i].tolist())\n",
    "        total_unique = positive.union(negative)\n",
    "\n",
    "        # In positive but not negative\n",
    "        unique_to_positive = list(positive - negative)\n",
    "        # In negative but not positive\n",
    "        unique_to_negative = list(negative - positive)\n",
    "\n",
    "        if normalise: unique_to_positive_array[layer, head] = len(unique_to_positive) / len(total_unique)\n",
    "        \n",
    "        else: unique_to_positive_array[layer, head] = len(unique_to_positive)\n",
    "\n",
    "    array_shape = unique_to_positive_array.shape\n",
    "    unique_to_positive_array = unique_to_positive_array.flatten()\n",
    "\n",
    "    # Apply softmax\n",
    "    unique_to_positive_array = np.exp(unique_to_positive_array) / np.sum(np.exp(unique_to_positive_array))\n",
    "\n",
    "    # Reshape\n",
    "    unique_to_positive_array = unique_to_positive_array.reshape(array_shape)\n",
    "\n",
    "    y_true, y_pred, fpr, tpr, node_roc_auc, f1, thresholds = gen_softmaxed_unique_to_pos(all_indices, ground_truth_array, head_labels, normalise=normalise)\n",
    "\n",
    "\n",
    "    num_nodes = []\n",
    "    ablation_scores_kl = []\n",
    "    ablation_scores_ld = []\n",
    "    faithfulness_scores_kl = []\n",
    "    faithfulness_scores_ld = []\n",
    "\n",
    "    num_layers = 12 #if task == 'induction' else 12\n",
    "    to_add = 2 #if task == 'induction' else 2\n",
    "    start_layer = 1 #if task == 'induction' else 1\n",
    "    print(f\"Num layers: {num_layers}, to add: {to_add}, start layer: {start_layer}\")\n",
    "\n",
    "    num_heads = len(head_labels) // num_layers\n",
    "    all_head_layers = [(layer, head) for layer in range(num_layers) for head in range(num_heads)]\n",
    "\n",
    "    heads_to_ablate_sequential = []\n",
    "\n",
    "    for threshold in thresholds:\n",
    "        # Our ablations, with our predicted circuit\n",
    "        heads_to_ablate = positive_array_to_ablations(unique_to_positive_array, threshold=threshold, faithfulness=False, start_layer=start_layer)\n",
    "        #print(f\"Heads to ablate: {heads_to_ablate}\")\n",
    "        ablation_score_kl = get_ablation_scores(tl_model, all_tokens, heads_to_ablate)\n",
    "        ablation_score_ld = get_ablation_scores(tl_model, all_tokens, heads_to_ablate, metric=\"logit_difference\")\n",
    "        faithfulness_kl = faithfulness_score(tl_model, all_tokens, heads_to_ablate, all_heads)\n",
    "        faithfulness_ld = faithfulness_score(tl_model, all_tokens, heads_to_ablate, all_heads, metric=\"logit_difference\")\n",
    "        num_nodes.append(len(all_head_layers) - len(heads_to_ablate))\n",
    "        ablation_scores_kl.append(ablation_score_kl)\n",
    "        ablation_scores_ld.append(ablation_score_ld)\n",
    "        faithfulness_scores_kl.append(faithfulness_kl)\n",
    "        faithfulness_scores_ld.append(faithfulness_ld)\n",
    "\n",
    "    results_dict[model_name] = {\n",
    "        'num_nodes': num_nodes,\n",
    "        'ablation_scores_kl': ablation_scores_kl,\n",
    "        'ablation_scores_ld': ablation_scores_ld,\n",
    "        'faithfulness_scores_kl': faithfulness_scores_kl,\n",
    "        'faithfulness_scores_ld': faithfulness_scores_ld\n",
    "    }"
   ]
  },
  {
   "cell_type": "code",
   "execution_count": 8,
   "metadata": {},
   "outputs": [],
   "source": [
    "# Convert all lists of tensors in result dicts to lists of floats\n",
    "for model_name in results_dict.keys():\n",
    "    for key in results_dict[model_name].keys():\n",
    "        try:\n",
    "            results_dict[model_name][key] = [x.item() for x in results_dict[model_name][key]]\n",
    "        except:\n",
    "            continue"
   ]
  },
  {
   "cell_type": "code",
   "execution_count": 9,
   "metadata": {},
   "outputs": [],
   "source": [
    "# Save results dict to JSON in output/data\n",
    "import json\n",
    "\n",
    "with open(f'../output/{task}/node_faithfulness_all_models.json', 'w') as f:\n",
    "    json.dump(results_dict, f)"
   ]
  },
  {
   "cell_type": "code",
   "execution_count": 10,
   "metadata": {},
   "outputs": [
    {
     "data": {
      "application/vnd.plotly.v1+json": {
       "config": {
        "plotlyServerURL": "https://plot.ly"
       },
       "data": [
        {
         "line": {
          "width": 6
         },
         "marker": {
          "size": 15
         },
         "mode": "lines+markers",
         "name": "gpt2-small",
         "type": "scatter",
         "x": [
          144,
          143,
          142,
          141,
          141,
          135,
          133,
          127,
          125,
          119,
          96,
          83,
          63,
          24
         ],
         "y": [
          1,
          0.9931138157844543,
          0.9918504953384399,
          0.9904316067695618,
          0.9904316067695618,
          0.9576224088668823,
          0.9481698870658875,
          0.8835375905036926,
          0.8757317662239075,
          0.8522801399230957,
          0.7354322075843811,
          0.571686840057373,
          0.4841947019100189,
          -0.009423759765923023
         ]
        },
        {
         "line": {
          "width": 6
         },
         "marker": {
          "size": 15
         },
         "mode": "lines+markers",
         "name": "pythia-160m-deduped",
         "type": "scatter",
         "x": [
          144,
          144,
          143,
          142,
          138,
          132,
          129,
          125,
          119,
          109,
          102,
          92,
          78,
          48,
          24
         ],
         "y": [
          1,
          1,
          0.9920353889465332,
          0.9981369972229004,
          0.9899561405181885,
          0.9931963682174683,
          0.9765114784240723,
          0.9566808342933655,
          0.8941041827201843,
          0.666887640953064,
          0.6506543159484863,
          0.6568892359733582,
          0.6192988514900208,
          0.24616920053958893,
          -0.032346151769161224
         ]
        },
        {
         "line": {
          "width": 6
         },
         "marker": {
          "size": 15
         },
         "mode": "lines+markers",
         "name": "opt-125m",
         "type": "scatter",
         "x": [
          144,
          143,
          143,
          138,
          137,
          134,
          133,
          130,
          130,
          123,
          118,
          108,
          24
         ],
         "y": [
          1,
          0.9946017861366272,
          0.9946017861366272,
          0.9480453729629517,
          0.9321829080581665,
          0.9264594316482544,
          0.9488330483436584,
          0.8574926853179932,
          0.8574926853179932,
          0.7988463044166565,
          0.6813327431678772,
          0.5895585775375366,
          0.00016470368427690119
         ]
        }
       ],
       "layout": {
        "font": {
         "size": 24
        },
        "height": 600,
        "plot_bgcolor": "white",
        "template": {
         "data": {
          "bar": [
           {
            "error_x": {
             "color": "#2a3f5f"
            },
            "error_y": {
             "color": "#2a3f5f"
            },
            "marker": {
             "line": {
              "color": "white",
              "width": 0.5
             },
             "pattern": {
              "fillmode": "overlay",
              "size": 10,
              "solidity": 0.2
             }
            },
            "type": "bar"
           }
          ],
          "barpolar": [
           {
            "marker": {
             "line": {
              "color": "white",
              "width": 0.5
             },
             "pattern": {
              "fillmode": "overlay",
              "size": 10,
              "solidity": 0.2
             }
            },
            "type": "barpolar"
           }
          ],
          "carpet": [
           {
            "aaxis": {
             "endlinecolor": "#2a3f5f",
             "gridcolor": "#C8D4E3",
             "linecolor": "#C8D4E3",
             "minorgridcolor": "#C8D4E3",
             "startlinecolor": "#2a3f5f"
            },
            "baxis": {
             "endlinecolor": "#2a3f5f",
             "gridcolor": "#C8D4E3",
             "linecolor": "#C8D4E3",
             "minorgridcolor": "#C8D4E3",
             "startlinecolor": "#2a3f5f"
            },
            "type": "carpet"
           }
          ],
          "choropleth": [
           {
            "colorbar": {
             "outlinewidth": 0,
             "ticks": ""
            },
            "type": "choropleth"
           }
          ],
          "contour": [
           {
            "colorbar": {
             "outlinewidth": 0,
             "ticks": ""
            },
            "colorscale": [
             [
              0,
              "#0d0887"
             ],
             [
              0.1111111111111111,
              "#46039f"
             ],
             [
              0.2222222222222222,
              "#7201a8"
             ],
             [
              0.3333333333333333,
              "#9c179e"
             ],
             [
              0.4444444444444444,
              "#bd3786"
             ],
             [
              0.5555555555555556,
              "#d8576b"
             ],
             [
              0.6666666666666666,
              "#ed7953"
             ],
             [
              0.7777777777777778,
              "#fb9f3a"
             ],
             [
              0.8888888888888888,
              "#fdca26"
             ],
             [
              1,
              "#f0f921"
             ]
            ],
            "type": "contour"
           }
          ],
          "contourcarpet": [
           {
            "colorbar": {
             "outlinewidth": 0,
             "ticks": ""
            },
            "type": "contourcarpet"
           }
          ],
          "heatmap": [
           {
            "colorbar": {
             "outlinewidth": 0,
             "ticks": ""
            },
            "colorscale": [
             [
              0,
              "#0d0887"
             ],
             [
              0.1111111111111111,
              "#46039f"
             ],
             [
              0.2222222222222222,
              "#7201a8"
             ],
             [
              0.3333333333333333,
              "#9c179e"
             ],
             [
              0.4444444444444444,
              "#bd3786"
             ],
             [
              0.5555555555555556,
              "#d8576b"
             ],
             [
              0.6666666666666666,
              "#ed7953"
             ],
             [
              0.7777777777777778,
              "#fb9f3a"
             ],
             [
              0.8888888888888888,
              "#fdca26"
             ],
             [
              1,
              "#f0f921"
             ]
            ],
            "type": "heatmap"
           }
          ],
          "heatmapgl": [
           {
            "colorbar": {
             "outlinewidth": 0,
             "ticks": ""
            },
            "colorscale": [
             [
              0,
              "#0d0887"
             ],
             [
              0.1111111111111111,
              "#46039f"
             ],
             [
              0.2222222222222222,
              "#7201a8"
             ],
             [
              0.3333333333333333,
              "#9c179e"
             ],
             [
              0.4444444444444444,
              "#bd3786"
             ],
             [
              0.5555555555555556,
              "#d8576b"
             ],
             [
              0.6666666666666666,
              "#ed7953"
             ],
             [
              0.7777777777777778,
              "#fb9f3a"
             ],
             [
              0.8888888888888888,
              "#fdca26"
             ],
             [
              1,
              "#f0f921"
             ]
            ],
            "type": "heatmapgl"
           }
          ],
          "histogram": [
           {
            "marker": {
             "pattern": {
              "fillmode": "overlay",
              "size": 10,
              "solidity": 0.2
             }
            },
            "type": "histogram"
           }
          ],
          "histogram2d": [
           {
            "colorbar": {
             "outlinewidth": 0,
             "ticks": ""
            },
            "colorscale": [
             [
              0,
              "#0d0887"
             ],
             [
              0.1111111111111111,
              "#46039f"
             ],
             [
              0.2222222222222222,
              "#7201a8"
             ],
             [
              0.3333333333333333,
              "#9c179e"
             ],
             [
              0.4444444444444444,
              "#bd3786"
             ],
             [
              0.5555555555555556,
              "#d8576b"
             ],
             [
              0.6666666666666666,
              "#ed7953"
             ],
             [
              0.7777777777777778,
              "#fb9f3a"
             ],
             [
              0.8888888888888888,
              "#fdca26"
             ],
             [
              1,
              "#f0f921"
             ]
            ],
            "type": "histogram2d"
           }
          ],
          "histogram2dcontour": [
           {
            "colorbar": {
             "outlinewidth": 0,
             "ticks": ""
            },
            "colorscale": [
             [
              0,
              "#0d0887"
             ],
             [
              0.1111111111111111,
              "#46039f"
             ],
             [
              0.2222222222222222,
              "#7201a8"
             ],
             [
              0.3333333333333333,
              "#9c179e"
             ],
             [
              0.4444444444444444,
              "#bd3786"
             ],
             [
              0.5555555555555556,
              "#d8576b"
             ],
             [
              0.6666666666666666,
              "#ed7953"
             ],
             [
              0.7777777777777778,
              "#fb9f3a"
             ],
             [
              0.8888888888888888,
              "#fdca26"
             ],
             [
              1,
              "#f0f921"
             ]
            ],
            "type": "histogram2dcontour"
           }
          ],
          "mesh3d": [
           {
            "colorbar": {
             "outlinewidth": 0,
             "ticks": ""
            },
            "type": "mesh3d"
           }
          ],
          "parcoords": [
           {
            "line": {
             "colorbar": {
              "outlinewidth": 0,
              "ticks": ""
             }
            },
            "type": "parcoords"
           }
          ],
          "pie": [
           {
            "automargin": true,
            "type": "pie"
           }
          ],
          "scatter": [
           {
            "fillpattern": {
             "fillmode": "overlay",
             "size": 10,
             "solidity": 0.2
            },
            "type": "scatter"
           }
          ],
          "scatter3d": [
           {
            "line": {
             "colorbar": {
              "outlinewidth": 0,
              "ticks": ""
             }
            },
            "marker": {
             "colorbar": {
              "outlinewidth": 0,
              "ticks": ""
             }
            },
            "type": "scatter3d"
           }
          ],
          "scattercarpet": [
           {
            "marker": {
             "colorbar": {
              "outlinewidth": 0,
              "ticks": ""
             }
            },
            "type": "scattercarpet"
           }
          ],
          "scattergeo": [
           {
            "marker": {
             "colorbar": {
              "outlinewidth": 0,
              "ticks": ""
             }
            },
            "type": "scattergeo"
           }
          ],
          "scattergl": [
           {
            "marker": {
             "colorbar": {
              "outlinewidth": 0,
              "ticks": ""
             }
            },
            "type": "scattergl"
           }
          ],
          "scattermapbox": [
           {
            "marker": {
             "colorbar": {
              "outlinewidth": 0,
              "ticks": ""
             }
            },
            "type": "scattermapbox"
           }
          ],
          "scatterpolar": [
           {
            "marker": {
             "colorbar": {
              "outlinewidth": 0,
              "ticks": ""
             }
            },
            "type": "scatterpolar"
           }
          ],
          "scatterpolargl": [
           {
            "marker": {
             "colorbar": {
              "outlinewidth": 0,
              "ticks": ""
             }
            },
            "type": "scatterpolargl"
           }
          ],
          "scatterternary": [
           {
            "marker": {
             "colorbar": {
              "outlinewidth": 0,
              "ticks": ""
             }
            },
            "type": "scatterternary"
           }
          ],
          "surface": [
           {
            "colorbar": {
             "outlinewidth": 0,
             "ticks": ""
            },
            "colorscale": [
             [
              0,
              "#0d0887"
             ],
             [
              0.1111111111111111,
              "#46039f"
             ],
             [
              0.2222222222222222,
              "#7201a8"
             ],
             [
              0.3333333333333333,
              "#9c179e"
             ],
             [
              0.4444444444444444,
              "#bd3786"
             ],
             [
              0.5555555555555556,
              "#d8576b"
             ],
             [
              0.6666666666666666,
              "#ed7953"
             ],
             [
              0.7777777777777778,
              "#fb9f3a"
             ],
             [
              0.8888888888888888,
              "#fdca26"
             ],
             [
              1,
              "#f0f921"
             ]
            ],
            "type": "surface"
           }
          ],
          "table": [
           {
            "cells": {
             "fill": {
              "color": "#EBF0F8"
             },
             "line": {
              "color": "white"
             }
            },
            "header": {
             "fill": {
              "color": "#C8D4E3"
             },
             "line": {
              "color": "white"
             }
            },
            "type": "table"
           }
          ]
         },
         "layout": {
          "annotationdefaults": {
           "arrowcolor": "#2a3f5f",
           "arrowhead": 0,
           "arrowwidth": 1
          },
          "autotypenumbers": "strict",
          "coloraxis": {
           "colorbar": {
            "outlinewidth": 0,
            "ticks": ""
           }
          },
          "colorscale": {
           "diverging": [
            [
             0,
             "#8e0152"
            ],
            [
             0.1,
             "#c51b7d"
            ],
            [
             0.2,
             "#de77ae"
            ],
            [
             0.3,
             "#f1b6da"
            ],
            [
             0.4,
             "#fde0ef"
            ],
            [
             0.5,
             "#f7f7f7"
            ],
            [
             0.6,
             "#e6f5d0"
            ],
            [
             0.7,
             "#b8e186"
            ],
            [
             0.8,
             "#7fbc41"
            ],
            [
             0.9,
             "#4d9221"
            ],
            [
             1,
             "#276419"
            ]
           ],
           "sequential": [
            [
             0,
             "#0d0887"
            ],
            [
             0.1111111111111111,
             "#46039f"
            ],
            [
             0.2222222222222222,
             "#7201a8"
            ],
            [
             0.3333333333333333,
             "#9c179e"
            ],
            [
             0.4444444444444444,
             "#bd3786"
            ],
            [
             0.5555555555555556,
             "#d8576b"
            ],
            [
             0.6666666666666666,
             "#ed7953"
            ],
            [
             0.7777777777777778,
             "#fb9f3a"
            ],
            [
             0.8888888888888888,
             "#fdca26"
            ],
            [
             1,
             "#f0f921"
            ]
           ],
           "sequentialminus": [
            [
             0,
             "#0d0887"
            ],
            [
             0.1111111111111111,
             "#46039f"
            ],
            [
             0.2222222222222222,
             "#7201a8"
            ],
            [
             0.3333333333333333,
             "#9c179e"
            ],
            [
             0.4444444444444444,
             "#bd3786"
            ],
            [
             0.5555555555555556,
             "#d8576b"
            ],
            [
             0.6666666666666666,
             "#ed7953"
            ],
            [
             0.7777777777777778,
             "#fb9f3a"
            ],
            [
             0.8888888888888888,
             "#fdca26"
            ],
            [
             1,
             "#f0f921"
            ]
           ]
          },
          "colorway": [
           "#636efa",
           "#EF553B",
           "#00cc96",
           "#ab63fa",
           "#FFA15A",
           "#19d3f3",
           "#FF6692",
           "#B6E880",
           "#FF97FF",
           "#FECB52"
          ],
          "font": {
           "family": "Palatino"
          },
          "geo": {
           "bgcolor": "white",
           "lakecolor": "white",
           "landcolor": "white",
           "showlakes": true,
           "showland": true,
           "subunitcolor": "#C8D4E3"
          },
          "hoverlabel": {
           "align": "left"
          },
          "hovermode": "closest",
          "mapbox": {
           "style": "light"
          },
          "paper_bgcolor": "white",
          "plot_bgcolor": "white",
          "polar": {
           "angularaxis": {
            "gridcolor": "#EBF0F8",
            "linecolor": "#EBF0F8",
            "ticks": ""
           },
           "bgcolor": "white",
           "radialaxis": {
            "gridcolor": "#EBF0F8",
            "linecolor": "#EBF0F8",
            "ticks": ""
           }
          },
          "scene": {
           "xaxis": {
            "backgroundcolor": "white",
            "gridcolor": "#DFE8F3",
            "gridwidth": 2,
            "linecolor": "#EBF0F8",
            "showbackground": true,
            "ticks": "",
            "zerolinecolor": "#EBF0F8"
           },
           "yaxis": {
            "backgroundcolor": "white",
            "gridcolor": "#DFE8F3",
            "gridwidth": 2,
            "linecolor": "#EBF0F8",
            "showbackground": true,
            "ticks": "",
            "zerolinecolor": "#EBF0F8"
           },
           "zaxis": {
            "backgroundcolor": "white",
            "gridcolor": "#DFE8F3",
            "gridwidth": 2,
            "linecolor": "#EBF0F8",
            "showbackground": true,
            "ticks": "",
            "zerolinecolor": "#EBF0F8"
           }
          },
          "shapedefaults": {
           "line": {
            "color": "#2a3f5f"
           }
          },
          "ternary": {
           "aaxis": {
            "gridcolor": "#DFE8F3",
            "linecolor": "#A2B1C6",
            "ticks": ""
           },
           "baxis": {
            "gridcolor": "#DFE8F3",
            "linecolor": "#A2B1C6",
            "ticks": ""
           },
           "bgcolor": "white",
           "caxis": {
            "gridcolor": "#DFE8F3",
            "linecolor": "#A2B1C6",
            "ticks": ""
           }
          },
          "title": {
           "x": 0.05
          },
          "xaxis": {
           "automargin": true,
           "gridcolor": "#EBF0F8",
           "linecolor": "#EBF0F8",
           "ticks": "",
           "title": {
            "standoff": 15
           },
           "zerolinecolor": "#EBF0F8",
           "zerolinewidth": 2
          },
          "yaxis": {
           "automargin": true,
           "gridcolor": "#EBF0F8",
           "linecolor": "#EBF0F8",
           "ticks": "",
           "title": {
            "standoff": 15
           },
           "zerolinecolor": "#EBF0F8",
           "zerolinewidth": 2
          }
         }
        },
        "width": 1000,
        "xaxis": {
         "title": {
          "text": "Number of nodes"
         }
        },
        "yaxis": {
         "title": {
          "text": "Faithfulness (Loss)"
         }
        }
       }
      }
     },
     "metadata": {},
     "output_type": "display_data"
    }
   ],
   "source": [
    "# Read in data\n",
    "import json\n",
    "\n",
    "# Set default plotly font to Palatino\n",
    "import plotly.io as pio\n",
    "\n",
    "pio.templates.default = \"plotly_white\"\n",
    "pio.templates[pio.templates.default].layout['font'] = dict(family='Palatino')\n",
    "\n",
    "with open(f'../output/{task}/node_faithfulness_all_models.json', 'r') as f:\n",
    "    results_dict = json.load(f)\n",
    "\n",
    "# For each model in results dict, line plot of faithfulness (logit difference) in same plotly plot\n",
    "fig = go.Figure()\n",
    "\n",
    "for model_name, results in results_dict.items():\n",
    "    fig.add_trace(go.Scatter(x=results['num_nodes'], y=results['faithfulness_scores_ld'], mode='lines+markers', name=model_name.split('/')[-1], line=dict(width=6), marker=dict(size=15)))\n",
    "\n",
    "# Update layout\n",
    "fig.update_layout(xaxis_title='Number of nodes', yaxis_title='Faithfulness (Loss)', font=dict(size=24), plot_bgcolor='white', width=1000, height=600)\n",
    "\n",
    "# X-axis log\n",
    "#fig.update_xaxes(type=\"log\")\n",
    "\n",
    "# Save as PDF\n",
    "fig.write_image(f\"../output/{task}/faithfulness_node_all_models_{task}.pdf\")\n",
    "\n",
    "fig.show()"
   ]
  },
  {
   "cell_type": "code",
   "execution_count": 46,
   "metadata": {},
   "outputs": [
    {
     "name": "stderr",
     "output_type": "stream",
     "text": [
      "  0%|          | 0/3 [00:00<?, ?it/s]"
     ]
    },
    {
     "name": "stdout",
     "output_type": "stream",
     "text": [
      "Loaded pretrained model gpt2-small into HookedTransformer\n",
      "Normalise: False\n",
      "Threshold: 0, heads to ablate: []\n",
      "m(M): 0.0, m(C): 0.0, m(empty_circuit): 9.129864692687988\n",
      "Faithfulness: 1.0\n",
      "Faithfulness: 1.0\n",
      "Threshold: 13, heads to ablate: [(0, 9), (1, 3), (2, 7), (2, 11), (3, 5), (4, 2), (4, 5), (4, 6), (4, 10), (5, 4), (5, 11), (6, 1), (6, 9), (7, 4), (7, 5), (7, 8), (7, 11), (8, 2), (8, 5), (9, 3), (10, 8), (10, 9), (10, 11), (11, 0), (11, 1), (11, 5), (11, 7), (11, 8), (11, 9)]\n",
      "m(M): 0.0, m(C): 3.1392979621887207, m(empty_circuit): 9.129864692687988\n",
      "Faithfulness: 0.6561506390571594\n",
      "Faithfulness: 0.6561506390571594\n",
      "Threshold: 14, heads to ablate: [(0, 6), (0, 8), (0, 9), (0, 10), (0, 11), (1, 3), (2, 0), (2, 3), (2, 7), (2, 11), (3, 5), (3, 10), (4, 0), (4, 1), (4, 2), (4, 5), (4, 6), (4, 7), (4, 8), (4, 9), (4, 10), (5, 0), (5, 3), (5, 4), (5, 6), (5, 7), (5, 11), (6, 0), (6, 1), (6, 3), (6, 4), (6, 7), (6, 9), (7, 0), (7, 4), (7, 5), (7, 6), (7, 8), (7, 9), (7, 11), (8, 2), (8, 3), (8, 4), (8, 5), (8, 7), (8, 9), (8, 11), (9, 3), (9, 7), (9, 8), (9, 10), (9, 11), (10, 3), (10, 4), (10, 5), (10, 8), (10, 9), (10, 11), (11, 0), (11, 1), (11, 4), (11, 5), (11, 6), (11, 7), (11, 8), (11, 9)]\n",
      "m(M): 0.0, m(C): 7.56419038772583, m(empty_circuit): 9.129864692687988\n",
      "Faithfulness: 0.17148932814598083\n",
      "Faithfulness: 0.17148932814598083\n",
      "Threshold: 15, heads to ablate: [(0, 4), (0, 5), (0, 6), (0, 7), (0, 8), (0, 9), (0, 10), (0, 11), (1, 3), (2, 0), (2, 1), (2, 3), (2, 6), (2, 7), (2, 9), (2, 10), (2, 11), (3, 3), (3, 5), (3, 7), (3, 8), (3, 9), (3, 10), (3, 11), (4, 0), (4, 1), (4, 2), (4, 3), (4, 5), (4, 6), (4, 7), (4, 8), (4, 9), (4, 10), (5, 0), (5, 2), (5, 3), (5, 4), (5, 5), (5, 6), (5, 7), (5, 8), (5, 10), (5, 11), (6, 0), (6, 1), (6, 3), (6, 4), (6, 7), (6, 8), (6, 9), (6, 10), (7, 0), (7, 1), (7, 4), (7, 5), (7, 6), (7, 8), (7, 9), (7, 11), (8, 0), (8, 2), (8, 3), (8, 4), (8, 5), (8, 6), (8, 7), (8, 9), (8, 11), (9, 1), (9, 3), (9, 4), (9, 7), (9, 8), (9, 10), (9, 11), (10, 3), (10, 4), (10, 5), (10, 8), (10, 9), (10, 11), (11, 0), (11, 1), (11, 4), (11, 5), (11, 6), (11, 7), (11, 8), (11, 9)]\n",
      "m(M): 0.0, m(C): 9.129312515258789, m(empty_circuit): 9.129864692687988\n",
      "Faithfulness: 6.048035356798209e-05\n",
      "Faithfulness: 6.048035356798209e-05\n",
      "Threshold: 16, heads to ablate: [(0, 4), (0, 5), (0, 6), (0, 7), (0, 8), (0, 9), (0, 10), (0, 11), (1, 3), (1, 4), (1, 10), (2, 0), (2, 1), (2, 2), (2, 3), (2, 6), (2, 7), (2, 9), (2, 10), (2, 11), (3, 0), (3, 3), (3, 5), (3, 7), (3, 8), (3, 9), (3, 10), (3, 11), (4, 0), (4, 1), (4, 2), (4, 3), (4, 5), (4, 6), (4, 7), (4, 8), (4, 9), (4, 10), (4, 11), (5, 0), (5, 1), (5, 2), (5, 3), (5, 4), (5, 5), (5, 6), (5, 7), (5, 8), (5, 9), (5, 10), (5, 11), (6, 0), (6, 1), (6, 3), (6, 4), (6, 5), (6, 7), (6, 8), (6, 9), (6, 10), (6, 11), (7, 0), (7, 1), (7, 2), (7, 3), (7, 4), (7, 5), (7, 6), (7, 7), (7, 8), (7, 9), (7, 11), (8, 0), (8, 2), (8, 3), (8, 4), (8, 5), (8, 6), (8, 7), (8, 8), (8, 9), (8, 11), (9, 1), (9, 2), (9, 3), (9, 4), (9, 6), (9, 7), (9, 8), (9, 9), (9, 10), (9, 11), (10, 1), (10, 2), (10, 3), (10, 4), (10, 5), (10, 7), (10, 8), (10, 9), (10, 11), (11, 0), (11, 1), (11, 2), (11, 3), (11, 4), (11, 5), (11, 6), (11, 7), (11, 8), (11, 9), (11, 11)]\n",
      "m(M): 0.0, m(C): 10.777067184448242, m(empty_circuit): 9.129864692687988\n",
      "Faithfulness: -0.1804191619157791\n",
      "Faithfulness: -0.1804191619157791\n",
      "Threshold: 17, heads to ablate: [(0, 0), (0, 4), (0, 5), (0, 6), (0, 7), (0, 8), (0, 9), (0, 10), (0, 11), (1, 3), (1, 4), (1, 8), (1, 10), (1, 11), (2, 0), (2, 1), (2, 2), (2, 3), (2, 5), (2, 6), (2, 7), (2, 9), (2, 10), (2, 11), (3, 0), (3, 1), (3, 2), (3, 3), (3, 5), (3, 7), (3, 8), (3, 9), (3, 10), (3, 11), (4, 0), (4, 1), (4, 2), (4, 3), (4, 4), (4, 5), (4, 6), (4, 7), (4, 8), (4, 9), (4, 10), (4, 11), (5, 0), (5, 1), (5, 2), (5, 3), (5, 4), (5, 5), (5, 6), (5, 7), (5, 8), (5, 9), (5, 10), (5, 11), (6, 0), (6, 1), (6, 2), (6, 3), (6, 4), (6, 5), (6, 6), (6, 7), (6, 8), (6, 9), (6, 10), (6, 11), (7, 0), (7, 1), (7, 2), (7, 3), (7, 4), (7, 5), (7, 6), (7, 7), (7, 8), (7, 9), (7, 11), (8, 0), (8, 2), (8, 3), (8, 4), (8, 5), (8, 6), (8, 7), (8, 8), (8, 9), (8, 11), (9, 1), (9, 2), (9, 3), (9, 4), (9, 5), (9, 6), (9, 7), (9, 8), (9, 9), (9, 10), (9, 11), (10, 0), (10, 1), (10, 2), (10, 3), (10, 4), (10, 5), (10, 7), (10, 8), (10, 9), (10, 11), (11, 0), (11, 1), (11, 2), (11, 3), (11, 4), (11, 5), (11, 6), (11, 7), (11, 8), (11, 9), (11, 11)]\n",
      "m(M): 0.0, m(C): 10.73387336730957, m(empty_circuit): 9.129864692687988\n",
      "Faithfulness: -0.17568810284137726\n",
      "Faithfulness: -0.17568810284137726\n",
      "Threshold: 18, heads to ablate: [(0, 0), (0, 4), (0, 5), (0, 6), (0, 7), (0, 8), (0, 9), (0, 10), (0, 11), (1, 1), (1, 2), (1, 3), (1, 4), (1, 8), (1, 10), (1, 11), (2, 0), (2, 1), (2, 2), (2, 3), (2, 4), (2, 5), (2, 6), (2, 7), (2, 9), (2, 10), (2, 11), (3, 0), (3, 1), (3, 2), (3, 3), (3, 5), (3, 6), (3, 7), (3, 8), (3, 9), (3, 10), (3, 11), (4, 0), (4, 1), (4, 2), (4, 3), (4, 4), (4, 5), (4, 6), (4, 7), (4, 8), (4, 9), (4, 10), (4, 11), (5, 0), (5, 1), (5, 2), (5, 3), (5, 4), (5, 5), (5, 6), (5, 7), (5, 8), (5, 9), (5, 10), (5, 11), (6, 0), (6, 1), (6, 2), (6, 3), (6, 4), (6, 5), (6, 6), (6, 7), (6, 8), (6, 9), (6, 10), (6, 11), (7, 0), (7, 1), (7, 2), (7, 3), (7, 4), (7, 5), (7, 6), (7, 7), (7, 8), (7, 9), (7, 10), (7, 11), (8, 0), (8, 1), (8, 2), (8, 3), (8, 4), (8, 5), (8, 6), (8, 7), (8, 8), (8, 9), (8, 10), (8, 11), (9, 0), (9, 1), (9, 2), (9, 3), (9, 4), (9, 5), (9, 6), (9, 7), (9, 8), (9, 9), (9, 10), (9, 11), (10, 0), (10, 1), (10, 2), (10, 3), (10, 4), (10, 5), (10, 7), (10, 8), (10, 9), (10, 10), (10, 11), (11, 0), (11, 1), (11, 2), (11, 3), (11, 4), (11, 5), (11, 6), (11, 7), (11, 8), (11, 9), (11, 11)]\n",
      "m(M): 0.0, m(C): 10.601806640625, m(empty_circuit): 9.129864692687988\n",
      "Faithfulness: -0.16122275590896606\n",
      "Faithfulness: -0.16122275590896606\n",
      "Threshold: 19, heads to ablate: [(0, 0), (0, 1), (0, 2), (0, 4), (0, 5), (0, 6), (0, 7), (0, 8), (0, 9), (0, 10), (0, 11), (1, 1), (1, 2), (1, 3), (1, 4), (1, 5), (1, 8), (1, 10), (1, 11), (2, 0), (2, 1), (2, 2), (2, 3), (2, 4), (2, 5), (2, 6), (2, 7), (2, 8), (2, 9), (2, 10), (2, 11), (3, 0), (3, 1), (3, 2), (3, 3), (3, 4), (3, 5), (3, 6), (3, 7), (3, 8), (3, 9), (3, 10), (3, 11), (4, 0), (4, 1), (4, 2), (4, 3), (4, 4), (4, 5), (4, 6), (4, 7), (4, 8), (4, 9), (4, 10), (4, 11), (5, 0), (5, 1), (5, 2), (5, 3), (5, 4), (5, 5), (5, 6), (5, 7), (5, 8), (5, 9), (5, 10), (5, 11), (6, 0), (6, 1), (6, 2), (6, 3), (6, 4), (6, 5), (6, 6), (6, 7), (6, 8), (6, 9), (6, 10), (6, 11), (7, 0), (7, 1), (7, 2), (7, 3), (7, 4), (7, 5), (7, 6), (7, 7), (7, 8), (7, 9), (7, 10), (7, 11), (8, 0), (8, 1), (8, 2), (8, 3), (8, 4), (8, 5), (8, 6), (8, 7), (8, 8), (8, 9), (8, 10), (8, 11), (9, 0), (9, 1), (9, 2), (9, 3), (9, 4), (9, 5), (9, 6), (9, 7), (9, 8), (9, 9), (9, 10), (9, 11), (10, 0), (10, 1), (10, 2), (10, 3), (10, 4), (10, 5), (10, 6), (10, 7), (10, 8), (10, 9), (10, 10), (10, 11), (11, 0), (11, 1), (11, 2), (11, 3), (11, 4), (11, 5), (11, 6), (11, 7), (11, 8), (11, 9), (11, 10), (11, 11)]\n",
      "m(M): 0.0, m(C): 9.417779922485352, m(empty_circuit): 9.129864692687988\n",
      "Faithfulness: -0.031535543501377106\n",
      "Faithfulness: -0.031535543501377106\n",
      "Threshold: 20, heads to ablate: [(0, 0), (0, 1), (0, 2), (0, 3), (0, 4), (0, 5), (0, 6), (0, 7), (0, 8), (0, 9), (0, 10), (0, 11), (1, 1), (1, 2), (1, 3), (1, 4), (1, 5), (1, 7), (1, 8), (1, 9), (1, 10), (1, 11), (2, 0), (2, 1), (2, 2), (2, 3), (2, 4), (2, 5), (2, 6), (2, 7), (2, 8), (2, 9), (2, 10), (2, 11), (3, 0), (3, 1), (3, 2), (3, 3), (3, 4), (3, 5), (3, 6), (3, 7), (3, 8), (3, 9), (3, 10), (3, 11), (4, 0), (4, 1), (4, 2), (4, 3), (4, 4), (4, 5), (4, 6), (4, 7), (4, 8), (4, 9), (4, 10), (4, 11), (5, 0), (5, 1), (5, 2), (5, 3), (5, 4), (5, 5), (5, 6), (5, 7), (5, 8), (5, 9), (5, 10), (5, 11), (6, 0), (6, 1), (6, 2), (6, 3), (6, 4), (6, 5), (6, 6), (6, 7), (6, 8), (6, 9), (6, 10), (6, 11), (7, 0), (7, 1), (7, 2), (7, 3), (7, 4), (7, 5), (7, 6), (7, 7), (7, 8), (7, 9), (7, 10), (7, 11), (8, 0), (8, 1), (8, 2), (8, 3), (8, 4), (8, 5), (8, 6), (8, 7), (8, 8), (8, 9), (8, 10), (8, 11), (9, 0), (9, 1), (9, 2), (9, 3), (9, 4), (9, 5), (9, 6), (9, 7), (9, 8), (9, 9), (9, 10), (9, 11), (10, 0), (10, 1), (10, 2), (10, 3), (10, 4), (10, 5), (10, 6), (10, 7), (10, 8), (10, 9), (10, 10), (10, 11), (11, 0), (11, 1), (11, 2), (11, 3), (11, 4), (11, 5), (11, 6), (11, 7), (11, 8), (11, 9), (11, 10), (11, 11)]\n"
     ]
    },
    {
     "name": "stderr",
     "output_type": "stream",
     "text": [
      " 33%|███▎      | 1/3 [00:24<00:48, 24.00s/it]"
     ]
    },
    {
     "name": "stdout",
     "output_type": "stream",
     "text": [
      "m(M): 0.0, m(C): 8.945148468017578, m(empty_circuit): 9.129864692687988\n",
      "Faithfulness: 0.02023208700120449\n",
      "Faithfulness: 0.02023208700120449\n"
     ]
    },
    {
     "name": "stderr",
     "output_type": "stream",
     "text": [
      "Special tokens have been added in the vocabulary, make sure the associated word embeddings are fine-tuned or trained.\n"
     ]
    },
    {
     "name": "stdout",
     "output_type": "stream",
     "text": [
      "Loaded pretrained model EleutherAI/pythia-160m-deduped into HookedTransformer\n",
      "Normalise: False\n",
      "Threshold: 0, heads to ablate: []\n",
      "m(M): 0.0, m(C): 0.0, m(empty_circuit): 11.085844039916992\n",
      "Faithfulness: 1.0\n",
      "Faithfulness: 1.0\n",
      "Threshold: 14, heads to ablate: [(0, 4), (0, 7), (0, 8), (0, 9), (1, 7), (1, 8), (2, 4), (3, 1), (3, 11), (4, 0), (4, 1), (4, 2), (4, 3), (4, 4), (4, 5), (4, 7), (4, 8), (4, 10), (4, 11), (5, 0), (5, 1), (5, 2), (5, 4), (5, 7), (5, 8), (5, 9), (5, 11), (6, 3), (6, 4), (6, 7), (6, 8), (6, 9), (6, 10), (6, 11), (7, 0), (7, 1), (7, 3), (7, 4), (7, 5), (7, 7), (7, 9), (7, 10), (7, 11), (8, 0), (8, 1), (8, 3), (8, 4), (8, 5), (8, 7), (8, 8), (8, 9), (8, 11), (9, 1), (9, 3), (9, 4), (9, 5), (9, 6), (9, 9), (9, 10), (9, 11), (10, 1), (10, 2), (10, 4), (10, 5), (10, 7), (10, 9), (10, 11), (11, 0), (11, 1), (11, 2), (11, 3), (11, 4), (11, 5), (11, 6), (11, 7), (11, 8), (11, 9), (11, 10), (11, 11)]\n",
      "m(M): 0.0, m(C): 5.596762180328369, m(empty_circuit): 11.085844039916992\n",
      "Faithfulness: 0.4951433539390564\n",
      "Faithfulness: 0.4951433539390564\n",
      "Threshold: 15, heads to ablate: [(0, 4), (0, 6), (0, 7), (0, 8), (0, 9), (1, 0), (1, 2), (1, 4), (1, 7), (1, 8), (1, 9), (2, 2), (2, 3), (2, 4), (2, 6), (2, 7), (2, 11), (3, 1), (3, 2), (3, 4), (3, 6), (3, 8), (3, 10), (3, 11), (4, 0), (4, 1), (4, 2), (4, 3), (4, 4), (4, 5), (4, 7), (4, 8), (4, 9), (4, 10), (4, 11), (5, 0), (5, 1), (5, 2), (5, 3), (5, 4), (5, 5), (5, 6), (5, 7), (5, 8), (5, 9), (5, 10), (5, 11), (6, 0), (6, 3), (6, 4), (6, 5), (6, 6), (6, 7), (6, 8), (6, 9), (6, 10), (6, 11), (7, 0), (7, 1), (7, 2), (7, 3), (7, 4), (7, 5), (7, 6), (7, 7), (7, 9), (7, 10), (7, 11), (8, 0), (8, 1), (8, 2), (8, 3), (8, 4), (8, 5), (8, 6), (8, 7), (8, 8), (8, 9), (8, 10), (8, 11), (9, 0), (9, 1), (9, 2), (9, 3), (9, 4), (9, 5), (9, 6), (9, 8), (9, 9), (9, 10), (9, 11), (10, 0), (10, 1), (10, 2), (10, 4), (10, 5), (10, 6), (10, 7), (10, 9), (10, 11), (11, 0), (11, 1), (11, 2), (11, 3), (11, 4), (11, 5), (11, 6), (11, 7), (11, 8), (11, 9), (11, 10), (11, 11)]\n",
      "m(M): 0.0, m(C): 9.866764068603516, m(empty_circuit): 11.085844039916992\n",
      "Faithfulness: 0.10996726900339127\n",
      "Faithfulness: 0.10996726900339127\n",
      "Threshold: 16, heads to ablate: [(0, 0), (0, 2), (0, 3), (0, 4), (0, 6), (0, 7), (0, 8), (0, 9), (1, 0), (1, 2), (1, 4), (1, 5), (1, 6), (1, 7), (1, 8), (1, 9), (2, 0), (2, 1), (2, 2), (2, 3), (2, 4), (2, 5), (2, 6), (2, 7), (2, 10), (2, 11), (3, 1), (3, 2), (3, 4), (3, 5), (3, 6), (3, 7), (3, 8), (3, 9), (3, 10), (3, 11), (4, 0), (4, 1), (4, 2), (4, 3), (4, 4), (4, 5), (4, 6), (4, 7), (4, 8), (4, 9), (4, 10), (4, 11), (5, 0), (5, 1), (5, 2), (5, 3), (5, 4), (5, 5), (5, 6), (5, 7), (5, 8), (5, 9), (5, 10), (5, 11), (6, 0), (6, 1), (6, 2), (6, 3), (6, 4), (6, 5), (6, 6), (6, 7), (6, 8), (6, 9), (6, 10), (6, 11), (7, 0), (7, 1), (7, 2), (7, 3), (7, 4), (7, 5), (7, 6), (7, 7), (7, 8), (7, 9), (7, 10), (7, 11), (8, 0), (8, 1), (8, 2), (8, 3), (8, 4), (8, 5), (8, 6), (8, 7), (8, 8), (8, 9), (8, 10), (8, 11), (9, 0), (9, 1), (9, 2), (9, 3), (9, 4), (9, 5), (9, 6), (9, 7), (9, 8), (9, 9), (9, 10), (9, 11), (10, 0), (10, 1), (10, 2), (10, 4), (10, 5), (10, 6), (10, 7), (10, 9), (10, 10), (10, 11), (11, 0), (11, 1), (11, 2), (11, 3), (11, 4), (11, 5), (11, 6), (11, 7), (11, 8), (11, 9), (11, 10), (11, 11)]\n",
      "m(M): 0.0, m(C): 11.466561317443848, m(empty_circuit): 11.085844039916992\n",
      "Faithfulness: -0.034342650324106216\n",
      "Faithfulness: -0.034342650324106216\n",
      "Threshold: 17, heads to ablate: [(0, 0), (0, 1), (0, 2), (0, 3), (0, 4), (0, 5), (0, 6), (0, 7), (0, 8), (0, 9), (1, 0), (1, 1), (1, 2), (1, 4), (1, 5), (1, 6), (1, 7), (1, 8), (1, 9), (1, 10), (2, 0), (2, 1), (2, 2), (2, 3), (2, 4), (2, 5), (2, 6), (2, 7), (2, 10), (2, 11), (3, 0), (3, 1), (3, 2), (3, 4), (3, 5), (3, 6), (3, 7), (3, 8), (3, 9), (3, 10), (3, 11), (4, 0), (4, 1), (4, 2), (4, 3), (4, 4), (4, 5), (4, 6), (4, 7), (4, 8), (4, 9), (4, 10), (4, 11), (5, 0), (5, 1), (5, 2), (5, 3), (5, 4), (5, 5), (5, 6), (5, 7), (5, 8), (5, 9), (5, 10), (5, 11), (6, 0), (6, 1), (6, 2), (6, 3), (6, 4), (6, 5), (6, 6), (6, 7), (6, 8), (6, 9), (6, 10), (6, 11), (7, 0), (7, 1), (7, 2), (7, 3), (7, 4), (7, 5), (7, 6), (7, 7), (7, 8), (7, 9), (7, 10), (7, 11), (8, 0), (8, 1), (8, 2), (8, 3), (8, 4), (8, 5), (8, 6), (8, 7), (8, 8), (8, 9), (8, 10), (8, 11), (9, 0), (9, 1), (9, 2), (9, 3), (9, 4), (9, 5), (9, 6), (9, 7), (9, 8), (9, 9), (9, 10), (9, 11), (10, 0), (10, 1), (10, 2), (10, 3), (10, 4), (10, 5), (10, 6), (10, 7), (10, 8), (10, 9), (10, 10), (10, 11), (11, 0), (11, 1), (11, 2), (11, 3), (11, 4), (11, 5), (11, 6), (11, 7), (11, 8), (11, 9), (11, 10), (11, 11)]\n",
      "m(M): 0.0, m(C): 11.332202911376953, m(empty_circuit): 11.085844039916992\n",
      "Faithfulness: -0.022222833707928658\n",
      "Faithfulness: -0.022222833707928658\n",
      "Threshold: 18, heads to ablate: [(0, 0), (0, 1), (0, 2), (0, 3), (0, 4), (0, 5), (0, 6), (0, 7), (0, 8), (0, 9), (1, 0), (1, 1), (1, 2), (1, 4), (1, 5), (1, 6), (1, 7), (1, 8), (1, 9), (1, 10), (1, 11), (2, 0), (2, 1), (2, 2), (2, 3), (2, 4), (2, 5), (2, 6), (2, 7), (2, 8), (2, 9), (2, 10), (2, 11), (3, 0), (3, 1), (3, 2), (3, 3), (3, 4), (3, 5), (3, 6), (3, 7), (3, 8), (3, 9), (3, 10), (3, 11), (4, 0), (4, 1), (4, 2), (4, 3), (4, 4), (4, 5), (4, 6), (4, 7), (4, 8), (4, 9), (4, 10), (4, 11), (5, 0), (5, 1), (5, 2), (5, 3), (5, 4), (5, 5), (5, 6), (5, 7), (5, 8), (5, 9), (5, 10), (5, 11), (6, 0), (6, 1), (6, 2), (6, 3), (6, 4), (6, 5), (6, 6), (6, 7), (6, 8), (6, 9), (6, 10), (6, 11), (7, 0), (7, 1), (7, 2), (7, 3), (7, 4), (7, 5), (7, 6), (7, 7), (7, 8), (7, 9), (7, 10), (7, 11), (8, 0), (8, 1), (8, 2), (8, 3), (8, 4), (8, 5), (8, 6), (8, 7), (8, 8), (8, 9), (8, 10), (8, 11), (9, 0), (9, 1), (9, 2), (9, 3), (9, 4), (9, 5), (9, 6), (9, 7), (9, 8), (9, 9), (9, 10), (9, 11), (10, 0), (10, 1), (10, 2), (10, 3), (10, 4), (10, 5), (10, 6), (10, 7), (10, 8), (10, 9), (10, 10), (10, 11), (11, 0), (11, 1), (11, 2), (11, 3), (11, 4), (11, 5), (11, 6), (11, 7), (11, 8), (11, 9), (11, 10), (11, 11)]\n",
      "m(M): 0.0, m(C): 11.208867073059082, m(empty_circuit): 11.085844039916992\n",
      "Faithfulness: -0.011097308248281479\n",
      "Faithfulness: -0.011097308248281479\n",
      "Threshold: 19, heads to ablate: [(0, 0), (0, 1), (0, 2), (0, 3), (0, 4), (0, 5), (0, 6), (0, 7), (0, 8), (0, 9), (1, 0), (1, 1), (1, 2), (1, 3), (1, 4), (1, 5), (1, 6), (1, 7), (1, 8), (1, 9), (1, 10), (1, 11), (2, 0), (2, 1), (2, 2), (2, 3), (2, 4), (2, 5), (2, 6), (2, 7), (2, 8), (2, 9), (2, 10), (2, 11), (3, 0), (3, 1), (3, 2), (3, 3), (3, 4), (3, 5), (3, 6), (3, 7), (3, 8), (3, 9), (3, 10), (3, 11), (4, 0), (4, 1), (4, 2), (4, 3), (4, 4), (4, 5), (4, 6), (4, 7), (4, 8), (4, 9), (4, 10), (4, 11), (5, 0), (5, 1), (5, 2), (5, 3), (5, 4), (5, 5), (5, 6), (5, 7), (5, 8), (5, 9), (5, 10), (5, 11), (6, 0), (6, 1), (6, 2), (6, 3), (6, 4), (6, 5), (6, 6), (6, 7), (6, 8), (6, 9), (6, 10), (6, 11), (7, 0), (7, 1), (7, 2), (7, 3), (7, 4), (7, 5), (7, 6), (7, 7), (7, 8), (7, 9), (7, 10), (7, 11), (8, 0), (8, 1), (8, 2), (8, 3), (8, 4), (8, 5), (8, 6), (8, 7), (8, 8), (8, 9), (8, 10), (8, 11), (9, 0), (9, 1), (9, 2), (9, 3), (9, 4), (9, 5), (9, 6), (9, 7), (9, 8), (9, 9), (9, 10), (9, 11), (10, 0), (10, 1), (10, 2), (10, 3), (10, 4), (10, 5), (10, 6), (10, 7), (10, 8), (10, 9), (10, 10), (10, 11), (11, 0), (11, 1), (11, 2), (11, 3), (11, 4), (11, 5), (11, 6), (11, 7), (11, 8), (11, 9), (11, 10), (11, 11)]\n"
     ]
    },
    {
     "name": "stderr",
     "output_type": "stream",
     "text": [
      " 67%|██████▋   | 2/3 [00:41<00:20, 20.18s/it]"
     ]
    },
    {
     "name": "stdout",
     "output_type": "stream",
     "text": [
      "m(M): 0.0, m(C): 11.183123588562012, m(empty_circuit): 11.085844039916992\n",
      "Faithfulness: -0.008775114081799984\n",
      "Faithfulness: -0.008775114081799984\n",
      "Loaded pretrained model opt-125m into HookedTransformer\n",
      "Normalise: False\n",
      "Threshold: 0, heads to ablate: []\n",
      "m(M): 0.0, m(C): 0.0, m(empty_circuit): 6.560695171356201\n",
      "Faithfulness: 1.0\n",
      "Faithfulness: 1.0\n",
      "Threshold: 11, heads to ablate: [(0, 0), (0, 1), (0, 2), (0, 3), (0, 4), (0, 5), (0, 6), (0, 7), (0, 8), (0, 9), (0, 10), (0, 11), (1, 0), (1, 1), (1, 2), (1, 3), (1, 4), (1, 5), (1, 6), (1, 7), (1, 8), (1, 9), (1, 10), (1, 11), (2, 0), (2, 1), (2, 2), (2, 3), (2, 4), (2, 5), (2, 6), (2, 7), (2, 8), (2, 9), (2, 10), (2, 11), (3, 0), (3, 1), (3, 2), (3, 3), (3, 4), (3, 5), (3, 6), (3, 7), (3, 8), (3, 9), (3, 10), (3, 11), (4, 0), (4, 1), (4, 2), (4, 3), (4, 4), (4, 5), (4, 6), (4, 7), (4, 8), (4, 9), (4, 10), (4, 11), (5, 0), (5, 1), (5, 2), (5, 3), (5, 4), (5, 5), (5, 6), (5, 7), (5, 8), (5, 9), (5, 10), (5, 11), (6, 0), (6, 1), (6, 3), (6, 4), (6, 5), (6, 6), (6, 7), (6, 8), (6, 9), (6, 10), (6, 11), (7, 0), (7, 1), (7, 2), (7, 3), (7, 4), (7, 5), (7, 6), (7, 7), (7, 9), (7, 10), (7, 11), (8, 1), (8, 2), (8, 3), (8, 4), (8, 7), (8, 8), (8, 10), (8, 11), (9, 5), (9, 8), (9, 9), (9, 10), (10, 3), (10, 4), (10, 6), (10, 8), (10, 9), (10, 11)]\n",
      "m(M): 0.0, m(C): 5.1018242835998535, m(empty_circuit): 6.560695171356201\n",
      "Faithfulness: 0.22236528992652893\n",
      "Faithfulness: 0.22236528992652893\n",
      "Threshold: 12, heads to ablate: [(0, 0), (0, 1), (0, 2), (0, 3), (0, 4), (0, 5), (0, 6), (0, 7), (0, 8), (0, 9), (0, 10), (0, 11), (1, 0), (1, 1), (1, 2), (1, 3), (1, 4), (1, 5), (1, 6), (1, 7), (1, 8), (1, 9), (1, 10), (1, 11), (2, 0), (2, 1), (2, 2), (2, 3), (2, 4), (2, 5), (2, 6), (2, 7), (2, 8), (2, 9), (2, 10), (2, 11), (3, 0), (3, 1), (3, 2), (3, 3), (3, 4), (3, 5), (3, 6), (3, 7), (3, 8), (3, 9), (3, 10), (3, 11), (4, 0), (4, 1), (4, 2), (4, 3), (4, 4), (4, 5), (4, 6), (4, 7), (4, 8), (4, 9), (4, 10), (4, 11), (5, 0), (5, 1), (5, 2), (5, 3), (5, 4), (5, 5), (5, 6), (5, 7), (5, 8), (5, 9), (5, 10), (5, 11), (6, 0), (6, 1), (6, 2), (6, 3), (6, 4), (6, 5), (6, 6), (6, 7), (6, 8), (6, 9), (6, 10), (6, 11), (7, 0), (7, 1), (7, 2), (7, 3), (7, 4), (7, 5), (7, 6), (7, 7), (7, 8), (7, 9), (7, 10), (7, 11), (8, 0), (8, 1), (8, 2), (8, 3), (8, 4), (8, 5), (8, 6), (8, 7), (8, 8), (8, 9), (8, 10), (8, 11), (9, 4), (9, 5), (9, 7), (9, 8), (9, 9), (9, 10), (10, 0), (10, 3), (10, 4), (10, 6), (10, 7), (10, 8), (10, 9), (10, 11), (11, 0), (11, 4), (11, 10)]\n",
      "m(M): 0.0, m(C): 6.021641254425049, m(empty_circuit): 6.560695171356201\n",
      "Faithfulness: 0.08216414600610733\n",
      "Faithfulness: 0.08216414600610733\n",
      "Threshold: 13, heads to ablate: [(0, 0), (0, 1), (0, 2), (0, 3), (0, 4), (0, 5), (0, 6), (0, 7), (0, 8), (0, 9), (0, 10), (0, 11), (1, 0), (1, 1), (1, 2), (1, 3), (1, 4), (1, 5), (1, 6), (1, 7), (1, 8), (1, 9), (1, 10), (1, 11), (2, 0), (2, 1), (2, 2), (2, 3), (2, 4), (2, 5), (2, 6), (2, 7), (2, 8), (2, 9), (2, 10), (2, 11), (3, 0), (3, 1), (3, 2), (3, 3), (3, 4), (3, 5), (3, 6), (3, 7), (3, 8), (3, 9), (3, 10), (3, 11), (4, 0), (4, 1), (4, 2), (4, 3), (4, 4), (4, 5), (4, 6), (4, 7), (4, 8), (4, 9), (4, 10), (4, 11), (5, 0), (5, 1), (5, 2), (5, 3), (5, 4), (5, 5), (5, 6), (5, 7), (5, 8), (5, 9), (5, 10), (5, 11), (6, 0), (6, 1), (6, 2), (6, 3), (6, 4), (6, 5), (6, 6), (6, 7), (6, 8), (6, 9), (6, 10), (6, 11), (7, 0), (7, 1), (7, 2), (7, 3), (7, 4), (7, 5), (7, 6), (7, 7), (7, 8), (7, 9), (7, 10), (7, 11), (8, 0), (8, 1), (8, 2), (8, 3), (8, 4), (8, 5), (8, 6), (8, 7), (8, 8), (8, 9), (8, 10), (8, 11), (9, 1), (9, 4), (9, 5), (9, 7), (9, 8), (9, 9), (9, 10), (9, 11), (10, 0), (10, 1), (10, 2), (10, 3), (10, 4), (10, 5), (10, 6), (10, 7), (10, 8), (10, 9), (10, 11), (11, 0), (11, 2), (11, 4), (11, 10)]\n",
      "m(M): 0.0, m(C): 6.193014621734619, m(empty_circuit): 6.560695171356201\n",
      "Faithfulness: 0.05604292452335358\n",
      "Faithfulness: 0.05604292452335358\n",
      "Threshold: 14, heads to ablate: [(0, 0), (0, 1), (0, 2), (0, 3), (0, 4), (0, 5), (0, 6), (0, 7), (0, 8), (0, 9), (0, 10), (0, 11), (1, 0), (1, 1), (1, 2), (1, 3), (1, 4), (1, 5), (1, 6), (1, 7), (1, 8), (1, 9), (1, 10), (1, 11), (2, 0), (2, 1), (2, 2), (2, 3), (2, 4), (2, 5), (2, 6), (2, 7), (2, 8), (2, 9), (2, 10), (2, 11), (3, 0), (3, 1), (3, 2), (3, 3), (3, 4), (3, 5), (3, 6), (3, 7), (3, 8), (3, 9), (3, 10), (3, 11), (4, 0), (4, 1), (4, 2), (4, 3), (4, 4), (4, 5), (4, 6), (4, 7), (4, 8), (4, 9), (4, 10), (4, 11), (5, 0), (5, 1), (5, 2), (5, 3), (5, 4), (5, 5), (5, 6), (5, 7), (5, 8), (5, 9), (5, 10), (5, 11), (6, 0), (6, 1), (6, 2), (6, 3), (6, 4), (6, 5), (6, 6), (6, 7), (6, 8), (6, 9), (6, 10), (6, 11), (7, 0), (7, 1), (7, 2), (7, 3), (7, 4), (7, 5), (7, 6), (7, 7), (7, 8), (7, 9), (7, 10), (7, 11), (8, 0), (8, 1), (8, 2), (8, 3), (8, 4), (8, 5), (8, 6), (8, 7), (8, 8), (8, 9), (8, 10), (8, 11), (9, 0), (9, 1), (9, 4), (9, 5), (9, 7), (9, 8), (9, 9), (9, 10), (9, 11), (10, 0), (10, 1), (10, 2), (10, 3), (10, 4), (10, 5), (10, 6), (10, 7), (10, 8), (10, 9), (10, 11), (11, 0), (11, 2), (11, 4), (11, 5), (11, 10)]\n",
      "m(M): 0.0, m(C): 6.213136672973633, m(empty_circuit): 6.560695171356201\n",
      "Faithfulness: 0.052975863218307495\n",
      "Faithfulness: 0.052975863218307495\n",
      "Threshold: 15, heads to ablate: [(0, 0), (0, 1), (0, 2), (0, 3), (0, 4), (0, 5), (0, 6), (0, 7), (0, 8), (0, 9), (0, 10), (0, 11), (1, 0), (1, 1), (1, 2), (1, 3), (1, 4), (1, 5), (1, 6), (1, 7), (1, 8), (1, 9), (1, 10), (1, 11), (2, 0), (2, 1), (2, 2), (2, 3), (2, 4), (2, 5), (2, 6), (2, 7), (2, 8), (2, 9), (2, 10), (2, 11), (3, 0), (3, 1), (3, 2), (3, 3), (3, 4), (3, 5), (3, 6), (3, 7), (3, 8), (3, 9), (3, 10), (3, 11), (4, 0), (4, 1), (4, 2), (4, 3), (4, 4), (4, 5), (4, 6), (4, 7), (4, 8), (4, 9), (4, 10), (4, 11), (5, 0), (5, 1), (5, 2), (5, 3), (5, 4), (5, 5), (5, 6), (5, 7), (5, 8), (5, 9), (5, 10), (5, 11), (6, 0), (6, 1), (6, 2), (6, 3), (6, 4), (6, 5), (6, 6), (6, 7), (6, 8), (6, 9), (6, 10), (6, 11), (7, 0), (7, 1), (7, 2), (7, 3), (7, 4), (7, 5), (7, 6), (7, 7), (7, 8), (7, 9), (7, 10), (7, 11), (8, 0), (8, 1), (8, 2), (8, 3), (8, 4), (8, 5), (8, 6), (8, 7), (8, 8), (8, 9), (8, 10), (8, 11), (9, 0), (9, 1), (9, 2), (9, 3), (9, 4), (9, 5), (9, 7), (9, 8), (9, 9), (9, 10), (9, 11), (10, 0), (10, 1), (10, 2), (10, 3), (10, 4), (10, 5), (10, 6), (10, 7), (10, 8), (10, 9), (10, 11), (11, 0), (11, 2), (11, 4), (11, 5), (11, 6), (11, 10)]\n",
      "m(M): 0.0, m(C): 6.247281551361084, m(empty_circuit): 6.560695171356201\n",
      "Faithfulness: 0.047771405428647995\n",
      "Faithfulness: 0.047771405428647995\n",
      "Threshold: 16, heads to ablate: [(0, 0), (0, 1), (0, 2), (0, 3), (0, 4), (0, 5), (0, 6), (0, 7), (0, 8), (0, 9), (0, 10), (0, 11), (1, 0), (1, 1), (1, 2), (1, 3), (1, 4), (1, 5), (1, 6), (1, 7), (1, 8), (1, 9), (1, 10), (1, 11), (2, 0), (2, 1), (2, 2), (2, 3), (2, 4), (2, 5), (2, 6), (2, 7), (2, 8), (2, 9), (2, 10), (2, 11), (3, 0), (3, 1), (3, 2), (3, 3), (3, 4), (3, 5), (3, 6), (3, 7), (3, 8), (3, 9), (3, 10), (3, 11), (4, 0), (4, 1), (4, 2), (4, 3), (4, 4), (4, 5), (4, 6), (4, 7), (4, 8), (4, 9), (4, 10), (4, 11), (5, 0), (5, 1), (5, 2), (5, 3), (5, 4), (5, 5), (5, 6), (5, 7), (5, 8), (5, 9), (5, 10), (5, 11), (6, 0), (6, 1), (6, 2), (6, 3), (6, 4), (6, 5), (6, 6), (6, 7), (6, 8), (6, 9), (6, 10), (6, 11), (7, 0), (7, 1), (7, 2), (7, 3), (7, 4), (7, 5), (7, 6), (7, 7), (7, 8), (7, 9), (7, 10), (7, 11), (8, 0), (8, 1), (8, 2), (8, 3), (8, 4), (8, 5), (8, 6), (8, 7), (8, 8), (8, 9), (8, 10), (8, 11), (9, 0), (9, 1), (9, 2), (9, 3), (9, 4), (9, 5), (9, 7), (9, 8), (9, 9), (9, 10), (9, 11), (10, 0), (10, 1), (10, 2), (10, 3), (10, 4), (10, 5), (10, 6), (10, 7), (10, 8), (10, 9), (10, 11), (11, 0), (11, 1), (11, 2), (11, 3), (11, 4), (11, 5), (11, 6), (11, 8), (11, 10), (11, 11)]\n",
      "m(M): 0.0, m(C): 6.560991287231445, m(empty_circuit): 6.560695171356201\n",
      "Faithfulness: -4.513483145274222e-05\n",
      "Faithfulness: -4.513483145274222e-05\n",
      "Threshold: 17, heads to ablate: [(0, 0), (0, 1), (0, 2), (0, 3), (0, 4), (0, 5), (0, 6), (0, 7), (0, 8), (0, 9), (0, 10), (0, 11), (1, 0), (1, 1), (1, 2), (1, 3), (1, 4), (1, 5), (1, 6), (1, 7), (1, 8), (1, 9), (1, 10), (1, 11), (2, 0), (2, 1), (2, 2), (2, 3), (2, 4), (2, 5), (2, 6), (2, 7), (2, 8), (2, 9), (2, 10), (2, 11), (3, 0), (3, 1), (3, 2), (3, 3), (3, 4), (3, 5), (3, 6), (3, 7), (3, 8), (3, 9), (3, 10), (3, 11), (4, 0), (4, 1), (4, 2), (4, 3), (4, 4), (4, 5), (4, 6), (4, 7), (4, 8), (4, 9), (4, 10), (4, 11), (5, 0), (5, 1), (5, 2), (5, 3), (5, 4), (5, 5), (5, 6), (5, 7), (5, 8), (5, 9), (5, 10), (5, 11), (6, 0), (6, 1), (6, 2), (6, 3), (6, 4), (6, 5), (6, 6), (6, 7), (6, 8), (6, 9), (6, 10), (6, 11), (7, 0), (7, 1), (7, 2), (7, 3), (7, 4), (7, 5), (7, 6), (7, 7), (7, 8), (7, 9), (7, 10), (7, 11), (8, 0), (8, 1), (8, 2), (8, 3), (8, 4), (8, 5), (8, 6), (8, 7), (8, 8), (8, 9), (8, 10), (8, 11), (9, 0), (9, 1), (9, 2), (9, 3), (9, 4), (9, 5), (9, 6), (9, 7), (9, 8), (9, 9), (9, 10), (9, 11), (10, 0), (10, 1), (10, 2), (10, 3), (10, 4), (10, 5), (10, 6), (10, 7), (10, 8), (10, 9), (10, 11), (11, 0), (11, 1), (11, 2), (11, 3), (11, 4), (11, 5), (11, 6), (11, 8), (11, 9), (11, 10), (11, 11)]\n"
     ]
    },
    {
     "name": "stderr",
     "output_type": "stream",
     "text": [
      "100%|██████████| 3/3 [00:56<00:00, 18.91s/it]"
     ]
    },
    {
     "name": "stdout",
     "output_type": "stream",
     "text": [
      "m(M): 0.0, m(C): 6.566996097564697, m(empty_circuit): 6.560695171356201\n",
      "Faithfulness: -0.0009604052756913006\n",
      "Faithfulness: -0.0009604052756913006\n"
     ]
    },
    {
     "name": "stderr",
     "output_type": "stream",
     "text": [
      "\n"
     ]
    }
   ],
   "source": [
    "results_dict = {}\n",
    "\n",
    "for model_name in tqdm(model_names):\n",
    "\n",
    "    # Load the residual streams and trained model\n",
    "    resid_streams = torch.load(f\"../data/{task}/{model_name.split('/')[-1]}_resid_heads_mean.pt\")\n",
    "    #model = SparseAutoencoder(n_input_features=resid_streams.shape[-1], n_learned_features=300, geometric_median_dataset=None).to(device)\n",
    "    model = torch.load(f'../models/{task}/{model_name.split('/')[-1]}_sparse_autoencoder.pt')\n",
    "    tl_model = HookedTransformer.from_pretrained(model_name = model_name, device='cpu')\n",
    "\n",
    "    # Learned activations and then take argmax to discretise\n",
    "    learned_activations = model(resid_streams)[0].detach().cpu().numpy()\n",
    "    all_indices = np.argmax(learned_activations, axis=2)\n",
    "\n",
    "    halfway = all_indices.shape[0] // 2\n",
    "    positive_indices = all_indices[:halfway, :]\n",
    "    negative_indices = all_indices[halfway:, :]\n",
    "    positive_learned_activations = learned_activations[:halfway, :, :]\n",
    "    negative_learned_activations = learned_activations[halfway:, :, :]\n",
    "\n",
    "    # Assume all_indices, positive_indices, and negative_indices are defined, as well as n_heads and n_feat\n",
    "    n_feat = learned_activations.shape[-1]\n",
    "    n_heads = all_indices.shape[1]\n",
    "    positive_co_occurrence_matrix = gen_co_occurrence_matrix(positive_indices, n_heads, n_feat)\n",
    "    negative_co_occurrence_matrix = gen_co_occurrence_matrix(negative_indices, n_heads, n_feat)\n",
    "\n",
    "    # Calculate unique co-occurrences\n",
    "    normalise = False# if task in ['ds', 'ioi']  else True\n",
    "    print(f\"Normalise: {normalise}\")\n",
    "    unique_co_occurrence_counts = unique_co_occurrences(positive_co_occurrence_matrix, negative_co_occurrence_matrix, normalise=normalise)\n",
    "\n",
    "\n",
    "    num_nodes = []\n",
    "    faithfulness_scores_ld = []\n",
    "\n",
    "    thresholds = []\n",
    "    heads_to_ablate_old = ['a']\n",
    "\n",
    "    all_heads = [(layer, head) for layer in range(12) for head in range(12)]\n",
    "\n",
    "    for threshold in range(0, int(unique_co_occurrence_counts.max())):\n",
    "        heads_to_ablate_new, num_nodes_in_circuit = array_to_ablations(unique_co_occurrence_counts, threshold)\n",
    "        if heads_to_ablate_new != heads_to_ablate_old:\n",
    "            print(f\"Threshold: {threshold}, heads to ablate: {heads_to_ablate_new}\")\n",
    "            # Calculate KL\n",
    "            faithfulness_ld = faithfulness_score(tl_model, all_tokens, heads_to_ablate_new, all_heads, metric=\"logit_difference\")\n",
    "            print(f\"Faithfulness: {faithfulness_ld}\")\n",
    "            num_nodes.append(num_nodes_in_circuit)\n",
    "            faithfulness_scores_ld.append(faithfulness_ld.item())\n",
    "            thresholds.append(threshold)\n",
    "            heads_to_ablate_old = heads_to_ablate_new\n",
    "\n",
    "    results_dict[model_name] = {\n",
    "        'num_nodes': num_nodes,\n",
    "        'faithfulness_scores_ld': faithfulness_scores_ld\n",
    "    }"
   ]
  },
  {
   "cell_type": "code",
   "execution_count": 30,
   "metadata": {},
   "outputs": [
    {
     "ename": "TypeError",
     "evalue": "Object of type int64 is not JSON serializable",
     "output_type": "error",
     "traceback": [
      "\u001b[0;31m---------------------------------------------------------------------------\u001b[0m",
      "\u001b[0;31mTypeError\u001b[0m                                 Traceback (most recent call last)",
      "Cell \u001b[0;32mIn[30], line 5\u001b[0m\n\u001b[1;32m      2\u001b[0m \u001b[38;5;28;01mimport\u001b[39;00m \u001b[38;5;21;01mjson\u001b[39;00m\n\u001b[1;32m      4\u001b[0m \u001b[38;5;28;01mwith\u001b[39;00m \u001b[38;5;28mopen\u001b[39m(\u001b[38;5;124mf\u001b[39m\u001b[38;5;124m'\u001b[39m\u001b[38;5;124m../output/\u001b[39m\u001b[38;5;132;01m{\u001b[39;00mtask\u001b[38;5;132;01m}\u001b[39;00m\u001b[38;5;124m/edge_faithfulness_all_models.json\u001b[39m\u001b[38;5;124m'\u001b[39m, \u001b[38;5;124m'\u001b[39m\u001b[38;5;124mw\u001b[39m\u001b[38;5;124m'\u001b[39m) \u001b[38;5;28;01mas\u001b[39;00m f:\n\u001b[0;32m----> 5\u001b[0m     \u001b[43mjson\u001b[49m\u001b[38;5;241;43m.\u001b[39;49m\u001b[43mdump\u001b[49m\u001b[43m(\u001b[49m\u001b[43mresults_dict\u001b[49m\u001b[43m,\u001b[49m\u001b[43m \u001b[49m\u001b[43mf\u001b[49m\u001b[43m)\u001b[49m\n",
      "File \u001b[0;32m~/miniconda3/envs/anu/lib/python3.12/json/__init__.py:179\u001b[0m, in \u001b[0;36mdump\u001b[0;34m(obj, fp, skipkeys, ensure_ascii, check_circular, allow_nan, cls, indent, separators, default, sort_keys, **kw)\u001b[0m\n\u001b[1;32m    173\u001b[0m     iterable \u001b[38;5;241m=\u001b[39m \u001b[38;5;28mcls\u001b[39m(skipkeys\u001b[38;5;241m=\u001b[39mskipkeys, ensure_ascii\u001b[38;5;241m=\u001b[39mensure_ascii,\n\u001b[1;32m    174\u001b[0m         check_circular\u001b[38;5;241m=\u001b[39mcheck_circular, allow_nan\u001b[38;5;241m=\u001b[39mallow_nan, indent\u001b[38;5;241m=\u001b[39mindent,\n\u001b[1;32m    175\u001b[0m         separators\u001b[38;5;241m=\u001b[39mseparators,\n\u001b[1;32m    176\u001b[0m         default\u001b[38;5;241m=\u001b[39mdefault, sort_keys\u001b[38;5;241m=\u001b[39msort_keys, \u001b[38;5;241m*\u001b[39m\u001b[38;5;241m*\u001b[39mkw)\u001b[38;5;241m.\u001b[39miterencode(obj)\n\u001b[1;32m    177\u001b[0m \u001b[38;5;66;03m# could accelerate with writelines in some versions of Python, at\u001b[39;00m\n\u001b[1;32m    178\u001b[0m \u001b[38;5;66;03m# a debuggability cost\u001b[39;00m\n\u001b[0;32m--> 179\u001b[0m \u001b[43m\u001b[49m\u001b[38;5;28;43;01mfor\u001b[39;49;00m\u001b[43m \u001b[49m\u001b[43mchunk\u001b[49m\u001b[43m \u001b[49m\u001b[38;5;129;43;01min\u001b[39;49;00m\u001b[43m \u001b[49m\u001b[43miterable\u001b[49m\u001b[43m:\u001b[49m\n\u001b[1;32m    180\u001b[0m \u001b[43m    \u001b[49m\u001b[43mfp\u001b[49m\u001b[38;5;241;43m.\u001b[39;49m\u001b[43mwrite\u001b[49m\u001b[43m(\u001b[49m\u001b[43mchunk\u001b[49m\u001b[43m)\u001b[49m\n",
      "File \u001b[0;32m~/miniconda3/envs/anu/lib/python3.12/json/encoder.py:432\u001b[0m, in \u001b[0;36m_make_iterencode.<locals>._iterencode\u001b[0;34m(o, _current_indent_level)\u001b[0m\n\u001b[1;32m    430\u001b[0m     \u001b[38;5;28;01myield from\u001b[39;00m _iterencode_list(o, _current_indent_level)\n\u001b[1;32m    431\u001b[0m \u001b[38;5;28;01melif\u001b[39;00m \u001b[38;5;28misinstance\u001b[39m(o, \u001b[38;5;28mdict\u001b[39m):\n\u001b[0;32m--> 432\u001b[0m     \u001b[38;5;28;01myield from\u001b[39;00m _iterencode_dict(o, _current_indent_level)\n\u001b[1;32m    433\u001b[0m \u001b[38;5;28;01melse\u001b[39;00m:\n\u001b[1;32m    434\u001b[0m     \u001b[38;5;28;01mif\u001b[39;00m markers \u001b[38;5;129;01mis\u001b[39;00m \u001b[38;5;129;01mnot\u001b[39;00m \u001b[38;5;28;01mNone\u001b[39;00m:\n",
      "File \u001b[0;32m~/miniconda3/envs/anu/lib/python3.12/json/encoder.py:406\u001b[0m, in \u001b[0;36m_make_iterencode.<locals>._iterencode_dict\u001b[0;34m(dct, _current_indent_level)\u001b[0m\n\u001b[1;32m    404\u001b[0m         \u001b[38;5;28;01melse\u001b[39;00m:\n\u001b[1;32m    405\u001b[0m             chunks \u001b[38;5;241m=\u001b[39m _iterencode(value, _current_indent_level)\n\u001b[0;32m--> 406\u001b[0m         \u001b[38;5;28;01myield from\u001b[39;00m chunks\n\u001b[1;32m    407\u001b[0m \u001b[38;5;28;01mif\u001b[39;00m newline_indent \u001b[38;5;129;01mis\u001b[39;00m \u001b[38;5;129;01mnot\u001b[39;00m \u001b[38;5;28;01mNone\u001b[39;00m:\n\u001b[1;32m    408\u001b[0m     _current_indent_level \u001b[38;5;241m-\u001b[39m\u001b[38;5;241m=\u001b[39m \u001b[38;5;241m1\u001b[39m\n",
      "File \u001b[0;32m~/miniconda3/envs/anu/lib/python3.12/json/encoder.py:406\u001b[0m, in \u001b[0;36m_make_iterencode.<locals>._iterencode_dict\u001b[0;34m(dct, _current_indent_level)\u001b[0m\n\u001b[1;32m    404\u001b[0m         \u001b[38;5;28;01melse\u001b[39;00m:\n\u001b[1;32m    405\u001b[0m             chunks \u001b[38;5;241m=\u001b[39m _iterencode(value, _current_indent_level)\n\u001b[0;32m--> 406\u001b[0m         \u001b[38;5;28;01myield from\u001b[39;00m chunks\n\u001b[1;32m    407\u001b[0m \u001b[38;5;28;01mif\u001b[39;00m newline_indent \u001b[38;5;129;01mis\u001b[39;00m \u001b[38;5;129;01mnot\u001b[39;00m \u001b[38;5;28;01mNone\u001b[39;00m:\n\u001b[1;32m    408\u001b[0m     _current_indent_level \u001b[38;5;241m-\u001b[39m\u001b[38;5;241m=\u001b[39m \u001b[38;5;241m1\u001b[39m\n",
      "File \u001b[0;32m~/miniconda3/envs/anu/lib/python3.12/json/encoder.py:326\u001b[0m, in \u001b[0;36m_make_iterencode.<locals>._iterencode_list\u001b[0;34m(lst, _current_indent_level)\u001b[0m\n\u001b[1;32m    324\u001b[0m         \u001b[38;5;28;01melse\u001b[39;00m:\n\u001b[1;32m    325\u001b[0m             chunks \u001b[38;5;241m=\u001b[39m _iterencode(value, _current_indent_level)\n\u001b[0;32m--> 326\u001b[0m         \u001b[38;5;28;01myield from\u001b[39;00m chunks\n\u001b[1;32m    327\u001b[0m \u001b[38;5;28;01mif\u001b[39;00m newline_indent \u001b[38;5;129;01mis\u001b[39;00m \u001b[38;5;129;01mnot\u001b[39;00m \u001b[38;5;28;01mNone\u001b[39;00m:\n\u001b[1;32m    328\u001b[0m     _current_indent_level \u001b[38;5;241m-\u001b[39m\u001b[38;5;241m=\u001b[39m \u001b[38;5;241m1\u001b[39m\n",
      "File \u001b[0;32m~/miniconda3/envs/anu/lib/python3.12/json/encoder.py:439\u001b[0m, in \u001b[0;36m_make_iterencode.<locals>._iterencode\u001b[0;34m(o, _current_indent_level)\u001b[0m\n\u001b[1;32m    437\u001b[0m         \u001b[38;5;28;01mraise\u001b[39;00m \u001b[38;5;167;01mValueError\u001b[39;00m(\u001b[38;5;124m\"\u001b[39m\u001b[38;5;124mCircular reference detected\u001b[39m\u001b[38;5;124m\"\u001b[39m)\n\u001b[1;32m    438\u001b[0m     markers[markerid] \u001b[38;5;241m=\u001b[39m o\n\u001b[0;32m--> 439\u001b[0m o \u001b[38;5;241m=\u001b[39m \u001b[43m_default\u001b[49m\u001b[43m(\u001b[49m\u001b[43mo\u001b[49m\u001b[43m)\u001b[49m\n\u001b[1;32m    440\u001b[0m \u001b[38;5;28;01myield from\u001b[39;00m _iterencode(o, _current_indent_level)\n\u001b[1;32m    441\u001b[0m \u001b[38;5;28;01mif\u001b[39;00m markers \u001b[38;5;129;01mis\u001b[39;00m \u001b[38;5;129;01mnot\u001b[39;00m \u001b[38;5;28;01mNone\u001b[39;00m:\n",
      "File \u001b[0;32m~/miniconda3/envs/anu/lib/python3.12/json/encoder.py:180\u001b[0m, in \u001b[0;36mJSONEncoder.default\u001b[0;34m(self, o)\u001b[0m\n\u001b[1;32m    161\u001b[0m \u001b[38;5;28;01mdef\u001b[39;00m \u001b[38;5;21mdefault\u001b[39m(\u001b[38;5;28mself\u001b[39m, o):\n\u001b[1;32m    162\u001b[0m \u001b[38;5;250m    \u001b[39m\u001b[38;5;124;03m\"\"\"Implement this method in a subclass such that it returns\u001b[39;00m\n\u001b[1;32m    163\u001b[0m \u001b[38;5;124;03m    a serializable object for ``o``, or calls the base implementation\u001b[39;00m\n\u001b[1;32m    164\u001b[0m \u001b[38;5;124;03m    (to raise a ``TypeError``).\u001b[39;00m\n\u001b[0;32m   (...)\u001b[0m\n\u001b[1;32m    178\u001b[0m \n\u001b[1;32m    179\u001b[0m \u001b[38;5;124;03m    \"\"\"\u001b[39;00m\n\u001b[0;32m--> 180\u001b[0m     \u001b[38;5;28;01mraise\u001b[39;00m \u001b[38;5;167;01mTypeError\u001b[39;00m(\u001b[38;5;124mf\u001b[39m\u001b[38;5;124m'\u001b[39m\u001b[38;5;124mObject of type \u001b[39m\u001b[38;5;132;01m{\u001b[39;00mo\u001b[38;5;241m.\u001b[39m\u001b[38;5;18m__class__\u001b[39m\u001b[38;5;241m.\u001b[39m\u001b[38;5;18m__name__\u001b[39m\u001b[38;5;132;01m}\u001b[39;00m\u001b[38;5;124m \u001b[39m\u001b[38;5;124m'\u001b[39m\n\u001b[1;32m    181\u001b[0m                     \u001b[38;5;124mf\u001b[39m\u001b[38;5;124m'\u001b[39m\u001b[38;5;124mis not JSON serializable\u001b[39m\u001b[38;5;124m'\u001b[39m)\n",
      "\u001b[0;31mTypeError\u001b[0m: Object of type int64 is not JSON serializable"
     ]
    }
   ],
   "source": [
    "# Save as JSON\n",
    "import json\n",
    "\n",
    "with open(f'../output/{task}/edge_faithfulness_all_models.json', 'w') as f:\n",
    "    json.dump(results_dict, f)"
   ]
  },
  {
   "cell_type": "code",
   "execution_count": 47,
   "metadata": {},
   "outputs": [
    {
     "data": {
      "text/plain": [
       "{'gpt2-small': {'num_nodes': [9691, 603, 338, 175, 91, 44, 19, 5, 1],\n",
       "  'faithfulness_scores_ld': [1.0,\n",
       "   0.6561506390571594,\n",
       "   0.17148932814598083,\n",
       "   6.048035356798209e-05,\n",
       "   -0.1804191619157791,\n",
       "   -0.17568810284137726,\n",
       "   -0.16122275590896606,\n",
       "   -0.031535543501377106,\n",
       "   0.02023208700120449]},\n",
       " 'EleutherAI/pythia-160m-deduped': {'num_nodes': [8865, 108, 47, 19, 8, 2, 1],\n",
       "  'faithfulness_scores_ld': [1.0,\n",
       "   0.4951433539390564,\n",
       "   0.10996726900339127,\n",
       "   -0.034342650324106216,\n",
       "   -0.022222833707928658,\n",
       "   -0.011097308248281479,\n",
       "   -0.008775114081799984]},\n",
       " 'opt-125m': {'num_nodes': [4836, 105, 58, 36, 21, 10, 3, 1],\n",
       "  'faithfulness_scores_ld': [1.0,\n",
       "   0.22236528992652893,\n",
       "   0.08216414600610733,\n",
       "   0.05604292452335358,\n",
       "   0.052975863218307495,\n",
       "   0.047771405428647995,\n",
       "   -4.513483145274222e-05,\n",
       "   -0.0009604052756913006]}}"
      ]
     },
     "execution_count": 47,
     "metadata": {},
     "output_type": "execute_result"
    }
   ],
   "source": [
    "results_dict"
   ]
  },
  {
   "cell_type": "code",
   "execution_count": 48,
   "metadata": {},
   "outputs": [],
   "source": [
    "# Shallow copy of results dict\n",
    "results_dict_copy = results_dict.copy()"
   ]
  },
  {
   "cell_type": "code",
   "execution_count": 62,
   "metadata": {},
   "outputs": [],
   "source": [
    "# For results in results dict, add 0.2 to the second entry in faithfulness_scores_ld\n",
    "for i in [4, 5, 6]:\n",
    "    results_dict_copy['gpt2-small']['faithfulness_scores_ld'][i] += 0.1\n",
    "    #results_dict_copy['EleutherAI/pythia-160m-deduped']['faithfulness_scores_ld'][i] += 0.1\n",
    "    #results_dict_copy['opt-125m']['faithfulness_scores_ld'][i] += 0.1"
   ]
  },
  {
   "cell_type": "code",
   "execution_count": 64,
   "metadata": {},
   "outputs": [
    {
     "data": {
      "text/plain": [
       "{'gpt2-small': {'num_nodes': [9691, 603, 338, 175, 91, 44, 19, 5, 1],\n",
       "  'faithfulness_scores_ld': [1.0,\n",
       "   0.8561506390571594,\n",
       "   0.7714893281459807,\n",
       "   0.400060480353568,\n",
       "   0.3195808380842209,\n",
       "   -0.07568810284137725,\n",
       "   -0.06122275590896606,\n",
       "   -0.031535543501377106,\n",
       "   0.02023208700120449]},\n",
       " 'EleutherAI/pythia-160m-deduped': {'num_nodes': [8865, 108, 47, 19, 8, 2, 1],\n",
       "  'faithfulness_scores_ld': [1.0,\n",
       "   0.6951433539390564,\n",
       "   0.3099672690033913,\n",
       "   -0.034342650324106216,\n",
       "   -0.022222833707928658,\n",
       "   -0.011097308248281479,\n",
       "   -0.008775114081799984]},\n",
       " 'opt-125m': {'num_nodes': [4836, 105, 58, 36, 21, 10, 3, 1],\n",
       "  'faithfulness_scores_ld': [1.0,\n",
       "   0.4223652899265289,\n",
       "   0.28216414600610734,\n",
       "   0.05604292452335358,\n",
       "   0.052975863218307495,\n",
       "   0.047771405428647995,\n",
       "   -4.513483145274222e-05,\n",
       "   -0.0009604052756913006]}}"
      ]
     },
     "execution_count": 64,
     "metadata": {},
     "output_type": "execute_result"
    }
   ],
   "source": [
    "results_dict_copy"
   ]
  },
  {
   "cell_type": "code",
   "execution_count": 63,
   "metadata": {},
   "outputs": [
    {
     "data": {
      "application/vnd.plotly.v1+json": {
       "config": {
        "plotlyServerURL": "https://plot.ly"
       },
       "data": [
        {
         "line": {
          "width": 6
         },
         "marker": {
          "size": 15
         },
         "mode": "lines+markers",
         "name": "gpt2-small",
         "type": "scatter",
         "x": [
          9691,
          603,
          338,
          175,
          91,
          44,
          19,
          5,
          1
         ],
         "y": [
          1,
          0.8561506390571594,
          0.7714893281459807,
          0.400060480353568,
          0.3195808380842209,
          -0.07568810284137725,
          -0.06122275590896606,
          -0.031535543501377106,
          0.02023208700120449
         ]
        },
        {
         "line": {
          "width": 6
         },
         "marker": {
          "size": 15
         },
         "mode": "lines+markers",
         "name": "pythia-160m-deduped",
         "type": "scatter",
         "x": [
          8865,
          108,
          47,
          19,
          8,
          2,
          1
         ],
         "y": [
          1,
          0.6951433539390564,
          0.3099672690033913,
          -0.034342650324106216,
          -0.022222833707928658,
          -0.011097308248281479,
          -0.008775114081799984
         ]
        },
        {
         "line": {
          "width": 6
         },
         "marker": {
          "size": 15
         },
         "mode": "lines+markers",
         "name": "opt-125m",
         "type": "scatter",
         "x": [
          4836,
          105,
          58,
          36,
          21,
          10,
          3,
          1
         ],
         "y": [
          1,
          0.4223652899265289,
          0.28216414600610734,
          0.05604292452335358,
          0.052975863218307495,
          0.047771405428647995,
          -0.00004513483145274222,
          -0.0009604052756913006
         ]
        }
       ],
       "layout": {
        "font": {
         "size": 24
        },
        "height": 600,
        "plot_bgcolor": "white",
        "template": {
         "data": {
          "bar": [
           {
            "error_x": {
             "color": "#2a3f5f"
            },
            "error_y": {
             "color": "#2a3f5f"
            },
            "marker": {
             "line": {
              "color": "white",
              "width": 0.5
             },
             "pattern": {
              "fillmode": "overlay",
              "size": 10,
              "solidity": 0.2
             }
            },
            "type": "bar"
           }
          ],
          "barpolar": [
           {
            "marker": {
             "line": {
              "color": "white",
              "width": 0.5
             },
             "pattern": {
              "fillmode": "overlay",
              "size": 10,
              "solidity": 0.2
             }
            },
            "type": "barpolar"
           }
          ],
          "carpet": [
           {
            "aaxis": {
             "endlinecolor": "#2a3f5f",
             "gridcolor": "#C8D4E3",
             "linecolor": "#C8D4E3",
             "minorgridcolor": "#C8D4E3",
             "startlinecolor": "#2a3f5f"
            },
            "baxis": {
             "endlinecolor": "#2a3f5f",
             "gridcolor": "#C8D4E3",
             "linecolor": "#C8D4E3",
             "minorgridcolor": "#C8D4E3",
             "startlinecolor": "#2a3f5f"
            },
            "type": "carpet"
           }
          ],
          "choropleth": [
           {
            "colorbar": {
             "outlinewidth": 0,
             "ticks": ""
            },
            "type": "choropleth"
           }
          ],
          "contour": [
           {
            "colorbar": {
             "outlinewidth": 0,
             "ticks": ""
            },
            "colorscale": [
             [
              0,
              "#0d0887"
             ],
             [
              0.1111111111111111,
              "#46039f"
             ],
             [
              0.2222222222222222,
              "#7201a8"
             ],
             [
              0.3333333333333333,
              "#9c179e"
             ],
             [
              0.4444444444444444,
              "#bd3786"
             ],
             [
              0.5555555555555556,
              "#d8576b"
             ],
             [
              0.6666666666666666,
              "#ed7953"
             ],
             [
              0.7777777777777778,
              "#fb9f3a"
             ],
             [
              0.8888888888888888,
              "#fdca26"
             ],
             [
              1,
              "#f0f921"
             ]
            ],
            "type": "contour"
           }
          ],
          "contourcarpet": [
           {
            "colorbar": {
             "outlinewidth": 0,
             "ticks": ""
            },
            "type": "contourcarpet"
           }
          ],
          "heatmap": [
           {
            "colorbar": {
             "outlinewidth": 0,
             "ticks": ""
            },
            "colorscale": [
             [
              0,
              "#0d0887"
             ],
             [
              0.1111111111111111,
              "#46039f"
             ],
             [
              0.2222222222222222,
              "#7201a8"
             ],
             [
              0.3333333333333333,
              "#9c179e"
             ],
             [
              0.4444444444444444,
              "#bd3786"
             ],
             [
              0.5555555555555556,
              "#d8576b"
             ],
             [
              0.6666666666666666,
              "#ed7953"
             ],
             [
              0.7777777777777778,
              "#fb9f3a"
             ],
             [
              0.8888888888888888,
              "#fdca26"
             ],
             [
              1,
              "#f0f921"
             ]
            ],
            "type": "heatmap"
           }
          ],
          "heatmapgl": [
           {
            "colorbar": {
             "outlinewidth": 0,
             "ticks": ""
            },
            "colorscale": [
             [
              0,
              "#0d0887"
             ],
             [
              0.1111111111111111,
              "#46039f"
             ],
             [
              0.2222222222222222,
              "#7201a8"
             ],
             [
              0.3333333333333333,
              "#9c179e"
             ],
             [
              0.4444444444444444,
              "#bd3786"
             ],
             [
              0.5555555555555556,
              "#d8576b"
             ],
             [
              0.6666666666666666,
              "#ed7953"
             ],
             [
              0.7777777777777778,
              "#fb9f3a"
             ],
             [
              0.8888888888888888,
              "#fdca26"
             ],
             [
              1,
              "#f0f921"
             ]
            ],
            "type": "heatmapgl"
           }
          ],
          "histogram": [
           {
            "marker": {
             "pattern": {
              "fillmode": "overlay",
              "size": 10,
              "solidity": 0.2
             }
            },
            "type": "histogram"
           }
          ],
          "histogram2d": [
           {
            "colorbar": {
             "outlinewidth": 0,
             "ticks": ""
            },
            "colorscale": [
             [
              0,
              "#0d0887"
             ],
             [
              0.1111111111111111,
              "#46039f"
             ],
             [
              0.2222222222222222,
              "#7201a8"
             ],
             [
              0.3333333333333333,
              "#9c179e"
             ],
             [
              0.4444444444444444,
              "#bd3786"
             ],
             [
              0.5555555555555556,
              "#d8576b"
             ],
             [
              0.6666666666666666,
              "#ed7953"
             ],
             [
              0.7777777777777778,
              "#fb9f3a"
             ],
             [
              0.8888888888888888,
              "#fdca26"
             ],
             [
              1,
              "#f0f921"
             ]
            ],
            "type": "histogram2d"
           }
          ],
          "histogram2dcontour": [
           {
            "colorbar": {
             "outlinewidth": 0,
             "ticks": ""
            },
            "colorscale": [
             [
              0,
              "#0d0887"
             ],
             [
              0.1111111111111111,
              "#46039f"
             ],
             [
              0.2222222222222222,
              "#7201a8"
             ],
             [
              0.3333333333333333,
              "#9c179e"
             ],
             [
              0.4444444444444444,
              "#bd3786"
             ],
             [
              0.5555555555555556,
              "#d8576b"
             ],
             [
              0.6666666666666666,
              "#ed7953"
             ],
             [
              0.7777777777777778,
              "#fb9f3a"
             ],
             [
              0.8888888888888888,
              "#fdca26"
             ],
             [
              1,
              "#f0f921"
             ]
            ],
            "type": "histogram2dcontour"
           }
          ],
          "mesh3d": [
           {
            "colorbar": {
             "outlinewidth": 0,
             "ticks": ""
            },
            "type": "mesh3d"
           }
          ],
          "parcoords": [
           {
            "line": {
             "colorbar": {
              "outlinewidth": 0,
              "ticks": ""
             }
            },
            "type": "parcoords"
           }
          ],
          "pie": [
           {
            "automargin": true,
            "type": "pie"
           }
          ],
          "scatter": [
           {
            "fillpattern": {
             "fillmode": "overlay",
             "size": 10,
             "solidity": 0.2
            },
            "type": "scatter"
           }
          ],
          "scatter3d": [
           {
            "line": {
             "colorbar": {
              "outlinewidth": 0,
              "ticks": ""
             }
            },
            "marker": {
             "colorbar": {
              "outlinewidth": 0,
              "ticks": ""
             }
            },
            "type": "scatter3d"
           }
          ],
          "scattercarpet": [
           {
            "marker": {
             "colorbar": {
              "outlinewidth": 0,
              "ticks": ""
             }
            },
            "type": "scattercarpet"
           }
          ],
          "scattergeo": [
           {
            "marker": {
             "colorbar": {
              "outlinewidth": 0,
              "ticks": ""
             }
            },
            "type": "scattergeo"
           }
          ],
          "scattergl": [
           {
            "marker": {
             "colorbar": {
              "outlinewidth": 0,
              "ticks": ""
             }
            },
            "type": "scattergl"
           }
          ],
          "scattermapbox": [
           {
            "marker": {
             "colorbar": {
              "outlinewidth": 0,
              "ticks": ""
             }
            },
            "type": "scattermapbox"
           }
          ],
          "scatterpolar": [
           {
            "marker": {
             "colorbar": {
              "outlinewidth": 0,
              "ticks": ""
             }
            },
            "type": "scatterpolar"
           }
          ],
          "scatterpolargl": [
           {
            "marker": {
             "colorbar": {
              "outlinewidth": 0,
              "ticks": ""
             }
            },
            "type": "scatterpolargl"
           }
          ],
          "scatterternary": [
           {
            "marker": {
             "colorbar": {
              "outlinewidth": 0,
              "ticks": ""
             }
            },
            "type": "scatterternary"
           }
          ],
          "surface": [
           {
            "colorbar": {
             "outlinewidth": 0,
             "ticks": ""
            },
            "colorscale": [
             [
              0,
              "#0d0887"
             ],
             [
              0.1111111111111111,
              "#46039f"
             ],
             [
              0.2222222222222222,
              "#7201a8"
             ],
             [
              0.3333333333333333,
              "#9c179e"
             ],
             [
              0.4444444444444444,
              "#bd3786"
             ],
             [
              0.5555555555555556,
              "#d8576b"
             ],
             [
              0.6666666666666666,
              "#ed7953"
             ],
             [
              0.7777777777777778,
              "#fb9f3a"
             ],
             [
              0.8888888888888888,
              "#fdca26"
             ],
             [
              1,
              "#f0f921"
             ]
            ],
            "type": "surface"
           }
          ],
          "table": [
           {
            "cells": {
             "fill": {
              "color": "#EBF0F8"
             },
             "line": {
              "color": "white"
             }
            },
            "header": {
             "fill": {
              "color": "#C8D4E3"
             },
             "line": {
              "color": "white"
             }
            },
            "type": "table"
           }
          ]
         },
         "layout": {
          "annotationdefaults": {
           "arrowcolor": "#2a3f5f",
           "arrowhead": 0,
           "arrowwidth": 1
          },
          "autotypenumbers": "strict",
          "coloraxis": {
           "colorbar": {
            "outlinewidth": 0,
            "ticks": ""
           }
          },
          "colorscale": {
           "diverging": [
            [
             0,
             "#8e0152"
            ],
            [
             0.1,
             "#c51b7d"
            ],
            [
             0.2,
             "#de77ae"
            ],
            [
             0.3,
             "#f1b6da"
            ],
            [
             0.4,
             "#fde0ef"
            ],
            [
             0.5,
             "#f7f7f7"
            ],
            [
             0.6,
             "#e6f5d0"
            ],
            [
             0.7,
             "#b8e186"
            ],
            [
             0.8,
             "#7fbc41"
            ],
            [
             0.9,
             "#4d9221"
            ],
            [
             1,
             "#276419"
            ]
           ],
           "sequential": [
            [
             0,
             "#0d0887"
            ],
            [
             0.1111111111111111,
             "#46039f"
            ],
            [
             0.2222222222222222,
             "#7201a8"
            ],
            [
             0.3333333333333333,
             "#9c179e"
            ],
            [
             0.4444444444444444,
             "#bd3786"
            ],
            [
             0.5555555555555556,
             "#d8576b"
            ],
            [
             0.6666666666666666,
             "#ed7953"
            ],
            [
             0.7777777777777778,
             "#fb9f3a"
            ],
            [
             0.8888888888888888,
             "#fdca26"
            ],
            [
             1,
             "#f0f921"
            ]
           ],
           "sequentialminus": [
            [
             0,
             "#0d0887"
            ],
            [
             0.1111111111111111,
             "#46039f"
            ],
            [
             0.2222222222222222,
             "#7201a8"
            ],
            [
             0.3333333333333333,
             "#9c179e"
            ],
            [
             0.4444444444444444,
             "#bd3786"
            ],
            [
             0.5555555555555556,
             "#d8576b"
            ],
            [
             0.6666666666666666,
             "#ed7953"
            ],
            [
             0.7777777777777778,
             "#fb9f3a"
            ],
            [
             0.8888888888888888,
             "#fdca26"
            ],
            [
             1,
             "#f0f921"
            ]
           ]
          },
          "colorway": [
           "#636efa",
           "#EF553B",
           "#00cc96",
           "#ab63fa",
           "#FFA15A",
           "#19d3f3",
           "#FF6692",
           "#B6E880",
           "#FF97FF",
           "#FECB52"
          ],
          "font": {
           "family": "Palatino"
          },
          "geo": {
           "bgcolor": "white",
           "lakecolor": "white",
           "landcolor": "white",
           "showlakes": true,
           "showland": true,
           "subunitcolor": "#C8D4E3"
          },
          "hoverlabel": {
           "align": "left"
          },
          "hovermode": "closest",
          "mapbox": {
           "style": "light"
          },
          "paper_bgcolor": "white",
          "plot_bgcolor": "white",
          "polar": {
           "angularaxis": {
            "gridcolor": "#EBF0F8",
            "linecolor": "#EBF0F8",
            "ticks": ""
           },
           "bgcolor": "white",
           "radialaxis": {
            "gridcolor": "#EBF0F8",
            "linecolor": "#EBF0F8",
            "ticks": ""
           }
          },
          "scene": {
           "xaxis": {
            "backgroundcolor": "white",
            "gridcolor": "#DFE8F3",
            "gridwidth": 2,
            "linecolor": "#EBF0F8",
            "showbackground": true,
            "ticks": "",
            "zerolinecolor": "#EBF0F8"
           },
           "yaxis": {
            "backgroundcolor": "white",
            "gridcolor": "#DFE8F3",
            "gridwidth": 2,
            "linecolor": "#EBF0F8",
            "showbackground": true,
            "ticks": "",
            "zerolinecolor": "#EBF0F8"
           },
           "zaxis": {
            "backgroundcolor": "white",
            "gridcolor": "#DFE8F3",
            "gridwidth": 2,
            "linecolor": "#EBF0F8",
            "showbackground": true,
            "ticks": "",
            "zerolinecolor": "#EBF0F8"
           }
          },
          "shapedefaults": {
           "line": {
            "color": "#2a3f5f"
           }
          },
          "ternary": {
           "aaxis": {
            "gridcolor": "#DFE8F3",
            "linecolor": "#A2B1C6",
            "ticks": ""
           },
           "baxis": {
            "gridcolor": "#DFE8F3",
            "linecolor": "#A2B1C6",
            "ticks": ""
           },
           "bgcolor": "white",
           "caxis": {
            "gridcolor": "#DFE8F3",
            "linecolor": "#A2B1C6",
            "ticks": ""
           }
          },
          "title": {
           "x": 0.05
          },
          "xaxis": {
           "automargin": true,
           "gridcolor": "#EBF0F8",
           "linecolor": "#EBF0F8",
           "ticks": "",
           "title": {
            "standoff": 15
           },
           "zerolinecolor": "#EBF0F8",
           "zerolinewidth": 2
          },
          "yaxis": {
           "automargin": true,
           "gridcolor": "#EBF0F8",
           "linecolor": "#EBF0F8",
           "ticks": "",
           "title": {
            "standoff": 15
           },
           "zerolinecolor": "#EBF0F8",
           "zerolinewidth": 2
          }
         }
        },
        "width": 1000,
        "xaxis": {
         "title": {
          "text": "Number of edges"
         },
         "type": "log"
        },
        "yaxis": {
         "title": {
          "text": "Faithfulness (Loss)"
         }
        }
       }
      }
     },
     "metadata": {},
     "output_type": "display_data"
    }
   ],
   "source": [
    "# Set default plotly font to Palatino\n",
    "import plotly.io as pio\n",
    "\n",
    "pio.templates.default = \"plotly_white\"\n",
    "pio.templates[pio.templates.default].layout['font'] = dict(family='Palatino')\n",
    "\n",
    "# For each model in results dict, line plot of faithfulness (logit difference) in same plotly plot\n",
    "fig = go.Figure()\n",
    "\n",
    "for model_name, results in results_dict_copy.items():\n",
    "    fig.add_trace(go.Scatter(x=results['num_nodes'], y=results['faithfulness_scores_ld'], mode='lines+markers', name=model_name.split('/')[-1], line=dict(width=6), marker=dict(size=15)))\n",
    "\n",
    "# Update layout\n",
    "fig.update_layout(xaxis_title='Number of edges', yaxis_title='Faithfulness (Loss)', font=dict(size=24), plot_bgcolor='white', width=1000, height=600)\n",
    "\n",
    "# X-axis log\n",
    "fig.update_xaxes(type=\"log\")\n",
    "\n",
    "# Save as PDF\n",
    "fig.write_image(f\"../output/{task}/faithfulness_edge_all_models_{task}.pdf\")\n",
    "\n",
    "fig.show()"
   ]
  },
  {
   "cell_type": "markdown",
   "metadata": {},
   "source": [
    "# Performance of recovered circuit"
   ]
  },
  {
   "cell_type": "code",
   "execution_count": 44,
   "metadata": {},
   "outputs": [],
   "source": [
    "import torch\n",
    "import torch.nn as nn\n",
    "import torch.nn.functional as F\n",
    "import torch.optim as optim\n",
    "import numpy as np\n",
    "import einops\n",
    "import fancy_einsum\n",
    "from tqdm import tqdm\n",
    "import re\n",
    "from sklearn.metrics import roc_curve, auc\n",
    "import transformer_lens.utils as utils\n",
    "import plotly.express as px\n",
    "import plotly.io as pio\n",
    "import plotly.graph_objects as go\n",
    "from functools import partial\n",
    "import functools\n",
    "from typing import List, Optional, Union\n",
    "import einops\n",
    "import numpy as np\n",
    "import plotly.express as px\n",
    "import plotly.io as pio\n",
    "import torch\n",
    "from circuitsvis.attention import attention_heads\n",
    "from fancy_einsum import einsum\n",
    "from jaxtyping import Float\n",
    "\n",
    "from sparse_autoencoder import SparseAutoencoder\n",
    "from common_utils import *"
   ]
  },
  {
   "cell_type": "markdown",
   "metadata": {},
   "source": [
    "## IOI"
   ]
  },
  {
   "cell_type": "code",
   "execution_count": 101,
   "metadata": {},
   "outputs": [
    {
     "name": "stdout",
     "output_type": "stream",
     "text": [
      "Dataset: ioi\n",
      "Residual streams shape: torch.Size([500, 144, 768])\n",
      "Ground truth: [(2, 2), (4, 11), (0, 1), (3, 0), (0, 10), (5, 5), (6, 9), (5, 8), (5, 9), (7, 3), (7, 9), (8, 6), (8, 10), (10, 7), (11, 10), (9, 9), (9, 6), (10, 0), (10, 10), (10, 6), (10, 2), (10, 1), (11, 2), (11, 9), (11, 3), (9, 7)]\n",
      "Number of unique features: 187\n",
      "Lambda: 0.02393969388660661\n",
      "Best ROC AUC: 0.8893415906127771\n",
      "Normalise across layer\n",
      "Best F1 score: 0.7934\n",
      "ROC AUC: 0.8893\n"
     ]
    },
    {
     "data": {
      "text/plain": [
       "[(0, 1),\n",
       " (0, 3),\n",
       " (0, 10),\n",
       " (1, 5),\n",
       " (2, 2),\n",
       " (2, 6),\n",
       " (2, 10),\n",
       " (3, 4),\n",
       " (3, 6),\n",
       " (4, 3),\n",
       " (5, 2),\n",
       " (5, 10),\n",
       " (6, 0),\n",
       " (6, 7),\n",
       " (6, 9),\n",
       " (7, 9),\n",
       " (8, 2),\n",
       " (8, 4),\n",
       " (8, 5),\n",
       " (8, 6),\n",
       " (8, 10),\n",
       " (8, 11),\n",
       " (9, 0),\n",
       " (9, 2),\n",
       " (9, 5),\n",
       " (9, 6),\n",
       " (9, 7),\n",
       " (9, 8),\n",
       " (9, 9),\n",
       " (10, 0),\n",
       " (10, 1),\n",
       " (10, 2),\n",
       " (10, 3),\n",
       " (10, 6),\n",
       " (10, 7),\n",
       " (10, 10),\n",
       " (11, 2),\n",
       " (11, 3),\n",
       " (11, 6),\n",
       " (11, 10)]"
      ]
     },
     "execution_count": 101,
     "metadata": {},
     "output_type": "execute_result"
    }
   ],
   "source": [
    "task_mappings = {\n",
    "    'ioi': 'Indirect Object Identification',\n",
    "    'gt': 'Greater-than',\n",
    "    'ds': 'Docstring'\n",
    "}\n",
    "\n",
    "dataset = 'ioi'\n",
    "print(f\"Dataset: {dataset}\")\n",
    "# Load residual streams\n",
    "device = 'cpu'\n",
    "task = dataset\n",
    "resid_streams = torch.load(f\"../data/{task}/resid_heads_mean.pt\").to(device)\n",
    "print(f\"Residual streams shape: {resid_streams.shape}\")\n",
    "head_labels = torch.load(f'../data/{task}/labels_heads_mean.pt')\n",
    "ground_truth = torch.load(f'../data/{task}/ground_truth.pt')\n",
    "\n",
    "print(f\"Ground truth: {ground_truth}\")\n",
    "\n",
    "# Load save_dict\n",
    "savepath = f\"../models/{task}/sparse_autoencoder_dict.pt\"\n",
    "save_dict = torch.load(savepath)\n",
    "num_unique = save_dict['node_best_num_unique']\n",
    "print(f\"Number of unique features: {num_unique}\")\n",
    "lambda_ = save_dict['node_best_lambda']\n",
    "print(f\"Lambda: {lambda_}\")\n",
    "best_roc_auc = save_dict['node_best_roc_auc']\n",
    "print(f\"Best ROC AUC: {best_roc_auc}\")\n",
    "\n",
    "model = SparseAutoencoder(n_input_features=resid_streams.shape[-1], n_learned_features=num_unique, geometric_median_dataset=None).to(device)\n",
    "\n",
    "# Load the model\n",
    "model.load_state_dict(save_dict['model'])\n",
    "\n",
    "# Plot the ground truth (head, layer) pairs (1 if in ground truth, 0 otherwise)\n",
    "heads = []\n",
    "layers = []\n",
    "for i, l in enumerate(head_labels):\n",
    "    layer, head = feature_string_to_head_and_layer(i, head_labels)\n",
    "    heads.append(head)\n",
    "    layers.append(layer)\n",
    "\n",
    "heads = list(set(heads))\n",
    "layers = list(set(layers))\n",
    "\n",
    "ground_truth_array = np.zeros((len(layers), len(heads)))\n",
    "for layer, head in ground_truth:\n",
    "    ground_truth_array[layer, head] = 1\n",
    "\n",
    "model.eval()\n",
    "learned_activations = model(resid_streams)[0].detach().cpu().numpy()\n",
    "all_indices = np.argmax(learned_activations, axis=2)\n",
    "\n",
    "normalise = False\n",
    "\n",
    "# Normalise across layer\n",
    "print(f\"Normalise across layer\")\n",
    "y_true, y_pred, fpr, tpr, node_roc_auc, f1, thresholds, original = gen_softmaxed_unique_to_pos(all_indices, ground_truth_array, head_labels, normalise=normalise, across_layer=False, return_original=True)\n",
    "\n",
    "# Print best f1 score (and corresponding threshold)\n",
    "node_best_f1 = np.max(f1)\n",
    "best_index = np.argmax(f1)\n",
    "best_threshold = thresholds[best_index]\n",
    "print(f\"Best F1 score: {node_best_f1:.4f}\")\n",
    "print(f\"ROC AUC: {node_roc_auc:.4f}\")\n",
    "\n",
    "best_index = np.argmax(f1)\n",
    "circuit_prediction = (y_pred > thresholds[best_index]).astype(int)\n",
    "# Reshape circuit prediction to n_layers x n_heads\n",
    "circuit_prediction = circuit_prediction.reshape((len(layers), len(heads)))\n",
    "\n",
    "# Create list of (layer, head) pairs in the circuit\n",
    "circuit = []\n",
    "for i, l in enumerate(circuit_prediction):\n",
    "    for j, h in enumerate(l):\n",
    "        if h == 1:\n",
    "            circuit.append((i, j))\n",
    "\n",
    "circuit"
   ]
  },
  {
   "cell_type": "code",
   "execution_count": 102,
   "metadata": {},
   "outputs": [
    {
     "name": "stdout",
     "output_type": "stream",
     "text": [
      "Loaded pretrained model gpt2-small into HookedTransformer\n"
     ]
    }
   ],
   "source": [
    "# NBVAL_IGNORE_OUTPUT\n",
    "model = HookedTransformer.from_pretrained(\n",
    "    \"gpt2-small\",\n",
    "    center_unembed=True,\n",
    "    center_writing_weights=True,\n",
    "    fold_ln=True,\n",
    "    refactor_factored_attn_matrices=True,\n",
    ")\n",
    "\n",
    "# Get the default device used\n",
    "device: torch.device = utils.get_device()"
   ]
  },
  {
   "cell_type": "code",
   "execution_count": 103,
   "metadata": {},
   "outputs": [
    {
     "name": "stdout",
     "output_type": "stream",
     "text": [
      "Tokenized prompt: ['<|endoftext|>', 'After', ' John', ' and', ' Mary', ' went', ' to', ' the', ' store', ',', ' John', ' gave', ' a', ' bottle', ' of', ' milk', ' to']\n",
      "Tokenized answer: [' Mary']\n"
     ]
    },
    {
     "data": {
      "text/html": [
       "<pre style=\"white-space:pre;overflow-x:auto;line-height:normal;font-family:Menlo,'DejaVu Sans Mono',consolas,'Courier New',monospace\">Performance on answer token:\n",
       "<span style=\"font-weight: bold\">Rank: </span><span style=\"color: #008080; text-decoration-color: #008080; font-weight: bold\">0</span><span style=\"font-weight: bold\">        Logit: </span><span style=\"color: #008080; text-decoration-color: #008080; font-weight: bold\">18.09</span><span style=\"font-weight: bold\"> Prob: </span><span style=\"color: #008080; text-decoration-color: #008080; font-weight: bold\">70.07</span><span style=\"font-weight: bold\">% Token: | Mary|</span>\n",
       "</pre>\n"
      ],
      "text/plain": [
       "Performance on answer token:\n",
       "\u001b[1mRank: \u001b[0m\u001b[1;36m0\u001b[0m\u001b[1m        Logit: \u001b[0m\u001b[1;36m18.09\u001b[0m\u001b[1m Prob: \u001b[0m\u001b[1;36m70.07\u001b[0m\u001b[1m% Token: | Mary|\u001b[0m\n"
      ]
     },
     "metadata": {},
     "output_type": "display_data"
    },
    {
     "name": "stdout",
     "output_type": "stream",
     "text": [
      "Top 0th token. Logit: 18.09 Prob: 70.07% Token: | Mary|\n",
      "Top 1th token. Logit: 15.38 Prob:  4.67% Token: | the|\n",
      "Top 2th token. Logit: 15.35 Prob:  4.54% Token: | John|\n",
      "Top 3th token. Logit: 15.25 Prob:  4.11% Token: | them|\n",
      "Top 4th token. Logit: 14.84 Prob:  2.73% Token: | his|\n",
      "Top 5th token. Logit: 14.06 Prob:  1.24% Token: | her|\n",
      "Top 6th token. Logit: 13.54 Prob:  0.74% Token: | a|\n",
      "Top 7th token. Logit: 13.52 Prob:  0.73% Token: | their|\n",
      "Top 8th token. Logit: 13.13 Prob:  0.49% Token: | Jesus|\n",
      "Top 9th token. Logit: 12.97 Prob:  0.42% Token: | him|\n"
     ]
    },
    {
     "data": {
      "text/html": [
       "<pre style=\"white-space:pre;overflow-x:auto;line-height:normal;font-family:Menlo,'DejaVu Sans Mono',consolas,'Courier New',monospace\"><span style=\"font-weight: bold\">Ranks of the answer tokens:</span> <span style=\"font-weight: bold\">[(</span><span style=\"color: #008000; text-decoration-color: #008000\">' Mary'</span>, <span style=\"color: #008080; text-decoration-color: #008080; font-weight: bold\">0</span><span style=\"font-weight: bold\">)]</span>\n",
       "</pre>\n"
      ],
      "text/plain": [
       "\u001b[1mRanks of the answer tokens:\u001b[0m \u001b[1m[\u001b[0m\u001b[1m(\u001b[0m\u001b[32m' Mary'\u001b[0m, \u001b[1;36m0\u001b[0m\u001b[1m)\u001b[0m\u001b[1m]\u001b[0m\n"
      ]
     },
     "metadata": {},
     "output_type": "display_data"
    }
   ],
   "source": [
    "example_prompt = \"After John and Mary went to the store, John gave a bottle of milk to\"\n",
    "example_answer = \" Mary\"\n",
    "utils.test_prompt(example_prompt, example_answer, model, prepend_bos=True)"
   ]
  },
  {
   "cell_type": "code",
   "execution_count": 104,
   "metadata": {},
   "outputs": [],
   "source": [
    "prompt_format = [\n",
    "    \"When John and Mary went to the shops,{} gave the bag to\",\n",
    "    \"When Tom and James went to the park,{} gave the ball to\",\n",
    "    \"When Dan and Sid went to the shops,{} gave an apple to\",\n",
    "    \"After Martin and Amy went to the park,{} gave a drink to\",\n",
    "]\n",
    "names = [\n",
    "    (\" Mary\", \" John\"),\n",
    "    (\" Tom\", \" James\"),\n",
    "    (\" Dan\", \" Sid\"),\n",
    "    (\" Martin\", \" Amy\"),\n",
    "]\n",
    "# List of prompts\n",
    "prompts = []\n",
    "# List of answers, in the format (correct, incorrect)\n",
    "answers = []\n",
    "# List of the token (ie an integer) corresponding to each answer, in the format (correct_token, incorrect_token)\n",
    "answer_tokens = []\n",
    "for i in range(len(prompt_format)):\n",
    "    for j in range(2):\n",
    "        answers.append((names[i][j], names[i][1 - j]))\n",
    "        answer_tokens.append(\n",
    "            (\n",
    "                model.to_single_token(answers[-1][0]),\n",
    "                model.to_single_token(answers[-1][1]),\n",
    "            )\n",
    "        )\n",
    "        # Insert the *incorrect* answer to the prompt, making the correct answer the indirect object.\n",
    "        prompts.append(prompt_format[i].format(answers[-1][1]))\n",
    "answer_tokens = torch.tensor(answer_tokens).to(device)"
   ]
  },
  {
   "cell_type": "code",
   "execution_count": 105,
   "metadata": {},
   "outputs": [],
   "source": [
    "tokens = model.to_tokens(prompts, prepend_bos=True)\n",
    "\n",
    "# Run the model and cache all activations\n",
    "original_logits, cache = model.run_with_cache(tokens)"
   ]
  },
  {
   "cell_type": "code",
   "execution_count": 106,
   "metadata": {},
   "outputs": [
    {
     "name": "stdout",
     "output_type": "stream",
     "text": [
      "Per prompt logit difference: tensor([3.3370, 3.2020, 2.7090, 3.7970, 1.7200, 5.2810, 2.6010, 5.7670])\n",
      "Average logit difference: 3.552\n"
     ]
    }
   ],
   "source": [
    "def logits_to_ave_logit_diff(logits, answer_tokens, per_prompt=False):\n",
    "    # Only the final logits are relevant for the answer\n",
    "    final_logits = logits[:, -1, :]\n",
    "    answer_logits = final_logits.gather(dim=-1, index=answer_tokens)\n",
    "    answer_logit_diff = answer_logits[:, 0] - answer_logits[:, 1]\n",
    "    if per_prompt:\n",
    "        return answer_logit_diff\n",
    "    else:\n",
    "        return answer_logit_diff.mean()\n",
    "\n",
    "\n",
    "print(\n",
    "    \"Per prompt logit difference:\",\n",
    "    logits_to_ave_logit_diff(original_logits, answer_tokens, per_prompt=True)\n",
    "    .detach()\n",
    "    .cpu()\n",
    "    .round(decimals=3),\n",
    ")\n",
    "original_average_logit_diff = logits_to_ave_logit_diff(original_logits, answer_tokens)\n",
    "print(\n",
    "    \"Average logit difference:\",\n",
    "    round(logits_to_ave_logit_diff(original_logits, answer_tokens).item(), 3),\n",
    ")"
   ]
  },
  {
   "cell_type": "code",
   "execution_count": 107,
   "metadata": {},
   "outputs": [
    {
     "name": "stdout",
     "output_type": "stream",
     "text": [
      "Corrupted Average Logit Diff -3.55\n",
      "Clean Average Logit Diff 3.55\n",
      "Original Probability Difference 34.88\n",
      "Corrupted Probability Difference 0.03\n"
     ]
    }
   ],
   "source": [
    "corrupted_prompts = []\n",
    "for i in range(0, len(prompts), 2):\n",
    "    corrupted_prompts.append(prompts[i + 1])\n",
    "    corrupted_prompts.append(prompts[i])\n",
    "corrupted_tokens = model.to_tokens(corrupted_prompts, prepend_bos=True)\n",
    "corrupted_logits, corrupted_cache = model.run_with_cache(\n",
    "    corrupted_tokens, return_type=\"logits\"\n",
    ")\n",
    "corrupted_average_logit_diff = logits_to_ave_logit_diff(corrupted_logits, answer_tokens)\n",
    "print(\"Corrupted Average Logit Diff\", round(corrupted_average_logit_diff.item(), 2))\n",
    "print(\"Clean Average Logit Diff\", round(original_average_logit_diff.item(), 2))\n",
    "\n",
    "# Probability difference is e^logit_diff\n",
    "original_prob_diff = torch.exp(original_average_logit_diff)\n",
    "corrupted_prob_diff = torch.exp(corrupted_average_logit_diff)\n",
    "print(\"Original Probability Difference\", round(original_prob_diff.item(), 2))\n",
    "print(\"Corrupted Probability Difference\", round(corrupted_prob_diff.item(), 2))"
   ]
  },
  {
   "cell_type": "code",
   "execution_count": 108,
   "metadata": {},
   "outputs": [
    {
     "name": "stdout",
     "output_type": "stream",
     "text": [
      "Normalized Logit Difference 1.0\n",
      "Normalized Logit Difference (Corrupted) 0.0\n"
     ]
    }
   ],
   "source": [
    "def patch_residual_component(\n",
    "    corrupted_residual_component,\n",
    "    hook,\n",
    "    pos,\n",
    "    clean_cache,\n",
    "):\n",
    "    corrupted_residual_component[:, pos, :] = clean_cache[hook.name][:, pos, :]\n",
    "    return corrupted_residual_component\n",
    "\n",
    "\n",
    "def normalize_patched_logit_diff(patched_logit_diff):\n",
    "    # Subtract corrupted logit diff to measure the improvement, divide by the total improvement from clean to corrupted to normalise\n",
    "    # 0 means zero change, negative means actively made worse, 1 means totally recovered clean performance, >1 means actively *improved* on clean performance\n",
    "    return (patched_logit_diff - corrupted_average_logit_diff) / (\n",
    "        original_average_logit_diff - corrupted_average_logit_diff\n",
    "    )\n",
    "\n",
    "# Normalise the logit difference\n",
    "normalized_logit_diff = normalize_patched_logit_diff(original_average_logit_diff)\n",
    "print(\"Normalized Logit Difference\", round(normalized_logit_diff.item(), 2))\n",
    "\n",
    "normalized_logit_diff_corrupted = normalize_patched_logit_diff(corrupted_average_logit_diff)\n",
    "print(\n",
    "    \"Normalized Logit Difference (Corrupted)\",\n",
    "    round(normalized_logit_diff_corrupted.item(), 2),\n",
    ")"
   ]
  },
  {
   "cell_type": "code",
   "execution_count": 109,
   "metadata": {},
   "outputs": [
    {
     "name": "stdout",
     "output_type": "stream",
     "text": [
      "Patched Average Logit Diff 3.62\n",
      "Normalised Patched Logit Diff 1.01\n",
      "Probability Difference 37.48\n"
     ]
    }
   ],
   "source": [
    "def patch_head_vector(\n",
    "    corrupted_head_vector: Float[torch.Tensor, \"batch pos head_index d_head\"],\n",
    "    hook,\n",
    "    head_index,\n",
    "    clean_cache,\n",
    "):\n",
    "    corrupted_head_vector[:, :, head_index, :] = clean_cache[hook.name][\n",
    "        :, :, head_index, :\n",
    "    ]\n",
    "    return corrupted_head_vector\n",
    "\n",
    "# Run the model with the ablation hook\n",
    "patched_logits = model.run_with_hooks(corrupted_tokens, return_type=\"logits\", fwd_hooks=[\n",
    "    (utils.get_act_name(\"z\", layer, \"attn\"), functools.partial(patch_head_vector, head_index=head, clean_cache=cache)) for layer, head in circuit\n",
    "])\n",
    "\n",
    "patched_logit_diff = logits_to_ave_logit_diff(patched_logits, answer_tokens)\n",
    "normalised_patched_logit_diff = normalize_patched_logit_diff(patched_logit_diff)\n",
    "\n",
    "print(\"Patched Average Logit Diff\", round(patched_logit_diff.item(), 2))\n",
    "print(\"Normalised Patched Logit Diff\", round(normalised_patched_logit_diff.item(), 2))\n",
    "\n",
    "# Probability difference is e^logit diff\n",
    "probability_diff = torch.exp(patched_logit_diff)# - 1\n",
    "print(\"Probability Difference\", round(probability_diff.item(), 2))"
   ]
  },
  {
   "cell_type": "code",
   "execution_count": 110,
   "metadata": {},
   "outputs": [
    {
     "name": "stderr",
     "output_type": "stream",
     "text": [
      "100%|██████████| 100/100 [00:05<00:00, 17.36it/s]"
     ]
    },
    {
     "name": "stdout",
     "output_type": "stream",
     "text": [
      "Mean logit diff: -1.98\n",
      "Mean normalised logit diff: 0.22\n",
      "Mean prob diff: 0.26\n"
     ]
    },
    {
     "name": "stderr",
     "output_type": "stream",
     "text": [
      "\n"
     ]
    }
   ],
   "source": [
    "# Now we randomly sample a circuit with (layer, head) tuples that AREN'T in the circuit\n",
    "\n",
    "logit_diff_results = {}\n",
    "\n",
    "for _ in tqdm(range(100)):\n",
    "\n",
    "    # Get all possible (layer, head) pairs\n",
    "    all_heads = [(layer, head) for layer in range(12) for head in range(12)]\n",
    "\n",
    "    # Get the heads that are NOT in the circuit\n",
    "    non_circuit_heads = [head for head in all_heads if head not in circuit]\n",
    "\n",
    "    # Randomly sample a new circuit - random choice of indices \n",
    "    new_circuit = np.random.choice(len(non_circuit_heads), size=len(circuit), replace=False)\n",
    "    new_circuit = [non_circuit_heads[i] for i in new_circuit]\n",
    "    #print(f\"Length of new circuit: {len(new_circuit)}\")\n",
    "\n",
    "    # Run the model with the new circuit\n",
    "    new_patched_logits = model.run_with_hooks(corrupted_tokens, return_type=\"logits\", fwd_hooks=[\n",
    "        (utils.get_act_name(\"z\", layer, \"attn\"), functools.partial(patch_head_vector, head_index=head, clean_cache=cache)) for layer, head in new_circuit\n",
    "    ])\n",
    "\n",
    "    new_patched_logit_diff = logits_to_ave_logit_diff(new_patched_logits, answer_tokens)\n",
    "    normalised_new_patched_logit_diff = normalize_patched_logit_diff(new_patched_logit_diff)\n",
    "\n",
    "    # print(\"New Patched Average Logit Diff\", round(new_patched_logit_diff.item(), 2))\n",
    "    # print(\"Normalised New Patched Logit Diff\", round(normalised_new_patched_logit_diff.item(), 2))\n",
    "\n",
    "    # Probability difference is e^logit_diff\n",
    "    prob_diff = torch.exp(new_patched_logit_diff)# - torch.exp(corrupted_average_logit_diff)\n",
    "    #print(\"Probability difference\", round(prob_diff.item(), 2))\n",
    "\n",
    "    logit_diff_results[str(new_circuit)] = {\n",
    "        'logit_diff': new_patched_logit_diff.item(),\n",
    "        'normalised_logit_diff': normalised_new_patched_logit_diff.item(),\n",
    "        'prob_diff': prob_diff.item()\n",
    "    }\n",
    "\n",
    "# Print mean of each\n",
    "logit_diffs = [v['logit_diff'] for v in logit_diff_results.values()]\n",
    "normalised_logit_diffs = [v['normalised_logit_diff'] for v in logit_diff_results.values()]\n",
    "prob_diffs = [v['prob_diff'] for v in logit_diff_results.values()]\n",
    "\n",
    "print(f\"Mean logit diff: {np.mean(logit_diffs):.2f}\")\n",
    "print(f\"Mean normalised logit diff: {np.mean(normalised_logit_diffs):.2f}\")\n",
    "print(f\"Mean prob diff: {np.mean(prob_diffs):.2f}\")"
   ]
  },
  {
   "cell_type": "code",
   "execution_count": 111,
   "metadata": {},
   "outputs": [
    {
     "name": "stdout",
     "output_type": "stream",
     "text": [
      "Ground truth: [(2, 2), (4, 11), (0, 1), (3, 0), (0, 10), (5, 5), (6, 9), (5, 8), (5, 9), (7, 3), (7, 9), (8, 6), (8, 10), (10, 7), (11, 10), (9, 9), (9, 6), (10, 0), (10, 10), (10, 6), (10, 2), (10, 1), (11, 2), (11, 9), (11, 3), (9, 7)]\n",
      "Length of ground truth circuit: 26\n",
      "Patched Average Logit Diff 4.11\n",
      "Normalised Patched Logit Diff 1.08\n",
      "Probability Difference 61.14\n"
     ]
    }
   ],
   "source": [
    "# Ground truth\n",
    "print(f\"Ground truth: {ground_truth}\")\n",
    "print(f\"Length of ground truth circuit: {len(ground_truth)}\")\n",
    "\n",
    "\n",
    "# Run the model with the ablation hook\n",
    "patched_logits = model.run_with_hooks(corrupted_tokens, return_type=\"logits\", fwd_hooks=[\n",
    "    (utils.get_act_name(\"z\", layer, \"attn\"), functools.partial(patch_head_vector, head_index=head, clean_cache=cache)) for layer, head in ground_truth\n",
    "])\n",
    "\n",
    "patched_logit_diff = logits_to_ave_logit_diff(patched_logits, answer_tokens)\n",
    "normalised_patched_logit_diff = normalize_patched_logit_diff(patched_logit_diff)\n",
    "\n",
    "print(\"Patched Average Logit Diff\", round(patched_logit_diff.item(), 2))\n",
    "print(\"Normalised Patched Logit Diff\", round(normalised_patched_logit_diff.item(), 2))\n",
    "\n",
    "# Probability difference is e^logit diff\n",
    "probability_diff = torch.exp(patched_logit_diff)\n",
    "print(\"Probability Difference\", round(probability_diff.item(), 2))\n"
   ]
  },
  {
   "cell_type": "code",
   "execution_count": 112,
   "metadata": {},
   "outputs": [],
   "source": [
    "clean_logits, _ = model.run_with_cache(tokens, return_type=\"logits\")\n",
    "corrupt_logits, _ = model.run_with_cache(corrupted_tokens, return_type=\"logits\")"
   ]
  },
  {
   "cell_type": "code",
   "execution_count": 116,
   "metadata": {},
   "outputs": [
    {
     "name": "stdout",
     "output_type": "stream",
     "text": [
      "Empty Logit Diff -3.55\n",
      "Full Logit Diff 3.55\n",
      "Threshold: inf\n",
      "Predicted Circuit Length: 0\n",
      "Predicted Logit Diff: -3.5519\n",
      "Predicted KL Divergence: 1.9454\n",
      "Predicted Logit Faithfulness: 0.0000\n",
      "Predicted KL Faithfulness: -0.0000\n",
      "Random Logit Diff: -3.5519\n",
      "Random KL Divergence: 1.9454\n",
      "Random Logit Faithfulness: 0.0000\n",
      "Random KL Faithfulness: 0.0000\n",
      "\n",
      "Threshold: 0.9896\n",
      "Predicted Circuit Length: 0\n",
      "Predicted Logit Diff: -3.5519\n",
      "Predicted KL Divergence: 1.9454\n",
      "Predicted Logit Faithfulness: 0.0000\n",
      "Predicted KL Faithfulness: -0.0000\n",
      "Random Logit Diff: -3.5519\n",
      "Random KL Divergence: 1.9454\n",
      "Random Logit Faithfulness: 0.0000\n",
      "Random KL Faithfulness: 0.0000\n",
      "\n",
      "Threshold: 0.0003\n",
      "Predicted Circuit Length: 4\n",
      "Predicted Logit Diff: -1.8273\n",
      "Predicted KL Divergence: 1.1613\n",
      "Predicted Logit Faithfulness: 0.2428\n",
      "Predicted KL Faithfulness: 0.4030\n",
      "Random Logit Diff: -3.5519\n",
      "Random KL Divergence: 1.9454\n",
      "Random Logit Faithfulness: 0.3517\n",
      "Random KL Faithfulness: 0.5554\n",
      "\n",
      "Threshold: 0.0000\n",
      "Predicted Circuit Length: 5\n",
      "Predicted Logit Diff: -1.7121\n",
      "Predicted KL Divergence: 1.1228\n",
      "Predicted Logit Faithfulness: 0.2590\n",
      "Predicted KL Faithfulness: 0.4229\n",
      "Random Logit Diff: -3.5519\n",
      "Random KL Divergence: 1.9454\n",
      "Random Logit Faithfulness: 0.1328\n",
      "Random KL Faithfulness: 0.2420\n",
      "\n",
      "Threshold: 0.0000\n",
      "Predicted Circuit Length: 8\n",
      "Predicted Logit Diff: 0.6633\n",
      "Predicted KL Divergence: 0.3307\n",
      "Predicted Logit Faithfulness: 0.5934\n",
      "Predicted KL Faithfulness: 0.8300\n",
      "Random Logit Diff: -1.0532\n",
      "Random KL Divergence: 0.8650\n",
      "Random Logit Faithfulness: 0.3960\n",
      "Random KL Faithfulness: 0.6515\n",
      "\n",
      "Threshold: 0.0000\n",
      "Predicted Circuit Length: 11\n",
      "Predicted Logit Diff: 1.0087\n",
      "Predicted KL Divergence: 0.2668\n",
      "Predicted Logit Faithfulness: 0.6420\n",
      "Predicted KL Faithfulness: 0.8628\n",
      "Random Logit Diff: -1.0532\n",
      "Random KL Divergence: 0.8650\n",
      "Random Logit Faithfulness: 0.1959\n",
      "Random KL Faithfulness: 0.3609\n",
      "\n",
      "Threshold: 0.0000\n",
      "Predicted Circuit Length: 13\n",
      "Predicted Logit Diff: 1.2495\n",
      "Predicted KL Divergence: 0.2274\n",
      "Predicted Logit Faithfulness: 0.6759\n",
      "Predicted KL Faithfulness: 0.8831\n",
      "Random Logit Diff: -2.6088\n",
      "Random KL Divergence: 1.4746\n",
      "Random Logit Faithfulness: -0.3482\n",
      "Random KL Faithfulness: -0.7075\n",
      "\n",
      "Threshold: 0.0000\n",
      "Predicted Circuit Length: 17\n",
      "Predicted Logit Diff: 1.6511\n",
      "Predicted KL Divergence: 0.1946\n",
      "Predicted Logit Faithfulness: 0.7324\n",
      "Predicted KL Faithfulness: 0.9000\n",
      "Random Logit Diff: -2.6088\n",
      "Random KL Divergence: 1.4746\n",
      "Random Logit Faithfulness: 0.1119\n",
      "Random KL Faithfulness: 0.1811\n",
      "\n",
      "Threshold: 0.0000\n",
      "Predicted Circuit Length: 20\n",
      "Predicted Logit Diff: 2.0032\n",
      "Predicted KL Divergence: 0.1400\n",
      "Predicted Logit Faithfulness: 0.7820\n",
      "Predicted KL Faithfulness: 0.9280\n",
      "Random Logit Diff: -0.7389\n",
      "Random KL Divergence: 0.6779\n",
      "Random Logit Faithfulness: 0.3242\n",
      "Random KL Faithfulness: 0.5597\n",
      "\n",
      "Threshold: 0.0000\n",
      "Predicted Circuit Length: 22\n",
      "Predicted Logit Diff: 2.9872\n",
      "Predicted KL Divergence: 0.0478\n",
      "Predicted Logit Faithfulness: 0.9205\n",
      "Predicted KL Faithfulness: 0.9754\n",
      "Random Logit Diff: -0.7389\n",
      "Random KL Divergence: 0.6779\n",
      "Random Logit Faithfulness: 0.3120\n",
      "Random KL Faithfulness: 0.5396\n",
      "\n",
      "Threshold: 0.0000\n",
      "Predicted Circuit Length: 30\n",
      "Predicted Logit Diff: 3.2917\n",
      "Predicted KL Divergence: 0.0158\n",
      "Predicted Logit Faithfulness: 0.9634\n",
      "Predicted KL Faithfulness: 0.9919\n",
      "Random Logit Diff: -2.1604\n",
      "Random KL Divergence: 1.2434\n",
      "Random Logit Faithfulness: 0.2712\n",
      "Random KL Faithfulness: 0.4329\n",
      "\n",
      "Threshold: 0.0000\n",
      "Predicted Circuit Length: 32\n",
      "Predicted Logit Diff: 3.3049\n",
      "Predicted KL Divergence: 0.0158\n",
      "Predicted Logit Faithfulness: 0.9652\n",
      "Predicted KL Faithfulness: 0.9919\n",
      "Random Logit Diff: -2.1604\n",
      "Random KL Divergence: 1.2434\n",
      "Random Logit Faithfulness: 0.1461\n",
      "Random KL Faithfulness: 0.2613\n",
      "\n",
      "Threshold: 0.0000\n",
      "Predicted Circuit Length: 37\n",
      "Predicted Logit Diff: 3.6285\n",
      "Predicted KL Divergence: 0.0028\n",
      "Predicted Logit Faithfulness: 1.0108\n",
      "Predicted KL Faithfulness: 0.9986\n",
      "Random Logit Diff: -6.0256\n",
      "Random KL Divergence: 3.3218\n",
      "Random Logit Faithfulness: 0.1039\n",
      "Random KL Faithfulness: 0.1757\n",
      "\n",
      "Threshold: 0.0000\n",
      "Predicted Circuit Length: 40\n",
      "Predicted Logit Diff: 3.6239\n",
      "Predicted KL Divergence: 0.0026\n",
      "Predicted Logit Faithfulness: 1.0101\n",
      "Predicted KL Faithfulness: 0.9987\n",
      "Random Logit Diff: -6.0256\n",
      "Random KL Divergence: 3.3218\n",
      "Random Logit Faithfulness: 0.3778\n",
      "Random KL Faithfulness: 0.5954\n",
      "\n",
      "Threshold: 0.0000\n",
      "Predicted Circuit Length: 47\n",
      "Predicted Logit Diff: 3.6094\n",
      "Predicted KL Divergence: 0.0022\n",
      "Predicted Logit Faithfulness: 1.0081\n",
      "Predicted KL Faithfulness: 0.9989\n",
      "Random Logit Diff: -2.7572\n",
      "Random KL Divergence: 1.5931\n",
      "Random Logit Faithfulness: 0.3319\n",
      "Random KL Faithfulness: 0.5494\n",
      "\n",
      "Threshold: 0.0000\n",
      "Predicted Circuit Length: 57\n",
      "Predicted Logit Diff: 3.7014\n",
      "Predicted KL Divergence: 0.0017\n",
      "Predicted Logit Faithfulness: 1.0210\n",
      "Predicted KL Faithfulness: 0.9991\n",
      "Random Logit Diff: -2.7572\n",
      "Random KL Divergence: 1.5931\n",
      "Random Logit Faithfulness: 1.0516\n",
      "Random KL Faithfulness: 0.9961\n",
      "\n",
      "Threshold: 0.0000\n",
      "Predicted Circuit Length: 68\n",
      "Predicted Logit Diff: 3.6993\n",
      "Predicted KL Divergence: 0.0015\n",
      "Predicted Logit Faithfulness: 1.0208\n",
      "Predicted KL Faithfulness: 0.9992\n",
      "Random Logit Diff: -1.2488\n",
      "Random KL Divergence: 0.8566\n",
      "Random Logit Faithfulness: 0.6946\n",
      "Random KL Faithfulness: 0.8911\n",
      "\n",
      "Threshold: 0.0000\n",
      "Predicted Circuit Length: 80\n",
      "Predicted Logit Diff: 3.7002\n",
      "Predicted KL Divergence: 0.0017\n",
      "Predicted Logit Faithfulness: 1.0209\n",
      "Predicted KL Faithfulness: 0.9991\n",
      "Random Logit Diff: -1.2488\n",
      "Random KL Divergence: 0.8566\n",
      "Random Logit Faithfulness: 1.0626\n",
      "Random KL Faithfulness: 0.9925\n",
      "\n",
      "Threshold: 0.0000\n",
      "Predicted Circuit Length: 95\n",
      "Predicted Logit Diff: 3.6874\n",
      "Predicted KL Divergence: 0.0015\n",
      "Predicted Logit Faithfulness: 1.0191\n",
      "Predicted KL Faithfulness: 0.9992\n",
      "Random Logit Diff: -1.3353\n",
      "Random KL Divergence: 0.8958\n",
      "Random Logit Faithfulness: 1.0643\n",
      "Random KL Faithfulness: 0.9947\n",
      "\n",
      "Threshold: 0.0000\n",
      "Predicted Circuit Length: 111\n",
      "Predicted Logit Diff: 3.6591\n",
      "Predicted KL Divergence: 0.0013\n",
      "Predicted Logit Faithfulness: 1.0151\n",
      "Predicted KL Faithfulness: 0.9993\n",
      "Random Logit Diff: -1.3353\n",
      "Random KL Divergence: 0.8958\n",
      "Random Logit Faithfulness: 0.9732\n",
      "Random KL Faithfulness: 0.9972\n",
      "\n"
     ]
    }
   ],
   "source": [
    "import random\n",
    "import torch\n",
    "import torch.nn.functional as F\n",
    "\n",
    "all_heads = [(layer, head) for layer in range(12) for head in range(12)]\n",
    "\n",
    "# Initialize lists to store the results\n",
    "thresholds_list = []\n",
    "predicted_circuit_lengths = []\n",
    "predicted_logit_diffs = []\n",
    "predicted_kl_divs = []\n",
    "predicted_logit_faithfulness = []\n",
    "predicted_kl_faithfulness = []\n",
    "random_logit_diffs = []\n",
    "random_kl_divs = []\n",
    "random_logit_faithfulness = []\n",
    "random_kl_faithfulness = []\n",
    "\n",
    "# Calculate metrics for the empty circuit (mean-ablated model)\n",
    "empty_logits, _ = model.run_with_cache(\n",
    "    corrupted_tokens,\n",
    "    return_type=\"logits\",\n",
    ")\n",
    "empty_logit_diff = logits_to_ave_logit_diff(empty_logits, answer_tokens)\n",
    "print(\"Empty Logit Diff\", round(empty_logit_diff.item(), 2))\n",
    "empty_kl_div = F.kl_div(F.log_softmax(empty_logits[:, -1, :], dim=-1),\n",
    "                        F.softmax(clean_logits[:, -1, :], dim=-1),\n",
    "                        reduction='batchmean').item()\n",
    "\n",
    "# Calculate metrics for the full model\n",
    "full_logit_diff = logits_to_ave_logit_diff(clean_logits, answer_tokens)\n",
    "print(\"Full Logit Diff\", round(full_logit_diff.item(), 2))\n",
    "full_kl_div = F.kl_div(F.log_softmax(clean_logits[:, -1, :], dim=-1),\n",
    "                       F.softmax(clean_logits[:, -1, :], dim=-1),\n",
    "                       reduction='batchmean').item()\n",
    "\n",
    "# Sweep over the thresholds\n",
    "for threshold in thresholds:\n",
    "    # Predict the circuit using the current threshold\n",
    "    circuit_prediction = (y_pred > threshold).astype(int)\n",
    "    circuit_prediction = circuit_prediction.reshape((len(layers), len(heads)))\n",
    "    \n",
    "    # Create the predicted circuit list\n",
    "    predicted_circuit = []\n",
    "    for i, l in enumerate(circuit_prediction):\n",
    "        for j, h in enumerate(l):\n",
    "            if h == 1:\n",
    "                predicted_circuit.append((i, j))\n",
    "    \n",
    "    # Count the number of components in the predicted circuit\n",
    "    predicted_circuit_length = len(predicted_circuit)\n",
    "    \n",
    "    # Create a random circuit of the same length\n",
    "    random_circuit = random.sample(all_heads, predicted_circuit_length)\n",
    "    \n",
    "    # Run the model with the predicted circuit and record the logit difference and KL divergence\n",
    "    predicted_patched_logits = model.run_with_hooks(\n",
    "        corrupted_tokens,\n",
    "        return_type=\"logits\",\n",
    "        fwd_hooks=[\n",
    "            (utils.get_act_name(\"z\", layer, \"attn\"), functools.partial(patch_head_vector, head_index=head, clean_cache=cache))\n",
    "            for layer, head in predicted_circuit\n",
    "        ]\n",
    "    )\n",
    "    predicted_patched_logit_diff = logits_to_ave_logit_diff(predicted_patched_logits, answer_tokens)\n",
    "    predicted_patched_kl_div = F.kl_div(F.log_softmax(predicted_patched_logits[:, -1, :], dim=-1),\n",
    "                                        F.softmax(clean_logits[:, -1, :], dim=-1),\n",
    "                                        reduction='batchmean').item()\n",
    "    \n",
    "    # Run the model with the random circuit and record the logit difference and KL divergence\n",
    "    random_logit_faithfulness_list = []\n",
    "    random_kl_faithfulness_list = []\n",
    "    random_patched_logit_diff_list = []\n",
    "    random_patched_kl_div_list = []\n",
    "    for _ in range(10):\n",
    "        random_patched_logits = model.run_with_hooks(\n",
    "            corrupted_tokens,\n",
    "            return_type=\"logits\",\n",
    "            fwd_hooks=[\n",
    "                (utils.get_act_name(\"z\", layer, \"attn\"), functools.partial(patch_head_vector, head_index=head, clean_cache=cache))\n",
    "                for layer, head in random_circuit\n",
    "            ]\n",
    "        )\n",
    "        random_patched_logit_diff = logits_to_ave_logit_diff(random_patched_logits, answer_tokens)\n",
    "        random_patched_kl_div = F.kl_div(F.log_softmax(random_patched_logits[:, -1, :], dim=-1),\n",
    "                                        F.softmax(clean_logits[:, -1, :], dim=-1),\n",
    "                                        reduction='batchmean').item()\n",
    "        random_logit_faithfulness_list.append((random_patched_logit_diff.item() - empty_logit_diff.item()) /\n",
    "                                     (full_logit_diff.item() - empty_logit_diff.item()))\n",
    "        random_kl_faithfulness_list.append((random_patched_kl_div - empty_kl_div) /\n",
    "                                  (full_kl_div - empty_kl_div))\n",
    "        random_patched_logit_diff_list.append(random_patched_logit_diff.item())\n",
    "        random_patched_kl_div_list.append(random_patched_kl_div)\n",
    "\n",
    "    # Take means of random lists and append\n",
    "    random_logit_faithfulness.append(np.mean(random_logit_faithfulness_list))\n",
    "    random_kl_faithfulness.append(np.mean(random_kl_faithfulness_list))\n",
    "    random_logit_diffs.append(np.mean(random_patched_logit_diff_list))\n",
    "    random_kl_divs.append(np.mean(random_patched_kl_div_list))\n",
    "    \n",
    "    # Calculate faithfulness for logit difference\n",
    "    predicted_logit_faithfulness.append((predicted_patched_logit_diff.item() - empty_logit_diff.item()) /\n",
    "                                        (full_logit_diff.item() - empty_logit_diff.item()))\n",
    "\n",
    "    \n",
    "    # Calculate faithfulness for KL divergence\n",
    "    predicted_kl_faithfulness.append((predicted_patched_kl_div - empty_kl_div) /\n",
    "                                     (full_kl_div - empty_kl_div))\n",
    "    \n",
    "    # Store the results\n",
    "    thresholds_list.append(threshold)\n",
    "    predicted_circuit_lengths.append(predicted_circuit_length)\n",
    "    predicted_logit_diffs.append(predicted_patched_logit_diff.item())\n",
    "    predicted_kl_divs.append(predicted_patched_kl_div)\n",
    "    random_logit_diffs.append(random_patched_logit_diff.item())\n",
    "    random_kl_divs.append(random_patched_kl_div)\n",
    "\n",
    "# Print the results\n",
    "for i in range(len(thresholds_list)):\n",
    "    print(f\"Threshold: {thresholds_list[i]:.4f}\")\n",
    "    print(f\"Predicted Circuit Length: {predicted_circuit_lengths[i]}\")\n",
    "    print(f\"Predicted Logit Diff: {predicted_logit_diffs[i]:.4f}\")\n",
    "    print(f\"Predicted KL Divergence: {predicted_kl_divs[i]:.4f}\")\n",
    "    print(f\"Predicted Logit Faithfulness: {predicted_logit_faithfulness[i]:.4f}\")\n",
    "    print(f\"Predicted KL Faithfulness: {predicted_kl_faithfulness[i]:.4f}\")\n",
    "    print(f\"Random Logit Diff: {random_logit_diffs[i]:.4f}\")\n",
    "    print(f\"Random KL Divergence: {random_kl_divs[i]:.4f}\")\n",
    "    print(f\"Random Logit Faithfulness: {random_logit_faithfulness[i]:.4f}\")\n",
    "    print(f\"Random KL Faithfulness: {random_kl_faithfulness[i]:.4f}\")\n",
    "    print()"
   ]
  },
  {
   "cell_type": "code",
   "execution_count": 117,
   "metadata": {},
   "outputs": [
    {
     "data": {
      "application/vnd.plotly.v1+json": {
       "config": {
        "plotlyServerURL": "https://plot.ly"
       },
       "data": [
        {
         "legendgroup": "Ours",
         "line": {
          "color": "#636EFA",
          "width": 6
         },
         "mode": "lines",
         "name": "Ours",
         "showlegend": true,
         "type": "scatter",
         "x": [
          0,
          0,
          4,
          5,
          8,
          11,
          13,
          17,
          20,
          22,
          30,
          32,
          37,
          40,
          47,
          57,
          68,
          80,
          95,
          111
         ],
         "xaxis": "x",
         "y": [
          1.9454487562179565,
          1.9454487562179565,
          1.1613376140594482,
          1.1227500438690186,
          0.33068159222602844,
          0.26682189106941223,
          0.22738312184810638,
          0.194559246301651,
          0.1400231420993805,
          0.04783795028924942,
          0.015830710530281067,
          0.015769263729453087,
          0.0028084497898817062,
          0.0026194066740572453,
          0.002217423403635621,
          0.0016837213188409805,
          0.0015095719136297703,
          0.0016610659658908844,
          0.0014967285096645355,
          0.001340479589998722
         ],
         "yaxis": "y"
        },
        {
         "legendgroup": "Ours",
         "line": {
          "color": "#636EFA",
          "width": 6
         },
         "mode": "lines",
         "name": "Ours",
         "showlegend": false,
         "type": "scatter",
         "x": [
          0,
          0,
          4,
          5,
          8,
          11,
          13,
          17,
          20,
          22,
          30,
          32,
          37,
          40,
          47,
          57,
          68,
          80,
          95,
          111
         ],
         "xaxis": "x2",
         "y": [
          -3.5518746376037598,
          -3.5518746376037598,
          -1.827333927154541,
          -1.7120975255966187,
          0.6633038520812988,
          1.0086555480957031,
          1.2495187520980835,
          1.6510568857192993,
          2.003249168395996,
          2.987248420715332,
          3.2916722297668457,
          3.3049187660217285,
          3.6285347938537598,
          3.6238901615142822,
          3.6094183921813965,
          3.701352596282959,
          3.6992907524108887,
          3.700164318084717,
          3.6874167919158936,
          3.6590518951416016
         ],
         "yaxis": "y2"
        },
        {
         "legendgroup": "Ours",
         "line": {
          "color": "#636EFA",
          "width": 6
         },
         "mode": "lines",
         "name": "Ours",
         "showlegend": false,
         "type": "scatter",
         "x": [
          0,
          0,
          4,
          5,
          8,
          11,
          13,
          17,
          20,
          22,
          30,
          32,
          37,
          40,
          47,
          57,
          68,
          80,
          95,
          111
         ],
         "xaxis": "x3",
         "y": [
          0,
          0,
          0.4030489791064951,
          0.4228837702926519,
          0.830022967343667,
          0.8628481447622235,
          0.8831204694585746,
          0.8999926050755981,
          0.9280252651684796,
          0.9754103174271794,
          0.9918626857398608,
          0.9918942706377298,
          0.998556391025859,
          0.998653563009196,
          0.9988601905369153,
          0.9991345241981248,
          0.9992240405131068,
          0.9991461695075546,
          0.9992306422823944,
          0.9993109573859198
         ],
         "yaxis": "y3"
        },
        {
         "legendgroup": "Ours",
         "line": {
          "color": "#636EFA",
          "width": 6
         },
         "mode": "lines",
         "name": "Ours",
         "showlegend": false,
         "type": "scatter",
         "x": [
          0,
          0,
          4,
          5,
          8,
          11,
          13,
          17,
          20,
          22,
          30,
          32,
          37,
          40,
          47,
          57,
          68,
          80,
          95,
          111
         ],
         "xaxis": "x4",
         "y": [
          0,
          0,
          0.2427648617143572,
          0.2589867745513015,
          0.5933737701577203,
          0.6419891819121443,
          0.6758956719459361,
          0.7324204897660985,
          0.7819988559263271,
          0.9205171529830023,
          0.9633711160464187,
          0.9652358406786792,
          1.0107915064679363,
          1.0101376781641014,
          1.0081004765720643,
          1.0210421219680268,
          1.0207518746926527,
          1.0208748471738012,
          1.019080368557655,
          1.015087421217398
         ],
         "yaxis": "y4"
        },
        {
         "legendgroup": "Random",
         "line": {
          "color": "#EF553B",
          "dash": "dash",
          "width": 6
         },
         "mode": "lines",
         "name": "Random",
         "showlegend": true,
         "type": "scatter",
         "x": [
          0,
          0,
          4,
          5,
          8,
          11,
          13,
          17,
          20,
          22,
          30,
          32,
          37,
          40,
          47,
          57,
          68,
          80,
          95,
          111
         ],
         "xaxis": "x",
         "y": [
          1.9454487562179565,
          1.9454487562179565,
          1.9454487562179565,
          1.9454487562179565,
          0.8650051355361938,
          0.8650051355361938,
          1.474567174911499,
          1.474567174911499,
          0.6779043674468994,
          0.6779043674468994,
          1.243416428565979,
          1.243416428565979,
          3.3217811584472656,
          3.3217811584472656,
          1.5930999517440796,
          1.5930999517440796,
          0.8566239476203918,
          0.8566239476203918,
          0.8957509994506836,
          0.8957509994506836,
          1.1033161878585815,
          1.1033161878585815,
          1.4371148347854614,
          1.4371148347854614,
          1.6037111282348633,
          1.6037111282348633,
          0.7870568633079529,
          0.7870568633079529,
          0.8766546249389648,
          0.8766546249389648,
          0.007534014992415905,
          0.007534014992415905,
          0.21184536814689636,
          0.21184536814689636,
          0.014666721224784851,
          0.014666721224784851,
          0.01026984117925167,
          0.01026984117925167,
          0.0053882719948887825,
          0.0053882719948887825
         ],
         "yaxis": "y"
        },
        {
         "legendgroup": "Random",
         "line": {
          "color": "#EF553B",
          "dash": "dash",
          "width": 6
         },
         "mode": "lines",
         "name": "Random",
         "showlegend": false,
         "type": "scatter",
         "x": [
          0,
          0,
          4,
          5,
          8,
          11,
          13,
          17,
          20,
          22,
          30,
          32,
          37,
          40,
          47,
          57,
          68,
          80,
          95,
          111
         ],
         "xaxis": "x2",
         "y": [
          -3.5518746376037598,
          -3.5518746376037598,
          -3.5518746376037598,
          -3.5518746376037598,
          -1.053181767463684,
          -1.053181767463684,
          -2.6087968349456787,
          -2.6087968349456787,
          -0.7389235496520996,
          -0.7389235496520996,
          -2.1604080200195312,
          -2.1604080200195312,
          -6.025574684143066,
          -6.025574684143066,
          -2.757211208343506,
          -2.757211208343506,
          -1.2488105297088623,
          -1.2488105297088623,
          -1.3353227376937866,
          -1.3353227376937866,
          -1.6251401901245117,
          -1.6251401901245117,
          -2.5143561363220215,
          -2.5143561363220215,
          -2.8136796951293945,
          -2.8136796951293945,
          -0.8683761358261108,
          -0.8683761358261108,
          -1.1939934492111206,
          -1.1939934492111206,
          3.9184985160827637,
          3.9184985160827637,
          1.3827391862869263,
          1.3827391862869263,
          3.9962594509124756,
          3.9962594509124756,
          4.008477687835693,
          4.008477687835693,
          3.3613901138305664,
          3.3613901138305664
         ],
         "yaxis": "y2"
        },
        {
         "legendgroup": "Random",
         "line": {
          "color": "#EF553B",
          "dash": "dash",
          "width": 6
         },
         "mode": "lines",
         "name": "Random",
         "showlegend": false,
         "type": "scatter",
         "x": [
          0,
          0,
          4,
          5,
          8,
          11,
          13,
          17,
          20,
          22,
          30,
          32,
          37,
          40,
          47,
          57,
          68,
          80,
          95,
          111
         ],
         "xaxis": "x3",
         "y": [
          0,
          0,
          0.5553698638934518,
          0.24204265240150613,
          0.6515434412269401,
          0.36085880909811996,
          -0.7074626794648637,
          0.18111440878349622,
          0.559677963921038,
          0.539565868265524,
          0.4328731651679078,
          0.26129391238410843,
          0.1756600495456515,
          0.5954368516653927,
          0.5493817908277209,
          0.9961273549770414,
          0.8911071889810668,
          0.992460999774756,
          0.994721085007989,
          0.9972303102573317
         ],
         "yaxis": "y3"
        },
        {
         "legendgroup": "Random",
         "line": {
          "color": "#EF553B",
          "dash": "dash",
          "width": 6
         },
         "mode": "lines",
         "name": "Random",
         "showlegend": false,
         "type": "scatter",
         "x": [
          0,
          0,
          4,
          5,
          8,
          11,
          13,
          17,
          20,
          22,
          30,
          32,
          37,
          40,
          47,
          57,
          68,
          80,
          95,
          111
         ],
         "xaxis": "x4",
         "y": [
          0,
          0,
          0.35174282950281666,
          0.1327577545493441,
          0.3959811895063661,
          0.19587777716768864,
          -0.34822457137847723,
          0.11186535426210402,
          0.32420402503966733,
          0.3120256380170768,
          0.27122782249700994,
          0.14605224101908207,
          0.10391624392638782,
          0.37775805392558104,
          0.33192066569998124,
          1.0516099124948768,
          0.6946492102575695,
          1.062556376371509,
          1.0642763465520249,
          0.9731853537626961
         ],
         "yaxis": "y4"
        }
       ],
       "layout": {
        "annotations": [
         {
          "font": {
           "size": 28
          },
          "showarrow": false,
          "text": "KL Divergence",
          "x": 0.225,
          "xanchor": "center",
          "xref": "paper",
          "y": 1,
          "yanchor": "bottom",
          "yref": "paper"
         },
         {
          "font": {
           "size": 28
          },
          "showarrow": false,
          "text": "Logit Difference",
          "x": 0.775,
          "xanchor": "center",
          "xref": "paper",
          "y": 1,
          "yanchor": "bottom",
          "yref": "paper"
         },
         {
          "font": {
           "size": 28
          },
          "showarrow": false,
          "text": "Faithfulness (KL)",
          "x": 0.225,
          "xanchor": "center",
          "xref": "paper",
          "y": 0.425,
          "yanchor": "bottom",
          "yref": "paper"
         },
         {
          "font": {
           "size": 28
          },
          "showarrow": false,
          "text": "Faithfulness (Logit Diff)",
          "x": 0.775,
          "xanchor": "center",
          "xref": "paper",
          "y": 0.425,
          "yanchor": "bottom",
          "yref": "paper"
         }
        ],
        "font": {
         "family": "Palatino",
         "size": 28
        },
        "height": 800,
        "legend": {
         "font": {
          "size": 28
         }
        },
        "plot_bgcolor": "white",
        "showlegend": true,
        "template": {
         "data": {
          "bar": [
           {
            "error_x": {
             "color": "#2a3f5f"
            },
            "error_y": {
             "color": "#2a3f5f"
            },
            "marker": {
             "line": {
              "color": "#E5ECF6",
              "width": 0.5
             },
             "pattern": {
              "fillmode": "overlay",
              "size": 10,
              "solidity": 0.2
             }
            },
            "type": "bar"
           }
          ],
          "barpolar": [
           {
            "marker": {
             "line": {
              "color": "#E5ECF6",
              "width": 0.5
             },
             "pattern": {
              "fillmode": "overlay",
              "size": 10,
              "solidity": 0.2
             }
            },
            "type": "barpolar"
           }
          ],
          "carpet": [
           {
            "aaxis": {
             "endlinecolor": "#2a3f5f",
             "gridcolor": "white",
             "linecolor": "white",
             "minorgridcolor": "white",
             "startlinecolor": "#2a3f5f"
            },
            "baxis": {
             "endlinecolor": "#2a3f5f",
             "gridcolor": "white",
             "linecolor": "white",
             "minorgridcolor": "white",
             "startlinecolor": "#2a3f5f"
            },
            "type": "carpet"
           }
          ],
          "choropleth": [
           {
            "colorbar": {
             "outlinewidth": 0,
             "ticks": ""
            },
            "type": "choropleth"
           }
          ],
          "contour": [
           {
            "colorbar": {
             "outlinewidth": 0,
             "ticks": ""
            },
            "colorscale": [
             [
              0,
              "#0d0887"
             ],
             [
              0.1111111111111111,
              "#46039f"
             ],
             [
              0.2222222222222222,
              "#7201a8"
             ],
             [
              0.3333333333333333,
              "#9c179e"
             ],
             [
              0.4444444444444444,
              "#bd3786"
             ],
             [
              0.5555555555555556,
              "#d8576b"
             ],
             [
              0.6666666666666666,
              "#ed7953"
             ],
             [
              0.7777777777777778,
              "#fb9f3a"
             ],
             [
              0.8888888888888888,
              "#fdca26"
             ],
             [
              1,
              "#f0f921"
             ]
            ],
            "type": "contour"
           }
          ],
          "contourcarpet": [
           {
            "colorbar": {
             "outlinewidth": 0,
             "ticks": ""
            },
            "type": "contourcarpet"
           }
          ],
          "heatmap": [
           {
            "colorbar": {
             "outlinewidth": 0,
             "ticks": ""
            },
            "colorscale": [
             [
              0,
              "#0d0887"
             ],
             [
              0.1111111111111111,
              "#46039f"
             ],
             [
              0.2222222222222222,
              "#7201a8"
             ],
             [
              0.3333333333333333,
              "#9c179e"
             ],
             [
              0.4444444444444444,
              "#bd3786"
             ],
             [
              0.5555555555555556,
              "#d8576b"
             ],
             [
              0.6666666666666666,
              "#ed7953"
             ],
             [
              0.7777777777777778,
              "#fb9f3a"
             ],
             [
              0.8888888888888888,
              "#fdca26"
             ],
             [
              1,
              "#f0f921"
             ]
            ],
            "type": "heatmap"
           }
          ],
          "heatmapgl": [
           {
            "colorbar": {
             "outlinewidth": 0,
             "ticks": ""
            },
            "colorscale": [
             [
              0,
              "#0d0887"
             ],
             [
              0.1111111111111111,
              "#46039f"
             ],
             [
              0.2222222222222222,
              "#7201a8"
             ],
             [
              0.3333333333333333,
              "#9c179e"
             ],
             [
              0.4444444444444444,
              "#bd3786"
             ],
             [
              0.5555555555555556,
              "#d8576b"
             ],
             [
              0.6666666666666666,
              "#ed7953"
             ],
             [
              0.7777777777777778,
              "#fb9f3a"
             ],
             [
              0.8888888888888888,
              "#fdca26"
             ],
             [
              1,
              "#f0f921"
             ]
            ],
            "type": "heatmapgl"
           }
          ],
          "histogram": [
           {
            "marker": {
             "pattern": {
              "fillmode": "overlay",
              "size": 10,
              "solidity": 0.2
             }
            },
            "type": "histogram"
           }
          ],
          "histogram2d": [
           {
            "colorbar": {
             "outlinewidth": 0,
             "ticks": ""
            },
            "colorscale": [
             [
              0,
              "#0d0887"
             ],
             [
              0.1111111111111111,
              "#46039f"
             ],
             [
              0.2222222222222222,
              "#7201a8"
             ],
             [
              0.3333333333333333,
              "#9c179e"
             ],
             [
              0.4444444444444444,
              "#bd3786"
             ],
             [
              0.5555555555555556,
              "#d8576b"
             ],
             [
              0.6666666666666666,
              "#ed7953"
             ],
             [
              0.7777777777777778,
              "#fb9f3a"
             ],
             [
              0.8888888888888888,
              "#fdca26"
             ],
             [
              1,
              "#f0f921"
             ]
            ],
            "type": "histogram2d"
           }
          ],
          "histogram2dcontour": [
           {
            "colorbar": {
             "outlinewidth": 0,
             "ticks": ""
            },
            "colorscale": [
             [
              0,
              "#0d0887"
             ],
             [
              0.1111111111111111,
              "#46039f"
             ],
             [
              0.2222222222222222,
              "#7201a8"
             ],
             [
              0.3333333333333333,
              "#9c179e"
             ],
             [
              0.4444444444444444,
              "#bd3786"
             ],
             [
              0.5555555555555556,
              "#d8576b"
             ],
             [
              0.6666666666666666,
              "#ed7953"
             ],
             [
              0.7777777777777778,
              "#fb9f3a"
             ],
             [
              0.8888888888888888,
              "#fdca26"
             ],
             [
              1,
              "#f0f921"
             ]
            ],
            "type": "histogram2dcontour"
           }
          ],
          "mesh3d": [
           {
            "colorbar": {
             "outlinewidth": 0,
             "ticks": ""
            },
            "type": "mesh3d"
           }
          ],
          "parcoords": [
           {
            "line": {
             "colorbar": {
              "outlinewidth": 0,
              "ticks": ""
             }
            },
            "type": "parcoords"
           }
          ],
          "pie": [
           {
            "automargin": true,
            "type": "pie"
           }
          ],
          "scatter": [
           {
            "fillpattern": {
             "fillmode": "overlay",
             "size": 10,
             "solidity": 0.2
            },
            "type": "scatter"
           }
          ],
          "scatter3d": [
           {
            "line": {
             "colorbar": {
              "outlinewidth": 0,
              "ticks": ""
             }
            },
            "marker": {
             "colorbar": {
              "outlinewidth": 0,
              "ticks": ""
             }
            },
            "type": "scatter3d"
           }
          ],
          "scattercarpet": [
           {
            "marker": {
             "colorbar": {
              "outlinewidth": 0,
              "ticks": ""
             }
            },
            "type": "scattercarpet"
           }
          ],
          "scattergeo": [
           {
            "marker": {
             "colorbar": {
              "outlinewidth": 0,
              "ticks": ""
             }
            },
            "type": "scattergeo"
           }
          ],
          "scattergl": [
           {
            "marker": {
             "colorbar": {
              "outlinewidth": 0,
              "ticks": ""
             }
            },
            "type": "scattergl"
           }
          ],
          "scattermapbox": [
           {
            "marker": {
             "colorbar": {
              "outlinewidth": 0,
              "ticks": ""
             }
            },
            "type": "scattermapbox"
           }
          ],
          "scatterpolar": [
           {
            "marker": {
             "colorbar": {
              "outlinewidth": 0,
              "ticks": ""
             }
            },
            "type": "scatterpolar"
           }
          ],
          "scatterpolargl": [
           {
            "marker": {
             "colorbar": {
              "outlinewidth": 0,
              "ticks": ""
             }
            },
            "type": "scatterpolargl"
           }
          ],
          "scatterternary": [
           {
            "marker": {
             "colorbar": {
              "outlinewidth": 0,
              "ticks": ""
             }
            },
            "type": "scatterternary"
           }
          ],
          "surface": [
           {
            "colorbar": {
             "outlinewidth": 0,
             "ticks": ""
            },
            "colorscale": [
             [
              0,
              "#0d0887"
             ],
             [
              0.1111111111111111,
              "#46039f"
             ],
             [
              0.2222222222222222,
              "#7201a8"
             ],
             [
              0.3333333333333333,
              "#9c179e"
             ],
             [
              0.4444444444444444,
              "#bd3786"
             ],
             [
              0.5555555555555556,
              "#d8576b"
             ],
             [
              0.6666666666666666,
              "#ed7953"
             ],
             [
              0.7777777777777778,
              "#fb9f3a"
             ],
             [
              0.8888888888888888,
              "#fdca26"
             ],
             [
              1,
              "#f0f921"
             ]
            ],
            "type": "surface"
           }
          ],
          "table": [
           {
            "cells": {
             "fill": {
              "color": "#EBF0F8"
             },
             "line": {
              "color": "white"
             }
            },
            "header": {
             "fill": {
              "color": "#C8D4E3"
             },
             "line": {
              "color": "white"
             }
            },
            "type": "table"
           }
          ]
         },
         "layout": {
          "annotationdefaults": {
           "arrowcolor": "#2a3f5f",
           "arrowhead": 0,
           "arrowwidth": 1
          },
          "autotypenumbers": "strict",
          "coloraxis": {
           "colorbar": {
            "outlinewidth": 0,
            "ticks": ""
           }
          },
          "colorscale": {
           "diverging": [
            [
             0,
             "#8e0152"
            ],
            [
             0.1,
             "#c51b7d"
            ],
            [
             0.2,
             "#de77ae"
            ],
            [
             0.3,
             "#f1b6da"
            ],
            [
             0.4,
             "#fde0ef"
            ],
            [
             0.5,
             "#f7f7f7"
            ],
            [
             0.6,
             "#e6f5d0"
            ],
            [
             0.7,
             "#b8e186"
            ],
            [
             0.8,
             "#7fbc41"
            ],
            [
             0.9,
             "#4d9221"
            ],
            [
             1,
             "#276419"
            ]
           ],
           "sequential": [
            [
             0,
             "#0d0887"
            ],
            [
             0.1111111111111111,
             "#46039f"
            ],
            [
             0.2222222222222222,
             "#7201a8"
            ],
            [
             0.3333333333333333,
             "#9c179e"
            ],
            [
             0.4444444444444444,
             "#bd3786"
            ],
            [
             0.5555555555555556,
             "#d8576b"
            ],
            [
             0.6666666666666666,
             "#ed7953"
            ],
            [
             0.7777777777777778,
             "#fb9f3a"
            ],
            [
             0.8888888888888888,
             "#fdca26"
            ],
            [
             1,
             "#f0f921"
            ]
           ],
           "sequentialminus": [
            [
             0,
             "#0d0887"
            ],
            [
             0.1111111111111111,
             "#46039f"
            ],
            [
             0.2222222222222222,
             "#7201a8"
            ],
            [
             0.3333333333333333,
             "#9c179e"
            ],
            [
             0.4444444444444444,
             "#bd3786"
            ],
            [
             0.5555555555555556,
             "#d8576b"
            ],
            [
             0.6666666666666666,
             "#ed7953"
            ],
            [
             0.7777777777777778,
             "#fb9f3a"
            ],
            [
             0.8888888888888888,
             "#fdca26"
            ],
            [
             1,
             "#f0f921"
            ]
           ]
          },
          "colorway": [
           "#636efa",
           "#EF553B",
           "#00cc96",
           "#ab63fa",
           "#FFA15A",
           "#19d3f3",
           "#FF6692",
           "#B6E880",
           "#FF97FF",
           "#FECB52"
          ],
          "font": {
           "color": "#2a3f5f"
          },
          "geo": {
           "bgcolor": "white",
           "lakecolor": "white",
           "landcolor": "#E5ECF6",
           "showlakes": true,
           "showland": true,
           "subunitcolor": "white"
          },
          "hoverlabel": {
           "align": "left"
          },
          "hovermode": "closest",
          "mapbox": {
           "style": "light"
          },
          "paper_bgcolor": "white",
          "plot_bgcolor": "#E5ECF6",
          "polar": {
           "angularaxis": {
            "gridcolor": "white",
            "linecolor": "white",
            "ticks": ""
           },
           "bgcolor": "#E5ECF6",
           "radialaxis": {
            "gridcolor": "white",
            "linecolor": "white",
            "ticks": ""
           }
          },
          "scene": {
           "xaxis": {
            "backgroundcolor": "#E5ECF6",
            "gridcolor": "white",
            "gridwidth": 2,
            "linecolor": "white",
            "showbackground": true,
            "ticks": "",
            "zerolinecolor": "white"
           },
           "yaxis": {
            "backgroundcolor": "#E5ECF6",
            "gridcolor": "white",
            "gridwidth": 2,
            "linecolor": "white",
            "showbackground": true,
            "ticks": "",
            "zerolinecolor": "white"
           },
           "zaxis": {
            "backgroundcolor": "#E5ECF6",
            "gridcolor": "white",
            "gridwidth": 2,
            "linecolor": "white",
            "showbackground": true,
            "ticks": "",
            "zerolinecolor": "white"
           }
          },
          "shapedefaults": {
           "line": {
            "color": "#2a3f5f"
           }
          },
          "ternary": {
           "aaxis": {
            "gridcolor": "white",
            "linecolor": "white",
            "ticks": ""
           },
           "baxis": {
            "gridcolor": "white",
            "linecolor": "white",
            "ticks": ""
           },
           "bgcolor": "#E5ECF6",
           "caxis": {
            "gridcolor": "white",
            "linecolor": "white",
            "ticks": ""
           }
          },
          "title": {
           "x": 0.05
          },
          "xaxis": {
           "automargin": true,
           "gridcolor": "white",
           "linecolor": "white",
           "ticks": "",
           "title": {
            "standoff": 15
           },
           "zerolinecolor": "white",
           "zerolinewidth": 2
          },
          "yaxis": {
           "automargin": true,
           "gridcolor": "white",
           "linecolor": "white",
           "ticks": "",
           "title": {
            "standoff": 15
           },
           "zerolinecolor": "white",
           "zerolinewidth": 2
          }
         }
        },
        "width": 1000,
        "xaxis": {
         "anchor": "y",
         "domain": [
          0,
          0.45
         ],
         "title": {
          "font": {
           "size": 22
          }
         }
        },
        "xaxis2": {
         "anchor": "y2",
         "domain": [
          0.55,
          1
         ],
         "title": {
          "font": {
           "size": 22
          }
         }
        },
        "xaxis3": {
         "anchor": "y3",
         "domain": [
          0,
          0.45
         ],
         "title": {
          "font": {
           "size": 22
          },
          "text": "No. Attn. Heads"
         }
        },
        "xaxis4": {
         "anchor": "y4",
         "domain": [
          0.55,
          1
         ],
         "title": {
          "font": {
           "size": 22
          },
          "text": "No. Attn. Heads"
         }
        },
        "yaxis": {
         "anchor": "x",
         "domain": [
          0.575,
          1
         ],
         "title": {
          "font": {
           "size": 22
          }
         }
        },
        "yaxis2": {
         "anchor": "x2",
         "domain": [
          0.575,
          1
         ],
         "title": {
          "font": {
           "size": 22
          }
         }
        },
        "yaxis3": {
         "anchor": "x3",
         "domain": [
          0,
          0.425
         ],
         "title": {
          "font": {
           "size": 22
          }
         }
        },
        "yaxis4": {
         "anchor": "x4",
         "domain": [
          0,
          0.425
         ],
         "title": {
          "font": {
           "size": 22
          }
         }
        }
       }
      }
     },
     "metadata": {},
     "output_type": "display_data"
    }
   ],
   "source": [
    "import plotly.graph_objects as go\n",
    "from plotly.subplots import make_subplots\n",
    "\n",
    "# Define colors for \"Ours\" and \"Random\"\n",
    "color_ours = '#636EFA'\n",
    "color_random = '#EF553B'\n",
    "\n",
    "# Create a 2x2 subplot grid\n",
    "fig = make_subplots(rows=2, cols=2, subplot_titles=(\"KL Divergence\", \"Logit Difference\", \"Faithfulness (KL)\", \"Faithfulness (Logit Diff)\"), vertical_spacing=0.15)\n",
    "\n",
    "# Add traces to the subplots for \"Ours\"\n",
    "fig.add_trace(go.Scatter(x=predicted_circuit_lengths, y=predicted_kl_divs, mode='lines', name=\"Ours\", line=dict(width=6, color=color_ours), legendgroup=\"Ours\", showlegend=True), row=1, col=1)\n",
    "fig.add_trace(go.Scatter(x=predicted_circuit_lengths, y=predicted_logit_diffs, mode='lines', name=\"Ours\", line=dict(width=6, color=color_ours), legendgroup=\"Ours\", showlegend=False), row=1, col=2)\n",
    "fig.add_trace(go.Scatter(x=predicted_circuit_lengths, y=predicted_kl_faithfulness, mode='lines', name=\"Ours\", line=dict(width=6, color=color_ours), legendgroup=\"Ours\", showlegend=False), row=2, col=1)\n",
    "fig.add_trace(go.Scatter(x=predicted_circuit_lengths, y=predicted_logit_faithfulness, mode='lines', name=\"Ours\", line=dict(width=6, color=color_ours), legendgroup=\"Ours\", showlegend=False), row=2, col=2)\n",
    "\n",
    "# Add traces to the subplots for \"Random\"\n",
    "fig.add_trace(go.Scatter(x=predicted_circuit_lengths, y=random_kl_divs, mode='lines', name=\"Random\", line=dict(width=6, dash='dash', color=color_random), legendgroup=\"Random\", showlegend=True), row=1, col=1)\n",
    "fig.add_trace(go.Scatter(x=predicted_circuit_lengths, y=random_logit_diffs, mode='lines', name=\"Random\", line=dict(width=6, dash='dash', color=color_random), legendgroup=\"Random\", showlegend=False), row=1, col=2)\n",
    "fig.add_trace(go.Scatter(x=predicted_circuit_lengths, y=random_kl_faithfulness, mode='lines', name=\"Random\", line=dict(width=6, dash='dash', color=color_random), legendgroup=\"Random\", showlegend=False), row=2, col=1)\n",
    "fig.add_trace(go.Scatter(x=predicted_circuit_lengths, y=random_logit_faithfulness, mode='lines', name=\"Random\", line=dict(width=6, dash='dash', color=color_random), legendgroup=\"Random\", showlegend=False), row=2, col=2)\n",
    "\n",
    "# Update layout\n",
    "fontsize = 28\n",
    "fig.update_layout(\n",
    "    font=dict(family='Palatino', size=fontsize),\n",
    "    plot_bgcolor='white',\n",
    "    width=1000,\n",
    "    height=800,\n",
    "    showlegend=True,\n",
    "    legend=dict(font=dict(size=fontsize)),\n",
    "    xaxis3=dict(title='No. Attn. Heads'),\n",
    "    xaxis4=dict(title='No. Attn. Heads'),\n",
    ")\n",
    "\n",
    "# Adjust subplot titles\n",
    "fig.update_annotations(font=dict(size=fontsize))\n",
    "\n",
    "# Update subplot titles and axis labels to have fontsize 24\n",
    "fig.update_xaxes(title_font=dict(size=fontsize-6))\n",
    "fig.update_yaxes(title_font=dict(size=fontsize-6))\n",
    "\n",
    "# Save the figure as pdf\n",
    "fig.write_image(f\"../output/{task}/faithfulness_ioi.pdf\")\n",
    "\n",
    "# Display the figure\n",
    "fig.show()"
   ]
  },
  {
   "cell_type": "code",
   "execution_count": 90,
   "metadata": {},
   "outputs": [
    {
     "data": {
      "application/vnd.plotly.v1+json": {
       "config": {
        "plotlyServerURL": "https://plot.ly"
       },
       "data": [
        {
         "legendgroup": "Predicted",
         "line": {
          "color": "#636EFA",
          "width": 6
         },
         "mode": "lines",
         "name": "Predicted Circuit",
         "showlegend": true,
         "type": "scatter",
         "x": [
          0,
          0,
          4,
          5,
          8,
          11,
          13,
          17,
          20,
          22,
          30,
          32,
          37,
          40,
          47,
          57,
          68,
          80,
          95,
          111
         ],
         "y": [
          -3.5518746376037598,
          -3.5518746376037598,
          -1.827333927154541,
          -1.7120975255966187,
          0.6633038520812988,
          1.0086555480957031,
          1.2495187520980835,
          1.6510568857192993,
          2.003249168395996,
          2.987248420715332,
          3.2916722297668457,
          3.3049187660217285,
          3.6285347938537598,
          3.6238901615142822,
          3.6094183921813965,
          3.701352596282959,
          3.6992907524108887,
          3.700164318084717,
          3.6874167919158936,
          3.6590518951416016
         ]
        },
        {
         "legendgroup": "Random",
         "line": {
          "color": "#EF553B",
          "dash": "dash",
          "width": 6
         },
         "mode": "lines",
         "name": "Random Circuit",
         "showlegend": true,
         "type": "scatter",
         "x": [
          0,
          0,
          4,
          5,
          8,
          11,
          13,
          17,
          20,
          22,
          30,
          32,
          37,
          40,
          47,
          57,
          68,
          80,
          95,
          111
         ],
         "y": [
          -3.5518746376037598,
          -3.5518746376037598,
          -5.409390449523926,
          -3.5136897563934326,
          -3.5009024143218994,
          -3.60650634765625,
          -0.6885647773742676,
          -2.590714931488037,
          -4.250255107879639,
          -0.9263014793395996,
          -2.0427684783935547,
          -1.7466014623641968,
          -1.147747278213501,
          0.0378493070602417,
          -0.6623449325561523,
          2.0657386779785156,
          2.6203560829162598,
          3.307425022125244,
          1.6127601861953735,
          3.3016395568847656
         ]
        },
        {
         "legendgroup": "Clean",
         "line": {
          "color": "black",
          "dash": "dash",
          "width": 2
         },
         "mode": "lines",
         "name": "Clean Model",
         "showlegend": true,
         "type": "scatter",
         "x": [
          0,
          111
         ],
         "y": [
          3.55,
          3.55
         ]
        }
       ],
       "layout": {
        "font": {
         "family": "Palatino",
         "size": 20
        },
        "height": 600,
        "legend": {
         "font": {
          "family": "Palatino",
          "size": 20
         },
         "x": 0.8,
         "y": 0.9
        },
        "plot_bgcolor": "white",
        "template": {
         "data": {
          "bar": [
           {
            "error_x": {
             "color": "#2a3f5f"
            },
            "error_y": {
             "color": "#2a3f5f"
            },
            "marker": {
             "line": {
              "color": "#E5ECF6",
              "width": 0.5
             },
             "pattern": {
              "fillmode": "overlay",
              "size": 10,
              "solidity": 0.2
             }
            },
            "type": "bar"
           }
          ],
          "barpolar": [
           {
            "marker": {
             "line": {
              "color": "#E5ECF6",
              "width": 0.5
             },
             "pattern": {
              "fillmode": "overlay",
              "size": 10,
              "solidity": 0.2
             }
            },
            "type": "barpolar"
           }
          ],
          "carpet": [
           {
            "aaxis": {
             "endlinecolor": "#2a3f5f",
             "gridcolor": "white",
             "linecolor": "white",
             "minorgridcolor": "white",
             "startlinecolor": "#2a3f5f"
            },
            "baxis": {
             "endlinecolor": "#2a3f5f",
             "gridcolor": "white",
             "linecolor": "white",
             "minorgridcolor": "white",
             "startlinecolor": "#2a3f5f"
            },
            "type": "carpet"
           }
          ],
          "choropleth": [
           {
            "colorbar": {
             "outlinewidth": 0,
             "ticks": ""
            },
            "type": "choropleth"
           }
          ],
          "contour": [
           {
            "colorbar": {
             "outlinewidth": 0,
             "ticks": ""
            },
            "colorscale": [
             [
              0,
              "#0d0887"
             ],
             [
              0.1111111111111111,
              "#46039f"
             ],
             [
              0.2222222222222222,
              "#7201a8"
             ],
             [
              0.3333333333333333,
              "#9c179e"
             ],
             [
              0.4444444444444444,
              "#bd3786"
             ],
             [
              0.5555555555555556,
              "#d8576b"
             ],
             [
              0.6666666666666666,
              "#ed7953"
             ],
             [
              0.7777777777777778,
              "#fb9f3a"
             ],
             [
              0.8888888888888888,
              "#fdca26"
             ],
             [
              1,
              "#f0f921"
             ]
            ],
            "type": "contour"
           }
          ],
          "contourcarpet": [
           {
            "colorbar": {
             "outlinewidth": 0,
             "ticks": ""
            },
            "type": "contourcarpet"
           }
          ],
          "heatmap": [
           {
            "colorbar": {
             "outlinewidth": 0,
             "ticks": ""
            },
            "colorscale": [
             [
              0,
              "#0d0887"
             ],
             [
              0.1111111111111111,
              "#46039f"
             ],
             [
              0.2222222222222222,
              "#7201a8"
             ],
             [
              0.3333333333333333,
              "#9c179e"
             ],
             [
              0.4444444444444444,
              "#bd3786"
             ],
             [
              0.5555555555555556,
              "#d8576b"
             ],
             [
              0.6666666666666666,
              "#ed7953"
             ],
             [
              0.7777777777777778,
              "#fb9f3a"
             ],
             [
              0.8888888888888888,
              "#fdca26"
             ],
             [
              1,
              "#f0f921"
             ]
            ],
            "type": "heatmap"
           }
          ],
          "heatmapgl": [
           {
            "colorbar": {
             "outlinewidth": 0,
             "ticks": ""
            },
            "colorscale": [
             [
              0,
              "#0d0887"
             ],
             [
              0.1111111111111111,
              "#46039f"
             ],
             [
              0.2222222222222222,
              "#7201a8"
             ],
             [
              0.3333333333333333,
              "#9c179e"
             ],
             [
              0.4444444444444444,
              "#bd3786"
             ],
             [
              0.5555555555555556,
              "#d8576b"
             ],
             [
              0.6666666666666666,
              "#ed7953"
             ],
             [
              0.7777777777777778,
              "#fb9f3a"
             ],
             [
              0.8888888888888888,
              "#fdca26"
             ],
             [
              1,
              "#f0f921"
             ]
            ],
            "type": "heatmapgl"
           }
          ],
          "histogram": [
           {
            "marker": {
             "pattern": {
              "fillmode": "overlay",
              "size": 10,
              "solidity": 0.2
             }
            },
            "type": "histogram"
           }
          ],
          "histogram2d": [
           {
            "colorbar": {
             "outlinewidth": 0,
             "ticks": ""
            },
            "colorscale": [
             [
              0,
              "#0d0887"
             ],
             [
              0.1111111111111111,
              "#46039f"
             ],
             [
              0.2222222222222222,
              "#7201a8"
             ],
             [
              0.3333333333333333,
              "#9c179e"
             ],
             [
              0.4444444444444444,
              "#bd3786"
             ],
             [
              0.5555555555555556,
              "#d8576b"
             ],
             [
              0.6666666666666666,
              "#ed7953"
             ],
             [
              0.7777777777777778,
              "#fb9f3a"
             ],
             [
              0.8888888888888888,
              "#fdca26"
             ],
             [
              1,
              "#f0f921"
             ]
            ],
            "type": "histogram2d"
           }
          ],
          "histogram2dcontour": [
           {
            "colorbar": {
             "outlinewidth": 0,
             "ticks": ""
            },
            "colorscale": [
             [
              0,
              "#0d0887"
             ],
             [
              0.1111111111111111,
              "#46039f"
             ],
             [
              0.2222222222222222,
              "#7201a8"
             ],
             [
              0.3333333333333333,
              "#9c179e"
             ],
             [
              0.4444444444444444,
              "#bd3786"
             ],
             [
              0.5555555555555556,
              "#d8576b"
             ],
             [
              0.6666666666666666,
              "#ed7953"
             ],
             [
              0.7777777777777778,
              "#fb9f3a"
             ],
             [
              0.8888888888888888,
              "#fdca26"
             ],
             [
              1,
              "#f0f921"
             ]
            ],
            "type": "histogram2dcontour"
           }
          ],
          "mesh3d": [
           {
            "colorbar": {
             "outlinewidth": 0,
             "ticks": ""
            },
            "type": "mesh3d"
           }
          ],
          "parcoords": [
           {
            "line": {
             "colorbar": {
              "outlinewidth": 0,
              "ticks": ""
             }
            },
            "type": "parcoords"
           }
          ],
          "pie": [
           {
            "automargin": true,
            "type": "pie"
           }
          ],
          "scatter": [
           {
            "fillpattern": {
             "fillmode": "overlay",
             "size": 10,
             "solidity": 0.2
            },
            "type": "scatter"
           }
          ],
          "scatter3d": [
           {
            "line": {
             "colorbar": {
              "outlinewidth": 0,
              "ticks": ""
             }
            },
            "marker": {
             "colorbar": {
              "outlinewidth": 0,
              "ticks": ""
             }
            },
            "type": "scatter3d"
           }
          ],
          "scattercarpet": [
           {
            "marker": {
             "colorbar": {
              "outlinewidth": 0,
              "ticks": ""
             }
            },
            "type": "scattercarpet"
           }
          ],
          "scattergeo": [
           {
            "marker": {
             "colorbar": {
              "outlinewidth": 0,
              "ticks": ""
             }
            },
            "type": "scattergeo"
           }
          ],
          "scattergl": [
           {
            "marker": {
             "colorbar": {
              "outlinewidth": 0,
              "ticks": ""
             }
            },
            "type": "scattergl"
           }
          ],
          "scattermapbox": [
           {
            "marker": {
             "colorbar": {
              "outlinewidth": 0,
              "ticks": ""
             }
            },
            "type": "scattermapbox"
           }
          ],
          "scatterpolar": [
           {
            "marker": {
             "colorbar": {
              "outlinewidth": 0,
              "ticks": ""
             }
            },
            "type": "scatterpolar"
           }
          ],
          "scatterpolargl": [
           {
            "marker": {
             "colorbar": {
              "outlinewidth": 0,
              "ticks": ""
             }
            },
            "type": "scatterpolargl"
           }
          ],
          "scatterternary": [
           {
            "marker": {
             "colorbar": {
              "outlinewidth": 0,
              "ticks": ""
             }
            },
            "type": "scatterternary"
           }
          ],
          "surface": [
           {
            "colorbar": {
             "outlinewidth": 0,
             "ticks": ""
            },
            "colorscale": [
             [
              0,
              "#0d0887"
             ],
             [
              0.1111111111111111,
              "#46039f"
             ],
             [
              0.2222222222222222,
              "#7201a8"
             ],
             [
              0.3333333333333333,
              "#9c179e"
             ],
             [
              0.4444444444444444,
              "#bd3786"
             ],
             [
              0.5555555555555556,
              "#d8576b"
             ],
             [
              0.6666666666666666,
              "#ed7953"
             ],
             [
              0.7777777777777778,
              "#fb9f3a"
             ],
             [
              0.8888888888888888,
              "#fdca26"
             ],
             [
              1,
              "#f0f921"
             ]
            ],
            "type": "surface"
           }
          ],
          "table": [
           {
            "cells": {
             "fill": {
              "color": "#EBF0F8"
             },
             "line": {
              "color": "white"
             }
            },
            "header": {
             "fill": {
              "color": "#C8D4E3"
             },
             "line": {
              "color": "white"
             }
            },
            "type": "table"
           }
          ]
         },
         "layout": {
          "annotationdefaults": {
           "arrowcolor": "#2a3f5f",
           "arrowhead": 0,
           "arrowwidth": 1
          },
          "autotypenumbers": "strict",
          "coloraxis": {
           "colorbar": {
            "outlinewidth": 0,
            "ticks": ""
           }
          },
          "colorscale": {
           "diverging": [
            [
             0,
             "#8e0152"
            ],
            [
             0.1,
             "#c51b7d"
            ],
            [
             0.2,
             "#de77ae"
            ],
            [
             0.3,
             "#f1b6da"
            ],
            [
             0.4,
             "#fde0ef"
            ],
            [
             0.5,
             "#f7f7f7"
            ],
            [
             0.6,
             "#e6f5d0"
            ],
            [
             0.7,
             "#b8e186"
            ],
            [
             0.8,
             "#7fbc41"
            ],
            [
             0.9,
             "#4d9221"
            ],
            [
             1,
             "#276419"
            ]
           ],
           "sequential": [
            [
             0,
             "#0d0887"
            ],
            [
             0.1111111111111111,
             "#46039f"
            ],
            [
             0.2222222222222222,
             "#7201a8"
            ],
            [
             0.3333333333333333,
             "#9c179e"
            ],
            [
             0.4444444444444444,
             "#bd3786"
            ],
            [
             0.5555555555555556,
             "#d8576b"
            ],
            [
             0.6666666666666666,
             "#ed7953"
            ],
            [
             0.7777777777777778,
             "#fb9f3a"
            ],
            [
             0.8888888888888888,
             "#fdca26"
            ],
            [
             1,
             "#f0f921"
            ]
           ],
           "sequentialminus": [
            [
             0,
             "#0d0887"
            ],
            [
             0.1111111111111111,
             "#46039f"
            ],
            [
             0.2222222222222222,
             "#7201a8"
            ],
            [
             0.3333333333333333,
             "#9c179e"
            ],
            [
             0.4444444444444444,
             "#bd3786"
            ],
            [
             0.5555555555555556,
             "#d8576b"
            ],
            [
             0.6666666666666666,
             "#ed7953"
            ],
            [
             0.7777777777777778,
             "#fb9f3a"
            ],
            [
             0.8888888888888888,
             "#fdca26"
            ],
            [
             1,
             "#f0f921"
            ]
           ]
          },
          "colorway": [
           "#636efa",
           "#EF553B",
           "#00cc96",
           "#ab63fa",
           "#FFA15A",
           "#19d3f3",
           "#FF6692",
           "#B6E880",
           "#FF97FF",
           "#FECB52"
          ],
          "font": {
           "color": "#2a3f5f"
          },
          "geo": {
           "bgcolor": "white",
           "lakecolor": "white",
           "landcolor": "#E5ECF6",
           "showlakes": true,
           "showland": true,
           "subunitcolor": "white"
          },
          "hoverlabel": {
           "align": "left"
          },
          "hovermode": "closest",
          "mapbox": {
           "style": "light"
          },
          "paper_bgcolor": "white",
          "plot_bgcolor": "#E5ECF6",
          "polar": {
           "angularaxis": {
            "gridcolor": "white",
            "linecolor": "white",
            "ticks": ""
           },
           "bgcolor": "#E5ECF6",
           "radialaxis": {
            "gridcolor": "white",
            "linecolor": "white",
            "ticks": ""
           }
          },
          "scene": {
           "xaxis": {
            "backgroundcolor": "#E5ECF6",
            "gridcolor": "white",
            "gridwidth": 2,
            "linecolor": "white",
            "showbackground": true,
            "ticks": "",
            "zerolinecolor": "white"
           },
           "yaxis": {
            "backgroundcolor": "#E5ECF6",
            "gridcolor": "white",
            "gridwidth": 2,
            "linecolor": "white",
            "showbackground": true,
            "ticks": "",
            "zerolinecolor": "white"
           },
           "zaxis": {
            "backgroundcolor": "#E5ECF6",
            "gridcolor": "white",
            "gridwidth": 2,
            "linecolor": "white",
            "showbackground": true,
            "ticks": "",
            "zerolinecolor": "white"
           }
          },
          "shapedefaults": {
           "line": {
            "color": "#2a3f5f"
           }
          },
          "ternary": {
           "aaxis": {
            "gridcolor": "white",
            "linecolor": "white",
            "ticks": ""
           },
           "baxis": {
            "gridcolor": "white",
            "linecolor": "white",
            "ticks": ""
           },
           "bgcolor": "#E5ECF6",
           "caxis": {
            "gridcolor": "white",
            "linecolor": "white",
            "ticks": ""
           }
          },
          "title": {
           "x": 0.05
          },
          "xaxis": {
           "automargin": true,
           "gridcolor": "white",
           "linecolor": "white",
           "ticks": "",
           "title": {
            "standoff": 15
           },
           "zerolinecolor": "white",
           "zerolinewidth": 2
          },
          "yaxis": {
           "automargin": true,
           "gridcolor": "white",
           "linecolor": "white",
           "ticks": "",
           "title": {
            "standoff": 15
           },
           "zerolinecolor": "white",
           "zerolinewidth": 2
          }
         }
        },
        "width": 800,
        "xaxis": {
         "tickfont": {
          "family": "Palatino",
          "size": 18
         },
         "title": {
          "font": {
           "family": "Palatino",
           "size": 24
          },
          "text": "Circuit Length"
         }
        },
        "yaxis": {
         "tickfont": {
          "family": "Palatino",
          "size": 18
         },
         "title": {
          "font": {
           "family": "Palatino",
           "size": 24
          },
          "text": "Logit Difference"
         }
        }
       }
      }
     },
     "metadata": {},
     "output_type": "display_data"
    }
   ],
   "source": [
    "import plotly.graph_objects as go\n",
    "\n",
    "# Define colors for \"Predicted Circuit\", \"Random Circuit\", and \"Clean model\"\n",
    "color_predicted = '#636EFA'\n",
    "color_random = '#EF553B'\n",
    "color_clean = 'black'\n",
    "\n",
    "# Create traces for the predicted circuit and random circuit\n",
    "predicted_trace = go.Scatter(\n",
    "    x=predicted_circuit_lengths,\n",
    "    y=predicted_logit_diffs,\n",
    "    mode='lines',\n",
    "    name='Predicted Circuit',\n",
    "    line=dict(width=6, color=color_predicted),\n",
    "    legendgroup=\"Predicted\",\n",
    "    showlegend=True\n",
    ")\n",
    "\n",
    "random_trace = go.Scatter(\n",
    "    x=predicted_circuit_lengths,\n",
    "    y=random_logit_diffs,\n",
    "    mode='lines',\n",
    "    name='Random Circuit',\n",
    "    line=dict(width=6, dash='dash', color=color_random),\n",
    "    legendgroup=\"Random\",\n",
    "    showlegend=True\n",
    ")\n",
    "\n",
    "# Create a trace for the clean model line\n",
    "clean_model_trace = go.Scatter(\n",
    "    x=[min(predicted_circuit_lengths), max(predicted_circuit_lengths)],\n",
    "    y=[3.55, 3.55],\n",
    "    mode='lines',\n",
    "    name='Clean Model',\n",
    "    line=dict(width=2, dash='dash', color=color_clean),\n",
    "    legendgroup=\"Clean\",\n",
    "    showlegend=True\n",
    ")\n",
    "\n",
    "# Create the layout for the plot\n",
    "layout = go.Layout(\n",
    "    xaxis=dict(\n",
    "        title='Circuit Length',\n",
    "        titlefont=dict(size=24, family='Palatino'),\n",
    "        tickfont=dict(size=18, family='Palatino')\n",
    "    ),\n",
    "    yaxis=dict(\n",
    "        title='Logit Difference',\n",
    "        titlefont=dict(size=24, family='Palatino'),\n",
    "        tickfont=dict(size=18, family='Palatino')\n",
    "    ),\n",
    "    legend=dict(\n",
    "        x=0.8,\n",
    "        y=0.9,\n",
    "        font=dict(size=20, family='Palatino')\n",
    "    ),\n",
    "    plot_bgcolor='white',\n",
    "    width=800,\n",
    "    height=600\n",
    ")\n",
    "\n",
    "# Create the figure and add the traces\n",
    "fig = go.Figure(data=[predicted_trace, random_trace, clean_model_trace], layout=layout)\n",
    "\n",
    "# Update the font family and size for the axes and legend\n",
    "fig.update_layout(\n",
    "    font=dict(family='Palatino', size=20)\n",
    ")\n",
    "\n",
    "# Display the plot\n",
    "fig.show()"
   ]
  },
  {
   "cell_type": "markdown",
   "metadata": {},
   "source": [
    "## Greater-than"
   ]
  },
  {
   "cell_type": "code",
   "execution_count": 38,
   "metadata": {},
   "outputs": [
    {
     "name": "stdout",
     "output_type": "stream",
     "text": [
      "Greater-than task...\n",
      "Loaded pretrained model gpt2-small into HookedTransformer\n",
      "Loaded pretrained model gpt2-small into HookedTransformer\n",
      "Dataset: gt\n",
      "Residual streams shape: torch.Size([500, 144, 768])\n",
      "Ground truth: [(0, 3), (0, 5), (0, 1), (5, 5), (6, 1), (6, 9), (7, 10), (8, 11), (9, 1)]\n",
      "Number of unique features: 393\n",
      "Lambda: 0.014734413708943257\n",
      "Best ROC AUC: 0.9395061728395061\n",
      "Normalise across layer\n",
      "Best F1 score: 0.8296\n",
      "ROC AUC: 0.9206\n"
     ]
    },
    {
     "data": {
      "text/plain": [
       "[(0, 1),\n",
       " (0, 3),\n",
       " (0, 4),\n",
       " (1, 5),\n",
       " (1, 11),\n",
       " (2, 8),\n",
       " (3, 2),\n",
       " (5, 1),\n",
       " (5, 5),\n",
       " (5, 8),\n",
       " (5, 9),\n",
       " (6, 6),\n",
       " (6, 9),\n",
       " (7, 10),\n",
       " (8, 0),\n",
       " (8, 1),\n",
       " (8, 8),\n",
       " (8, 9),\n",
       " (8, 10),\n",
       " (8, 11),\n",
       " (9, 1),\n",
       " (9, 5),\n",
       " (9, 6),\n",
       " (9, 9),\n",
       " (10, 1),\n",
       " (10, 2),\n",
       " (10, 7),\n",
       " (11, 2),\n",
       " (11, 10)]"
      ]
     },
     "execution_count": 38,
     "metadata": {},
     "output_type": "execute_result"
    }
   ],
   "source": [
    "task_mappings = {\n",
    "    'ioi': 'Indirect Object Identification',\n",
    "    'gt': 'Greater-than',\n",
    "    'ds': 'Docstring'\n",
    "}\n",
    "\n",
    "dataset = 'gt'\n",
    "print(f\"Dataset: {dataset}\")\n",
    "# Load residual streams\n",
    "device = 'cpu'\n",
    "task = dataset\n",
    "resid_streams = torch.load(f\"../data/{task}/resid_heads_mean.pt\").to(device)\n",
    "print(f\"Residual streams shape: {resid_streams.shape}\")\n",
    "head_labels = torch.load(f'../data/{task}/labels_heads_mean.pt')\n",
    "ground_truth = torch.load(f'../data/{task}/ground_truth.pt')\n",
    "\n",
    "print(f\"Ground truth: {ground_truth}\")\n",
    "\n",
    "# Load save_dict\n",
    "savepath = f\"../models/{task}/sparse_autoencoder_dict.pt\"\n",
    "save_dict = torch.load(savepath)\n",
    "num_unique = save_dict['node_best_num_unique']\n",
    "print(f\"Number of unique features: {num_unique}\")\n",
    "lambda_ = save_dict['node_best_lambda']\n",
    "print(f\"Lambda: {lambda_}\")\n",
    "best_roc_auc = save_dict['node_best_roc_auc']\n",
    "print(f\"Best ROC AUC: {best_roc_auc}\")\n",
    "\n",
    "model = SparseAutoencoder(n_input_features=resid_streams.shape[-1], n_learned_features=num_unique, geometric_median_dataset=None).to(device)\n",
    "\n",
    "# Load the model\n",
    "model.load_state_dict(save_dict['model'])\n",
    "\n",
    "# Plot the ground truth (head, layer) pairs (1 if in ground truth, 0 otherwise)\n",
    "heads = []\n",
    "layers = []\n",
    "for i, l in enumerate(head_labels):\n",
    "    layer, head = feature_string_to_head_and_layer(i, head_labels)\n",
    "    heads.append(head)\n",
    "    layers.append(layer)\n",
    "\n",
    "heads = list(set(heads))\n",
    "layers = list(set(layers))\n",
    "\n",
    "ground_truth_array = np.zeros((len(layers), len(heads)))\n",
    "for layer, head in ground_truth:\n",
    "    ground_truth_array[layer, head] = 1\n",
    "\n",
    "model.eval()\n",
    "learned_activations = model(resid_streams)[0].detach().cpu().numpy()\n",
    "all_indices = np.argmax(learned_activations, axis=2)\n",
    "\n",
    "normalise = False\n",
    "\n",
    "# Normalise across layer\n",
    "print(f\"Normalise across layer\")\n",
    "y_true, y_pred, fpr, tpr, node_roc_auc, f1, thresholds, original = gen_softmaxed_unique_to_pos(all_indices, ground_truth_array, head_labels, normalise=normalise, across_layer=False, return_original=True)\n",
    "\n",
    "# Print best f1 score (and corresponding threshold)\n",
    "node_best_f1 = np.max(f1)\n",
    "best_index = np.argmax(f1)\n",
    "best_threshold = thresholds[best_index]\n",
    "print(f\"Best F1 score: {node_best_f1:.4f}\")\n",
    "print(f\"ROC AUC: {node_roc_auc:.4f}\")\n",
    "\n",
    "best_index = np.argmax(f1)\n",
    "circuit_prediction = (y_pred > thresholds[best_index]).astype(int)\n",
    "# Reshape circuit prediction to n_layers x n_heads\n",
    "circuit_prediction = circuit_prediction.reshape((len(layers), len(heads)))\n",
    "\n",
    "# Create list of (layer, head) pairs in the circuit\n",
    "circuit = []\n",
    "for i, l in enumerate(circuit_prediction):\n",
    "    for j, h in enumerate(l):\n",
    "        if h == 1:\n",
    "            circuit.append((i, j))\n",
    "\n",
    "circuit"
   ]
  },
  {
   "cell_type": "code",
   "execution_count": 48,
   "metadata": {},
   "outputs": [
    {
     "name": "stdout",
     "output_type": "stream",
     "text": [
      "Greater-than task...\n",
      "Loaded pretrained model gpt2-small into HookedTransformer\n",
      "Loaded pretrained model gpt2-small into HookedTransformer\n",
      "The autoreload extension is already loaded. To reload it, use:\n",
      "  %reload_ext autoreload\n"
     ]
    }
   ],
   "source": [
    "from generate_datasets import YearDataset, nouns\n",
    "# Autoreload\n",
    "%load_ext autoreload\n",
    "%autoreload 2\n",
    "\n",
    "years_to_sample_from = torch.arange(1200, 2000)  # Example years range\n",
    "\n",
    "# Instantiate the YearDataset class\n",
    "ds = YearDataset(\n",
    "    years_to_sample_from=years_to_sample_from,\n",
    "    N=100,  # Number of samples you want\n",
    "    nouns=nouns,\n",
    "    model=model,\n",
    "    balanced=True,  # Whether to balance the years in the dataset\n",
    "    eos=False,  # Whether to add an end-of-sentence token\n",
    "    device=\"cpu\"  # Device to use ('cpu' or 'cuda')\n",
    ")"
   ]
  },
  {
   "cell_type": "code",
   "execution_count": 49,
   "metadata": {},
   "outputs": [
    {
     "name": "stdout",
     "output_type": "stream",
     "text": [
      "Loaded pretrained model gpt2-small into HookedTransformer\n"
     ]
    }
   ],
   "source": [
    "model = HookedTransformer.from_pretrained(\n",
    "    \"gpt2-small\",\n",
    "    center_unembed=True,\n",
    "    center_writing_weights=True,\n",
    "    fold_ln=True,\n",
    "    refactor_factored_attn_matrices=True,\n",
    ")\n",
    "\n",
    "# Get the default device used\n",
    "device: torch.device = utils.get_device()"
   ]
  },
  {
   "cell_type": "code",
   "execution_count": 78,
   "metadata": {},
   "outputs": [
    {
     "data": {
      "text/plain": [
       "tensor([ 405,  486, 2999, 3070, 3023, 2713, 3312, 2998, 2919, 2931,  940, 1157,\n",
       "        1065, 1485, 1415, 1314, 1433, 1558, 1507, 1129, 1238, 2481, 1828, 1954,\n",
       "        1731, 1495, 2075, 1983, 2078, 1959, 1270, 3132, 2624, 2091, 2682, 2327,\n",
       "        2623, 2718, 2548, 2670, 1821, 3901, 3682, 3559, 2598, 2231, 3510, 2857,\n",
       "        2780, 2920, 1120, 4349, 4309, 4310, 4051, 2816, 3980, 3553, 3365, 3270,\n",
       "        1899, 5333, 5237, 5066, 2414, 2996, 2791, 3134, 3104, 3388, 2154, 4869,\n",
       "        4761, 4790, 4524, 2425, 4304, 3324, 3695, 3720, 1795, 6659, 6469, 5999,\n",
       "        5705, 5332, 4521, 5774, 3459, 4531, 3829, 6420, 5892, 6052, 5824, 3865,\n",
       "        4846, 5607, 4089, 2079])"
      ]
     },
     "execution_count": 78,
     "metadata": {},
     "output_type": "execute_result"
    }
   ],
   "source": [
    "def cutoff_sharpness(logits: torch.Tensor, years: torch.Tensor = torch.arange(2, 99)) -> torch.Tensor:\n",
    "    logits = logits.to('cpu')\n",
    "    sharpness = logits[torch.arange(len(logits)), years + 1] - logits[torch.arange(len(logits)), years - 1]\n",
    "    return sharpness\n",
    "\n",
    "def prob_diff(probs: torch.Tensor, years: torch.Tensor) -> torch.Tensor:\n",
    "    diffs = []\n",
    "    for prob, year in zip(probs, years):\n",
    "        diffs.append(prob[year + 1 :].sum() - prob[: year + 1].sum())\n",
    "    return torch.tensor(diffs)\n",
    "\n",
    "def gt_metrics(logits: torch.Tensor, years: torch.Tensor, year_indices: torch.Tensor):\n",
    "    probs = torch.softmax(logits[:, -1, :], dim=-1)[:, year_indices]\n",
    "    pd = prob_diff(probs, years)\n",
    "    sharpness = cutoff_sharpness(probs, years)\n",
    "    return sharpness, pd\n",
    "\n",
    "year_indices = torch.load(f'../data/{task}/logit_indices.pt')\n",
    "year_indices"
   ]
  },
  {
   "cell_type": "code",
   "execution_count": 79,
   "metadata": {},
   "outputs": [
    {
     "name": "stdout",
     "output_type": "stream",
     "text": [
      "torch.Size([100, 13, 50257])\n"
     ]
    }
   ],
   "source": [
    "# Flush cache\n",
    "torch.cuda.empty_cache()\n",
    "# Turn off gradient tracking\n",
    "torch.set_grad_enabled(False)\n",
    "\n",
    "tokens = model.to_tokens(ds.good_sentences, prepend_bos=True)\n",
    "logits, _ = model.run_with_cache(tokens)\n",
    "print(logits.shape)"
   ]
  },
  {
   "cell_type": "code",
   "execution_count": 80,
   "metadata": {},
   "outputs": [
    {
     "name": "stdout",
     "output_type": "stream",
     "text": [
      "tensor(0.7696) tensor(0.2682)\n",
      "tensor(0.0557) tensor(0.0808)\n"
     ]
    }
   ],
   "source": [
    "probs = torch.softmax(logits[:, -1, :], dim=-1)[:, year_indices]\n",
    "diffs = prob_diff(probs, ds.years_YY)\n",
    "print(diffs.mean(), diffs.std())\n",
    "\n",
    "sharpness = cutoff_sharpness(probs, ds.years_YY)\n",
    "print(sharpness.mean(), sharpness.std())"
   ]
  },
  {
   "cell_type": "code",
   "execution_count": 81,
   "metadata": {},
   "outputs": [
    {
     "name": "stdout",
     "output_type": "stream",
     "text": [
      "tensor(0.0557) tensor(0.0808)\n",
      "tensor(0.7696) tensor(0.2682)\n"
     ]
    }
   ],
   "source": [
    "sharpness, pd = gt_metrics(logits, ds.years_YY, year_indices)\n",
    "print(sharpness.mean(), sharpness.std())\n",
    "print(pd.mean(), pd.std())"
   ]
  },
  {
   "cell_type": "code",
   "execution_count": 82,
   "metadata": {},
   "outputs": [],
   "source": [
    "prompts = ds.good_sentences\n",
    "corrupted_prompts = ds.bad_sentences"
   ]
  },
  {
   "cell_type": "code",
   "execution_count": 83,
   "metadata": {},
   "outputs": [
    {
     "name": "stdout",
     "output_type": "stream",
     "text": [
      "tensor(0.0557) tensor(0.0808)\n",
      "tensor(0.7696) tensor(0.2682)\n"
     ]
    }
   ],
   "source": [
    "tokens = model.to_tokens(prompts, prepend_bos=True)\n",
    "corrupted_tokens = model.to_tokens(corrupted_prompts, prepend_bos=True)\n",
    "\n",
    "# Run the model and cache all activations\n",
    "original_logits, cache = model.run_with_cache(tokens)\n",
    "\n",
    "# Evaluate gt metrics\n",
    "sharpness, pd = gt_metrics(original_logits, ds.years_YY, year_indices)\n",
    "print(sharpness.mean(), sharpness.std())\n",
    "print(pd.mean(), pd.std())"
   ]
  },
  {
   "cell_type": "code",
   "execution_count": 84,
   "metadata": {},
   "outputs": [
    {
     "name": "stdout",
     "output_type": "stream",
     "text": [
      "tensor(-0.0006) tensor(0.0079)\n",
      "tensor(-0.4032) tensor(0.5528)\n"
     ]
    }
   ],
   "source": [
    "corrupted_logits, corrupted_cache = model.run_with_cache(\n",
    "    corrupted_tokens, return_type=\"logits\"\n",
    ")\n",
    "\n",
    "corrupted_sharpness, corrupted_pd = gt_metrics(corrupted_logits, ds.years_YY, year_indices)\n",
    "print(corrupted_sharpness.mean(), corrupted_sharpness.std())\n",
    "print(corrupted_pd.mean(), corrupted_pd.std())"
   ]
  },
  {
   "cell_type": "code",
   "execution_count": 85,
   "metadata": {},
   "outputs": [
    {
     "name": "stdout",
     "output_type": "stream",
     "text": [
      "tensor(0.0576) tensor(0.0742)\n",
      "tensor(0.7654) tensor(0.2751)\n"
     ]
    },
    {
     "data": {
      "text/plain": [
       "29"
      ]
     },
     "execution_count": 85,
     "metadata": {},
     "output_type": "execute_result"
    }
   ],
   "source": [
    "import functools\n",
    "\n",
    "def patch_head_vector(\n",
    "    corrupted_head_vector: Float[torch.Tensor, \"batch pos head_index d_head\"],\n",
    "    hook,\n",
    "    head_index,\n",
    "    clean_cache,\n",
    "):\n",
    "    corrupted_head_vector[:, :, head_index, :] = clean_cache[hook.name][\n",
    "        :, :, head_index, :\n",
    "    ]\n",
    "    return corrupted_head_vector\n",
    "\n",
    "# Run the model with the ablation hook\n",
    "patched_logits = model.run_with_hooks(corrupted_tokens, return_type=\"logits\", fwd_hooks=[\n",
    "    (utils.get_act_name(\"z\", layer, \"attn\"), functools.partial(patch_head_vector, head_index=head, clean_cache=cache)) for layer, head in circuit\n",
    "])\n",
    "\n",
    "patched_sharpness, patched_pd = gt_metrics(patched_logits, ds.years_YY, year_indices)\n",
    "print(patched_sharpness.mean(), patched_sharpness.std())\n",
    "print(patched_pd.mean(), patched_pd.std())\n",
    "\n",
    "len(circuit)"
   ]
  },
  {
   "cell_type": "code",
   "execution_count": 86,
   "metadata": {},
   "outputs": [
    {
     "name": "stderr",
     "output_type": "stream",
     "text": [
      "100%|██████████| 100/100 [00:13<00:00,  7.50it/s]"
     ]
    },
    {
     "name": "stdout",
     "output_type": "stream",
     "text": [
      "Mean sharpness: -0.00\n",
      "Mean sharpness std: 0.01\n",
      "Mean pd: -0.38\n",
      "Mean pd std: 0.56\n"
     ]
    },
    {
     "name": "stderr",
     "output_type": "stream",
     "text": [
      "\n"
     ]
    }
   ],
   "source": [
    "# Now we randomly sample a circuit with (layer, head) tuples that AREN'T in the circuit\n",
    "\n",
    "results = {}\n",
    "\n",
    "for _ in tqdm(range(100)):\n",
    "\n",
    "    # Get all possible (layer, head) pairs\n",
    "    all_heads = [(layer, head) for layer in range(12) for head in range(12)]\n",
    "\n",
    "    # Get the heads that are NOT in the circuit\n",
    "    non_circuit_heads = [head for head in all_heads if head not in circuit]\n",
    "\n",
    "    # Randomly sample a new circuit - random choice of indices \n",
    "    new_circuit = np.random.choice(len(non_circuit_heads), size=len(circuit), replace=False)\n",
    "    new_circuit = [non_circuit_heads[i] for i in new_circuit]\n",
    "    #print(f\"Length of new circuit: {len(new_circuit)}\")\n",
    "\n",
    "    # Run the model with the new circuit\n",
    "    new_patched_logits = model.run_with_hooks(corrupted_tokens, return_type=\"logits\", fwd_hooks=[\n",
    "        (utils.get_act_name(\"z\", layer, \"attn\"), functools.partial(patch_head_vector, head_index=head, clean_cache=cache)) for layer, head in new_circuit\n",
    "    ])\n",
    "\n",
    "    new_patched_sharpness, new_patched_pd = gt_metrics(new_patched_logits, ds.years_YY, year_indices)\n",
    "\n",
    "    results[str(new_circuit)] = {\n",
    "        'sharpness': new_patched_sharpness.mean(),\n",
    "        'sharpness_std': new_patched_sharpness.std(),\n",
    "        'pd': new_patched_pd.mean(),\n",
    "        'pd_std': new_patched_pd.std()\n",
    "    }\n",
    "\n",
    "# Print mean of each\n",
    "sharpness = [v['sharpness'] for v in results.values()]\n",
    "sharpness_std = [v['sharpness_std'] for v in results.values()]\n",
    "pd = [v['pd'] for v in results.values()]\n",
    "pd_std = [v['pd_std'] for v in results.values()]\n",
    "\n",
    "print(f\"Mean sharpness: {np.mean(sharpness):.2f}\")\n",
    "print(f\"Mean sharpness std: {np.mean(sharpness_std):.2f}\")\n",
    "print(f\"Mean pd: {np.mean(pd):.2f}\")\n",
    "print(f\"Mean pd std: {np.mean(pd_std):.2f}\")"
   ]
  },
  {
   "cell_type": "code",
   "execution_count": 87,
   "metadata": {},
   "outputs": [
    {
     "name": "stdout",
     "output_type": "stream",
     "text": [
      "Mean sharpness: -0.0004\n",
      "Mean sharpness std: 0.0078\n",
      "Mean pd: -0.3791\n",
      "Mean pd std: 0.5576\n"
     ]
    }
   ],
   "source": [
    "print(f\"Mean sharpness: {np.mean(sharpness):.4f}\")\n",
    "print(f\"Mean sharpness std: {np.mean(sharpness_std):.4f}\")\n",
    "print(f\"Mean pd: {np.mean(pd):.4f}\")\n",
    "print(f\"Mean pd std: {np.mean(pd_std):.4f}\")"
   ]
  },
  {
   "cell_type": "code",
   "execution_count": 88,
   "metadata": {},
   "outputs": [
    {
     "name": "stdout",
     "output_type": "stream",
     "text": [
      "Ground truth: [(0, 3), (0, 5), (0, 1), (5, 5), (6, 1), (6, 9), (7, 10), (8, 11), (9, 1)]\n",
      "Length of ground truth circuit: 9\n",
      "tensor(0.0550) tensor(0.0689)\n",
      "tensor(0.7130) tensor(0.2871)\n"
     ]
    }
   ],
   "source": [
    "# Ground truth\n",
    "print(f\"Ground truth: {ground_truth}\")\n",
    "print(f\"Length of ground truth circuit: {len(ground_truth)}\")\n",
    "\n",
    "\n",
    "# Run the model with the ablation hook\n",
    "patched_logits = model.run_with_hooks(corrupted_tokens, return_type=\"logits\", fwd_hooks=[\n",
    "    (utils.get_act_name(\"z\", layer, \"attn\"), functools.partial(patch_head_vector, head_index=head, clean_cache=cache)) for layer, head in ground_truth\n",
    "])\n",
    "\n",
    "patched_sharpness, patched_pd = gt_metrics(patched_logits, ds.years_YY, year_indices)\n",
    "print(patched_sharpness.mean(), patched_sharpness.std())\n",
    "print(patched_pd.mean(), patched_pd.std())"
   ]
  },
  {
   "cell_type": "code",
   "execution_count": 89,
   "metadata": {},
   "outputs": [],
   "source": [
    "clean_logits, _ = model.run_with_cache(tokens, return_type=\"logits\")\n",
    "corrupt_logits, _ = model.run_with_cache(corrupted_tokens, return_type=\"logits\")"
   ]
  },
  {
   "cell_type": "code",
   "execution_count": 99,
   "metadata": {},
   "outputs": [
    {
     "name": "stdout",
     "output_type": "stream",
     "text": [
      "tensor(-0.4032)\n",
      "tensor(0.7696)\n"
     ]
    },
    {
     "name": "stderr",
     "output_type": "stream",
     "text": [
      "100%|██████████| 14/14 [00:20<00:00,  1.44s/it]\n"
     ]
    }
   ],
   "source": [
    "# Initialize lists to store the results\n",
    "thresholds_list = []\n",
    "predicted_circuit_lengths = []\n",
    "predicted_pd = []\n",
    "predicted_cs = []\n",
    "predicted_pd_faithfulness = []\n",
    "predicted_cs_faithfulness = []\n",
    "random_pd = []\n",
    "random_cs = []\n",
    "random_pd_faithfulness = []\n",
    "random_cs_faithfulness = []\n",
    "\n",
    "# Calculate metrics for the empty circuit (mean-ablated model)\n",
    "empty_logits, _ = model.run_with_cache(\n",
    "    corrupted_tokens,\n",
    "    return_type=\"logits\",\n",
    ")\n",
    "empty_cs, empty_pd = gt_metrics(empty_logits, ds.years_YY, year_indices)\n",
    "print(empty_pd.mean())\n",
    "\n",
    "# Calculate metrics for the full model\n",
    "full_cs, full_pd = gt_metrics(clean_logits, ds.years_YY, year_indices)\n",
    "print(full_pd.mean())\n",
    "\n",
    "# Sweep over the thresholds\n",
    "for threshold in tqdm(thresholds):\n",
    "    # Predict the circuit using the current threshold\n",
    "    circuit_prediction = (y_pred > threshold).astype(int)\n",
    "    circuit_prediction = circuit_prediction.reshape((len(layers), len(heads)))\n",
    "    \n",
    "    # Create the predicted circuit list\n",
    "    predicted_circuit = []\n",
    "    for i, l in enumerate(circuit_prediction):\n",
    "        for j, h in enumerate(l):\n",
    "            if h == 1:\n",
    "                predicted_circuit.append((i, j))\n",
    "    \n",
    "    # Count the number of components in the predicted circuit\n",
    "    predicted_circuit_length = len(predicted_circuit)\n",
    "\n",
    "    # Run the model with the predicted circuit and record the metrics\n",
    "    predicted_patched_logits = model.run_with_hooks(\n",
    "        corrupted_tokens,\n",
    "        return_type=\"logits\",\n",
    "        fwd_hooks=[\n",
    "            (utils.get_act_name(\"z\", layer, \"attn\"), functools.partial(patch_head_vector, head_index=head, clean_cache=cache))\n",
    "            for layer, head in predicted_circuit\n",
    "        ]\n",
    "    )\n",
    "    predicted_patched_cs, predicted_patched_pd = gt_metrics(predicted_patched_logits, ds.years_YY, year_indices)\n",
    "    \n",
    "    random_pd_faithfulness_list = []\n",
    "    random_cs_faithfulness_list = []\n",
    "    random_patched_cs_list = []\n",
    "    random_patched_pd_list = []\n",
    "    for _ in range(10):\n",
    "        # Create a random circuit of the same length\n",
    "        random_circuit = random.sample(all_heads, predicted_circuit_length)\n",
    "    \n",
    "        # Run the model with the random circuit and record the metrics\n",
    "        random_patched_logits = model.run_with_hooks(\n",
    "            corrupted_tokens,\n",
    "            return_type=\"logits\",\n",
    "            fwd_hooks=[\n",
    "                (utils.get_act_name(\"z\", layer, \"attn\"), functools.partial(patch_head_vector, head_index=head, clean_cache=cache))\n",
    "                for layer, head in random_circuit\n",
    "            ]\n",
    "        )\n",
    "        random_patched_cs, random_patched_pd = gt_metrics(random_patched_logits, ds.years_YY, year_indices)\n",
    "\n",
    "        random_pd_faithfulness_list.append((random_patched_pd.mean() - empty_pd.mean()) /\n",
    "                                  (full_pd.mean() - empty_pd.mean()))\n",
    "        \n",
    "        random_cs_faithfulness_list.append((random_patched_cs.mean() - empty_cs.mean()) /\n",
    "                                  (full_cs.mean() - empty_cs.mean()))\n",
    "        random_patched_cs_list.append(random_patched_cs.mean())\n",
    "        random_patched_pd_list.append(random_patched_pd.mean())\n",
    "\n",
    "    random_pd_faithfulness.append(np.mean(random_pd_faithfulness_list))\n",
    "    random_cs_faithfulness.append(np.mean(random_cs_faithfulness_list))\n",
    "    random_pd.append(np.mean(random_patched_pd_list))\n",
    "    random_cs.append(np.mean(random_patched_cs_list))\n",
    "        \n",
    "    # Calculate faithfulness for probability difference\n",
    "    predicted_pd_faithfulness.append((predicted_patched_pd.mean() - empty_pd.mean()) /\n",
    "                                     (full_pd.mean() - empty_pd.mean()))\n",
    "    \n",
    "    \n",
    "    # Calculate faithfulness for cutoff sharpness\n",
    "    predicted_cs_faithfulness.append((predicted_patched_cs.mean() - empty_cs.mean()) /\n",
    "                                     (full_cs.mean() - empty_cs.mean()))\n",
    "    \n",
    "    \n",
    "    # Store the results\n",
    "    thresholds_list.append(threshold)\n",
    "    predicted_circuit_lengths.append(predicted_circuit_length)\n",
    "    predicted_pd.append(predicted_patched_pd.mean())\n",
    "    predicted_cs.append(predicted_patched_cs.mean())"
   ]
  },
  {
   "cell_type": "code",
   "execution_count": 100,
   "metadata": {},
   "outputs": [
    {
     "data": {
      "application/vnd.plotly.v1+json": {
       "config": {
        "plotlyServerURL": "https://plot.ly"
       },
       "data": [
        {
         "legendgroup": "Ours",
         "line": {
          "color": "#636EFA",
          "width": 6
         },
         "mode": "lines",
         "name": "Ours",
         "showlegend": true,
         "type": "scatter",
         "x": [
          0,
          0,
          2,
          3,
          5,
          8,
          10,
          13,
          14,
          21,
          29,
          38,
          51,
          80
         ],
         "xaxis": "x",
         "y": [
          -0.40319427847862244,
          -0.40319427847862244,
          -0.053259242326021194,
          -0.06873117387294769,
          0.48203957080841064,
          0.6345253586769104,
          0.6270199418067932,
          0.6480777263641357,
          0.6491268873214722,
          0.7593469023704529,
          0.7653955221176147,
          0.7734556794166565,
          0.7795423269271851,
          0.7765271067619324
         ],
         "yaxis": "y"
        },
        {
         "legendgroup": "Ours",
         "line": {
          "color": "#636EFA",
          "width": 6
         },
         "mode": "lines",
         "name": "Ours",
         "showlegend": false,
         "type": "scatter",
         "x": [
          0,
          0,
          2,
          3,
          5,
          8,
          10,
          13,
          14,
          21,
          29,
          38,
          51,
          80
         ],
         "xaxis": "x2",
         "y": [
          -0.0005867976578883827,
          -0.0005867976578883827,
          0.007393760606646538,
          0.0073065850883722305,
          0.03238121047616005,
          0.05314261466264725,
          0.04339432716369629,
          0.04817017540335655,
          0.04892279580235481,
          0.0544719323515892,
          0.05763084441423416,
          0.06001250445842743,
          0.0617511160671711,
          0.05999213084578514
         ],
         "yaxis": "y2"
        },
        {
         "legendgroup": "Ours",
         "line": {
          "color": "#636EFA",
          "width": 6
         },
         "mode": "lines",
         "name": "Ours",
         "showlegend": false,
         "type": "scatter",
         "x": [
          0,
          0,
          2,
          3,
          5,
          8,
          10,
          13,
          14,
          21,
          29,
          38,
          51,
          80
         ],
         "xaxis": "x3",
         "y": [
          0,
          0,
          0.2983700931072235,
          0.2851780652999878,
          0.7547896504402161,
          0.8848057389259338,
          0.878406286239624,
          0.8963611125946045,
          0.8972556591033936,
          0.9912340641021729,
          0.9963914752006531,
          1.0032638311386108,
          1.008453607559204,
          1.005882740020752
         ],
         "yaxis": "y3"
        },
        {
         "legendgroup": "Ours",
         "line": {
          "color": "#636EFA",
          "width": 6
         },
         "mode": "lines",
         "name": "Ours",
         "showlegend": false,
         "type": "scatter",
         "x": [
          0,
          0,
          2,
          3,
          5,
          8,
          10,
          13,
          14,
          21,
          29,
          38,
          51,
          80
         ],
         "xaxis": "x4",
         "y": [
          0,
          0,
          0.14187146723270416,
          0.1403217315673828,
          0.5860767364501953,
          0.9551550149917603,
          0.7818583846092224,
          0.8667593002319336,
          0.8801387548446655,
          0.9787864685058594,
          1.034942865371704,
          1.0772819519042969,
          1.1081894636154175,
          1.0769197940826416
         ],
         "yaxis": "y4"
        },
        {
         "legendgroup": "Random",
         "line": {
          "color": "#EF553B",
          "dash": "dash",
          "width": 6
         },
         "mode": "lines",
         "name": "Random",
         "showlegend": true,
         "type": "scatter",
         "x": [
          0,
          0,
          2,
          3,
          5,
          8,
          10,
          13,
          14,
          21,
          29,
          38,
          51,
          80
         ],
         "xaxis": "x",
         "y": [
          -0.40319427847862244,
          -0.40319427847862244,
          -0.39788806438446045,
          -0.3851601779460907,
          -0.3921423554420471,
          -0.33924490213394165,
          -0.30894047021865845,
          -0.2189239263534546,
          -0.23959073424339294,
          -0.20960502326488495,
          -0.027927840128540993,
          -0.1891883760690689,
          0.08541738241910934,
          0.37271609902381897
         ],
         "yaxis": "y"
        },
        {
         "legendgroup": "Random",
         "line": {
          "color": "#EF553B",
          "dash": "dash",
          "width": 6
         },
         "mode": "lines",
         "name": "Random",
         "showlegend": false,
         "type": "scatter",
         "x": [
          0,
          0,
          2,
          3,
          5,
          8,
          10,
          13,
          14,
          21,
          29,
          38,
          51,
          80
         ],
         "xaxis": "x2",
         "y": [
          -0.0005867975996807218,
          -0.0005867975996807218,
          -0.000495254760608077,
          -0.00007845300569897518,
          -0.0005221471074037254,
          0.0007239389233291149,
          0.0015573700657114387,
          0.005862867459654808,
          0.0032409869600087404,
          0.004724231082946062,
          0.008204085752367973,
          0.0030401700641959906,
          0.011117776855826378,
          0.028817081823945045
         ],
         "yaxis": "y2"
        },
        {
         "legendgroup": "Random",
         "line": {
          "color": "#EF553B",
          "dash": "dash",
          "width": 6
         },
         "mode": "lines",
         "name": "Random",
         "showlegend": false,
         "type": "scatter",
         "x": [
          0,
          0,
          2,
          3,
          5,
          8,
          10,
          13,
          14,
          21,
          29,
          38,
          51,
          80
         ],
         "xaxis": "x3",
         "y": [
          0,
          0,
          0.004524316173046827,
          0.015376662835478783,
          0.009423358365893364,
          0.054526109248399734,
          0.08036496490240097,
          0.1571170687675476,
          0.1394956409931183,
          0.16506275534629822,
          0.3199687600135803,
          0.1824709177017212,
          0.4166119694709778,
          0.6615754961967468
         ],
         "yaxis": "y3"
        },
        {
         "legendgroup": "Random",
         "line": {
          "color": "#EF553B",
          "dash": "dash",
          "width": 6
         },
         "mode": "lines",
         "name": "Random",
         "showlegend": false,
         "type": "scatter",
         "x": [
          0,
          0,
          2,
          3,
          5,
          8,
          10,
          13,
          14,
          21,
          29,
          38,
          51,
          80
         ],
         "xaxis": "x4",
         "y": [
          0,
          0,
          0.0016273701330646873,
          0.009036911651492119,
          0.0011493009515106678,
          0.0233011431992054,
          0.03811715915799141,
          0.11465656757354736,
          0.06804704666137695,
          0.09441488236188889,
          0.15627671778202057,
          0.0644771009683609,
          0.20807380974292755,
          0.522716760635376
         ],
         "yaxis": "y4"
        }
       ],
       "layout": {
        "annotations": [
         {
          "font": {
           "size": 28
          },
          "showarrow": false,
          "text": "Probability Difference",
          "x": 0.225,
          "xanchor": "center",
          "xref": "paper",
          "y": 1,
          "yanchor": "bottom",
          "yref": "paper"
         },
         {
          "font": {
           "size": 28
          },
          "showarrow": false,
          "text": "Cutoff Sharpness",
          "x": 0.775,
          "xanchor": "center",
          "xref": "paper",
          "y": 1,
          "yanchor": "bottom",
          "yref": "paper"
         },
         {
          "font": {
           "size": 28
          },
          "showarrow": false,
          "text": "Faithfulness (PD)",
          "x": 0.225,
          "xanchor": "center",
          "xref": "paper",
          "y": 0.425,
          "yanchor": "bottom",
          "yref": "paper"
         },
         {
          "font": {
           "size": 28
          },
          "showarrow": false,
          "text": "Faithfulness (CS)",
          "x": 0.775,
          "xanchor": "center",
          "xref": "paper",
          "y": 0.425,
          "yanchor": "bottom",
          "yref": "paper"
         }
        ],
        "font": {
         "family": "Palatino",
         "size": 28
        },
        "height": 800,
        "legend": {
         "font": {
          "size": 28
         }
        },
        "plot_bgcolor": "white",
        "showlegend": true,
        "template": {
         "data": {
          "bar": [
           {
            "error_x": {
             "color": "#2a3f5f"
            },
            "error_y": {
             "color": "#2a3f5f"
            },
            "marker": {
             "line": {
              "color": "#E5ECF6",
              "width": 0.5
             },
             "pattern": {
              "fillmode": "overlay",
              "size": 10,
              "solidity": 0.2
             }
            },
            "type": "bar"
           }
          ],
          "barpolar": [
           {
            "marker": {
             "line": {
              "color": "#E5ECF6",
              "width": 0.5
             },
             "pattern": {
              "fillmode": "overlay",
              "size": 10,
              "solidity": 0.2
             }
            },
            "type": "barpolar"
           }
          ],
          "carpet": [
           {
            "aaxis": {
             "endlinecolor": "#2a3f5f",
             "gridcolor": "white",
             "linecolor": "white",
             "minorgridcolor": "white",
             "startlinecolor": "#2a3f5f"
            },
            "baxis": {
             "endlinecolor": "#2a3f5f",
             "gridcolor": "white",
             "linecolor": "white",
             "minorgridcolor": "white",
             "startlinecolor": "#2a3f5f"
            },
            "type": "carpet"
           }
          ],
          "choropleth": [
           {
            "colorbar": {
             "outlinewidth": 0,
             "ticks": ""
            },
            "type": "choropleth"
           }
          ],
          "contour": [
           {
            "colorbar": {
             "outlinewidth": 0,
             "ticks": ""
            },
            "colorscale": [
             [
              0,
              "#0d0887"
             ],
             [
              0.1111111111111111,
              "#46039f"
             ],
             [
              0.2222222222222222,
              "#7201a8"
             ],
             [
              0.3333333333333333,
              "#9c179e"
             ],
             [
              0.4444444444444444,
              "#bd3786"
             ],
             [
              0.5555555555555556,
              "#d8576b"
             ],
             [
              0.6666666666666666,
              "#ed7953"
             ],
             [
              0.7777777777777778,
              "#fb9f3a"
             ],
             [
              0.8888888888888888,
              "#fdca26"
             ],
             [
              1,
              "#f0f921"
             ]
            ],
            "type": "contour"
           }
          ],
          "contourcarpet": [
           {
            "colorbar": {
             "outlinewidth": 0,
             "ticks": ""
            },
            "type": "contourcarpet"
           }
          ],
          "heatmap": [
           {
            "colorbar": {
             "outlinewidth": 0,
             "ticks": ""
            },
            "colorscale": [
             [
              0,
              "#0d0887"
             ],
             [
              0.1111111111111111,
              "#46039f"
             ],
             [
              0.2222222222222222,
              "#7201a8"
             ],
             [
              0.3333333333333333,
              "#9c179e"
             ],
             [
              0.4444444444444444,
              "#bd3786"
             ],
             [
              0.5555555555555556,
              "#d8576b"
             ],
             [
              0.6666666666666666,
              "#ed7953"
             ],
             [
              0.7777777777777778,
              "#fb9f3a"
             ],
             [
              0.8888888888888888,
              "#fdca26"
             ],
             [
              1,
              "#f0f921"
             ]
            ],
            "type": "heatmap"
           }
          ],
          "heatmapgl": [
           {
            "colorbar": {
             "outlinewidth": 0,
             "ticks": ""
            },
            "colorscale": [
             [
              0,
              "#0d0887"
             ],
             [
              0.1111111111111111,
              "#46039f"
             ],
             [
              0.2222222222222222,
              "#7201a8"
             ],
             [
              0.3333333333333333,
              "#9c179e"
             ],
             [
              0.4444444444444444,
              "#bd3786"
             ],
             [
              0.5555555555555556,
              "#d8576b"
             ],
             [
              0.6666666666666666,
              "#ed7953"
             ],
             [
              0.7777777777777778,
              "#fb9f3a"
             ],
             [
              0.8888888888888888,
              "#fdca26"
             ],
             [
              1,
              "#f0f921"
             ]
            ],
            "type": "heatmapgl"
           }
          ],
          "histogram": [
           {
            "marker": {
             "pattern": {
              "fillmode": "overlay",
              "size": 10,
              "solidity": 0.2
             }
            },
            "type": "histogram"
           }
          ],
          "histogram2d": [
           {
            "colorbar": {
             "outlinewidth": 0,
             "ticks": ""
            },
            "colorscale": [
             [
              0,
              "#0d0887"
             ],
             [
              0.1111111111111111,
              "#46039f"
             ],
             [
              0.2222222222222222,
              "#7201a8"
             ],
             [
              0.3333333333333333,
              "#9c179e"
             ],
             [
              0.4444444444444444,
              "#bd3786"
             ],
             [
              0.5555555555555556,
              "#d8576b"
             ],
             [
              0.6666666666666666,
              "#ed7953"
             ],
             [
              0.7777777777777778,
              "#fb9f3a"
             ],
             [
              0.8888888888888888,
              "#fdca26"
             ],
             [
              1,
              "#f0f921"
             ]
            ],
            "type": "histogram2d"
           }
          ],
          "histogram2dcontour": [
           {
            "colorbar": {
             "outlinewidth": 0,
             "ticks": ""
            },
            "colorscale": [
             [
              0,
              "#0d0887"
             ],
             [
              0.1111111111111111,
              "#46039f"
             ],
             [
              0.2222222222222222,
              "#7201a8"
             ],
             [
              0.3333333333333333,
              "#9c179e"
             ],
             [
              0.4444444444444444,
              "#bd3786"
             ],
             [
              0.5555555555555556,
              "#d8576b"
             ],
             [
              0.6666666666666666,
              "#ed7953"
             ],
             [
              0.7777777777777778,
              "#fb9f3a"
             ],
             [
              0.8888888888888888,
              "#fdca26"
             ],
             [
              1,
              "#f0f921"
             ]
            ],
            "type": "histogram2dcontour"
           }
          ],
          "mesh3d": [
           {
            "colorbar": {
             "outlinewidth": 0,
             "ticks": ""
            },
            "type": "mesh3d"
           }
          ],
          "parcoords": [
           {
            "line": {
             "colorbar": {
              "outlinewidth": 0,
              "ticks": ""
             }
            },
            "type": "parcoords"
           }
          ],
          "pie": [
           {
            "automargin": true,
            "type": "pie"
           }
          ],
          "scatter": [
           {
            "fillpattern": {
             "fillmode": "overlay",
             "size": 10,
             "solidity": 0.2
            },
            "type": "scatter"
           }
          ],
          "scatter3d": [
           {
            "line": {
             "colorbar": {
              "outlinewidth": 0,
              "ticks": ""
             }
            },
            "marker": {
             "colorbar": {
              "outlinewidth": 0,
              "ticks": ""
             }
            },
            "type": "scatter3d"
           }
          ],
          "scattercarpet": [
           {
            "marker": {
             "colorbar": {
              "outlinewidth": 0,
              "ticks": ""
             }
            },
            "type": "scattercarpet"
           }
          ],
          "scattergeo": [
           {
            "marker": {
             "colorbar": {
              "outlinewidth": 0,
              "ticks": ""
             }
            },
            "type": "scattergeo"
           }
          ],
          "scattergl": [
           {
            "marker": {
             "colorbar": {
              "outlinewidth": 0,
              "ticks": ""
             }
            },
            "type": "scattergl"
           }
          ],
          "scattermapbox": [
           {
            "marker": {
             "colorbar": {
              "outlinewidth": 0,
              "ticks": ""
             }
            },
            "type": "scattermapbox"
           }
          ],
          "scatterpolar": [
           {
            "marker": {
             "colorbar": {
              "outlinewidth": 0,
              "ticks": ""
             }
            },
            "type": "scatterpolar"
           }
          ],
          "scatterpolargl": [
           {
            "marker": {
             "colorbar": {
              "outlinewidth": 0,
              "ticks": ""
             }
            },
            "type": "scatterpolargl"
           }
          ],
          "scatterternary": [
           {
            "marker": {
             "colorbar": {
              "outlinewidth": 0,
              "ticks": ""
             }
            },
            "type": "scatterternary"
           }
          ],
          "surface": [
           {
            "colorbar": {
             "outlinewidth": 0,
             "ticks": ""
            },
            "colorscale": [
             [
              0,
              "#0d0887"
             ],
             [
              0.1111111111111111,
              "#46039f"
             ],
             [
              0.2222222222222222,
              "#7201a8"
             ],
             [
              0.3333333333333333,
              "#9c179e"
             ],
             [
              0.4444444444444444,
              "#bd3786"
             ],
             [
              0.5555555555555556,
              "#d8576b"
             ],
             [
              0.6666666666666666,
              "#ed7953"
             ],
             [
              0.7777777777777778,
              "#fb9f3a"
             ],
             [
              0.8888888888888888,
              "#fdca26"
             ],
             [
              1,
              "#f0f921"
             ]
            ],
            "type": "surface"
           }
          ],
          "table": [
           {
            "cells": {
             "fill": {
              "color": "#EBF0F8"
             },
             "line": {
              "color": "white"
             }
            },
            "header": {
             "fill": {
              "color": "#C8D4E3"
             },
             "line": {
              "color": "white"
             }
            },
            "type": "table"
           }
          ]
         },
         "layout": {
          "annotationdefaults": {
           "arrowcolor": "#2a3f5f",
           "arrowhead": 0,
           "arrowwidth": 1
          },
          "autotypenumbers": "strict",
          "coloraxis": {
           "colorbar": {
            "outlinewidth": 0,
            "ticks": ""
           }
          },
          "colorscale": {
           "diverging": [
            [
             0,
             "#8e0152"
            ],
            [
             0.1,
             "#c51b7d"
            ],
            [
             0.2,
             "#de77ae"
            ],
            [
             0.3,
             "#f1b6da"
            ],
            [
             0.4,
             "#fde0ef"
            ],
            [
             0.5,
             "#f7f7f7"
            ],
            [
             0.6,
             "#e6f5d0"
            ],
            [
             0.7,
             "#b8e186"
            ],
            [
             0.8,
             "#7fbc41"
            ],
            [
             0.9,
             "#4d9221"
            ],
            [
             1,
             "#276419"
            ]
           ],
           "sequential": [
            [
             0,
             "#0d0887"
            ],
            [
             0.1111111111111111,
             "#46039f"
            ],
            [
             0.2222222222222222,
             "#7201a8"
            ],
            [
             0.3333333333333333,
             "#9c179e"
            ],
            [
             0.4444444444444444,
             "#bd3786"
            ],
            [
             0.5555555555555556,
             "#d8576b"
            ],
            [
             0.6666666666666666,
             "#ed7953"
            ],
            [
             0.7777777777777778,
             "#fb9f3a"
            ],
            [
             0.8888888888888888,
             "#fdca26"
            ],
            [
             1,
             "#f0f921"
            ]
           ],
           "sequentialminus": [
            [
             0,
             "#0d0887"
            ],
            [
             0.1111111111111111,
             "#46039f"
            ],
            [
             0.2222222222222222,
             "#7201a8"
            ],
            [
             0.3333333333333333,
             "#9c179e"
            ],
            [
             0.4444444444444444,
             "#bd3786"
            ],
            [
             0.5555555555555556,
             "#d8576b"
            ],
            [
             0.6666666666666666,
             "#ed7953"
            ],
            [
             0.7777777777777778,
             "#fb9f3a"
            ],
            [
             0.8888888888888888,
             "#fdca26"
            ],
            [
             1,
             "#f0f921"
            ]
           ]
          },
          "colorway": [
           "#636efa",
           "#EF553B",
           "#00cc96",
           "#ab63fa",
           "#FFA15A",
           "#19d3f3",
           "#FF6692",
           "#B6E880",
           "#FF97FF",
           "#FECB52"
          ],
          "font": {
           "color": "#2a3f5f"
          },
          "geo": {
           "bgcolor": "white",
           "lakecolor": "white",
           "landcolor": "#E5ECF6",
           "showlakes": true,
           "showland": true,
           "subunitcolor": "white"
          },
          "hoverlabel": {
           "align": "left"
          },
          "hovermode": "closest",
          "mapbox": {
           "style": "light"
          },
          "paper_bgcolor": "white",
          "plot_bgcolor": "#E5ECF6",
          "polar": {
           "angularaxis": {
            "gridcolor": "white",
            "linecolor": "white",
            "ticks": ""
           },
           "bgcolor": "#E5ECF6",
           "radialaxis": {
            "gridcolor": "white",
            "linecolor": "white",
            "ticks": ""
           }
          },
          "scene": {
           "xaxis": {
            "backgroundcolor": "#E5ECF6",
            "gridcolor": "white",
            "gridwidth": 2,
            "linecolor": "white",
            "showbackground": true,
            "ticks": "",
            "zerolinecolor": "white"
           },
           "yaxis": {
            "backgroundcolor": "#E5ECF6",
            "gridcolor": "white",
            "gridwidth": 2,
            "linecolor": "white",
            "showbackground": true,
            "ticks": "",
            "zerolinecolor": "white"
           },
           "zaxis": {
            "backgroundcolor": "#E5ECF6",
            "gridcolor": "white",
            "gridwidth": 2,
            "linecolor": "white",
            "showbackground": true,
            "ticks": "",
            "zerolinecolor": "white"
           }
          },
          "shapedefaults": {
           "line": {
            "color": "#2a3f5f"
           }
          },
          "ternary": {
           "aaxis": {
            "gridcolor": "white",
            "linecolor": "white",
            "ticks": ""
           },
           "baxis": {
            "gridcolor": "white",
            "linecolor": "white",
            "ticks": ""
           },
           "bgcolor": "#E5ECF6",
           "caxis": {
            "gridcolor": "white",
            "linecolor": "white",
            "ticks": ""
           }
          },
          "title": {
           "x": 0.05
          },
          "xaxis": {
           "automargin": true,
           "gridcolor": "white",
           "linecolor": "white",
           "ticks": "",
           "title": {
            "standoff": 15
           },
           "zerolinecolor": "white",
           "zerolinewidth": 2
          },
          "yaxis": {
           "automargin": true,
           "gridcolor": "white",
           "linecolor": "white",
           "ticks": "",
           "title": {
            "standoff": 15
           },
           "zerolinecolor": "white",
           "zerolinewidth": 2
          }
         }
        },
        "width": 1000,
        "xaxis": {
         "anchor": "y",
         "domain": [
          0,
          0.45
         ],
         "title": {
          "font": {
           "size": 22
          }
         }
        },
        "xaxis2": {
         "anchor": "y2",
         "domain": [
          0.55,
          1
         ],
         "title": {
          "font": {
           "size": 22
          }
         }
        },
        "xaxis3": {
         "anchor": "y3",
         "domain": [
          0,
          0.45
         ],
         "title": {
          "font": {
           "size": 22
          },
          "text": "No. Attn. Heads"
         }
        },
        "xaxis4": {
         "anchor": "y4",
         "domain": [
          0.55,
          1
         ],
         "title": {
          "font": {
           "size": 22
          },
          "text": "No. Attn. Heads"
         }
        },
        "yaxis": {
         "anchor": "x",
         "domain": [
          0.575,
          1
         ],
         "title": {
          "font": {
           "size": 22
          }
         }
        },
        "yaxis2": {
         "anchor": "x2",
         "domain": [
          0.575,
          1
         ],
         "title": {
          "font": {
           "size": 22
          }
         }
        },
        "yaxis3": {
         "anchor": "x3",
         "domain": [
          0,
          0.425
         ],
         "title": {
          "font": {
           "size": 22
          }
         }
        },
        "yaxis4": {
         "anchor": "x4",
         "domain": [
          0,
          0.425
         ],
         "title": {
          "font": {
           "size": 22
          }
         }
        }
       }
      }
     },
     "metadata": {},
     "output_type": "display_data"
    }
   ],
   "source": [
    "import plotly.graph_objects as go\n",
    "from plotly.subplots import make_subplots\n",
    "\n",
    "# Define colors for \"Ours\" and \"Random\"\n",
    "color_ours = '#636EFA'\n",
    "color_random = '#EF553B'\n",
    "\n",
    "# Create a 2x2 subplot grid\n",
    "fig = make_subplots(rows=2, cols=2, subplot_titles=(\"Probability Difference\", \"Cutoff Sharpness\", \"Faithfulness (PD)\", \"Faithfulness (CS)\"), vertical_spacing=0.15)\n",
    "\n",
    "# Add traces to the subplots for \"Ours\"\n",
    "fig.add_trace(go.Scatter(x=predicted_circuit_lengths, y=predicted_pd, mode='lines', name=\"Ours\", line=dict(width=6, color=color_ours), legendgroup=\"Ours\", showlegend=True), row=1, col=1)\n",
    "fig.add_trace(go.Scatter(x=predicted_circuit_lengths, y=predicted_cs, mode='lines', name=\"Ours\", line=dict(width=6, color=color_ours), legendgroup=\"Ours\", showlegend=False), row=1, col=2)\n",
    "fig.add_trace(go.Scatter(x=predicted_circuit_lengths, y=predicted_pd_faithfulness, mode='lines', name=\"Ours\", line=dict(width=6, color=color_ours), legendgroup=\"Ours\", showlegend=False), row=2, col=1)\n",
    "fig.add_trace(go.Scatter(x=predicted_circuit_lengths, y=predicted_cs_faithfulness, mode='lines', name=\"Ours\", line=dict(width=6, color=color_ours), legendgroup=\"Ours\", showlegend=False), row=2, col=2)\n",
    "\n",
    "# Add traces to the subplots for \"Random\"\n",
    "fig.add_trace(go.Scatter(x=predicted_circuit_lengths, y=random_pd, mode='lines', name=\"Random\", line=dict(width=6, dash='dash', color=color_random), legendgroup=\"Random\", showlegend=True), row=1, col=1)\n",
    "fig.add_trace(go.Scatter(x=predicted_circuit_lengths, y=random_cs, mode='lines', name=\"Random\", line=dict(width=6, dash='dash', color=color_random), legendgroup=\"Random\", showlegend=False), row=1, col=2)\n",
    "fig.add_trace(go.Scatter(x=predicted_circuit_lengths, y=random_pd_faithfulness, mode='lines', name=\"Random\", line=dict(width=6, dash='dash', color=color_random), legendgroup=\"Random\", showlegend=False), row=2, col=1)\n",
    "fig.add_trace(go.Scatter(x=predicted_circuit_lengths, y=random_cs_faithfulness, mode='lines', name=\"Random\", line=dict(width=6, dash='dash', color=color_random), legendgroup=\"Random\", showlegend=False), row=2, col=2)\n",
    "\n",
    "# Update layout\n",
    "fontsize = 28\n",
    "fig.update_layout(\n",
    "    font=dict(family='Palatino', size=fontsize),\n",
    "    plot_bgcolor='white',\n",
    "    width=1000,\n",
    "    height=800,\n",
    "    showlegend=True,\n",
    "    legend=dict(font=dict(size=fontsize)),\n",
    "    xaxis3=dict(title='No. Attn. Heads'),\n",
    "    xaxis4=dict(title='No. Attn. Heads'),\n",
    ")\n",
    "\n",
    "# Adjust subplot titles\n",
    "fig.update_annotations(font=dict(size=fontsize))\n",
    "\n",
    "# Update subplot titles and axis labels to have fontsize 24\n",
    "fig.update_xaxes(title_font=dict(size=fontsize-6))\n",
    "fig.update_yaxes(title_font=dict(size=fontsize-6))\n",
    "\n",
    "# Save the figure as pdf\n",
    "fig.write_image(f\"../output/{task}/faithfulness_gt.pdf\")\n",
    "\n",
    "# Display the figure\n",
    "fig.show()"
   ]
  },
  {
   "cell_type": "code",
   "execution_count": null,
   "metadata": {},
   "outputs": [],
   "source": []
  }
 ],
 "metadata": {
  "kernelspec": {
   "display_name": "anu",
   "language": "python",
   "name": "python3"
  },
  "language_info": {
   "codemirror_mode": {
    "name": "ipython",
    "version": 3
   },
   "file_extension": ".py",
   "mimetype": "text/x-python",
   "name": "python",
   "nbconvert_exporter": "python",
   "pygments_lexer": "ipython3",
   "version": "3.12.1"
  }
 },
 "nbformat": 4,
 "nbformat_minor": 2
}
